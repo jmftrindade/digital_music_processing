{
 "cells": [
  {
   "cell_type": "markdown",
   "metadata": {},
   "source": [
    "# 21M.387 Fundamentals of Music Processing\n",
    "## Problem Set 1: Music Representation"
   ]
  },
  {
   "cell_type": "code",
   "execution_count": null,
   "metadata": {},
   "outputs": [],
   "source": [
    "import numpy as np\n",
    "import matplotlib.pyplot as plt\n",
    "import IPython.display as ipd\n",
    "from ipywidgets import interact\n",
    "import sys\n",
    "sys.path.append(\"..\")\n",
    "import fmplib as fmp\n",
    "\n",
    "plt.rcParams['figure.figsize'] = (12, 4)\n",
    "fmp.documentation_button()"
   ]
  },
  {
   "cell_type": "markdown",
   "metadata": {},
   "source": [
    "## Exercise 1\n",
    "\n",
    "Below is a video of Lang Lang, world famous concert pianist, playing Frederic Chopin's \"Minute Waltz\".\n",
    "\n",
    "The sheet music is [here](data/chopin_waltz_op64_1.pdf).\n",
    "\n",
    "Questions:\n",
    "1. How long is Lang Lang's rendition of this piece? (approximately, in seconds)\n",
    "1. How many measures are there in the score? (repeats are not double counted)\n",
    "1. How many measures are actually played in this recording? (repeated bars are counted here)\n",
    "1. What is the average tempo of this recording? Give your answer in BPM where a beat is an entire measure. \n",
    "1. Based on this average tempo, how long (in milliseconds) does an eighth-note last?\n",
    "1. In the actual recording, Lang Lang's tempo fluctuates a lot. What is (approximately) his maximum tempo and his minimum tempo?\n"
   ]
  },
  {
   "cell_type": "code",
   "execution_count": null,
   "metadata": {},
   "outputs": [],
   "source": [
    "ipd.YouTubeVideo('hKILwVH_MdM')"
   ]
  },
  {
   "cell_type": "markdown",
   "metadata": {},
   "source": [
    "Answers:\n"
   ]
  },
  {
   "cell_type": "markdown",
   "metadata": {},
   "source": [
    "## Exercise 2\n",
    "\n",
    "Using the same score as in Exercise 1, write out what the Standard MIDI File (SMF) representation would look like for measure 5 of the Chopin Waltz (this is the bar where the left hand first comes in). \n",
    "\n",
    "- Assume a \"ticks per quarter\" value of 120.\n",
    "- Remember that each midi event's tick value is a delta tick from the previous event.\n",
    "- Assign channel 1 to the left hand and channel 2 to the right hand.\n",
    "- Use note velocity = 60 for the beginning, but note that there is a slight crescendo at the end of the bar.\n",
    "- Create your answer as a python array of events, where each event is a tuple of the format:\n",
    "    `(<delta-tick>, <event-type>, <channel>, <pitch>, <velocity>)`\n",
    "- It should look a bit like [_Fig 1.13b_](data/midi_table.png) of the text.\n",
    "\n",
    "The first event is created for you as an example."
   ]
  },
  {
   "cell_type": "code",
   "execution_count": null,
   "metadata": {},
   "outputs": [],
   "source": [
    "chopin_sequence = [\n",
    "    (0, 'note_on', 2, 67, 60),\n",
    "]"
   ]
  },
  {
   "cell_type": "markdown",
   "metadata": {},
   "source": [
    "## Exercise 3\n",
    "\n",
    "1. Write the function `pitch_to_freq` that returns the frequency (in Hertz) of a given MIDI pitch, assuming equal tempered tuning. Test it with `p = 69` (answer should be 440.0) and a few other values.\n",
    "\n",
    "1. Write the function `freq_to_pitch` that returns the midi-pitch from any frequency (also with equal tempered tuning). The returned midi-pitch value should be a floating-point value. Do not round it to the nearest integer."
   ]
  },
  {
   "cell_type": "code",
   "execution_count": null,
   "metadata": {},
   "outputs": [],
   "source": [
    "def pitch_to_freq(p):\n",
    "    return 0\n",
    "\n",
    "# write some testing code here...\n",
    "\n",
    "def freq_to_pitch(f):\n",
    "    return 0\n",
    "\n",
    "# write some testing code here..."
   ]
  },
  {
   "cell_type": "markdown",
   "metadata": {},
   "source": [
    "## Exercise 4\n",
    "\n",
    "1. Write the function `pitch_to_spn()` that takes as input an integer midi pitch and returns its _Scientific Pitch Notation_ name as a string. For example, `69` should return the string `\"A4\"`. In the case of enharmonics, you can choose either the sharp or flat version. For example you can return `\"Eb4\"` or `\"D#4\"`.\n",
    "\n",
    "1. Write the function `g_major_scale()` that returns a list of notes of the G\n",
    "major scale, starting at G3 and ending at G4. Each note should be the tuple `(<SPN-name>, <note-frequency>)` "
   ]
  },
  {
   "cell_type": "code",
   "execution_count": null,
   "metadata": {},
   "outputs": [],
   "source": [
    "def pitch_to_spn(s) :\n",
    "    pass\n",
    "\n",
    "def g_major_scale() :\n",
    "    return []\n",
    "\n",
    "for n in g_major_scale():\n",
    "    print(n)"
   ]
  },
  {
   "cell_type": "markdown",
   "metadata": {},
   "source": [
    "## Exercise 5\n",
    "\n",
    "Write the function `calc_harmonic_intontations` that returns a list of the first N harmonics of a given midi pitch. For each harmonic, it should calculate the tuple `(<f>, <nen>, <delta>)` where:\n",
    "- `<f>` is the harmonic's frequency\n",
    "- `<nen>` is the nearest equal-tempered pitch for that frequency, represented in SPN\n",
    "- `<delta>` is the difference in from `<nen>`'s pitch to `<f>`'s pitch, measured in cents (there are 100 cents in one semitone).\n",
    "\n",
    "By looking at these data, you can observe when an equal-tempered note might sound a bit out of tune (slightly sharp or flat) when played against another note that has strong harmonic overtones."
   ]
  },
  {
   "cell_type": "code",
   "execution_count": null,
   "metadata": {},
   "outputs": [],
   "source": [
    "def calc_harmonic_intontations(pitch, num_h) :\n",
    "    return []\n",
    "\n",
    "for h in calc_harmonic_intontations(48, 15):\n",
    "    print(h)"
   ]
  },
  {
   "cell_type": "markdown",
   "metadata": {},
   "source": [
    "## Exercise 6\n",
    "\n",
    "How much space, measured in bytes, does it take to store a WAVE file (just the data part, ignoring the WAVE header) for the following cases:\n",
    "\n",
    "1. A one minute CD quality song (stereo, 16 bits per channel, $F_s = 44100$)\n",
    "1. 20 seconds of a low quality voice recording (mono, 8 bits per channel, $F_s = 8000$)\n",
    "\n",
    "Show your actual calculations in python below."
   ]
  },
  {
   "cell_type": "code",
   "execution_count": null,
   "metadata": {},
   "outputs": [],
   "source": [
    "# you can type the python code which prints the answers\n"
   ]
  },
  {
   "cell_type": "markdown",
   "metadata": {},
   "source": [
    "## Exercise 7\n",
    "\n",
    "Since the decibel scale is logarithmic, it theoretically cannot represent absolute silence (ie, amplitude 0), since $A = 20 \\log_{10}(0)$ is not a number ($- \\infty$). However, in practice, with audio signals encoded as digital numbers with finite precision, it is possible to guarantee $A=0$ using attenuation in decibels. \n",
    "\n",
    "If an audio signal is represented using CD-quality audio (16 bits of precision), what is the smallest amount of signal attenuation, in dB, that guarantees actual silence, where the signal's attenuated values all become $0$? Explain your reasoning.\n",
    "\n",
    "What attenuation value, in dB, would be needed for 24-bit precision numbers?"
   ]
  },
  {
   "cell_type": "markdown",
   "metadata": {},
   "source": [
    "Answer:\n"
   ]
  },
  {
   "cell_type": "markdown",
   "metadata": {},
   "source": [
    "## Exercise 8\n",
    "\n",
    "Write the function `make_tone` that synthesizes a tone using additive synthesis, sampled at 44,100 Hz.\n",
    "\n",
    "The inputs are function should be:\n",
    "- `f0`: the fundamental frequency (in Hz)\n",
    "- `dur`: the duration of the produced tone, in seconds\n",
    "- `partials`: a list of partials where each partial is a tuple of two numbers `(p, a)`:\n",
    "  - `p`: a partial number (ie, 1 for the fundamental, 2 for the 2nd harmonic, etc...)\n",
    "  - `a`: an amplitude for that partial ($0 < a \\le 1$)\n",
    "\n",
    "Your code should create the appropriate sinusoid wave for each partial in the list, add them all together, and return the result as a `numpy` array that you can play with `ipd.Audio()`."
   ]
  },
  {
   "cell_type": "code",
   "execution_count": null,
   "metadata": {},
   "outputs": [],
   "source": [
    "def make_tone(f0, dur, partials):\n",
    "    return np.zeros(10000)"
   ]
  },
  {
   "cell_type": "markdown",
   "metadata": {},
   "source": [
    "For each of `partials0`, `partials1`, and `partials2` below:  \n",
    "\n",
    "- Synthesize a 3 second tone\n",
    "- Listen to the tone\n",
    "- Plot the first 1000 samples of the tone\n",
    "- Describe briefly what each one sounds like. \n",
    "\n",
    "Why does `partials2` sound different from the first two? It's also fun to run the code for `partials2` a bunch of times to hear the different versions caused by the random variable."
   ]
  },
  {
   "cell_type": "code",
   "execution_count": null,
   "metadata": {},
   "outputs": [],
   "source": [
    "partials0 =  [(n, 1./n) for n in range(1,20)]\n",
    "partials1 =  [(n*2-1, 1./(n*2-1) ) for n in range(1,10)]\n",
    "partials2 =  [(n + np.random.random(), 1./(n)) for n in range(1,20)]"
   ]
  },
  {
   "cell_type": "code",
   "execution_count": null,
   "metadata": {},
   "outputs": [],
   "source": [
    "# Audio, Plots, Descriptions:\n"
   ]
  },
  {
   "cell_type": "markdown",
   "metadata": {},
   "source": [
    "## Exercise 9\n",
    "This exercise is worth twice the points as the others.\n",
    "\n",
    "Write the function `synthesize_midi` that synthesizes a MIDI sequence. \n",
    "\n",
    "The input are: \n",
    "- `sequence`: a list of MIDI events, exactly as specified in Exercise 2. \n",
    "- `partials`: a list of partials, describing the desired timbre, in the same format used by Exercise 8.\n",
    "\n",
    "Each synthesized note should use `make_tone` above with the proper duration, multiplied by a decay envelope, similarly to what you did in lab. Remember to apply the note velocity to each note. You will also need to pick a reasonable tempo.\n",
    "\n",
    "To test your function, use the `chopin_sequence` that you created in Exercise 2. \n",
    "\n",
    "The output should be a `numpy` array that you can play with `ipd.Audio()`.\n"
   ]
  },
  {
   "cell_type": "code",
   "execution_count": null,
   "metadata": {},
   "outputs": [],
   "source": [
    "def synthesize_midi(sequence, partials) :\n",
    "    pass\n"
   ]
  },
  {
   "cell_type": "code",
   "execution_count": null,
   "metadata": {},
   "outputs": [],
   "source": [
    "# test it:\n",
    "\n",
    "x = synthesize_midi(chopin_sequence, partials1)\n",
    "print(x.shape)\n",
    "ipd.Audio(x, rate = 44100)"
   ]
  }
 ],
 "metadata": {
  "kernelspec": {
   "display_name": "Python 3",
   "language": "python",
   "name": "python3"
  },
  "language_info": {
   "codemirror_mode": {
    "name": "ipython",
    "version": 3
   },
   "file_extension": ".py",
   "mimetype": "text/x-python",
   "name": "python",
   "nbconvert_exporter": "python",
   "pygments_lexer": "ipython3",
   "version": "3.9.1"
  }
 },
 "nbformat": 4,
 "nbformat_minor": 1
}
