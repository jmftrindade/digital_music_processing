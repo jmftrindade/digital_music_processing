{
 "cells": [
  {
   "cell_type": "markdown",
   "metadata": {},
   "source": [
    "# 21M.387 Fundamentals of Music Processing\n",
    "## Lab1"
   ]
  },
  {
   "cell_type": "markdown",
   "metadata": {},
   "source": [
    "## Jupyter Notebook\n",
    "\n",
    "You are looking at a Jupyter notebook. It is an interactive document, backed by a server running the jupyter app. In this class, each of you will run your own server locally from the command line:\n",
    "\n",
    "`$ jupyter notebook`\n",
    "\n",
    "From there on, you interact through the web browser.\n",
    "\n",
    "The notebook document itself is a file saved on your local computer. It has a `.ipynb` file extension. The notebook you are looking at now is called `lab1.ipynb`\n",
    "\n",
    "Begin by going through the _User Interface Tour_ in the _Help_ Menu."
   ]
  },
  {
   "cell_type": "markdown",
   "metadata": {},
   "source": [
    "## Cells and Modes\n",
    "\n",
    "Notebooks are divided into a bunch of _cells_. Each cell can be one of two types:\n",
    "- __Markdown Cell__ used for nicely formatted text\n",
    "- __Code Cell__ used for typing and executing python code, and seeing the results\n",
    "\n",
    "Additionally, the notebook can be in one of two modes:\n",
    "- __Edit Mode__ for editing text in a cell. \n",
    "- __Command Mode__ for notebook-wide operations like adding, deleting, moving cells, or changing the cell type.\n",
    "\n",
    "In Edit Mode, the current cell has a <font color='green'>green border</font>. You enter Edit Mode by:\n",
    "- double clicking on a cell\n",
    "- hitting Enter in a cell\n",
    "\n",
    "You can _execute_ a cell. This will render a Markdown Cell or run the code of a Code Cell. You execute a cell by:\n",
    "- pressing _Shift-Enter_ (to execute and move to the next cell)\n",
    "- pressing _Control-Enter_ (to execute and stay on the current cell)\n",
    "\n",
    "Executing a cell automatically changes the mode to Command Mode. In Command Mode, the current cell has a <font color='blue'>blue border</font>. You enter Command Mode by:\n",
    "- executing a cell (_Shift-Enter_ or _Control-Enter_)\n",
    "- pressing ESC\n",
    "\n",
    "Now is an excellent time to look at keyboard shortcuts by either:\n",
    "- selecting _Help_ Menu -> _Keyboard Shortcuts_\n",
    "- pressing _h_ when in Command Mode."
   ]
  },
  {
   "cell_type": "markdown",
   "metadata": {},
   "source": [
    "## Markdown\n",
    "\n",
    "[This page](https://github.com/adam-p/markdown-here/wiki/Markdown-Cheatsheet) is a good markdown cheatsheet.\n",
    "\n",
    "Markdown also uses [MathJax](http://meta.math.stackexchange.com/questions/5020/mathjax-basic-tutorial-and-quick-reference) for fancy math formulas:\n",
    "\n",
    "$\\sum_{i=0}^n i^2 = \\frac{(n^2+n)(2n+1)}{6}$\n"
   ]
  },
  {
   "cell_type": "markdown",
   "metadata": {},
   "source": [
    "## Code\n",
    "\n",
    "The next two cells are code cell. Execute the code there (with Control-Enter). Change the code and execute it again.\n",
    "\n",
    "The code cell will automatically print the last value (which you can supress with a `;` at the end).  \n",
    "You can also use `print`."
   ]
  },
  {
   "cell_type": "code",
   "execution_count": null,
   "metadata": {},
   "outputs": [],
   "source": [
    "4 * 7"
   ]
  },
  {
   "cell_type": "code",
   "execution_count": null,
   "metadata": {},
   "outputs": [],
   "source": [
    "print(7 + 5)\n",
    "\n",
    "a = 3\n",
    "b = 'hello'\n",
    "c = [5,6,7]\n",
    "\n",
    "print(b, [a + i for i in c])\n",
    "\n",
    "\"do not \" + \"print \" + \"this\";"
   ]
  },
  {
   "cell_type": "markdown",
   "metadata": {},
   "source": [
    "## Setup / Import\n",
    "\n",
    "You will usually find the next Code Cell (or something like it) at the top of a notebook. I use it to set up the python environment you'll need for the rest of the notebook.\n",
    "\n",
    "The function `fmp.documentation_button()` creates a button you can click to open `fmplib` documentation in your browser."
   ]
  },
  {
   "cell_type": "code",
   "execution_count": null,
   "metadata": {},
   "outputs": [],
   "source": [
    "import numpy as np\n",
    "import matplotlib.pyplot as plt\n",
    "import IPython.display as ipd\n",
    "from ipywidgets import interact\n",
    "import sys\n",
    "sys.path.append(\"..\")\n",
    "import fmplib as fmp\n",
    "from fmplib.pyqueue import connect_to_queue\n",
    "\n",
    "fmp.documentation_button()"
   ]
  },
  {
   "cell_type": "markdown",
   "metadata": {},
   "source": [
    "## Exercise 1\n",
    "\n",
    "1. Find a song. There must must be a song somewhere on your computer.\n",
    "- Open that song in [Audacity](http://www.audacityteam.org/download/).\n",
    "- Find 10 seconds that you think are interesting.\n",
    "- Change the _Project Rate (Hz)_ to 22050 (lower left corner).\n",
    "- Export that bit of audio using _File_ -> _Export Selected Audio_.\n",
    "- Choose the format _WAV (Microsoft) signed 16-bit PCM_.\n",
    "- Save the audio file in the same directory as this `lab1.ipynb` file\n",
    "- Load that audio and play it in the code cell below by using:  \n",
    "`ipd.Audio('your file name.wav')`"
   ]
  },
  {
   "cell_type": "code",
   "execution_count": null,
   "metadata": {},
   "outputs": [],
   "source": []
  },
  {
   "cell_type": "code",
   "execution_count": null,
   "metadata": {},
   "outputs": [],
   "source": [
    "# solution\n",
    "ipd.Audio('audio/beeth5_orch_21bars.wav')"
   ]
  },
  {
   "cell_type": "markdown",
   "metadata": {},
   "source": [
    "Now, load that same audio into python by calling:  \n",
    "`x = fmp.load_wav('your file name.wav')`\n",
    "\n",
    "Try using TAB completion. It works for both function and filenames.\n",
    "\n",
    "`fmp.load_wav()` will only load 16-bit sample-width WAVE files also convert stereo to mono. Type:\n",
    "`fmp.load_wav?` and execute the cell to see help about that function.\n",
    "\n",
    "- Inspect the length of `x` with `len(x)`\n",
    "- Play the vector `x` with `ipd.Audio(x, rate=22050)`\n",
    "- Change the `rate` to some other number for fun.\n",
    "- Calculate the precise length, in seconds, of this audio"
   ]
  },
  {
   "cell_type": "code",
   "execution_count": null,
   "metadata": {},
   "outputs": [],
   "source": []
  },
  {
   "cell_type": "code",
   "execution_count": null,
   "metadata": {},
   "outputs": [],
   "source": [
    "# solution\n",
    "x = fmp.load_wav('audio/beeth5_orch_21bars.wav')\n",
    "print(f'length: {len(x)} samples, {len(x) / 22050} seconds')\n",
    "ipd.Audio(x, rate=22050)"
   ]
  },
  {
   "cell_type": "code",
   "execution_count": null,
   "metadata": {},
   "outputs": [],
   "source": [
    "connect_to_queue('help')"
   ]
  },
  {
   "cell_type": "markdown",
   "metadata": {},
   "source": [
    "## Exercise 2\n",
    "\n",
    "Plot the audio that you just loaded. You use matplotlib's `pyplot`, which we imported into the namespace `plt`. There are about a billion plotting options in matplotlib. [Here](http://matplotlib.org/users/pyplot_tutorial.html) is a pyplot tutorial (for future reference).\n",
    "\n",
    "The basic plot is easy:  \n",
    "`plt.figure()` will set up a new figure (optional).  \n",
    "`plt.plot(x)`  will plot to the most recent figure.\n",
    "`plt.show()`   will show the plot (optional, happens automatically in jupyter notebook)"
   ]
  },
  {
   "cell_type": "code",
   "execution_count": null,
   "metadata": {},
   "outputs": [],
   "source": []
  },
  {
   "cell_type": "code",
   "execution_count": null,
   "metadata": {},
   "outputs": [],
   "source": [
    "# solutions\n",
    "plt.figure()\n",
    "plt.plot(x)\n",
    "plt.show()"
   ]
  },
  {
   "cell_type": "markdown",
   "metadata": {},
   "source": [
    "Let's label the time axis better. For each point on the x-axis, we want to supply the correct time value.\n",
    "\n",
    "- We have $x[n]$. We want to create $t[n]$ which provides the correct time value at index $n$.\n",
    "- Create the vector `t`\n",
    "- It should be the same length as `x`.\n",
    "- Use the functions `np.arange()`. You can see some examples below. \n",
    "- In numpy, all mathematical operations work on arrays (vectors) as well as scalars.\n",
    "\n",
    "Once you have created the correct vector `t`, you can plot:  \n",
    "`plt.figure()`  \n",
    "`plt.plot(t, x)`"
   ]
  },
  {
   "cell_type": "code",
   "execution_count": null,
   "metadata": {},
   "outputs": [],
   "source": [
    "a = np.arange(10)\n",
    "print(a)\n",
    "a = a * .1\n",
    "print(a)\n",
    "a = a + 2\n",
    "print(a)\n"
   ]
  },
  {
   "cell_type": "code",
   "execution_count": null,
   "metadata": {},
   "outputs": [],
   "source": [
    "# solution\n",
    "fs = 22050.\n",
    "t = np.arange(len(x)) / fs\n",
    "plt.figure()\n",
    "plt.plot(t, x)\n",
    "plt.show();"
   ]
  },
  {
   "cell_type": "code",
   "execution_count": null,
   "metadata": {},
   "outputs": [],
   "source": [
    "connect_to_queue('help')"
   ]
  },
  {
   "cell_type": "markdown",
   "metadata": {},
   "source": [
    "## Exercise 3\n",
    "\n",
    "Now, we will modify the audio signal x by applying an amplitude or _gain_ factor.\n",
    "\n",
    "- Create a new vector $g[n]$ that is a linear ramp going from 0.0 to 1.0.\n",
    "- Plot `g`\n",
    "- Then, do a vector point-by-point multiply in numpy: `x * g` to make a new vector `y`.\n",
    "- Plot `y`\n",
    "- Listen to it. What do you notice?\n"
   ]
  },
  {
   "cell_type": "code",
   "execution_count": null,
   "metadata": {},
   "outputs": [],
   "source": []
  },
  {
   "cell_type": "code",
   "execution_count": null,
   "metadata": {},
   "outputs": [],
   "source": [
    "# solutions\n",
    "g = np.arange(len(x),dtype=np.float) / len(x)\n",
    "plt.plot(g)\n",
    "y = x * g\n",
    "plt.figure()\n",
    "plt.plot(y)\n",
    "plt.show()\n",
    "ipd.Audio(y, rate=fs)"
   ]
  },
  {
   "cell_type": "code",
   "execution_count": null,
   "metadata": {},
   "outputs": [],
   "source": [
    "connect_to_queue('help')"
   ]
  },
  {
   "cell_type": "markdown",
   "metadata": {},
   "source": [
    "## Exercise 4\n",
    "\n",
    "Now you will create and apply a gain curve where the _percived loudness_ is linear.\n",
    "Perceived loudness scales as the _log_ of amplitude, so we often describe volume in decibels (dB). The reference amplitude in this case is 1.0 (max volume). As we scale down the amplitude, the volume (in dB) goes negative.\n",
    "\n",
    "Remember that the relationship between amplitude and the dB scale is:\n",
    "$$ v_{dB} = 20 \\cdot \\log_{10}(a) $$\n",
    "\n",
    "For example:\n",
    "\n",
    "| dB    | Amp   |\n",
    "|-------|-------|\n",
    "| 0     | 1.0   |\n",
    "| -6.02 | 0.5   |\n",
    "| -40   |  0.01 |\n",
    "\n",
    "\n",
    "- Make a new vector `v` that modifies the volume of `x` in a _linearly perceived_ way, starting at $v_{dB} = -40$ and ending (linearly) at $v_{dB} = 0$. \n",
    "- Plot `v`.\n",
    "- Now convert `v` (which is in units of decibles) into `g` which is an amplitude (or gain value).\n",
    "- Plot `g`.\n",
    "- Now create `g * x`, plot and listen to the result.\n",
    "\n",
    "Hints:\n",
    "- Instead of using np.arange(), try using `np.linspace()`. See some usage examples below.\n",
    "- Oh. Also, to do exponents in numpy, use `**`"
   ]
  },
  {
   "cell_type": "code",
   "execution_count": null,
   "metadata": {},
   "outputs": [],
   "source": [
    "print(np.linspace(2, 4, 10))\n",
    "print(np.linspace(-5, 5, 20, endpoint=False))\n",
    "print(np.linspace(0,4,5) ** 2)"
   ]
  },
  {
   "cell_type": "code",
   "execution_count": null,
   "metadata": {},
   "outputs": [],
   "source": [
    "# solution\n",
    "\n",
    "v = np.linspace(-40, 0, len(x))\n",
    "g = 10 ** (v/20)\n",
    "y = g * x\n",
    "plt.figure()\n",
    "plt.plot(v)\n",
    "plt.figure()\n",
    "plt.plot(g)\n",
    "plt.figure()\n",
    "plt.plot(y)\n",
    "plt.show()\n",
    "ipd.Audio(y, rate=fs)\n"
   ]
  },
  {
   "cell_type": "code",
   "execution_count": null,
   "metadata": {},
   "outputs": [],
   "source": [
    "connect_to_queue('help')"
   ]
  },
  {
   "cell_type": "markdown",
   "metadata": {},
   "source": [
    "## Exercise 5\n",
    "\n",
    "For this problem, it is useful to concatenate two vectors together. See below.\n",
    "\n",
    "Make a volume ramp up to the half-way point and then ramp back down.\n",
    "The volume curve should be (if song length is $L$):\n",
    "- for $n=[0, {L\\over2}) \\rightarrow v=[-40db,0db)$\n",
    "- for $n=[{L\\over2},L) \\rightarrow v=[0db,-40db)$\n",
    "\n",
    "Plot and listen."
   ]
  },
  {
   "cell_type": "code",
   "execution_count": null,
   "metadata": {},
   "outputs": [],
   "source": [
    "a = np.arange(4)\n",
    "b = np.ones(3)\n",
    "c = np.concatenate((a,b))\n",
    "print(a)\n",
    "print(b)\n",
    "print(c)\n"
   ]
  },
  {
   "cell_type": "code",
   "execution_count": null,
   "metadata": {},
   "outputs": [],
   "source": [
    "# solutions\n",
    "\n",
    "\n",
    "L = len(x)\n",
    "L1 = L//2\n",
    "L2 = L - L1\n",
    "db1 = np.linspace(-40, 0, L1, endpoint=False)\n",
    "db2 = np.linspace(0, -40, L2, endpoint=False)\n",
    "db = np.concatenate((db1, db2))\n",
    "g = 10 ** (db / 20)\n",
    "y = g * x\n",
    "\n",
    "plt.plot(g)\n",
    "plt.subplot(2,1,2)\n",
    "plt.plot(y)\n",
    "plt.show()\n",
    "ipd.Audio(y, rate=fs)"
   ]
  },
  {
   "cell_type": "code",
   "execution_count": null,
   "metadata": {},
   "outputs": [],
   "source": [
    "connect_to_queue('help')"
   ]
  },
  {
   "cell_type": "markdown",
   "metadata": {},
   "source": [
    "## Exercise 6a\n",
    "\n",
    "Instead of using $x(n)$ from a file, synthesize your own $x(n)$ to be a sine wave at a particular frequency in Hertz using the following function:\n",
    "\n",
    "$$x[n] = A \\sin(2 \\pi f n / F_s) $$\n",
    "\n",
    "where $A$ is the amplitude (or gain), $f$ is the desired frequency in Hertz, and $F_s$ is the sampling rate of your generated audio. \n",
    "\n",
    "Fill in the function below, with `dur` being the duration (in seconds) of the generated tone.  \n",
    "Then listen to your generated audio with `ipd.Audio(x, rate=fs, normalize=False)`.  \n",
    "Use `normalize=False` to disable audio normalization. Otherwise, all tones will be scaled to play at maximum volume."
   ]
  },
  {
   "cell_type": "code",
   "execution_count": null,
   "metadata": {},
   "outputs": [],
   "source": [
    "def make_sine_tone(amp, freq, dur, fs):\n",
    "    pass"
   ]
  },
  {
   "cell_type": "code",
   "execution_count": null,
   "metadata": {},
   "outputs": [],
   "source": [
    "#solution \n",
    "def make_sine_tone(amp, freq, dur, fs):\n",
    "    N = int(dur * fs)\n",
    "    n = np.arange(N)\n",
    "    x = amp * np.sin(2 * np.pi * freq * n / fs)\n",
    "    return x\n",
    "\n",
    "fs = 22050\n",
    "x = make_sine_tone(.1, 220, 1, fs)\n",
    "ipd.Audio(x, rate=fs, normalize=False)"
   ]
  },
  {
   "cell_type": "markdown",
   "metadata": {},
   "source": [
    "## Exercise 6b\n",
    "\n",
    "Once you have the basic sine wave, create a nicer sounding note by applying a decaying volume envelope (linear in decibels from $0db$ to $-40db$), as you did above."
   ]
  },
  {
   "cell_type": "code",
   "execution_count": null,
   "metadata": {},
   "outputs": [],
   "source": [
    "def make_decay_note(amp, freq, dur, fs):\n",
    "    pass\n"
   ]
  },
  {
   "cell_type": "code",
   "execution_count": null,
   "metadata": {},
   "outputs": [],
   "source": [
    "# solution\n",
    "def make_decay_note(amp, freq, dur, fs):\n",
    "    x = make_sine_tone(amp, freq, dur, fs)\n",
    "    db = np.linspace(0, -40, len(x))\n",
    "    g = 10 ** (db/20)\n",
    "    return x * g\n",
    "\n",
    "x = make_decay_note(.1, 220, 1, fs)\n",
    "ipd.Audio(x, rate=fs, normalize=False)"
   ]
  },
  {
   "cell_type": "markdown",
   "metadata": {},
   "source": [
    "## Exercise 6c\n",
    "\n",
    "Now create a simple note sequencer that can play a melody by stitching together a bunch of notes with particular frequencies and durations.\n",
    "\n",
    "The melody is defined as an array of notes, where each note is `(frequency, duration)`.\n",
    "\n",
    "An example melody is provided for you."
   ]
  },
  {
   "cell_type": "code",
   "execution_count": null,
   "metadata": {},
   "outputs": [],
   "source": [
    "def make_melody(notes):\n",
    "    pass\n",
    "\n",
    "melody1 = [(261.6255653005985, 0.6), (261.6255653005985, 0.6), (261.6255653005985, 0.6), (207.65234878997245, 0.44999999999999996), (311.1269837220808, 0.15), (261.6255653005985, 0.6), (207.65234878997245, 0.44999999999999996), (311.1269837220808, 0.15), (261.6255653005985, 0.6)]\n"
   ]
  },
  {
   "cell_type": "code",
   "execution_count": null,
   "metadata": {},
   "outputs": [],
   "source": [
    "# solution\n",
    "\n",
    "def make_melody(notes) :\n",
    "    x = np.zeros(0)\n",
    "    for f, d in notes:\n",
    "        x = np.concatenate((x, make_decay_note(0.1, f, d, fs)))\n",
    "    return x\n",
    "\n",
    "# handy way of creating the data for melody1\n",
    "mel = ( (12,1), (12,1), (12,1), (8,.75), (15,.25), (12,1), (8,.75), (15,.25), (12,1) )\n",
    "melody1 = [(fmp.pitch_to_freq(p+48), d * .6) for (p,d) in mel]\n",
    "\n",
    "x = make_melody(melody1)\n",
    "ipd.Audio(x, rate=fs, normalize=False)"
   ]
  },
  {
   "cell_type": "markdown",
   "metadata": {},
   "source": [
    "If you have time, you can further enhance your melody player in any way you want. For example:   \n",
    "\n",
    "- let `make_melody` take in MIDI pitches instead of frequencies to specify the note pitch.\n",
    "- add per-note volume control\n",
    "- add the ability to play chords"
   ]
  },
  {
   "cell_type": "code",
   "execution_count": null,
   "metadata": {},
   "outputs": [],
   "source": [
    "connect_to_queue('help')"
   ]
  },
  {
   "cell_type": "code",
   "execution_count": null,
   "metadata": {},
   "outputs": [],
   "source": [
    "connect_to_queue('checkoff')"
   ]
  },
  {
   "cell_type": "code",
   "execution_count": null,
   "metadata": {},
   "outputs": [],
   "source": []
  }
 ],
 "metadata": {
  "kernelspec": {
   "display_name": "Python 3",
   "language": "python",
   "name": "python3"
  },
  "language_info": {
   "codemirror_mode": {
    "name": "ipython",
    "version": 3
   },
   "file_extension": ".py",
   "mimetype": "text/x-python",
   "name": "python",
   "nbconvert_exporter": "python",
   "pygments_lexer": "ipython3",
   "version": "3.9.2"
  }
 },
 "nbformat": 4,
 "nbformat_minor": 1
}
