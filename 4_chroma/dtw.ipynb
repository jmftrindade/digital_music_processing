{
 "cells": [
  {
   "cell_type": "markdown",
   "metadata": {},
   "source": [
    "# 21M.387 Fundamentals of Music Processing\n",
    "## Music Synchronization\n",
    "\n",
    "In this lecture: using chromagrams as our feature vector to perform music synchronization (or music alignment), by employing the Dynamic Time Warping algorithm."
   ]
  },
  {
   "cell_type": "code",
   "execution_count": null,
   "metadata": {},
   "outputs": [],
   "source": [
    "import numpy as np\n",
    "import matplotlib.pyplot as plt\n",
    "import IPython.display as ipd\n",
    "from ipywidgets import interact\n",
    "import sys\n",
    "sys.path.append(\"..\")\n",
    "import fmplib as fmp\n",
    "\n",
    "plt.rcParams['figure.figsize'] = (12, 2)\n",
    "plt.rcParams['image.interpolation'] = 'nearest'\n",
    "fmp.documentation_button()"
   ]
  },
  {
   "cell_type": "markdown",
   "metadata": {},
   "source": [
    "## Reading\n",
    "\n",
    "Chapter 3.2 - 3.3 (pp 131 – 153)\n",
    "\n",
    "<img src=\"images/book_cover.png\" width=200>"
   ]
  },
  {
   "cell_type": "markdown",
   "metadata": {},
   "source": [
    "## Goal\n",
    "\n",
    "Given: Two different audio recordings of the same piece of music\n",
    "\n",
    "Goal: Find the points of _musical_ correspondence between the two pieces. \n",
    "\n",
    "For example, here are a few different recordings of Beethoven's 5th:"
   ]
  },
  {
   "cell_type": "markdown",
   "metadata": {},
   "source": [
    "## Examples"
   ]
  },
  {
   "cell_type": "code",
   "execution_count": null,
   "metadata": {},
   "outputs": [],
   "source": [
    "fmp.plot_and_listen(\"audio/beeth5_orch2_21bars.wav\")"
   ]
  },
  {
   "cell_type": "code",
   "execution_count": null,
   "metadata": {},
   "outputs": [],
   "source": [
    "fmp.plot_and_listen(\"audio/beeth5_orch_21bars.wav\")"
   ]
  },
  {
   "cell_type": "code",
   "execution_count": null,
   "metadata": {},
   "outputs": [],
   "source": [
    "fmp.plot_and_listen(\"audio/beeth5_piano_21bars.wav\")"
   ]
  },
  {
   "cell_type": "markdown",
   "metadata": {},
   "source": [
    "Goal: To automatically find the correspondence between two versions, played at very different tempos."
   ]
  },
  {
   "cell_type": "markdown",
   "metadata": {},
   "source": [
    "<img src=\"images/beeth5_align_arrows.png\" width=700>"
   ]
  },
  {
   "cell_type": "markdown",
   "metadata": {},
   "source": [
    "## Applications\n",
    "\n",
    "- Help study how two different recordings relate (classical).\n",
    "- Automatically create a tempo curve via _score informed alignment_.\n",
    "- Real-time variant of this technique can synchronize a live performance with media playback (LiveNote).\n",
    "- Automatic accompaniment systems (Sonation).\n"
   ]
  },
  {
   "cell_type": "markdown",
   "metadata": {},
   "source": [
    "## Process\n",
    "\n",
    "- Create a suitable feature representations for each recording\n",
    "  - Retains musical features / \"harmonic content\"\n",
    "  - Removes differences that do not matter: dynamics, instrumentation.\n",
    "- Alignment process\n",
    "  - Create a _cost matrix_ \n",
    "  - Use an efficient algorithm to find the optimal path through the cost matrix\n",
    "  \n",
    "<img src=\"images/music_sync_process.png\" width=700>"
   ]
  },
  {
   "cell_type": "markdown",
   "metadata": {},
   "source": [
    "We use chroma features as the basis for comparing two recordings:\n",
    "<img src=\"images/x_y_alignment.png\" width=600>"
   ]
  },
  {
   "cell_type": "markdown",
   "metadata": {},
   "source": [
    "## Cost Matrix\n",
    "\n",
    "From the chroma vectors, we create a 2 dimensional _Cost Matrix_.\n",
    "- It compares every location of one chromagram to every location in the other chromagram\n",
    "- Chromagram $\\mathbf{X}$ has length $N$ and chromagram $\\mathbf{Y}$ has length $M$.\n",
    "- The Cost Matrix $\\mathbf{C}$ is therefore an $N \\times M$ matrix.\n",
    "\n",
    "<img src=\"images/cost_matrix.png\"  width=600>"
   ]
  },
  {
   "cell_type": "markdown",
   "metadata": {},
   "source": [
    "Each element of $\\mathbf{C}$, $\\mathbf{C}(n,m)$, is:\n",
    "\n",
    "$$\\mathbf{C}(n,m) = 1 - {\\langle x_n, y_m \\rangle \\over {\\Vert x_n \\Vert \\cdot \\Vert y_m \\Vert} }$$\n",
    "\n",
    "This is known as the _cosine distance_ between the two vectors $x_n$ and $y_m$. Properties:\n",
    "- If $x$ and $y$ are non-negative, $c \\in [0, 1]$.\n",
    "- $c=0$ when vectors point in the same direction.\n",
    "- In normalized chromagrams, $\\Vert x \\Vert = 1$ and $\\Vert y \\Vert = 1$. \n",
    "- Very fast to compute.\n",
    "\n",
    "Note: there are other distance metrics like $\\Vert x - y \\Vert$.\n",
    "\n",
    "<font color=\"red\">__Whiteboard__</font>: Cosine Distance"
   ]
  },
  {
   "cell_type": "markdown",
   "metadata": {},
   "source": [
    "Here is another view of the cost matrix.\n",
    "- The goal is to find the \"best way\" of getting from the bottom-left (mutual beginning) to the top-right (mutual ending) of the matrix.\n",
    "- \"Walk along the valley of the cost matrix\".\n",
    "\n",
    "<img src=\"images/cost_matrix_3d.png\"  width=600>\n",
    "\n",
    "---"
   ]
  },
  {
   "cell_type": "markdown",
   "metadata": {},
   "source": [
    "## The Optimal Path\n",
    "\n",
    "Once we find the \"best path\", we can then create the correspondence between sequence $\\mathbf{X}$ and sequence $\\mathbf{Y}$:\n",
    "\n",
    "<img src=\"images/dtw_toy_example.png\"  width=600>"
   ]
  },
  {
   "cell_type": "markdown",
   "metadata": {},
   "source": [
    "What is the \"best path\"?  \n",
    "It has the lowest _accumulated cost_ of all possible paths.\n",
    "\n",
    "A path is defined as $P = (p_1, p_2, \\ldots , p_L)$ where each $p$ is a pair $(n,m)$.  \n",
    "The _length_ of $P$ is $L$, the total number of points in the path.\n",
    "\n",
    "The _accumulated cost_ (or _total cost_) of a certain path $P$ is:\n",
    "\n",
    "$$ c_P = \\sum_{l=1}^L \\mathbf{C}(n_l,m_l)$$\n",
    "\n",
    "<font color=\"red\">__Whiteboard__</font>: Cost Matrix"
   ]
  },
  {
   "cell_type": "markdown",
   "metadata": {},
   "source": [
    "## Path Constraints\n",
    "\n",
    "We define some constrains on a path so it can't just go willy-nilly:\n",
    "- It must start at $p_1 = (1,1)$ and end at $p_L = (N,M)$.\n",
    "- It can't go backwards.\n",
    "- It can only have certain step sizes. We will use these:\n",
    "  - $\\Sigma = \\{(1,0), (0,1), (1,1)\\}$\n",
    "\n",
    "Here are some illegal paths:\n",
    "<img src=\"images/dtw_illegal_paths.png\" width=500>"
   ]
  },
  {
   "cell_type": "markdown",
   "metadata": {},
   "source": [
    "## Finding the Optimal Path\n",
    "\n",
    "Finding the optimal path is an optimization problem:  \n",
    "\"Of all possible paths $P$, find the one path $P^*$ that has the lowest total cost\"\n",
    "\n",
    "What's the total number of possible $P$s? It's rather large. An Exhaustive search is infeasible for large values of $N$ and $M$. \n",
    "\n",
    "Instead we use a _dynamic programming_ algorithm known as _dynamic time warping_"
   ]
  },
  {
   "cell_type": "markdown",
   "metadata": {},
   "source": [
    "## Dynamic Time Warping\n",
    "\n",
    "The overall idea: calculate and keep track of small, _locally optimal sub-solutions_ which then lead the way to the _optimal global solution_.\n",
    "\n",
    "The DTW distance function: $\\mathrm{DTW}(\\mathbf{X},\\mathbf{Y}) = c_{P^*}(\\mathbf{X},\\mathbf{Y})$\n",
    "is the total cost of getting from $(1,1)$ to $(N,M)$ for the optimal $P = P^*$.\n",
    "\n",
    "Next, we introduce an $(N \\times M)$ matrix $\\mathbf{D}$ - the _accumulated cost matrix_.  \n",
    "For each cell of $\\mathbf{D}$,\n",
    "$$\\mathbf{D}(n,m) = \\mathrm{DTW}(\\mathbf{X}(1:n), \\mathbf{Y}(1:m)) $$\n",
    "\n",
    "In other words, $\\mathbf{D}$ is filled with the cost of the optimal path for all _subpaths_ of $\\mathbf{X}$ and $\\mathbf{Y}$.  \n",
    "And, of course, $\\mathbf{D}(N,M) = \\mathrm{DTW}(\\mathbf{X},\\mathbf{Y})$. "
   ]
  },
  {
   "cell_type": "markdown",
   "metadata": {},
   "source": [
    "## Calculating $\\mathbf{D}$\n",
    "\n",
    "The nice thing about matrix $\\mathbf{D}$ is that it can be computed iteratively, starting at cell $(1,1)$, visiting each cell _just once_, and finishing at $(N,M)$. This requires $N \\cdot M$ \"visits\" so the total computational complexity is: $O(NM)$.\n",
    "\n",
    "The procedure for computing $\\mathbf{D}$ is:\n",
    "\n",
    "$$\\mathbf{D}(n,1) = \\sum_{k=1}^n \\mathbf{C}(k,1) \\text{ for } n \\in[1:N] $$\n",
    "$$\\mathbf{D}(1,m) = \\sum_{k=1}^m \\mathbf{C}(1,k) \\text{ for } m \\in[1:M] $$\n",
    "$$\\mathbf{D}(n,m) = \\mathbf{C}(n,m) + \\mathrm{min}\n",
    "\\begin{cases}\n",
    "\\mathbf{D}(n-1,m) \\\\\n",
    "\\mathbf{D}(n,m-1) \\\\\n",
    "\\mathbf{D}(n-1,m-1) \\\\\n",
    "\\end{cases}$$\n",
    "\n",
    "Notes:\n",
    "- This is the case when the step sizes are: $\\Sigma = \\{(1,0), (0,1), (1,1)\\}$.\n",
    "- The \"minimum cost picker\" equation does the _local_ optimization.\n",
    "- The matrix $\\mathbf{D}$ serves to \"globalize\" these local computations.\n",
    "\n",
    "<font color=\"red\">__Whiteboard__</font>: Calculating D"
   ]
  },
  {
   "cell_type": "markdown",
   "metadata": {},
   "source": [
    "## Backtracking\n",
    "\n",
    "The value at $\\mathbf{D}(N,M)$ is the minimal cost of getting from $(1,1)$ to $(N,M)$. But we want to also know _what path got us there_.\n",
    "\n",
    "To do that, for each cell we visit, we remember the _optimizing step_ in a $N \\times M$ matrix $\\mathbf{B}$ - the _backtracking matrix_.  \n",
    "$\\mathbf{B}$ is a matrix of pointers to cells.\n",
    "\n",
    "To find the optimal path, start at the end of $\\mathbf{B}$ - $(N,M)$, and follow the pointers to $(1,1)$.\n",
    "\n",
    "<img src=\"images\\dtw_toy_backtracking.png\">"
   ]
  },
  {
   "cell_type": "markdown",
   "metadata": {},
   "source": [
    "## Back to Beethoven"
   ]
  },
  {
   "cell_type": "code",
   "execution_count": null,
   "metadata": {},
   "outputs": [],
   "source": [
    "snd1 = fmp.load_wav(\"audio/beeth5_orch_21bars.wav\")\n",
    "snd2 = fmp.load_wav(\"audio/beeth5_piano_21bars.wav\")\n",
    "fs = 22050\n",
    "fft_len = 4096\n",
    "hop_size = fft_len // 4\n",
    "\n",
    "chroma_x = fmp.make_chromagram(snd1, fs, fft_len, hop_size, normalize=False)\n",
    "chroma_x = fmp.cens(chroma_x, 11, 4)\n",
    "\n",
    "chroma_y = fmp.make_chromagram(snd2, fs, fft_len, hop_size, normalize=False)\n",
    "chroma_y = fmp.cens(chroma_y, 11, 4)\n",
    "\n",
    "plt.rcParams['figure.figsize'] = (12, 4)\n",
    "plt.figure()\n",
    "fmp.plot_two_chromas(chroma_x, chroma_y)"
   ]
  },
  {
   "cell_type": "code",
   "execution_count": null,
   "metadata": {},
   "outputs": [],
   "source": [
    "cost = fmp.make_cost_matrix(chroma_x, chroma_y)\n",
    "print(cost.shape)\n",
    "\n",
    "plt.rcParams['figure.figsize'] = (12, 6)\n",
    "plt.figure()\n",
    "plt.imshow(cost, origin='lower', cmap='gray');\n",
    "plt.title(\"Cost Matrix $\\mathbf{C}$\")\n",
    "plt.colorbar();"
   ]
  },
  {
   "cell_type": "code",
   "execution_count": null,
   "metadata": {},
   "outputs": [],
   "source": [
    "acc, path = fmp.dtw(cost)\n",
    "\n",
    "plt.figure()\n",
    "plt.imshow(acc, origin='lower', cmap='gray');\n",
    "plt.title(\"Accumulated Cost Matrix $\\mathbf{D}$\")\n",
    "plt.colorbar();"
   ]
  },
  {
   "cell_type": "code",
   "execution_count": null,
   "metadata": {},
   "outputs": [],
   "source": [
    "plt.figure()\n",
    "plt.imshow(cost, origin='lower', cmap='gray')\n",
    "plt.plot(path.T[1], path.T[0], '-r', linewidth=3)\n",
    "plt.title(\"Optimal Path $P^*$\")\n",
    "plt.colorbar()\n",
    "plt.show()"
   ]
  },
  {
   "cell_type": "markdown",
   "metadata": {},
   "source": [
    "## DTW Variants\n",
    "\n",
    "Different step sizes.\n",
    "  - For example: $\\Sigma = \\{(2,1), (1,2), (1,1)\\}$.  \n",
    "  This will not allow vertical or horizontal steps.\n",
    "  \n",
    "  "
   ]
  },
  {
   "cell_type": "markdown",
   "metadata": {},
   "source": [
    "Local weights, for example:\n",
    "\n",
    "$$\\mathbf{D}(n,m) = \\mathrm{min}\n",
    "\\begin{cases}\n",
    "\\mathbf{D}(n-1,m) + \\mathbf{C}(n,m) \\\\\n",
    "\\mathbf{D}(n,m-1) + \\mathbf{C}(n,m) \\\\\n",
    "\\mathbf{D}(n-1,m-1) + w \\cdot \\mathbf{C}(n,m) \\\\\n",
    "\\end{cases}$$\n",
    "\n",
    "$w < 1$ favors a more diagonal path.  \n",
    "$w > 1$ favors a more rectangular path."
   ]
  },
  {
   "cell_type": "code",
   "execution_count": null,
   "metadata": {},
   "outputs": [],
   "source": [
    "@interact(w = (0.0, 2.0))\n",
    "def dtw_w(w = 1.0):\n",
    "    acc, path = fmp.dtw(cost, w)\n",
    "    plt.figure()\n",
    "    plt.imshow(cost, origin='lower', cmap='gray')\n",
    "    plt.colorbar()\n",
    "    plt.plot(path.T[1], path.T[0], '-r', linewidth=3)\n",
    "    plt.show()"
   ]
  },
  {
   "cell_type": "markdown",
   "metadata": {},
   "source": [
    "## DTW Optimizations\n",
    "\n",
    "For large $N$ and $M$, computing $\\mathbf{D}$ can be costly. \n",
    "\n",
    "### Global Path Constraints\n",
    "Global constraints reduce the calculations needed, but with some risk:\n",
    "\n",
    "<img src=\"images/dtw_global_constraints.png\" width=500>\n",
    "\n",
    "These are:\n",
    "- The Sakoe-Chiba band\n",
    "- Itakura parallelogram\n",
    "\n",
    "### Multiscale Approach\n",
    "<img src=\"images/dtw_multiscale.png\" width=500>\n"
   ]
  },
  {
   "cell_type": "markdown",
   "metadata": {},
   "source": [
    "## Score-Informed Tempo Analysis\n",
    "\n",
    "Strategy: compare a recording of a piece to an audio rendering of a straight-tempo MIDI version.\n",
    "\n",
    "- sequence X (vertical) is the MIDI recording\n",
    "- sequence Y (horizontal) is the performance recording."
   ]
  },
  {
   "cell_type": "code",
   "execution_count": null,
   "metadata": {},
   "outputs": [],
   "source": [
    "# recording by Lang Lang\n",
    "\n",
    "fs = 22050.\n",
    "snd2 = fmp.load_wav(\"audio/chopin_waltz_langlang.wav\")\n",
    "ipd.Audio(snd2, rate = fs)"
   ]
  },
  {
   "cell_type": "code",
   "execution_count": null,
   "metadata": {},
   "outputs": [],
   "source": [
    "# MIDI recording with static tempo\n",
    "\n",
    "snd1 = fmp.load_wav(\"audio/chopin_waltz_midi.wav\")\n",
    "midi_bpm = 60.  # 60BPM per bar or 180BPM per quarter note\n",
    "ipd.Audio(snd1, rate = fs)"
   ]
  },
  {
   "cell_type": "code",
   "execution_count": null,
   "metadata": {},
   "outputs": [],
   "source": [
    "fft_len = 4096\n",
    "hop_size = fft_len // 4\n",
    "\n",
    "ds = 4\n",
    "chroma_x = fmp.make_chromagram(snd1, fs, fft_len, hop_size, normalize=False)\n",
    "chroma_x = fmp.cens(chroma_x, 11, ds)\n",
    "chroma_y = fmp.make_chromagram(snd2, fs, fft_len, hop_size, normalize=False)\n",
    "chroma_y = fmp.cens(chroma_y, 11, ds)\n",
    "\n",
    "ff = fs / hop_size / ds\n",
    "\n",
    "plt.rcParams['figure.figsize'] = (12, 4)\n",
    "plt.figure()\n",
    "fmp.plot_two_chromas(chroma_x, chroma_y)"
   ]
  },
  {
   "cell_type": "code",
   "execution_count": null,
   "metadata": {},
   "outputs": [],
   "source": [
    "cost = fmp.make_cost_matrix(chroma_x, chroma_y)\n",
    "path = fmp.dtw(cost, .8)[1]\n",
    "\n",
    "plt.rcParams['figure.figsize'] = (12, 8)\n",
    "plt.figure()\n",
    "plt.imshow(cost, origin='lower', cmap='gray');\n",
    "plt.xlabel('Lang Lang')\n",
    "plt.ylabel('MIDI')\n",
    "plt.colorbar();\n",
    "plt.plot(path.T[1], path.T[0], '-r', linewidth=3)\n",
    "plt.show()"
   ]
  },
  {
   "cell_type": "code",
   "execution_count": null,
   "metadata": {},
   "outputs": [],
   "source": []
  },
  {
   "cell_type": "markdown",
   "metadata": {},
   "source": [
    "Show that these paths correspond"
   ]
  },
  {
   "cell_type": "code",
   "execution_count": null,
   "metadata": {},
   "outputs": [],
   "source": [
    "pp = 400\n",
    "print('point on path', path[pp])\n",
    "print('as times', path[pp] / ff)\n",
    "start = (path[pp] / ff * fs).astype(int)\n",
    "print('as samples', start)"
   ]
  },
  {
   "cell_type": "code",
   "execution_count": null,
   "metadata": {},
   "outputs": [],
   "source": [
    "display(ipd.Audio(snd2[start[1]:start[1] + 100000], rate = fs))\n",
    "display(ipd.Audio(snd1[start[0]:start[0] + 100000], rate = fs))"
   ]
  },
  {
   "cell_type": "markdown",
   "metadata": {},
   "source": [
    "Create a tempo curve from the DTW path:\n",
    "- Resample curve to have a uniform time axis\n",
    "- Filter to smooth\n",
    "- Differentiate to get a \"tempo ratio function\"\n",
    "- Multiply by the reference BPM to get the tempo function\n",
    "\n",
    "<font color=\"red\">__Whiteboard__</font>: Calculating Tempo"
   ]
  },
  {
   "cell_type": "code",
   "execution_count": null,
   "metadata": {},
   "outputs": [],
   "source": [
    "def create_tempo_curve(path, ref_bpm):\n",
    "    perf = path.T[1]  # performance\n",
    "    ref  = path.T[0]  # reference (constant beats/second)\n",
    "    perf_len = perf[-1] + 1\n",
    "\n",
    "    # resample path so that it is a proper signal (one sample per point on x-axis)\n",
    "    x = np.arange(perf_len)\n",
    "    ref_times = np.interp(x, perf, ref)\n",
    "    \n",
    "    # smooth\n",
    "    win = np.hanning(13)\n",
    "    win /= np.sum(win)\n",
    "    ref_times = np.convolve(ref_times, win, mode='valid')\n",
    "\n",
    "    # differentiate to get slope\n",
    "    # each slope point is a ratio of the reference time-delta to the performance time-delta\n",
    "    slope = (ref_times[1:] - ref_times[:-1])\n",
    "    \n",
    "    # convert to BPM\n",
    "    bpms = ref_bpm * slope\n",
    "    \n",
    "    return bpms\n",
    "    \n",
    "tempo = create_tempo_curve(path, midi_bpm)\n",
    "time_axis = np.arange(len(tempo)) / ff\n",
    "plt.plot(time_axis, tempo)\n",
    "ax = plt.gca()\n",
    "ax.set_xticks(np.arange(0, time_axis[-1] + 1, 10))\n",
    "plt.grid()\n",
    "plt.xlabel('time')\n",
    "plt.ylabel('tempo (BPM)')\n",
    "plt.show()"
   ]
  },
  {
   "cell_type": "code",
   "execution_count": null,
   "metadata": {},
   "outputs": [],
   "source": [
    "ipd.Audio(snd2, rate = fs)"
   ]
  },
  {
   "cell_type": "code",
   "execution_count": null,
   "metadata": {},
   "outputs": [],
   "source": []
  }
 ],
 "metadata": {
  "kernelspec": {
   "display_name": "Python 3",
   "language": "python",
   "name": "python3"
  },
  "language_info": {
   "codemirror_mode": {
    "name": "ipython",
    "version": 3
   },
   "file_extension": ".py",
   "mimetype": "text/x-python",
   "name": "python",
   "nbconvert_exporter": "python",
   "pygments_lexer": "ipython3",
   "version": "3.9.1"
  },
  "widgets": {
   "state": {
    "a8d2cac1360b497ca2d8235271e99107": {
     "views": [
      {
       "cell_index": 30
      }
     ]
    }
   },
   "version": "1.2.0"
  }
 },
 "nbformat": 4,
 "nbformat_minor": 1
}
