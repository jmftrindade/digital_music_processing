{
 "cells": [
  {
   "cell_type": "markdown",
   "metadata": {},
   "source": [
    "# 21M.387 Fundamentals of Music Processing\n",
    "## Problem Set 4: Chromagrams and DTW\n",
    "\n",
    "Make sure all your answers and plots display when the code block is run. You can leave word-based answers in code comments or markdown cells.\n",
    "\n",
    "You may use any fmplib functions from __previous__ units in your answers. You may __not__ use any fmplib functions from the current unit in your answers (unless explicitly noted). But you can use the current unit's fmplib for testing your code."
   ]
  },
  {
   "cell_type": "code",
   "execution_count": 1,
   "metadata": {},
   "outputs": [
    {
     "data": {
      "text/html": [
       "<button onclick=\"Jupyter.notebook.kernel.execute('fmp.open_documentation()')\">Open fmplib Documentation</button>"
      ],
      "text/plain": [
       "<IPython.core.display.HTML object>"
      ]
     },
     "metadata": {},
     "output_type": "display_data"
    }
   ],
   "source": [
    "import numpy as np\n",
    "import matplotlib.pyplot as plt\n",
    "import IPython.display as ipd\n",
    "from ipywidgets import interact\n",
    "import sys\n",
    "sys.path.append(\"..\")\n",
    "import fmplib as fmp\n",
    "\n",
    "plt.rcParams['figure.figsize'] = (10, 6)\n",
    "plt.rcParams['image.interpolation'] = 'nearest'\n",
    "fmp.documentation_button()"
   ]
  },
  {
   "cell_type": "markdown",
   "metadata": {},
   "source": [
    "## Exercise 1\n",
    "\n",
    "Given the STFT $\\mathcal{X}[n,k]$, we create the spectrogram $\\vert \\mathcal{X}[n,k] \\vert^2$ and represent it as the matrix $\\mathbf{X}$.\n",
    "\n",
    "We can use the conversion matrix $\\mathbf{C}_{fp}$ to create the pitch-o-gram (log-frequency spectrogram) $\\mathbf{P} = \\mathbf{C}_{fp} \\cdot \\mathbf{X}$.\n",
    "\n",
    "Write python function `spec_to_pitch_mtx()` that computes and returns the matrix $\\mathbf{C}_{fp}$, but unlike lecture, where we used a pitch range of $[0:128)$, make the function more general, providing a starting and ending pitch value. \n",
    "\n",
    "Inputs:\n",
    "- `fs`: $F_s$, the sampling frequency\n",
    "- `fft_len`: $N$, the length of DFT \n",
    "- `start_pitch`: first pitch to consider\n",
    "- `end_pitch`: one after the last pitch to consider. Total number of pitches should be `end_pitch - start_pitch`\n",
    "\n",
    "Returns:\n",
    "- a matrix that, when multiplied by a spectrogram, will produce a pitch-o-gram with `end_pitch - start_pitch` rows\n",
    "\n",
    "Assume that the spectrogram was created with a window of length $N$ and that the number of bins of the spectrogram is therefore $N/2 + 1$."
   ]
  },
  {
   "cell_type": "code",
   "execution_count": 2,
   "metadata": {},
   "outputs": [],
   "source": [
    "def spec_to_pitch_mtx(fs, fft_len, start_pitch, end_pitch):\n",
    "    pass"
   ]
  },
  {
   "cell_type": "markdown",
   "metadata": {
    "collapsed": true
   },
   "source": [
    "Create this matrix using a pitch range of $[C2:C8)$, so that the resulting $\\mathbf{P}$ will have 72 rows (spanning 6 octaves). Use $F_s = 22050$ and $N=4096$.\n",
    "\n",
    "- Call the matrix `c_fp`\n",
    "- Visualize it with `plt.imshow`"
   ]
  },
  {
   "cell_type": "code",
   "execution_count": null,
   "metadata": {},
   "outputs": [],
   "source": [
    "# fill in and plot\n",
    "fs = 22050\n",
    "N = 4096\n",
    "C2 = \n",
    "c_fp = spec_to_pitch_mtx(fs, N, )"
   ]
  },
  {
   "cell_type": "markdown",
   "metadata": {},
   "source": [
    "Finally, create the pitch-o-gram for the sound file below\n",
    "- Load the sound file of a piano playing two octaves of a c major scale\n",
    "- Create its Spectrogram with $N=4096$ and $H=N/2$. You may use `fmp.stft(x, fft_len, hop_size)` to create the STFT\n",
    "- Create the pitch-o-gram using the your function. Name this matrix `pgram`\n",
    "- Plot the result using the function `fmp.plot_spectrogram(pgram)` (this plots a matrix with amplitude values on a log scale so it is easier to see small values)\n",
    "\n",
    "Note: Since the $\\mathbf{C}_{fp}$ that you made is of a smaller range, you should notice that row 0 of the pitch-o-gram corresponds to midi note 36."
   ]
  },
  {
   "cell_type": "code",
   "execution_count": null,
   "metadata": {},
   "outputs": [],
   "source": [
    "snd1 = fmp.load_wav('audio/piano_c_scale.wav')\n",
    "fs = 22050.\n",
    "ipd.Audio(snd1, rate=fs)"
   ]
  },
  {
   "cell_type": "code",
   "execution_count": null,
   "metadata": {},
   "outputs": [],
   "source": [
    "# fill in and plot\n",
    "spec = None\n",
    "pgram = None\n"
   ]
  },
  {
   "cell_type": "markdown",
   "metadata": {},
   "source": [
    "## Exercise 2\n",
    "\n",
    "Write the function `make_chromagram(spec, fs)` that calculates and returns a chromagram from a spectrogram.\n",
    "\n",
    "Inputs:\n",
    "- `spec`: the spectrogram matrix\n",
    "- `fs`: $F_s$: the sampling rate of the original audio\n",
    "\n",
    "Output:\n",
    "- the chromagram matrix\n",
    "\n",
    "\n",
    "Notes:\n",
    "- Use the function `spec_to_pitch_mtx()` that you wrote above with pitch values $[0,128)$\n",
    "- You will need to sum the energies for each of the 12 pitch classes. You can do that in a loop, or by creating the conversion matrix $\\mathbf{C}_{pc}$\n",
    "- Hint: the DFT length $N$ is needed, but does not need to be passed into the function"
   ]
  },
  {
   "cell_type": "code",
   "execution_count": null,
   "metadata": {},
   "outputs": [],
   "source": [
    "def make_chromagram(spec, fs):\n",
    "    pass"
   ]
  },
  {
   "cell_type": "markdown",
   "metadata": {},
   "source": [
    "Make and plot the chromagram for the same audio as above.\n",
    "- Name the matrix `chroma`.\n",
    "- Plot it using `fmp.plot_spectrogram`."
   ]
  },
  {
   "cell_type": "code",
   "execution_count": null,
   "metadata": {},
   "outputs": [],
   "source": [
    "# create chroma and plot it\n",
    "chroma = None"
   ]
  },
  {
   "cell_type": "markdown",
   "metadata": {},
   "source": [
    "## Exercise 3a\n",
    "\n",
    "It is often helpful to apply logarithmic compression to a chromagram using the function:\n",
    "\n",
    "$\\Gamma_\\gamma(v) = \\log_{10}(1+ \\gamma \\cdot v)$\n",
    "\n",
    "- $v$ is the value to compress\n",
    "- $\\gamma$ is the compression factor\n",
    "\n",
    "Create and plot the log-compressed chromagram of the audio in _Exercise 2_ \n",
    "- Name it `log_chroma`\n",
    "- Use $\\gamma = 10$\n",
    "- Plot with `plt.imshow`\n"
   ]
  },
  {
   "cell_type": "code",
   "execution_count": null,
   "metadata": {},
   "outputs": [],
   "source": [
    "# Create log_chroma and plot it.\n",
    "log_chroma = None"
   ]
  },
  {
   "cell_type": "markdown",
   "metadata": {},
   "source": [
    "## Exercise 3b\n",
    "\n",
    "It is also useful to normalize a chromagram so that each column vector is length 1.\n",
    "\n",
    "Create and plot the normalized version of the log-compressed chromagram from _Exercise 3a_.\n",
    "- Name it `norm_chroma`\n",
    "- Plot with `plt.imshow`"
   ]
  },
  {
   "cell_type": "code",
   "execution_count": null,
   "metadata": {},
   "outputs": [],
   "source": [
    "# create norm_chroma and plot it\n",
    "norm_chroma = None"
   ]
  },
  {
   "cell_type": "markdown",
   "metadata": {},
   "source": [
    "## Exercise 4\n",
    "\n",
    "In this exercise, you will apply the dynamic time warping algorithm by hand to a toy example. Given the following sequences:\n",
    "\n",
    "$X = (2, 5, 3, 6)$  \n",
    "$Y = (1, 6, 3, 4, 6, 7)$\n",
    "\n",
    "Use the cost function of $c = \\lvert x - y \\rvert$ to create (by hand) the $4 \\times 6$ cost matrix $\\mathbf{C}$.\n",
    "\n",
    "To write in your answer, fill in the table below with the right numbers\n",
    "\n",
    "__Caution__: We have been looking at matrices graphically, with $(1,1)$ in the bottom left. When creating matrices in this exercise, please stick to this convention."
   ]
  },
  {
   "cell_type": "markdown",
   "metadata": {},
   "source": [
    "Answer:\n",
    "\n",
    "$\\mathbf{C}=$\n",
    "\n",
    "| x | x | x | x | x | x |\n",
    "|---|---|---|---|---|---|\n",
    "|   |   |   |   |   |   |\n",
    "|   |   |   |   |   |   |\n",
    "|   |   |   |   |   |   |\n",
    "| 1 |   |   |   |   |   |\n"
   ]
  },
  {
   "cell_type": "markdown",
   "metadata": {},
   "source": [
    "Next, create (by hand again) two matrices: The accumulated cost matrix $\\mathbf{D}$, and the backtracking matrix $\\mathbf{B}$.\n",
    "\n",
    "- Use the cost matrix $\\mathbf{C}$ that you created above\n",
    "- Use the boundary conditions: $p_1 = (1,1)$ and $p_L = (4, 6)$ for the warping path $P = (p_1, p_2, ... p_L)$\n",
    "- Use the step size condition: $\\Sigma = \\{(1,0), (0,1), (1,1) \\}$\n",
    "\n",
    "To formulate $\\mathbf{B}$, use the following symbols in each cell:\n",
    "- 'I' (capital i) to point towards a cell from the south\n",
    "- '-' (minus sign) to point towards a cell from the west\n",
    "- '/' (slash) to point towards a cell from the south-west\n",
    "- '.' (period) to mark cell $(1,1)$, the beginning of the warping path"
   ]
  },
  {
   "cell_type": "markdown",
   "metadata": {},
   "source": [
    "Answer:\n",
    "\n",
    "$\\mathbf{D}=$\n",
    "\n",
    "| x | x | x | x | x | x |\n",
    "|---|---|---|---|---|---|\n",
    "|   |   |   |   |   |   |\n",
    "|   |   |   |   |   |   |\n",
    "|   |   |   |   |   |   |\n",
    "| 1 |   |   |   |   |   |\n",
    "\n",
    "\n",
    "\n",
    "$\\mathbf{B}=$\n",
    "\n",
    "| x | x | x | x | x | x |\n",
    "|---|---|---|---|---|---|\n",
    "|   |   |   |   |   |   |\n",
    "|   |   |   |   |   |   |\n",
    "|   |   |   |   |   |   |\n",
    "| . |   |   |   |   |   |\n",
    "\n"
   ]
  },
  {
   "cell_type": "markdown",
   "metadata": {},
   "source": [
    "Finally, write down the optimal warping path $P$ as a series of $(n,m)$ coordinates by following the pointers of matrix $\\mathbf{B}$."
   ]
  },
  {
   "cell_type": "markdown",
   "metadata": {},
   "source": [
    "Answer:\n",
    "\n",
    "$P= (1,1), ... $"
   ]
  },
  {
   "cell_type": "markdown",
   "metadata": {},
   "source": [
    "## Exercise 5a\n",
    "\n",
    "In this exercise, you will create the cost matrix that compares two versions of Glen Gould playing the first part of Bach's _Goldberg Variations_. Gould famously made two different recordings of this piece - one in 1955, and again in 1981.\n",
    "\n",
    "Listen to the two recordings below."
   ]
  },
  {
   "cell_type": "code",
   "execution_count": null,
   "metadata": {},
   "outputs": [],
   "source": [
    "fs = 22050\n",
    "snd_x = fmp.load_wav('audio/gould_bach_goldberg_1955.wav')\n",
    "display(ipd.Audio(snd_x, rate=fs))\n",
    "\n",
    "snd_y = fmp.load_wav('audio/gould_bach_goldberg_1981.wav')\n",
    "display(ipd.Audio(snd_y, rate=fs))"
   ]
  },
  {
   "cell_type": "markdown",
   "metadata": {},
   "source": [
    "The code below computes the basic chromagrams (it should return results similar to your own code above). It then calculates the CENS variant of the chromagrams, as explained in lecture, using a window length of 11, and a downsampling rate of 3."
   ]
  },
  {
   "cell_type": "code",
   "execution_count": null,
   "metadata": {},
   "outputs": [],
   "source": [
    "fft_len = 4096\n",
    "hop_size = fft_len // 2\n",
    "chroma_x = fmp.make_chromagram(snd_x, fs, fft_len, hop_size, normalize=False)\n",
    "chroma_y = fmp.make_chromagram(snd_y, fs, fft_len, hop_size, normalize=False)\n",
    "\n",
    "cens_x = fmp.cens(chroma_x, 11, 3)\n",
    "cens_y = fmp.cens(chroma_y, 11, 3)\n",
    "\n",
    "plt.figure()\n",
    "fmp.plot_two_chromas(cens_x, cens_y)"
   ]
  },
  {
   "cell_type": "markdown",
   "metadata": {},
   "source": [
    "What is the sample rate (a.k.a the feature rate $F_f$) of these CENS chromagrams based on the above parameters?"
   ]
  },
  {
   "cell_type": "code",
   "execution_count": null,
   "metadata": {},
   "outputs": [],
   "source": [
    "# calculate and print ff\n",
    "ff = None "
   ]
  },
  {
   "cell_type": "markdown",
   "metadata": {},
   "source": [
    "## Exercise 5b\n",
    "\n",
    "Write the function `cost_matrix(x, y)` that takes two time series and returns the cost matrix using the cosine distance.\n",
    "\n",
    "Inputs: \n",
    "- `x`:  $\\mathbf{X}$, the first feature vector of length $N$\n",
    "- `y`:  $\\mathbf{Y}$, the second feature vector of length $M$\n",
    "\n",
    "Returns:\n",
    "- The $N \\times M$ cost matrix $\\mathbf{C}$, calculated using the cosine distance metric between two feature vectors\n"
   ]
  },
  {
   "cell_type": "code",
   "execution_count": null,
   "metadata": {},
   "outputs": [],
   "source": [
    "# cost function. Takes two feature vectors of length N and M. Return the NxM cost matrix:\n",
    "def cost_matrix(x, y):\n",
    "    pass"
   ]
  },
  {
   "cell_type": "markdown",
   "metadata": {},
   "source": [
    "Call this function with the CENS chromagrams above to create the cost matrix and plot it.\n",
    "- Call it `cost_xy`\n",
    "- Plot with `plt.imshow`"
   ]
  },
  {
   "cell_type": "code",
   "execution_count": null,
   "metadata": {},
   "outputs": [],
   "source": [
    "# create cost_xy using the above function and plot it.\n",
    "cost_xy = None"
   ]
  },
  {
   "cell_type": "markdown",
   "metadata": {},
   "source": [
    "## Exercise 6\n",
    "\n",
    "Write the function `dtw_accum_cost(C)` to compute $\\mathbf{D}$, the accumulated cost matrix.\n",
    "\n",
    "Inputs:\n",
    "- `C`: $\\mathbf{C}$, the cost matrix\n",
    "\n",
    "Returns:\n",
    "-  $\\mathbf{D}$, the accumulated cost matrix\n",
    "\n",
    "The steps are outlined in p 139 of the text book.\n",
    "- Initialize $\\mathbf{D}$ (origin, first row, first column).\n",
    "- Set up two two nested `for` loops to iterate through the elements of $\\mathbf{D}$ (starting with the 2nd row and 2nd column, since the first row and column are already filled in by the init step).\n",
    "- Calculate and fill in the value of $\\mathbf{D}$ for each cell $(n,m)$ by following the algorithm outlined in the book (that is, selecting the lowest cost from the three possible steps).\n",
    "\n",
    "Caution: The DTW algorithm is described using unit-offset indexing. Since you are using python with 0-offset indexing, you must be careful when translating equations into code.\n",
    "\n",
    "Finally, use your function to create $\\mathbf{D}$ from `cost_xy` above and plot it.\n",
    "- Name it `D`\n",
    "- Plot with `plt.imshow`\n",
    "\n",
    "In the next exercises, you will add the backtracking and path calculation."
   ]
  },
  {
   "cell_type": "code",
   "execution_count": null,
   "metadata": {},
   "outputs": [],
   "source": [
    "# calculate the accumulated cost based on the cost matrix cost_xy from Exercise 5.\n",
    "def dtw_accum_cost(C):\n",
    "    pass\n",
    "\n",
    "# now calculate D\n",
    "# D = ...\n",
    "\n",
    "# and plot it:\n"
   ]
  },
  {
   "cell_type": "markdown",
   "metadata": {},
   "source": [
    "## Exercise 7\n",
    "\n",
    "Now, you will add more code to the function you just wrote to also calculate the backtracking matrix $\\mathbf{B}$.\n",
    "\n",
    "Write the function `dtw_bt()` to compute $\\mathbf{B}$, the backtracking matrix.\n",
    "\n",
    "Inputs:\n",
    "- `C`: $\\mathbf{C}$ the cost matrix\n",
    "\n",
    "Returns:\n",
    "-  $\\mathbf{B}$, the backtracking matrix\n",
    "\n",
    "Strategy:\n",
    "\n",
    "- First, copy the code from Exercise 6 to the code cell below and change it's name to `dtw_bt`.\n",
    "- Then, add code to create a backtracking matrix $\\mathbf{B}$ (which should be the same size as $\\mathbf{D}$).\n",
    "- You will need to design a mapping / coding system for $\\mathbf{B}$ so that each cell of $\\mathbf{B}$ can either store a step-type or \"point\" to another location of the matrix.\n",
    "- Initialize $\\mathbf{B}$'s first row and column.\n",
    "- Add code in the inner loop that remembers the optimal step for calculating $\\mathbf{D}[n,m]$ and stores that step in $\\mathbf{B}[n,m]$.\n",
    "- Return $\\mathbf{B}$.\n"
   ]
  },
  {
   "cell_type": "code",
   "execution_count": null,
   "metadata": {},
   "outputs": [],
   "source": [
    "# replace this with the function you wrote above, and modify as needed.\n",
    "\n",
    "def dtw_bt(C):\n",
    "    pass"
   ]
  },
  {
   "cell_type": "markdown",
   "metadata": {},
   "source": [
    "## Exercise 8\n",
    "\n",
    "\n",
    "\n",
    "The final step is to calculate the optimal path from matrix $\\mathbf{B}$. \n",
    "\n",
    "Write the function `find_path()`:\n",
    "\n",
    "Inputs:\n",
    "- `B`: $\\mathbf{B}$, the backtracking matrix\n",
    "\n",
    "Returns:\n",
    "- the optimal path as an $L \\times 2$ matrix, where $L$ is the length of the path.\n",
    "\n",
    "Strategy:  \n",
    "- Accumulate the path locations backwards, starting at the topmost location $(N-1, M-1)$, following the path until you reach $(0,0)$.\n",
    "- You will find the function `reverse` useful for flipping the final list of points around. In other words, the returned path should go forward, starting from $(0,0)$ and ending at $(N-1, M-1)$.\n",
    "\n",
    "\n",
    "- Call `dtw_bt()` to create matrix `B`\n",
    "- Call `find_path()` to create the path. Call it `path`"
   ]
  },
  {
   "cell_type": "code",
   "execution_count": null,
   "metadata": {},
   "outputs": [],
   "source": [
    "def find_path(B):\n",
    "    pass\n",
    "\n",
    "# call dtw_bt to get B and then call find_path on B to return the path\n",
    "path = ..."
   ]
  },
  {
   "cell_type": "markdown",
   "metadata": {},
   "source": [
    "Plot the cost matrix and the optimal path. The code below should work if your cost matrix is named `cost_xy` and the path is named `path` and is a $L \\times 2$ matrix."
   ]
  },
  {
   "cell_type": "code",
   "execution_count": null,
   "metadata": {},
   "outputs": [],
   "source": [
    "plt.figure()\n",
    "plt.imshow(cost_xy, origin='lower', cmap='gray')\n",
    "plt.plot(path.T[1], path.T[0], '-r');"
   ]
  },
  {
   "cell_type": "markdown",
   "metadata": {},
   "source": [
    "## Exercise 9\n",
    "\n",
    "In this exercise, you'll write code to listen to the correspondences. Write the function `find_equivalent_segment()` which, given a time span in one piece, returns the matching time span in the other piece.\n",
    "\n",
    "Inputs:\n",
    "- `t_start`: the starting time, in seconds, of the first piece\n",
    "- `t_end`: the ending time, in seconds, of the first piece\n",
    "- `path`: the matching path between the two pieces, as calculated from DTW\n",
    "- `ff`: $F_f$, the feature rate of chromagrams used to create the matching path\n",
    "\n",
    "Returns:\n",
    "- `(ty_start, ty_end)`: the start and end times, in seconds, of the corresponding piece\n",
    "\n",
    "After you create this function, you can test it using the code below. Play around with different values of `t1` and `t2` to hear the correspondence between the two versions of the _Goldberg Variations_."
   ]
  },
  {
   "cell_type": "code",
   "execution_count": null,
   "metadata": {},
   "outputs": [],
   "source": [
    "def find_equivalent_segment(t_start, t_end, path, ff):\n",
    "    pass"
   ]
  },
  {
   "cell_type": "code",
   "execution_count": null,
   "metadata": {},
   "outputs": [],
   "source": [
    "# set start and end times. Try different ones!\n",
    "t1, t2 = 19, 22\n",
    "\n",
    "# get corresponding start and end times:\n",
    "t3, t4 = find_equivalent_segment(t1, t2, path, ff)\n",
    "\n",
    "display(ipd.Audio(snd_x[int(t1*fs): int(t2*fs)], rate=fs))\n",
    "display(ipd.Audio(snd_y[int(t3*fs): int(t4*fs)], rate=fs))"
   ]
  },
  {
   "cell_type": "markdown",
   "metadata": {},
   "source": [
    "## Exercise 10\n",
    "\n",
    "Find two versions of the same song or two different renditions of the same piece. Use Audacity to export 22050Hz wave files. Ideally, you can find a songs or pieces that are less than 5 minutes. \n",
    "\n",
    "Repeat the steps above for your songs and see what the optimal path looks like (make sure to plot the path). You can also find the equivalent segments and listen to how good the path is.\n",
    "\n",
    "Remember to submit your wave files along with this notebook file."
   ]
  },
  {
   "cell_type": "code",
   "execution_count": null,
   "metadata": {},
   "outputs": [],
   "source": []
  }
 ],
 "metadata": {
  "kernelspec": {
   "display_name": "Python 3",
   "language": "python",
   "name": "python3"
  },
  "language_info": {
   "codemirror_mode": {
    "name": "ipython",
    "version": 3
   },
   "file_extension": ".py",
   "mimetype": "text/x-python",
   "name": "python",
   "nbconvert_exporter": "python",
   "pygments_lexer": "ipython3",
   "version": "3.9.2"
  }
 },
 "nbformat": 4,
 "nbformat_minor": 1
}
