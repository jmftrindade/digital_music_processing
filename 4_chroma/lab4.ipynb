{
 "cells": [
  {
   "cell_type": "markdown",
   "metadata": {},
   "source": [
    "# 21M.387 Fundamentals of Music Processing\n",
    "## Lab4"
   ]
  },
  {
   "cell_type": "code",
   "execution_count": null,
   "metadata": {},
   "outputs": [],
   "source": [
    "import numpy as np\n",
    "import matplotlib.pyplot as plt\n",
    "import IPython.display as ipd\n",
    "from ipywidgets import interact\n",
    "import sys\n",
    "sys.path.append(\"..\")\n",
    "import fmplib as fmp\n",
    "from fmplib.pyqueue import connect_to_queue\n",
    "\n",
    "plt.rcParams['figure.figsize'] = (8, 5)\n",
    "plt.rcParams['image.interpolation'] = 'nearest'\n",
    "fmp.documentation_button()"
   ]
  },
  {
   "cell_type": "markdown",
   "metadata": {},
   "source": [
    "## Python Review\n",
    "\n",
    "Useful python tricks below!\n",
    "\n",
    "\n",
    "### enumerate\n",
    "Use [`enumerate`](https://docs.python.org/3/library/functions.html#enumerate) to automatically generate an index inside a `for` loop:"
   ]
  },
  {
   "cell_type": "code",
   "execution_count": null,
   "metadata": {},
   "outputs": [],
   "source": [
    "numbers = 2 ** np.arange(8)\n",
    "for (idx, n) in enumerate(numbers):\n",
    "    print(f'{idx}: {n}')\n"
   ]
  },
  {
   "cell_type": "markdown",
   "metadata": {},
   "source": [
    "### list comprehension\n",
    "\n",
    "Use [List comprehension](http://www.secnetix.de/olli/Python/list_comprehensions.hawk) to create arrays without a `for` loop using a more compact syntax."
   ]
  },
  {
   "cell_type": "code",
   "execution_count": null,
   "metadata": {},
   "outputs": [],
   "source": [
    "word_list = ['a', 'list', 'of', 'some', 'words']\n",
    "\n",
    "# create a new list where each item is modified:\n",
    "new_array = [x + '!' for x in word_list]\n",
    "print(new_array)\n",
    "\n",
    "# can be used to filter as well:\n",
    "new_array = [w for w in word_list if len(w) == 4]\n",
    "print(new_array)"
   ]
  },
  {
   "cell_type": "markdown",
   "metadata": {},
   "source": [
    "### np.dot\n",
    "\n",
    "Use `np.dot` for matrix multiplication and `.T` to transpose a matrix. For example:"
   ]
  },
  {
   "cell_type": "code",
   "execution_count": null,
   "metadata": {},
   "outputs": [],
   "source": [
    "a = np.array(((1,2), (3,4), (5,6)))\n",
    "b = np.array(((1,-1), (1,-1), (1,-1)))\n",
    "print('A')\n",
    "print(a, '\\n')\n",
    "print('B')\n",
    "print(b, '\\n')\n",
    "\n",
    "print('A^T . B')\n",
    "print(np.dot(a.T, b), '\\n')\n",
    "print('A . B^T')\n",
    "print(np.dot(a, b.T))"
   ]
  },
  {
   "cell_type": "markdown",
   "metadata": {},
   "source": [
    "### np.tile\n",
    "\n",
    "Use [`np.tile`](http://docs.scipy.org/doc/numpy/reference/generated/numpy.tile.html) to created an extended, tiled matrix (either vertically or horizontally or both)\n"
   ]
  },
  {
   "cell_type": "code",
   "execution_count": null,
   "metadata": {},
   "outputs": [],
   "source": [
    "a = np.arange(4).reshape(2,2)\n",
    "b = np.arange(18).reshape(6,3)\n",
    "print('A')\n",
    "print(a, '\\n')\n",
    "\n",
    "a_tiled1 = np.tile(a, (1, 4))\n",
    "print('A_t1')\n",
    "print(a_tiled1, '\\n')\n",
    "\n",
    "a_tiled2 = np.tile(a, (3, 1))\n",
    "print('A_t2')\n",
    "print(a_tiled2)"
   ]
  },
  {
   "cell_type": "markdown",
   "metadata": {},
   "source": [
    "### np.argmax and np.argmin\n",
    "\n",
    "Use [`np.argmax`](https://numpy.org/doc/stable/reference/generated/numpy.argmax.html) to find the _index_ of the maximum value of an array.  \n",
    "`np.argmin` is the same idea but uses the minimum value.\n",
    "    "
   ]
  },
  {
   "cell_type": "code",
   "execution_count": null,
   "metadata": {},
   "outputs": [],
   "source": [
    "a = 10 * np.random.random( 6 )\n",
    "print(f'a: {a} \\n')\n",
    "\n",
    "idx = np.argmax(a)\n",
    "print(f'argmax(a) = {idx}')\n",
    "print(f'max(a) = {a[idx]}')"
   ]
  },
  {
   "cell_type": "markdown",
   "metadata": {},
   "source": [
    "## Exercise 1\n",
    "\n",
    "For matrix $\\mathbf{A}$ below, find:\n",
    "- the maximum value along each column, as a vector\n",
    "- the minimum value along each row, as a vector\n",
    "\n",
    "(hint: look up `np.min` and `np.max`).\n",
    "\n",
    "After you have the two vectors:\n",
    "- Divide $\\mathbf{A}$ by the max row vector (column-wise divide)\n",
    "- Subtract from $\\mathbf{A}$ the min column vector (row-wise subtraction)"
   ]
  },
  {
   "cell_type": "code",
   "execution_count": null,
   "metadata": {},
   "outputs": [],
   "source": [
    "a = np.roll(np.arange(15).reshape(3,5), 2)\n",
    "print('A')\n",
    "print(a)"
   ]
  },
  {
   "cell_type": "code",
   "execution_count": null,
   "metadata": {},
   "outputs": [],
   "source": [
    "# a_max = \n",
    "# a_min = "
   ]
  },
  {
   "cell_type": "code",
   "execution_count": null,
   "metadata": {},
   "outputs": [],
   "source": [
    "connect_to_queue()"
   ]
  },
  {
   "cell_type": "markdown",
   "metadata": {},
   "source": [
    "## Exercise 2\n",
    "\n",
    "Write `normalize_matrix()` to normalize the _columns_ of a matrix using the $L^2$ norm. Hint: look at [`np.linalg.norm`](https://numpy.org/doc/stable/reference/routines.linalg.html).\n",
    "\n",
    "Test your function on matrix $\\mathbf{A}$ above by showing that the normalized matrix columns are all length 1.\n"
   ]
  },
  {
   "cell_type": "code",
   "execution_count": null,
   "metadata": {},
   "outputs": [],
   "source": [
    "def normalize_matrix(mtx):\n",
    "    pass\n",
    "\n",
    "# TODO normalize `a`\n",
    "\n",
    "# TODO verify that all columns of `a` are length 1\n"
   ]
  },
  {
   "cell_type": "code",
   "execution_count": null,
   "metadata": {},
   "outputs": [],
   "source": [
    "connect_to_queue()"
   ]
  },
  {
   "cell_type": "code",
   "execution_count": null,
   "metadata": {},
   "outputs": [],
   "source": [
    "connect_to_queue()"
   ]
  },
  {
   "cell_type": "markdown",
   "metadata": {},
   "source": [
    "## Exercise 3\n",
    "\n",
    "The next two exercises represent some of the initial steps needed to create a chromagram. We look at finding the FFT bins associated with a set of pitches. \n",
    "\n",
    "Write the function `bins_of_pitch()` which takes a single midi-pitch (scalar only) and returns an array of the frequency bins (i.e, values of $k$) that contribute to $\\pm 0.5$ semitones around that pitch.\n",
    "\n",
    "Inputs are: \n",
    "- `p`: MIDI pitch\n",
    "- `fs`: $F_s$, the sampling frequency of the signal\n",
    "- `fft_len`: $N$, the length of the DFT\n",
    "\n",
    "Test your function below."
   ]
  },
  {
   "cell_type": "code",
   "execution_count": null,
   "metadata": {},
   "outputs": [],
   "source": [
    "def bins_of_pitch(p, fs, fft_len):\n",
    "    pass"
   ]
  },
  {
   "cell_type": "code",
   "execution_count": null,
   "metadata": {},
   "outputs": [],
   "source": [
    "print(bins_of_pitch(69, 22050, 2048))\n",
    "# should return: [40, 41, 42]\n",
    "\n",
    "print(bins_of_pitch(60, 22050, 4096))\n",
    "# should return: [48, 49, 50]\n"
   ]
  },
  {
   "cell_type": "code",
   "execution_count": null,
   "metadata": {},
   "outputs": [],
   "source": [
    "connect_to_queue()"
   ]
  },
  {
   "cell_type": "markdown",
   "metadata": {},
   "source": [
    "## Exercise 4\n",
    "\n",
    "Because the frequency resolution of a DFT can be poor for low notes, it is important to pick an analysis window size that provides enough frequency resolution to create a good chromagram.\n",
    "\n",
    "For example, see what happens when you look for the frequency bins associated with the note _E2_ (pitch = 40) when $F_s = 22050$, and the DFT size is $N = 2048$"
   ]
  },
  {
   "cell_type": "code",
   "execution_count": null,
   "metadata": {},
   "outputs": [],
   "source": [
    "# bins_of_pitch(?, ?, ?)\n"
   ]
  },
  {
   "cell_type": "markdown",
   "metadata": {},
   "source": [
    "You should see an empty array (no frequency bins for that pitch!).\n",
    "\n",
    "What value of $N$ (with $N$ being a power of 2) is needed to ensure that all pitches from _C2_ (pitch = 36) on up will have at least two contributing frequency bins?\n",
    "\n",
    "You can approach this problem experimentally, by trying increasing values of $N$ and testing against a range of pitch values."
   ]
  },
  {
   "cell_type": "code",
   "execution_count": null,
   "metadata": {},
   "outputs": [],
   "source": []
  },
  {
   "cell_type": "code",
   "execution_count": null,
   "metadata": {},
   "outputs": [],
   "source": [
    "connect_to_queue()"
   ]
  },
  {
   "cell_type": "markdown",
   "metadata": {},
   "source": [
    "## Exercise 5\n",
    "\n",
    "The following are two recordings of the beginning of Bach's First Prelude, played at identical tempos. However, they are played in different keys!\n",
    "\n",
    "Listen to the audio. Can you hear which key each is played in? If not, don't worry. We will use TECHNOLOGY to help us figure it out."
   ]
  },
  {
   "cell_type": "code",
   "execution_count": null,
   "metadata": {},
   "outputs": [],
   "source": [
    "fs = 22050\n",
    "bach1 = fmp.load_wav('audio/prelude_01.wav')\n",
    "ipd.Audio(bach1, rate=fs)"
   ]
  },
  {
   "cell_type": "code",
   "execution_count": null,
   "metadata": {},
   "outputs": [],
   "source": [
    "bach2 = fmp.load_wav('audio/prelude_02.wav')\n",
    "ipd.Audio(bach2, rate=fs)"
   ]
  },
  {
   "cell_type": "markdown",
   "metadata": {},
   "source": [
    "Create chromagrams of each signal with `fmp.make_chromagram()`. See fmplib documentation.\n",
    "You can use these params:\n",
    "- window length: $N = 4096$\n",
    "- hop size: $H = 2048$\n",
    "\n",
    "Then view and compare these chromagrams (`plt.imshow()` with `origin='lower'` and `aspect='auto'` will work).\n",
    "Can you tell by visual inspection what key each piece is played in?"
   ]
  },
  {
   "cell_type": "code",
   "execution_count": null,
   "metadata": {},
   "outputs": [],
   "source": []
  },
  {
   "cell_type": "markdown",
   "metadata": {},
   "source": [
    "## Exercise 6\n",
    "\n",
    "We can also answer the question by computational analysis to find the \"semitone difference\" between these two recordings. If we know that recording 1 is played in C (which it is), we can then calculate the most likely key of recording 2.\n",
    "\n",
    "The strategy is to compare chromagram 1 with 12 \"transposed versions\" of chromagram 2. The one that has the highest similarity score represents the most likely semitone difference.\n",
    "\n",
    "How do we compare chromagrams? In this case, the problem is made easier because both chromagrams have the same number of columns (ie, same length in time). Recall that dot products are useful ways of comparing two vectors to arrive at a similarity score.\n",
    "\n",
    "[`np.roll`](http://docs.scipy.org/doc/numpy/reference/generated/numpy.roll.html) is a handy function for this purpose.\n",
    "\n",
    "Write the function `pitch_difference(chroma1, chroma2)` that returns the most likely semitone pitch transposition of chroma2 compared to chroma1."
   ]
  },
  {
   "cell_type": "code",
   "execution_count": null,
   "metadata": {},
   "outputs": [],
   "source": [
    "def pitch_difference(chroma1, chroma2):\n",
    "    pass"
   ]
  },
  {
   "cell_type": "code",
   "execution_count": null,
   "metadata": {},
   "outputs": [],
   "source": [
    "connect_to_queue('checkoff')"
   ]
  }
 ],
 "metadata": {
  "kernelspec": {
   "display_name": "Python 3",
   "language": "python",
   "name": "python3"
  },
  "language_info": {
   "codemirror_mode": {
    "name": "ipython",
    "version": 3
   },
   "file_extension": ".py",
   "mimetype": "text/x-python",
   "name": "python",
   "nbconvert_exporter": "python",
   "pygments_lexer": "ipython3",
   "version": "3.9.1"
  }
 },
 "nbformat": 4,
 "nbformat_minor": 1
}
