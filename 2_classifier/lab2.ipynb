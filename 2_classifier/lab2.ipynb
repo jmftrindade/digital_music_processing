{
 "cells": [
  {
   "cell_type": "markdown",
   "metadata": {},
   "source": [
    "# 21M.387 Fundamentals of Music Processing\n",
    "## Lab2"
   ]
  },
  {
   "cell_type": "code",
   "execution_count": 1,
   "metadata": {},
   "outputs": [
    {
     "data": {
      "text/html": [
       "<button onclick=\"Jupyter.notebook.kernel.execute('fmp.open_documentation()')\">Open fmplib Documentation</button>"
      ],
      "text/plain": [
       "<IPython.core.display.HTML object>"
      ]
     },
     "metadata": {},
     "output_type": "display_data"
    }
   ],
   "source": [
    "import numpy as np\n",
    "import matplotlib.pyplot as plt\n",
    "import IPython.display as ipd\n",
    "from ipywidgets import interact\n",
    "import sys\n",
    "sys.path.append(\"..\")\n",
    "import fmplib as fmp\n",
    "from fmplib.pyqueue import connect_to_queue\n",
    "\n",
    "plt.rcParams['figure.figsize'] = (12, 4)\n",
    "fmp.documentation_button()"
   ]
  },
  {
   "cell_type": "markdown",
   "metadata": {},
   "source": [
    "## Exercise 1\n",
    "\n",
    "Boolean arrays can pick subsets from vectors. Run and observe the code below to understand:\n",
    "- Random arrays\n",
    "- Boolean arrays\n",
    "- Array indexing with boolean arrays\n",
    "- Counting items"
   ]
  },
  {
   "cell_type": "code",
   "execution_count": null,
   "metadata": {},
   "outputs": [],
   "source": [
    "a = np.random.random(5)\n",
    "b = np.arange(9)\n",
    "c = np.array([True, False, True, False, False, True, True, False, False])\n",
    "\n",
    "print('random array =', a)\n",
    "print('b > 4 = ', b > 4)\n",
    "print('b[c] = ', b[c])\n",
    "print( np.count_nonzero(c))"
   ]
  },
  {
   "cell_type": "markdown",
   "metadata": {},
   "source": [
    "Now do this:\n",
    "- Create a vector `x` of length 30 with random numbers in the range $[-1.0, 1.0)$. Note that `np.random.random` returns numbers in the range $[0.0, 1.0)$.\n",
    "\n",
    "- Make a stem plot of `x` using `plt.stem()` - [See Docs](http://matplotlib.org/api/pyplot_api.html#matplotlib.pyplot.stem).\n",
    "- Create 3 vector subsets of `x`:\n",
    "  - `y1` = all numbers in `x` greater than 0.5.\n",
    "  - `y2` = all numbers in `x` less than -0.5.\n",
    "  - `y3` = all numbers in `x` in between -0.5 and 0.5. For this, you will need `np.logical_and()`\n",
    "- plot `y1`, `y2`, `y3` on three different figures using differently colored circle markers using the `markerfmt` optional arg. [The plt.plot docs](http://matplotlib.org/api/pyplot_api.html#matplotlib.pyplot.plot) show the marker type and marker color options."
   ]
  },
  {
   "cell_type": "code",
   "execution_count": null,
   "metadata": {},
   "outputs": [],
   "source": []
  },
  {
   "cell_type": "code",
   "execution_count": null,
   "metadata": {},
   "outputs": [],
   "source": [
    "connect_to_queue()"
   ]
  },
  {
   "cell_type": "markdown",
   "metadata": {},
   "source": [
    "## Exercise 2\n",
    "\n",
    "Load ~10 seconds from an audio file on your computer into array `x`:\n",
    "- Use Audacity to load any audio file\n",
    "- Trim to 10 seconds\n",
    "- Change the Sample Rate to 22050\n",
    "- Convert from Stereo to Mono\n",
    "- Export as WAV\n",
    "\n",
    "Recall that the total energy in a signal $x[n]$ of length $N$ is:\n",
    "$$ E = \\sum_{n=0}^{N-1} x[n]^2 $$\n",
    "\n",
    "- Calculate the total energy for `x`.\n",
    "- Calculate the average energy for `x`."
   ]
  },
  {
   "cell_type": "code",
   "execution_count": null,
   "metadata": {},
   "outputs": [],
   "source": [
    "# x = fmp.load_wav(\"...\")\n"
   ]
  },
  {
   "cell_type": "code",
   "execution_count": null,
   "metadata": {},
   "outputs": [],
   "source": [
    "connect_to_queue()"
   ]
  },
  {
   "cell_type": "markdown",
   "metadata": {},
   "source": [
    "## Exercise 3\n",
    "\n",
    "Create an energy feature signal like we did in Lecture. \n",
    "Recall that the normalized energy signal is:\n",
    "$$ \\bar E^x[m] = \\frac{1}{N} \\sum_{n=mH}^{mH+N-1} x[n]^2 \\text{ for } m \\in [0, M-1] $$\n",
    "\n",
    "with parameters:  \n",
    "- $x$: the signal of length $L$\n",
    "- $N$: window length\n",
    "- $H$: hop size\n",
    "\n",
    "\n",
    "The strategy for this algorithm is:\n",
    "- calculate $M$\n",
    "- create an empty energy array of length $M$\n",
    "- in a `for` loop, calculate each value for $E[m]$ and assign it to the proper location in the energy array.\n",
    "- return the array.\n",
    "\n",
    "Plot the energy result. Try different values for $N$ and $H$ and find two that seem to work well."
   ]
  },
  {
   "cell_type": "code",
   "execution_count": null,
   "metadata": {},
   "outputs": [],
   "source": [
    "def calc_energy_feature(x, win_len, hop_size):\n",
    "    pass\n"
   ]
  },
  {
   "cell_type": "code",
   "execution_count": null,
   "metadata": {},
   "outputs": [],
   "source": [
    "connect_to_queue()"
   ]
  },
  {
   "cell_type": "markdown",
   "metadata": {},
   "source": [
    "## Exercise 4\n",
    "\n",
    "We now convert the energy signal into a _Energy Novetly Function_ (ENF):\n",
    "\n",
    "$$\\Delta[n] = \\vert E[n+1] - E[n] \\vert_{\\ge 0}$$\n",
    "\n",
    "In other words, take the discrete-time derivative of $E[n]$. Then, set all negative values to 0. This can be done  by using boolean indexing as shown in the example below.\n",
    "\n",
    "- Create the ENF based on the forumla above\n",
    "- Plot it for the energy of $x[n]$"
   ]
  },
  {
   "cell_type": "code",
   "execution_count": null,
   "metadata": {},
   "outputs": [],
   "source": [
    "a = np.arange(8)\n",
    "a[a < 5] = 99\n",
    "print(a)\n",
    "\n",
    "# calculate the energy novelty function from an energy feature signal\n",
    "def calc_enf(x):\n",
    "    pass"
   ]
  },
  {
   "cell_type": "code",
   "execution_count": null,
   "metadata": {},
   "outputs": [],
   "source": [
    "connect_to_queue()"
   ]
  },
  {
   "cell_type": "markdown",
   "metadata": {},
   "source": [
    "## Exercise 5\n",
    "\n",
    "Hopefully, your ENF plot has a number of sharp peaks. To find the locations of these peaks, we use the peak detection function below.\n",
    "\n",
    "- Use `fmp.find_peaks(x, thresh)` to locate the peaks of your ENF.\n",
    "- Plot the peaks on top of the ENF. There are a few ways to visualize peaks. I like placing a red circle at the peak location. `plt.plot(xs, ys, 'ro')` will place a red 'o' at the locations specified by `xs` and `ys` (a point at `(xs[0], ys[0])`, `(xs[1], ys[1])`, etc...). \n",
    "- Run the code several times with different values for `thresh` so that you get \"just the good peaks\".\n"
   ]
  },
  {
   "cell_type": "code",
   "execution_count": null,
   "metadata": {},
   "outputs": [],
   "source": []
  },
  {
   "cell_type": "code",
   "execution_count": null,
   "metadata": {},
   "outputs": [],
   "source": [
    "connect_to_queue()"
   ]
  },
  {
   "cell_type": "markdown",
   "metadata": {},
   "source": [
    "## Exercise 6\n",
    "\n",
    "Now that we have good peak locations for onsets, we will synthesize a click track corresponding to the peaks.\n",
    "\n",
    "Create a function `sonify(locs, snd)` which will place copies of the waveform `snd` at each location specified by `locs`.\n",
    "- Create an output array of zeros (`np.zeros`) of the appropriate length. \n",
    "- Loop through each sample in `locs` and add `snd` into the proper location of the output array.\n",
    "- Important: the `locs` array must be in units of the sample rate (22050). But the peaks you generated are sampled at a different rate.\n",
    "\n",
    "You can listen to the resulting clicks with `Audio()`.  \n",
    "\n",
    "Even better is listening to the original audio `x` and the click track at the same time. To do that, provide a list of two arrays to `Audio()`, and you will hear each array from a different speaker. Note that both arrays must be of the same length.\n"
   ]
  },
  {
   "cell_type": "code",
   "execution_count": null,
   "metadata": {},
   "outputs": [],
   "source": [
    "fs = 22050\n",
    "click_wav = fmp.load_wav('audio/click.wav')\n",
    "\n",
    "def sonify(locs, snd):\n",
    "    pass\n"
   ]
  },
  {
   "cell_type": "markdown",
   "metadata": {},
   "source": [
    "You may now do a checkoff, but continue on to Exercise 8 if you have time."
   ]
  },
  {
   "cell_type": "code",
   "execution_count": null,
   "metadata": {},
   "outputs": [],
   "source": [
    "connect_to_queue('checkoff')"
   ]
  },
  {
   "cell_type": "markdown",
   "metadata": {},
   "source": [
    "## Exercise 7\n",
    "\n",
    "If you listen very carefully, you may notice that the click sounds are a tiny bit off from the music. If you can't hear this, increase `win_len` to make the effect more pronounced.\n",
    "\n",
    "Why are the click sounds a bit off? How can this be fixed? \n",
    "\n",
    "Try making some adjustments in the code to fix this issue."
   ]
  },
  {
   "cell_type": "code",
   "execution_count": null,
   "metadata": {},
   "outputs": [],
   "source": []
  }
 ],
 "metadata": {
  "kernelspec": {
   "display_name": "Python 3",
   "language": "python",
   "name": "python3"
  },
  "language_info": {
   "codemirror_mode": {
    "name": "ipython",
    "version": 3
   },
   "file_extension": ".py",
   "mimetype": "text/x-python",
   "name": "python",
   "nbconvert_exporter": "python",
   "pygments_lexer": "ipython3",
   "version": "3.9.1"
  }
 },
 "nbformat": 4,
 "nbformat_minor": 1
}
