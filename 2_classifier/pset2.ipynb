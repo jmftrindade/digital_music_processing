{
 "cells": [
  {
   "cell_type": "markdown",
   "metadata": {},
   "source": [
    "# 21M.387 Fundamentals of Music Processing\n",
    "## Problem Set 2: Simpler Classifier"
   ]
  },
  {
   "cell_type": "code",
   "execution_count": null,
   "metadata": {},
   "outputs": [],
   "source": [
    "import numpy as np\n",
    "import matplotlib.pyplot as plt\n",
    "import IPython.display as ipd\n",
    "from ipywidgets import interact\n",
    "import sys\n",
    "sys.path.append(\"..\")\n",
    "import fmplib as fmp\n",
    "\n",
    "plt.rcParams['figure.figsize'] = (12, 4)\n",
    "fmp.documentation_button()"
   ]
  },
  {
   "cell_type": "markdown",
   "metadata": {},
   "source": [
    "## Exercise 1\n",
    "\n",
    "The following is a continuous-time signal $x_c(t)$.\n",
    "\n",
    "![](data/ex1a.png)\n",
    "\n",
    "If $x_c(t)$ is sampled with a periodicity of $T = 0.04$ seconds, thereby creating a discrete-time (DT) signal $x[n]$, what values of $n$ correspond to:  \n",
    "a)  the first peak value  \n",
    "b)  the first zero-crossing  \n"
   ]
  },
  {
   "cell_type": "code",
   "execution_count": null,
   "metadata": {},
   "outputs": [],
   "source": [
    "# answer"
   ]
  },
  {
   "cell_type": "markdown",
   "metadata": {},
   "source": [
    "The following DT signal $x[n]$ was sampled from a continuous signal $x_c(t)$ at a sampling rate of $F_s = 150$Hz. \n",
    "\n",
    "![](data/ex1b.png)\n",
    "\n",
    "When (in seconds) did the following occur in $x_c(t)$:  \n",
    "a)  the second peak value  \n",
    "b)  the second zero-crossing  \n"
   ]
  },
  {
   "cell_type": "code",
   "execution_count": null,
   "metadata": {},
   "outputs": [],
   "source": [
    "# answer"
   ]
  },
  {
   "cell_type": "markdown",
   "metadata": {
    "collapsed": true
   },
   "source": [
    "## Exercise 2\n",
    "\n",
    "You have an audio signal $x[n]$, sampled at a sampling rate $F_s$. You create an energy feature signal $E^x[n]$ using a centered window length of $N$ and a hop size of $H$. Consider the following parameter chocies:  \n",
    "1. $F_s = 22050, N = 1000, H = 500$\n",
    "2. $F_s = 44100, N = 1024, H = 441$\n",
    "3. $F_s = 8000,  N = 2048, H = 256$\n",
    "\n",
    "For each of these parameters, calculate:\n",
    "- the feature rate $F_f$ of the energy signal  \n",
    "- the sampling period of the energy signal  \n",
    "- the time (in seconds) corresponding to $E^x[300]$."
   ]
  },
  {
   "cell_type": "code",
   "execution_count": null,
   "metadata": {},
   "outputs": [],
   "source": [
    "# answers"
   ]
  },
  {
   "cell_type": "markdown",
   "metadata": {},
   "source": [
    "## Exercise 3\n",
    "\n",
    "1. Describe what happens to $E^x[n]$, relatively speaking, when you increase or decrease the hop size $H$.\n",
    "2. Describe what happens to $E^x[n]$, relatively speaking, when you increase or decrease the window length $L$.\n",
    "3. What happens if $H > L$\n"
   ]
  },
  {
   "cell_type": "markdown",
   "metadata": {},
   "source": [
    "Answers:"
   ]
  },
  {
   "cell_type": "markdown",
   "metadata": {},
   "source": [
    "## Exercise 4a\n",
    "\n",
    "Write the function `find_peaks(x, thresh)`, as described in Lecture, where:  \n",
    "\n",
    "Inputs:\n",
    "- `x` is the input signal\n",
    "- `thresh` is a threshold value $\\rho \\in [0,1]$  \n",
    "\n",
    "Output:\n",
    "- an array of indices $P$ corresponding to the peak locations\n",
    "\n",
    "Peaks are defined as:\n",
    "$P = (p_1, p_2, \\cdots, p_L)$ where $p_n$ is a peak if:\n",
    "$$ x[p_n] > x[p_n - 1] \\wedge x[p_n] > x[p_n + 1] $$\n",
    "\n",
    "Additionally, filter out any peaks that are smaller than $ \\max(x[n]) \\cdot \\rho $."
   ]
  },
  {
   "cell_type": "code",
   "execution_count": null,
   "metadata": {},
   "outputs": [],
   "source": [
    "def find_peaks(x, thresh):\n",
    "    pass"
   ]
  },
  {
   "cell_type": "markdown",
   "metadata": {},
   "source": [
    "Test your code below and try different threshold values."
   ]
  },
  {
   "cell_type": "code",
   "execution_count": null,
   "metadata": {},
   "outputs": [],
   "source": [
    "x4 = np.load('data/ex4.npy')\n",
    "peaks = find_peaks(x4, 0)\n",
    "\n",
    "plt.figure()\n",
    "plt.plot(x4)\n",
    "plt.plot(peaks, x4[peaks], 'ro');"
   ]
  },
  {
   "cell_type": "markdown",
   "metadata": {},
   "source": [
    "## Exercise 4b\n",
    "\n",
    "- What value of `thresh` filters out the \"garbage\" peaks near 0?\n",
    "- What value of `thresh` returns just the highest peaks?"
   ]
  },
  {
   "cell_type": "code",
   "execution_count": null,
   "metadata": {},
   "outputs": [],
   "source": [
    "# answer:\n"
   ]
  },
  {
   "cell_type": "markdown",
   "metadata": {},
   "source": [
    "## Exercise 5\n",
    "\n",
    "The code below finds the number of zero crossings in a signal. Run the example and see how long it takes to run this code."
   ]
  },
  {
   "cell_type": "code",
   "execution_count": null,
   "metadata": {},
   "outputs": [],
   "source": [
    "def num_zerocrossings_slow(x) :\n",
    "    count = 0\n",
    "    for i in range(len(x)-1) :\n",
    "        if (x[i] > 0 and x[i+1] <= 0) or (x[i] < 0 and x[i+1] >=0):\n",
    "            count += 1\n",
    "    return count"
   ]
  },
  {
   "cell_type": "code",
   "execution_count": null,
   "metadata": {},
   "outputs": [],
   "source": [
    "x5 = fmp.load_wav('audio/kick_snare.wav', 1.4, 1.45)\n",
    "plt.plot(x5)\n",
    "plt.grid()\n",
    "plt.show()\n",
    "\n",
    "print( num_zerocrossings_slow(x5) )"
   ]
  },
  {
   "cell_type": "code",
   "execution_count": null,
   "metadata": {},
   "outputs": [],
   "source": [
    "%timeit -n200 num_zerocrossings_slow(x5)"
   ]
  },
  {
   "cell_type": "markdown",
   "metadata": {},
   "source": [
    "Write a more optimized version of this function below. How much faster is your optimized version?\n",
    "\n",
    "Hint1: You can avoid the python `for` loop entirely.  \n",
    "Hint2: You can think of a zero-crossing as the signal changing sign (from positive to negative or negative to positive). What mathematical operation and inequality test can be used to determine a sign change? "
   ]
  },
  {
   "cell_type": "code",
   "execution_count": null,
   "metadata": {},
   "outputs": [],
   "source": [
    "def num_zerocrossings(x) :\n",
    "    pass"
   ]
  },
  {
   "cell_type": "markdown",
   "metadata": {},
   "source": [
    "## Exercise 6\n",
    "\n",
    "Write the function `calc_zc(x, win_len, hop_size)` to return a zero-crossing feature. It should take as inputs:\n",
    "- the signal $x$\n",
    "- the window length $N$\n",
    "- the hop size $H$\n",
    "\n",
    "The output should be a _normalized_ zero-crossing feature.  \n",
    "Make sure that your function uses a _centered window_ by using the zero-padding trick."
   ]
  },
  {
   "cell_type": "code",
   "execution_count": null,
   "metadata": {},
   "outputs": [],
   "source": [
    "def calc_zc(x, win_len, hop_size) :\n",
    "    pass"
   ]
  },
  {
   "cell_type": "markdown",
   "metadata": {},
   "source": [
    "Now listen to the test signal below and plot the zc feature signal generated by your function.\n",
    "\n",
    "Use $N = 1000$ and $H = 500$.\n"
   ]
  },
  {
   "cell_type": "code",
   "execution_count": null,
   "metadata": {},
   "outputs": [],
   "source": [
    "x6 = fmp.load_wav(\"audio/zc_test.wav\")\n",
    "fs = 22050"
   ]
  },
  {
   "cell_type": "markdown",
   "metadata": {},
   "source": [
    "## Exercise 7a\n",
    "\n",
    "Listen to the following piece of audio. It has 4 different types of drum sounds (Kick Drum, Low Tom, High Tom, Snare)."
   ]
  },
  {
   "cell_type": "code",
   "execution_count": null,
   "metadata": {},
   "outputs": [],
   "source": [
    "x7 = fmp.load_wav(\"audio/drum_hits.wav\")\n",
    "fs = 22050\n",
    "ipd.Audio(x7, rate=fs)"
   ]
  },
  {
   "cell_type": "markdown",
   "metadata": {},
   "source": [
    "Write the function `calc_onsets(x)` that returns the locations of the onsets in the piece of audio. You can use existing functions for calculating energy, ENF, and finding peaks from lab2 and `fmplib`. Tune the parameters until you get all the onsets without any missing or extra values. Return the list in units of the audio sampling rate $F_s = 22050$ (so, for example, if the first drum hit happend exactly at time = 0.5s, then the `calc_onsets(x)[0] == 11025`) \n",
    "\n",
    "Then, plot the waveform and the location of the onsets on the same plot to make sure you got it right."
   ]
  },
  {
   "cell_type": "code",
   "execution_count": null,
   "metadata": {},
   "outputs": [],
   "source": [
    "def calc_onsets(x):\n",
    "    pass"
   ]
  },
  {
   "cell_type": "markdown",
   "metadata": {},
   "source": [
    "## Exercise 7b\n",
    "\n",
    "For the first 4 onsets, plot the waveform of the drum hit, starting from the onset location, and lasting 200 milliseconds"
   ]
  },
  {
   "cell_type": "code",
   "execution_count": null,
   "metadata": {},
   "outputs": [],
   "source": [
    "# make plots"
   ]
  },
  {
   "cell_type": "markdown",
   "metadata": {},
   "source": [
    "## Exercise 8\n",
    "\n",
    "Now that you can see what the waveforms looks like, create a classifier that distinguishes between the four different drum types. Use zero-crossing to help you in this task. However note that the zero-crossing feature is unreliable during periods of near-silence. Make your classifier avoid this problem for more accurate results.\n",
    "\n",
    "Write the function `classify_onsets(x, onsets)`:\n",
    "\n",
    "Inputs:  \n",
    "- `x`: the original signal\n",
    "- `onsets`: the onsets that you calculated in Exercise 6\n",
    "\n",
    "Outputs:\n",
    "- a list of integers $(0 <= i < 4)$ that identify the drum type for that onset: {0:kick, 1: low-tom, 2: high-tom, 3: snare} "
   ]
  },
  {
   "cell_type": "code",
   "execution_count": null,
   "metadata": {},
   "outputs": [],
   "source": [
    "def classify_onsets(x, onsets):\n",
    "    pass"
   ]
  },
  {
   "cell_type": "code",
   "execution_count": null,
   "metadata": {},
   "outputs": [],
   "source": [
    "onset_types = classify_onsets(x7, onsets)\n",
    "print(onset_types)"
   ]
  },
  {
   "cell_type": "markdown",
   "metadata": {},
   "source": [
    "## Exercise 9\n",
    "\n",
    "Now that you have the locations and types of the drums, synthesize an audio track of these drum sounds at the proper locations by writing the function `synthesize_drums(onsets, types)`\n",
    "\n",
    "Inputs:\n",
    "- `onsets`: the locations of onsets, as returned by `calc_onsets()`\n",
    "- `types`: an array of the types of onsets corresponding to `onsets`, as returned by `classify_onsets()`\n",
    "- Use the `*.snd` sounds below as global variables to generate the synthetic sounds.\n",
    "\n",
    "Output:\n",
    "- an audio waveform that can be played with `ipd.Audio()`.\n",
    "\n",
    "Then, \n",
    "- Play that synthesized drum track.\n",
    "- Compare this to the original track. How did you do?"
   ]
  },
  {
   "cell_type": "code",
   "execution_count": null,
   "metadata": {},
   "outputs": [],
   "source": [
    "kick_snd = fmp.load_wav('audio/kick.wav')\n",
    "low_snd = fmp.load_wav('audio/low.wav')\n",
    "high_snd = fmp.load_wav('audio/high.wav')\n",
    "snare_snd = fmp.load_wav('audio/snare.wav')\n",
    "\n",
    "def synthesize_drums(onsets, types):\n",
    "    pass"
   ]
  },
  {
   "cell_type": "markdown",
   "metadata": {},
   "source": [
    "Now use `synthesize_drums()` to create the same drum pattern, but played twice as fast by modifying the locations of the onsets."
   ]
  },
  {
   "cell_type": "code",
   "execution_count": null,
   "metadata": {},
   "outputs": [],
   "source": [
    "# answer:\n"
   ]
  }
 ],
 "metadata": {
  "kernelspec": {
   "display_name": "Python 3",
   "language": "python",
   "name": "python3"
  },
  "language_info": {
   "codemirror_mode": {
    "name": "ipython",
    "version": 3
   },
   "file_extension": ".py",
   "mimetype": "text/x-python",
   "name": "python",
   "nbconvert_exporter": "python",
   "pygments_lexer": "ipython3",
   "version": "3.9.1"
  }
 },
 "nbformat": 4,
 "nbformat_minor": 1
}
