{
 "cells": [
  {
   "cell_type": "markdown",
   "metadata": {},
   "source": [
    "# 21M.387 Fundamentals of Music Processing\n",
    "## Super Simple Kick/Snare Classifier\n",
    "\n",
    "In this lecture, we introduce a number of general concepts used in audio signal processing and analysis by way of creating a simple classifier that can detect kick-drum and snare-drum hits.\n"
   ]
  },
  {
   "cell_type": "code",
   "execution_count": null,
   "metadata": {},
   "outputs": [],
   "source": [
    "import numpy as np\n",
    "import matplotlib.pyplot as plt\n",
    "import IPython.display as ipd\n",
    "from ipywidgets import interact\n",
    "import sys\n",
    "sys.path.append(\"..\")\n",
    "import fmplib as fmp\n",
    "\n",
    "plt.rcParams['figure.figsize'] = (12, 4)\n",
    "fmp.documentation_button()"
   ]
  },
  {
   "cell_type": "markdown",
   "metadata": {},
   "source": [
    "<img src=\"images/mir_basic_process.png\">\n",
    "\n",
    "<font color='red'>__Whiteboard__</font>: Windowing"
   ]
  },
  {
   "cell_type": "markdown",
   "metadata": {},
   "source": [
    "Load an audio file with a simple kick / snare pattern.  \n",
    "Remember that we will use an audio sampling rate of $F_s = 22050Hz$, and all audio data will be 1-channel (mono)."
   ]
  },
  {
   "cell_type": "code",
   "execution_count": null,
   "metadata": {},
   "outputs": [],
   "source": [
    "KICK_SNARE = 'audio/kick_snare.wav'\n",
    "fs = 22050 # audio sampling rate (Hz)\n",
    "x = fmp.load_wav(KICK_SNARE)\n",
    "\n",
    "dur = len(x) / fs\n",
    "print(f'length: {len(x)} samples')\n",
    "print(f'duration: {dur:.2f} seconds')"
   ]
  },
  {
   "cell_type": "markdown",
   "metadata": {},
   "source": [
    "Plot:"
   ]
  },
  {
   "cell_type": "code",
   "execution_count": null,
   "metadata": {},
   "outputs": [],
   "source": [
    "time = np.arange(len(x)) / fs\n",
    "plt.figure()\n",
    "plt.plot(time, x)\n",
    "plt.xlabel(\"time (secs)\");"
   ]
  },
  {
   "cell_type": "markdown",
   "metadata": {},
   "source": [
    "Listen:"
   ]
  },
  {
   "cell_type": "code",
   "execution_count": null,
   "metadata": {},
   "outputs": [],
   "source": [
    "ipd.Audio(x, rate=fs)"
   ]
  },
  {
   "cell_type": "markdown",
   "metadata": {},
   "source": [
    "Or, use this helper function from `fmplib.py`"
   ]
  },
  {
   "cell_type": "code",
   "execution_count": null,
   "metadata": {},
   "outputs": [],
   "source": [
    "fmp.plot_and_listen(KICK_SNARE)"
   ]
  },
  {
   "cell_type": "markdown",
   "metadata": {},
   "source": [
    "### Energy Feature\n",
    "\n",
    "Raw audio samples by themselves are not that useful. To analyze them, we break up audio into a series of small chunks and derive some statistics about each chunk.\n",
    "\n",
    "We call this chunk of audio a _window_. We analyze that window of audio. Then we move on to the next window.\n",
    "\n"
   ]
  },
  {
   "cell_type": "code",
   "execution_count": null,
   "metadata": {},
   "outputs": [],
   "source": [
    "# basic parameters: window length and hop_size (by how much to slide the window)\n",
    "win_len = 200   # N\n",
    "hop_size = 100  # H"
   ]
  },
  {
   "cell_type": "markdown",
   "metadata": {},
   "source": [
    "Let's create a time-series for the energy for the above signal ($x$).\n",
    "\n",
    "Assuming:  \n",
    "The length of $x[n]$ is $L$.  \n",
    "The window length is $N$.  \n",
    "The hop size is $H$.  \n",
    "\n",
    "How long is this energy signal? (Or, how many frames is the energy signal)\n",
    "\n",
    "$$M = \\lceil {L \\over H} \\rceil $$"
   ]
  },
  {
   "cell_type": "code",
   "execution_count": null,
   "metadata": {},
   "outputs": [],
   "source": [
    "# test some examples / edge cases:\n",
    "test_lens = (550, 501, 500, 499, len(x))\n",
    "for L in test_lens:\n",
    "    M = fmp.calc_num_frames(L, hop_size)\n",
    "    print(f'len(x) = {L}. num_frames = {M}')"
   ]
  },
  {
   "cell_type": "markdown",
   "metadata": {},
   "source": [
    "$M$ is much less than the length of $x$.\n",
    "\n",
    "Now, let's create this energy time-series (or energy feature, or energy signal). The energy for a chunk of audio of length $N$ is:\n",
    "\n",
    "$E^x = \\sum_{n=0}^{N-1} x[n]^2 $\n",
    "\n",
    "The energy time-series with window length $N$ and hop size $H$ for the entire audio signal is:\n",
    "\n",
    "$E^x[m] = \\sum_{n=mH}^{mH+N-1} x(n)^2 $ for $m \\in [0, M-1]$\n",
    "\n",
    "We can also create a _normalized energy signal_, (or average energy signal) by dividing by the window length:\n",
    "\n",
    "$\\bar E^x[m] = \\frac{1}{N} \\sum_{n=mH}^{mH+N-1} x(n)^2 $ for $m \\in [0, M-1]$\n",
    "\n",
    "It is likely that we will run out of signal for the last few windows. In that case, zero-pad the end of $x[n]$ as needed."
   ]
  },
  {
   "cell_type": "code",
   "execution_count": null,
   "metadata": {},
   "outputs": [],
   "source": [
    "energy = fmp.calc_energy(x, win_len, hop_size, False)\n",
    "print(energy)\n",
    "print(len(energy))"
   ]
  },
  {
   "cell_type": "markdown",
   "metadata": {},
   "source": [
    "Just one more tweak to the above forumla. It is preferable that the window is _centered_ around $n$. In other words:\n",
    "\n",
    "$E^x = \\sum_{n=-N/2}^{N/2-1} x[n]^2 $\n",
    "\n",
    "<font color='red'>__Whiteboard__</font>: Centered Window\n",
    "\n",
    "We can achieve this effect in code by zero-padding the beginning of $x$ with $N/2$ zeros"
   ]
  },
  {
   "cell_type": "code",
   "execution_count": null,
   "metadata": {},
   "outputs": [],
   "source": [
    "N = 10\n",
    "H = 5\n",
    "win1 = np.zeros(20)\n",
    "win1[:N] = 1\n",
    "win2 = np.zeros(20)\n",
    "win2[H:N+H] = 1.1\n",
    "\n",
    "@interact(show_windows=False, zero_pad=False)\n",
    "def plotit(show_windows=False, zero_pad=False):\n",
    "    xx = np.array([.1,0,-.1,0,.1,.2,.8,-.7,.9,-.6,.7,-.8, .5, .2, -.7, -.1, .8, .3, -.5, -.1, .4, -.3, 0,0,0,0])\n",
    "\n",
    "    if zero_pad:\n",
    "        xx = np.concatenate((np.zeros(N//2), xx))\n",
    "    \n",
    "    plt.figure()\n",
    "    plt.stem(xx, basefmt='black')\n",
    "    if show_windows:\n",
    "        plt.plot(win1, 'r')\n",
    "        plt.plot(win2, 'g')\n",
    "    plt.ylim(-1.5, 1.5)\n",
    "    plt.xlim(0, 25)\n",
    "    plt.title('{}, N=10, H=5'.format(['non-centered', 'centered with zero-padding'][zero_pad]))\n",
    "    plt.show()\n"
   ]
  },
  {
   "cell_type": "markdown",
   "metadata": {},
   "source": [
    "### Sidebar: 0-base indexing vs 1-base indexing\n",
    "\n",
    "Warning: some mathematical formulas (as found in text books) are 0-base indexed, like $\\sum_{n=0}^{N-1}x[n]$.  Others are 1-base indexed, like $\\sum_{l=1}^{L}C(n_l, m_l)$.\n",
    "\n",
    "In code, Matlab indexing is 1-base. But python (and C-based languages) is 0-base. When iterating through a list in python, or slicing an array, the endpoint is not included."
   ]
  },
  {
   "cell_type": "markdown",
   "metadata": {},
   "source": [
    "### Back to the Energy Signal"
   ]
  },
  {
   "cell_type": "code",
   "execution_count": null,
   "metadata": {},
   "outputs": [],
   "source": [
    "plt.figure()\n",
    "plt.plot(energy);"
   ]
  },
  {
   "cell_type": "markdown",
   "metadata": {},
   "source": [
    "This energy signal is a time-series, just like the original audio, but it has a much lower implied sampling rate. This rate, sometimes called the _feature rate_ or _feature frequency_ is $F_f = \\frac{F_s}{H}$ samples per second."
   ]
  },
  {
   "cell_type": "code",
   "execution_count": null,
   "metadata": {},
   "outputs": [],
   "source": [
    "ff = fs / hop_size\n",
    "print(f'{ff:.3f}Hz')"
   ]
  },
  {
   "cell_type": "markdown",
   "metadata": {},
   "source": [
    "Let's see how this energy function changes with different values of $N$ and $H$."
   ]
  },
  {
   "cell_type": "code",
   "execution_count": null,
   "metadata": {},
   "outputs": [],
   "source": [
    "@interact(win_len=fmp.slider(100,2000), hop_size=fmp.slider(100,1000))\n",
    "def plot_energy(win_len=200, hop_size=100):\n",
    "    e = fmp.calc_energy(x, win_len, hop_size, centered=True)\n",
    "    plt.figure()\n",
    "    plt.plot(e)\n",
    "    plt.show()"
   ]
  },
  {
   "cell_type": "markdown",
   "metadata": {},
   "source": [
    "Reasonable values for $N$ and $H$ seem to be:  \n",
    "$N=1000$  \n",
    "$H=500$\n"
   ]
  },
  {
   "cell_type": "code",
   "execution_count": null,
   "metadata": {},
   "outputs": [],
   "source": [
    "win_len = 1000\n",
    "hop_size = 500"
   ]
  },
  {
   "cell_type": "markdown",
   "metadata": {},
   "source": [
    "### Onset Detection\n",
    "\n",
    "From this energy signal, we can try to locate note onsets. We look for a sharp increase in energy. We can measure an increase by looking for a positive derivative of the signal, and setting the negative derivative to 0. We call this an \"Energy Novelty Function\":\n",
    "\n",
    "$$\\Delta[n] = \\vert E^x[n+1] - E^x[n] \\vert_{\\ge 0}$$"
   ]
  },
  {
   "cell_type": "code",
   "execution_count": null,
   "metadata": {},
   "outputs": [],
   "source": [
    "def calc_enf(e):\n",
    "    pass\n",
    "# [livecode]\n",
    "    N = len(e) - 1\n",
    "    out = np.zeros(N)\n",
    "    for n in range(N):\n",
    "        out[n] = max(0, e[n+1] - e[n])\n",
    "    return out\n",
    "# [livecode]\n",
    "\n",
    "energy = fmp.calc_energy(x, win_len, hop_size)\n",
    "enf = calc_enf(energy)\n",
    "\n",
    "plt.figure()\n",
    "plt.plot(enf);"
   ]
  },
  {
   "cell_type": "markdown",
   "metadata": {},
   "source": [
    "### Sidebar: Optimization\n",
    "\n",
    "How long does it take to run `calc_enf(x)`?  \n",
    "We can use `%timeit` to find out how long it takes"
   ]
  },
  {
   "cell_type": "code",
   "execution_count": null,
   "metadata": {},
   "outputs": [],
   "source": [
    "%timeit -n1000 calc_enf(energy)"
   ]
  },
  {
   "cell_type": "markdown",
   "metadata": {},
   "source": [
    "Let's use list comprehension!"
   ]
  },
  {
   "cell_type": "code",
   "execution_count": null,
   "metadata": {},
   "outputs": [],
   "source": [
    "def calc_enf(e):\n",
    "    pass\n",
    "# [livecode]\n",
    "    N = len(e) - 1\n",
    "    return np.array( [max(0, e[n+1] - e[n]) for n in range(N)] )\n",
    "# [livecode]"
   ]
  },
  {
   "cell_type": "code",
   "execution_count": null,
   "metadata": {},
   "outputs": [],
   "source": [
    "%timeit -n1000 calc_enf(energy)"
   ]
  },
  {
   "cell_type": "markdown",
   "metadata": {},
   "source": [
    "How about using `if` instead of `max`?"
   ]
  },
  {
   "cell_type": "code",
   "execution_count": null,
   "metadata": {},
   "outputs": [],
   "source": [
    "def calc_enf(e):\n",
    "    pass\n",
    "# [livecode]\n",
    "    N = len(e) - 1\n",
    "    out = np.zeros(N)\n",
    "    for n in range(N):\n",
    "        d = e[n+1] - e[n]\n",
    "        if d > 0:\n",
    "            out[n] = d\n",
    "    return out\n",
    "# [livecode]\n"
   ]
  },
  {
   "cell_type": "code",
   "execution_count": null,
   "metadata": {},
   "outputs": [],
   "source": [
    "%timeit -n1000 calc_enf(energy)"
   ]
  },
  {
   "cell_type": "markdown",
   "metadata": {},
   "source": [
    "Let's avoid python loops altogether"
   ]
  },
  {
   "cell_type": "code",
   "execution_count": null,
   "metadata": {},
   "outputs": [],
   "source": [
    "def calc_enf(e):\n",
    "    pass\n",
    "# [livecode]    \n",
    "    de = e[1:] - e[:-1]\n",
    "    de[de<0] = 0\n",
    "    return de\n",
    "# [livecode]"
   ]
  },
  {
   "cell_type": "code",
   "execution_count": null,
   "metadata": {},
   "outputs": [],
   "source": [
    "%timeit -n1000 calc_enf(energy)"
   ]
  },
  {
   "cell_type": "markdown",
   "metadata": {},
   "source": [
    "### Back to $\\Delta[n]$"
   ]
  },
  {
   "cell_type": "code",
   "execution_count": null,
   "metadata": {},
   "outputs": [],
   "source": [
    "energy = fmp.calc_energy(x, win_len, hop_size)\n",
    "enf = calc_enf(energy)\n",
    "\n",
    "plt.figure()\n",
    "plt.plot(enf);"
   ]
  },
  {
   "cell_type": "markdown",
   "metadata": {},
   "source": [
    "The onsets are peaks of this function. Peak-picking is often done as one of the stages in an audio processing algorithm. The simplest form looks for local maxima:\n",
    "\n",
    "$P = (p_1, p_2, \\cdots, p_L)$ is a set of peaks of $x[n]$ where $p_n$ is a peak if:\n",
    "$$ x[p_n] > x[p_n - 1] \\wedge x[p_n] > x[p_n + 1] $$\n"
   ]
  },
  {
   "cell_type": "markdown",
   "metadata": {},
   "source": [
    "Applying peak peaking"
   ]
  },
  {
   "cell_type": "code",
   "execution_count": null,
   "metadata": {},
   "outputs": [],
   "source": [
    "energy = fmp.calc_energy(x, win_len, hop_size)\n",
    "enf = calc_enf(energy)\n",
    "onsets = fmp.find_peaks(enf)\n",
    "\n",
    "plt.figure()\n",
    "plt.plot(enf)\n",
    "plt.plot(onsets, enf[onsets], 'ro');"
   ]
  },
  {
   "cell_type": "markdown",
   "metadata": {},
   "source": [
    "Hmmm. Too many peaks found. We only want the big ones, so only keep a peak if:\n",
    "$$ x[p_n] > \\max( x[n] ) \\cdot \\rho $$ \n",
    "where $\\rho \\in [0, 1]$ is a threshold parameter.\n",
    "\n",
    "Try Again with $ \\rho = 0.10 $"
   ]
  },
  {
   "cell_type": "code",
   "execution_count": null,
   "metadata": {},
   "outputs": [],
   "source": [
    "onsets = fmp.find_peaks(enf, .1)\n",
    "plt.figure()\n",
    "plt.plot(enf)\n",
    "plt.plot(onsets, enf[onsets], 'ro');\n",
    "plt.show()"
   ]
  },
  {
   "cell_type": "markdown",
   "metadata": {},
   "source": [
    "Listen to the original audio against synthesized audio with clicks at peak locations"
   ]
  },
  {
   "cell_type": "code",
   "execution_count": null,
   "metadata": {},
   "outputs": [],
   "source": [
    "display(ipd.Audio(x, rate=fs))\n",
    "c = fmp.make_clicks(onsets*hop_size)\n",
    "display(ipd.Audio(c, rate=22050))"
   ]
  },
  {
   "cell_type": "markdown",
   "metadata": {},
   "source": [
    "### Zero Crossing Feature\n",
    "\n",
    "Another statistic we can calculate for a window of audio is known as the zero-crossing-rate: How many times the audio waveform crosses \"0\". \n",
    "\n",
    "<font color='red'>__Whiteboard__</font>: Zero Crossing"
   ]
  },
  {
   "cell_type": "markdown",
   "metadata": {},
   "source": [
    "Here is some code that does this."
   ]
  },
  {
   "cell_type": "code",
   "execution_count": null,
   "metadata": {},
   "outputs": [],
   "source": [
    "def num_zerocrossings(x) :\n",
    "    pass\n",
    "# [livecode]\n",
    "    count = 0\n",
    "    for i in range(len(x)-1) :\n",
    "        if (x[i] > 0 and x[i+1] <= 0) or (x[i] < 0 and x[i+1] >=0):\n",
    "            count += 1\n",
    "    return count\n",
    "# [livecode]"
   ]
  },
  {
   "cell_type": "markdown",
   "metadata": {},
   "source": [
    "Let's test it on a window of audio."
   ]
  },
  {
   "cell_type": "code",
   "execution_count": null,
   "metadata": {},
   "outputs": [],
   "source": [
    "x_test = x[7000:8000] # a small window of 1000 samples\n",
    "\n",
    "plt.figure()\n",
    "plt.axhline(0, color='black')\n",
    "plt.plot(x_test);"
   ]
  },
  {
   "cell_type": "code",
   "execution_count": null,
   "metadata": {},
   "outputs": [],
   "source": [
    "print(num_zerocrossings(x_test))"
   ]
  },
  {
   "cell_type": "markdown",
   "metadata": {},
   "source": [
    "It works!\n",
    "\n",
    "It can also be optimized. This will be a pset exercise."
   ]
  },
  {
   "cell_type": "markdown",
   "metadata": {},
   "source": [
    "Like we did with energy, let's create a (normalized) zc-feature with the same parameters:  \n",
    "$N=1000$  \n",
    "$H=500$\n"
   ]
  },
  {
   "cell_type": "code",
   "execution_count": null,
   "metadata": {},
   "outputs": [],
   "source": [
    "zc = fmp.calc_zc(x, win_len, hop_size)\n",
    "\n",
    "plt.figure(figsize=(12,8))\n",
    "plt.subplot(2,1,1)\n",
    "plt.plot(x)\n",
    "plt.xlim(0, len(x))\n",
    "plt.subplot(2,1,2)\n",
    "plt.plot(zc)\n",
    "plt.plot(onsets, zc[onsets], 'ro');\n",
    "plt.legend(('zero cross', 'onsets'))\n",
    "plt.xlim(0, len(zc));"
   ]
  },
  {
   "cell_type": "code",
   "execution_count": null,
   "metadata": {},
   "outputs": [],
   "source": [
    "ipd.Audio(x, rate=fs)"
   ]
  },
  {
   "cell_type": "markdown",
   "metadata": {},
   "source": [
    "What can we observe from this plot?\n",
    "\n",
    "- the discriminating information is in the zc-rate __after__ an onset\n",
    "- kicks generally have a medium zc-rate at the beginning and low zc-rate later\n",
    "- snares have a higher zc-rate\n",
    "- Why?\n"
   ]
  },
  {
   "cell_type": "markdown",
   "metadata": {},
   "source": [
    "### Classification of onsets\n",
    "\n",
    "Now that we detected the onsets, we classify them as either snares or kicks using the zero-cross feature.\n",
    "\n",
    "Let's compute the accumulated zc-signal over a small window of time (say 150ms) _after_ the onset."
   ]
  },
  {
   "cell_type": "code",
   "execution_count": null,
   "metadata": {},
   "outputs": [],
   "source": [
    "# what is the inspection window size (in samples)?\n",
    "note_win_len = 0 # ??\n",
    "# [livecode]\n",
    "ff = fs / hop_size\n",
    "print(f'feature rate: {ff} Hz')\n",
    "\n",
    "note_win_len = int(round(.150 * ff))\n",
    "print('window len:', note_win_len)"
   ]
  },
  {
   "cell_type": "code",
   "execution_count": null,
   "metadata": {},
   "outputs": [],
   "source": [
    "def calc_ave_at_onset(onsets, x, w_len) :\n",
    "    \"for each onset, return the average value of x for a window of length w_len\"\n",
    "    \n",
    "    # create the output vector\n",
    "    output = np.empty(len(onsets))\n",
    "\n",
    "    for i,p in enumerate(onsets):\n",
    "        output[i] = np.sum(x[p : p+w_len]) / float(w_len)\n",
    "\n",
    "    return output\n",
    "\n",
    "hit_value = calc_ave_at_onset(onsets, zc, note_win_len)"
   ]
  },
  {
   "cell_type": "markdown",
   "metadata": {},
   "source": [
    "And now, let's have a look:"
   ]
  },
  {
   "cell_type": "code",
   "execution_count": null,
   "metadata": {},
   "outputs": [],
   "source": [
    "plt.figure()\n",
    "plt.plot(energy)\n",
    "plt.plot(zc)\n",
    "plt.plot(onsets, hit_value, 'ro')\n",
    "plt.legend(('energy', 'zero cross', 'ave zc-rate after onset'))\n",
    "plt.ylim(0, .2);"
   ]
  },
  {
   "cell_type": "markdown",
   "metadata": {},
   "source": [
    "Let's package it all up as one function:"
   ]
  },
  {
   "cell_type": "code",
   "execution_count": null,
   "metadata": {},
   "outputs": [],
   "source": [
    "def kick_snare_detection(filepath) :\n",
    "    fs = 22050\n",
    "\n",
    "    win_len = 1000\n",
    "    hop_size = 500\n",
    "    peaks_thresh = .10\n",
    "    win_len_sec = .150\n",
    "    note_win_len = int(round(win_len_sec * fs / hop_size))\n",
    "    \n",
    "    x = fmp.load_wav(filepath)\n",
    "    energy = fmp.calc_energy(x, win_len, hop_size)\n",
    "    enf = calc_enf(energy)\n",
    "    zc = fmp.calc_zc(x, win_len, hop_size)\n",
    "    onsets = fmp.find_peaks(enf, peaks_thresh)\n",
    "    hit_value = calc_ave_at_onset(onsets, zc, note_win_len)\n",
    "    \n",
    "    # show results\n",
    "    plt.figure(figsize=(14,3))\n",
    "    plt.plot(x)\n",
    "    plt.xlim(0, len(x))\n",
    "    plt.figure(figsize=(14,3))\n",
    "    ratio = np.max(zc) / np.max(energy)\n",
    "    plt.plot(energy * ratio)\n",
    "    plt.plot(zc)\n",
    "    plt.plot(onsets, hit_value, 'ro')\n",
    "    plt.legend(('energy', 'zero cross', 'ave zc at onset'))\n",
    "    plt.xlim(0, len(energy))\n",
    "    \n",
    "    # play audio \n",
    "    return ipd.Audio(x, rate=fs)"
   ]
  },
  {
   "cell_type": "markdown",
   "metadata": {},
   "source": [
    "Try another audio file:"
   ]
  },
  {
   "cell_type": "code",
   "execution_count": null,
   "metadata": {},
   "outputs": [],
   "source": [
    "TEST_REC = 'audio/thump_clap.wav'"
   ]
  },
  {
   "cell_type": "code",
   "execution_count": null,
   "metadata": {},
   "outputs": [],
   "source": [
    "kick_snare_detection(TEST_REC)"
   ]
  },
  {
   "cell_type": "markdown",
   "metadata": {},
   "source": [
    "### Conclusion\n",
    "\n",
    "- This is a fun and simple introduction to many audio processing concepts: windowing, feature extraction, signal pipeline, etc...\n",
    "- Energy measurement can be improved.\n",
    "- Onset detection function can be improved.\n",
    "- Zero-crossing is a \"cheap feature\", but the main idea behind it, signal frequency, can be calculated in a more sophisticated way."
   ]
  },
  {
   "cell_type": "code",
   "execution_count": null,
   "metadata": {},
   "outputs": [],
   "source": []
  }
 ],
 "metadata": {
  "kernelspec": {
   "display_name": "Python 3",
   "language": "python",
   "name": "python3"
  },
  "language_info": {
   "codemirror_mode": {
    "name": "ipython",
    "version": 3
   },
   "file_extension": ".py",
   "mimetype": "text/x-python",
   "name": "python",
   "nbconvert_exporter": "python",
   "pygments_lexer": "ipython3",
   "version": "3.9.1"
  },
  "widgets": {
   "state": {
    "8e8b0dfe47b84e30afaf756f33383dd8": {
     "views": [
      {
       "cell_index": 25
      }
     ]
    }
   },
   "version": "1.2.0"
  }
 },
 "nbformat": 4,
 "nbformat_minor": 1
}
