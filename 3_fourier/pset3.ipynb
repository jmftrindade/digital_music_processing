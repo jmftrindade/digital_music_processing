{
 "cells": [
  {
   "cell_type": "markdown",
   "metadata": {},
   "source": [
    "# 21M.387 Fundamentals of Music Processing\n",
    "## Problem Set 3: Fourier Transforms\n",
    "\n",
    "Make sure all your answers and plots display when the code block is run. You can leave word-based answers in code comments or markdown cells.\n",
    "\n",
    "You may use any fmplib functions from __previous__ units in your answers. You may __not__ use any fmplib functions from the current unit in your answers (unless explicitly noted). But you can use the current unit's fmplib for testing your code."
   ]
  },
  {
   "cell_type": "code",
   "execution_count": 1,
   "metadata": {},
   "outputs": [
    {
     "data": {
      "text/html": [
       "<button onclick=\"Jupyter.notebook.kernel.execute('fmp.open_documentation()')\">Open fmplib Documentation</button>"
      ],
      "text/plain": [
       "<IPython.core.display.HTML object>"
      ]
     },
     "metadata": {},
     "output_type": "display_data"
    }
   ],
   "source": [
    "import numpy as np\n",
    "import matplotlib.pyplot as plt\n",
    "import IPython.display as ipd\n",
    "from ipywidgets import interact\n",
    "import sys\n",
    "sys.path.append(\"..\")\n",
    "import fmplib as fmp\n",
    "\n",
    "plt.rcParams['figure.figsize'] = (12, 6)\n",
    "plt.rcParams['image.interpolation'] = 'nearest'\n",
    "fmp.documentation_button()"
   ]
  },
  {
   "cell_type": "markdown",
   "metadata": {},
   "source": [
    "## Exercise 1\n",
    "\n",
    "Consider this function:\n",
    "\n",
    "$x(t) = A \\cos(\\omega t + \\phi)$.  \n",
    "with the parameters: $A=3$. $\\omega=8 \\pi$. $\\phi= \\pi / 4$.\n",
    "\n",
    "Use numpy to create a signal $x_1[n]$ that is sampled from the first 4 seconds of $x(t)$ at a sampling rate of $F_s = 100$Hz.\n",
    "\n",
    "Store your answer in the variable `x1`"
   ]
  },
  {
   "cell_type": "code",
   "execution_count": 5,
   "metadata": {},
   "outputs": [],
   "source": [
    "# sinusoid params\n",
    "A = 3\n",
    "v = 8 * np.pi\n",
    "ph = np.pi / 4\n",
    "\n",
    "# sampling params\n",
    "t = 4\n",
    "fs = 100\n",
    "\n",
    "def make_cosine(A, v, ph, t, fs):\n",
    "    T = np.linspace(0, t, t*fs)\n",
    "    return A * np.cos(v*T + ph)\n",
    "\n",
    "x1 = make_cosine(A, v, ph, t, fs)"
   ]
  },
  {
   "cell_type": "markdown",
   "metadata": {},
   "source": [
    "Use `matplotlib` to make two plots of $x_1$.\n",
    "\n",
    "In the first graph plot $x[n]$, where the x-axis shows the sample number $n$. Label the $x$ axis appropriately.  \n",
    "In the second graph plot $x(t)$. The curve will look the same, but the $x$ axis should show time in seconds. Label the $x$ axis appropriately."
   ]
  },
  {
   "cell_type": "code",
   "execution_count": null,
   "metadata": {},
   "outputs": [],
   "source": [
    "# make 2 plots\n"
   ]
  },
  {
   "cell_type": "markdown",
   "metadata": {},
   "source": [
    "## Exercise 2\n",
    "\n",
    "Use numpy's fft function (`np.fft.fft`) to create $X_1[k]$, the Discrete Fourier Transform of $x_1[n]$ from Exercise 1.\n",
    "\n",
    "Make two plots of $X_1[k]$: the magnitude $\\lvert X_1[k] \\lvert$ and the phase $\\angle X_1[k]$. For the phase plot to look good, set its values to zero for all points where the magnitude of $X_1[k]$ is negligible.\n"
   ]
  },
  {
   "cell_type": "code",
   "execution_count": null,
   "metadata": {},
   "outputs": [],
   "source": [
    "# fft and plots\n"
   ]
  },
  {
   "cell_type": "markdown",
   "metadata": {},
   "source": [
    "a) Describe the symmetry properties of the DFT magnitude and phase plots.  \n",
    "b) How is the energy of the original signal distributed across the frequency bins in the magnitude plot?"
   ]
  },
  {
   "cell_type": "markdown",
   "metadata": {},
   "source": [
    "Answer:\n",
    "\n",
    "a) ...\n",
    "\n",
    "b) ..."
   ]
  },
  {
   "cell_type": "markdown",
   "metadata": {},
   "source": [
    "c) What is the location, $k$, of the first peak of $\\lvert X_1[k] \\lvert$ from your plot?  \n",
    "d) Calculate the frequency $f$ that corresponds to this value of $k$. Show your calculations in python below."
   ]
  },
  {
   "cell_type": "code",
   "execution_count": null,
   "metadata": {},
   "outputs": [],
   "source": [
    "# peak location\n",
    "X1_k = 0 # fill in correct answer\n",
    "\n",
    "# calcualte f associated with X1_k\n",
    "f_k = 0 # fill in correct answer"
   ]
  },
  {
   "cell_type": "markdown",
   "metadata": {},
   "source": [
    "## Exercise 3\n",
    "\n",
    "Reproduce the following two signals, $x_{3a}$ and $x_{3b}$ by observing the given plots and creating the correct sinusoidal functions.  \n",
    "For each signal, use a sampling rate of $F_s = 100$.  \n",
    "[Hint: test that you got the signals right by plotting them and comparing to the given graphs below]\n",
    "![](data/ex3a.png)\n",
    "![](data/ex3b.png)\n",
    "\n"
   ]
  },
  {
   "cell_type": "code",
   "execution_count": null,
   "metadata": {},
   "outputs": [],
   "source": [
    "# replace with correct answers\n",
    "x3a = np.zeros(0)\n",
    "x3b = np.zeros(0)"
   ]
  },
  {
   "cell_type": "markdown",
   "metadata": {},
   "source": [
    "Now create and plot the magnitude of the DFT for signals $x_{3a}$ and $x_{3b}$. "
   ]
  },
  {
   "cell_type": "code",
   "execution_count": null,
   "metadata": {},
   "outputs": [],
   "source": [
    "# two plots\n"
   ]
  },
  {
   "cell_type": "markdown",
   "metadata": {},
   "source": [
    "Notice that one plot looks \"clean\" while the other has \"spectral leakage\". Why is this the case?"
   ]
  },
  {
   "cell_type": "markdown",
   "metadata": {},
   "source": [
    "Answer:"
   ]
  },
  {
   "cell_type": "markdown",
   "metadata": {
    "collapsed": true
   },
   "source": [
    "## Exercise 4\n",
    "\n",
    "Note the following discrete-time functions $f_1, f_2, f_3$, and $g_1, g_2, g_3$.  \n",
    "For each pair $f_n$ and $g_m$ (9 pairs total), compute the similarity measure between the two functions by using the dot product (i.e, summation of point-by-point-products): $\\langle f,g\\rangle = \\sum_{n=0}^{15} f[n]g[n]$.\n",
    "![](data/ex4a.png)\n",
    "![](data/ex4b.png)\n"
   ]
  },
  {
   "cell_type": "code",
   "execution_count": null,
   "metadata": {},
   "outputs": [],
   "source": [
    "# print or calcuate the answers here\n"
   ]
  },
  {
   "cell_type": "markdown",
   "metadata": {},
   "source": [
    "What does it mean when a similarity measurement is:  \n",
    "a) highly positive?  \n",
    "b) highly negative?  \n",
    "c) zero or close to zero?  "
   ]
  },
  {
   "cell_type": "markdown",
   "metadata": {},
   "source": [
    "Answer:\n"
   ]
  },
  {
   "cell_type": "markdown",
   "metadata": {},
   "source": [
    "## Exercise 5\n",
    "\n",
    "The plot below is zoomed in to show only the first 50 frequency bins of $\\lvert X[k] \\lvert$, the magnitude DFT of a signal $x[n]$ which was sampled from $x(t)$ (not shown). $x(t)$ is exactly 1.5 seconds long, and was sampled at a rate of $F_s = 400Hz$.  \n",
    "\n",
    "![](data/ex5.png)\n",
    "\n",
    "- What are the frequencies (in Hz) of the prominent sinusoidal components of $x(t)$?\n",
    "- What are the amplitudes of these sinusoids?\n",
    "- Is it possible to compute the phase of $x(t)$ from the given data? If so, what is the phase. If not, why not?\n",
    "\n",
    "Show your calculations in python.\n",
    "\n"
   ]
  },
  {
   "cell_type": "code",
   "execution_count": null,
   "metadata": {},
   "outputs": [],
   "source": [
    "# answers:\n"
   ]
  },
  {
   "cell_type": "markdown",
   "metadata": {},
   "source": [
    "## Exercise 6\n",
    "\n",
    "For the signal $x_6[n]$ below, you will use 3 different ways to find the magnitude and phase of $X_6[k]$, the DFT of $x_6[n]$, at $k=12$. All three methods should produce the same results.\n",
    "\n",
    "$N=256$ (the length of the $x_6[n]$). Run the code below to load $x_6$."
   ]
  },
  {
   "cell_type": "code",
   "execution_count": null,
   "metadata": {},
   "outputs": [],
   "source": [
    "# load x[n]:\n",
    "x6  = np.load('data/ex6.npy')\n",
    "N = len(x6)\n",
    "k = 12\n",
    "print(f'N = {N} k = {k}')\n",
    "plt.figure()\n",
    "plt.plot(x6);"
   ]
  },
  {
   "cell_type": "markdown",
   "metadata": {},
   "source": [
    "### Part 1\n",
    "\n",
    "Create a sinusoid probe $s_{k,\\phi}[n] = \\cos(2\\pi kn/N + \\phi)$ with the proper $k$. Take the dot product (ie, find the similarity measure) between this sinusoid and the signal $x_6$. Repeat this process for a large number of different phases $\\phi_t$ in the range $\\phi_t \\in [-\\pi, \\pi]$ to find the maximum value of $ \\langle x_6, s_{k,\\phi} \\rangle  $. Note the maximum magnitude and phase that created it.\n",
    "\n",
    "Use the phases array (below) as the phases to test."
   ]
  },
  {
   "cell_type": "code",
   "execution_count": null,
   "metadata": {},
   "outputs": [],
   "source": [
    "# phase quantities to try:\n",
    "test_phi = np.linspace(-np.pi, np.pi, 10000)\n",
    "\n",
    "# complete the code here:\n",
    "\n",
    "phi1 = 0\n",
    "mag1 = 0"
   ]
  },
  {
   "cell_type": "markdown",
   "metadata": {},
   "source": [
    "### Part 2\n",
    "\n",
    "For this part, use two sinusoid functions as probes:\n",
    "- $s_{1k}[n] = \\cos(2\\pi kn/N)$\n",
    "- $s_{2k}[n] = -\\sin(2\\pi kn/N)$  \n",
    "\n",
    "Use the dot product as well as the identities discussed in Lecture to derive the magnitude and phase of the DFT from these results."
   ]
  },
  {
   "cell_type": "code",
   "execution_count": null,
   "metadata": {},
   "outputs": [],
   "source": [
    "# complete the code here:\n",
    "\n",
    "phi2 = 0\n",
    "mag2 = 0"
   ]
  },
  {
   "cell_type": "markdown",
   "metadata": {},
   "source": [
    "### Part 3\n",
    "Finally, take the DFT of the signal (using `np.fft.fft`) to find the magnitude and phase at the given frequency index $k$."
   ]
  },
  {
   "cell_type": "code",
   "execution_count": null,
   "metadata": {},
   "outputs": [],
   "source": [
    "# complete the code here:\n",
    "\n",
    "phi3 = 0\n",
    "mag3 = 0"
   ]
  },
  {
   "cell_type": "markdown",
   "metadata": {},
   "source": [
    "## Exercise 7\n",
    "\n",
    "Observe the following signal $x_7[n]$. It is a \"chirp\" signal, where the frequency increases throughout the duration of the signal."
   ]
  },
  {
   "cell_type": "code",
   "execution_count": null,
   "metadata": {},
   "outputs": [],
   "source": [
    "# load x_7[n]:\n",
    "x7 = np.load('data/ex7.npy')\n",
    "\n",
    "plt.figure()\n",
    "plt.plot(x7);\n",
    "ipd.Audio(x7, rate=8000, normalize=False)"
   ]
  },
  {
   "cell_type": "markdown",
   "metadata": {},
   "source": [
    "We will now observe the effect of windowing this signal at different points in time with 2 different windows.\n",
    "\n",
    "Use a centered _rectangular_ window of length $N = 512$ at 3 locations: $n = 600$, $n = 1200$, $n = 3000$. For each windowed signal, plot the magnitude DFT. You can use the function `np.fft.rfft`, which is optimized for real-valued inputs. This function will return an array of length $(1 + N/2)$, thereby removing the redundant information in the DFT."
   ]
  },
  {
   "cell_type": "code",
   "execution_count": null,
   "metadata": {},
   "outputs": [],
   "source": [
    "# plots of the DFT of rectangular windows of x7 at 3 locations:\n",
    "\n"
   ]
  },
  {
   "cell_type": "markdown",
   "metadata": {},
   "source": [
    "Now plot the magnitude DFT at the same locations using a _Hann_ window (`np.hanning`) instead of a rectangular window"
   ]
  },
  {
   "cell_type": "code",
   "execution_count": null,
   "metadata": {},
   "outputs": [],
   "source": [
    "# plots of the DFT of hanning windows of x7 at 3 locations:\n",
    "\n"
   ]
  },
  {
   "cell_type": "markdown",
   "metadata": {},
   "source": [
    "Describe your observations of these plots. What are the differences between the first set and the second set, and why is this happening?"
   ]
  },
  {
   "cell_type": "markdown",
   "metadata": {},
   "source": [
    "Answer:\n",
    "\n"
   ]
  },
  {
   "cell_type": "markdown",
   "metadata": {},
   "source": [
    "## Exercise 8"
   ]
  },
  {
   "cell_type": "markdown",
   "metadata": {},
   "source": [
    "Consider a signal, 2 seconds long, whose Short Term Fourier Transform (STFT) is computed with the following parameter sets:  \n",
    "1) $F_s = 22050, N = 1024, H = 256$  \n",
    "2) $F_s = 48000, N = 1024, H = 512$  \n",
    "3) $F_s = 8000, N = 2048, H = 1024$  \n",
    "\n",
    "The windowing in this case is _non-centered_ (meaning, we don't zero-pad the beginning of the signal).\n",
    "\n",
    "For each STFT above, determine:  \n",
    "a) the frequency resolution of the STFT (in Hertz)  \n",
    "b) the time resolution of the STFT (in seconds)   \n",
    "c) the length (ie, the number of columns) of the STFT\n"
   ]
  },
  {
   "cell_type": "code",
   "execution_count": null,
   "metadata": {},
   "outputs": [],
   "source": [
    "# answer:\n"
   ]
  },
  {
   "cell_type": "markdown",
   "metadata": {},
   "source": [
    "## Exercise 9"
   ]
  },
  {
   "cell_type": "markdown",
   "metadata": {},
   "source": [
    "Write the function `stft(x, fft_len, hop_size)`, which creates the Short Time Fourier Transform of `x`.  \n",
    "\n",
    "Inputs:\n",
    "- `x`: the sampled time-domain signal $x$\n",
    "- `fft_len`: the length of the fft $N$\n",
    "- `hop_size`: the hop size $H$\n",
    "\n",
    "Output:\n",
    "- `np.array`: a matrix of complex numbers of size `(num_bins, num_hops)`.\n",
    "\n",
    "Implementation Notes:\n",
    "- Use the Hann window for your STFT function (`np.hanning`).  \n",
    "- Make the window a _centered window_ by zero-padding the beginning of $x$ appropriately.  \n",
    "- You can use a python `for` loop to iterate over each hop.  \n",
    "- Most of the time, the final window will be longer than the amount of signal you have left. Find a good way to deal with this case.\n",
    "- Since the Fourier Transform of a real signal is symmetric, the STFT should return only the first half of the FT. In other words, `num_bins` should be $(1 + N/2)$."
   ]
  },
  {
   "cell_type": "code",
   "execution_count": null,
   "metadata": {},
   "outputs": [],
   "source": [
    "def stft(x, fft_len, hop_size):\n",
    "    pass"
   ]
  },
  {
   "cell_type": "markdown",
   "metadata": {},
   "source": [
    "Test your function by loading a short piece of audio, creating the STFT, and plotting it. You can compare your results to `fmp.stft` to see how you did."
   ]
  },
  {
   "cell_type": "code",
   "execution_count": null,
   "metadata": {},
   "outputs": [],
   "source": []
  },
  {
   "cell_type": "markdown",
   "metadata": {},
   "source": [
    "## Exercise 10\n",
    "\n",
    "In your new role as _Inspector Spectrogram_, your job is to analyze mystery spectrograms and identify their parameters.\n",
    "\n",
    "A new spectrogram arrived at your desk today, with a note reading:  \n",
    "Beethoven's _Fur Elise_, played most beautifully at an average tempo of 110 BPM.\n",
    "\n",
    "You find the [music to Fur Elise](images/fur_elise.jpg) and realize that a \"beat\" here means 1 eighth note (3 beats per bar). You then inspect the spectrogram's size (rows X columns) and have a pretty good guess that this spectrogram was created using a STFT that keeps only the first half (plus 1) of the spectra's bins.\n",
    "\n",
    "Based only on the information you have been given, figure out the following:  \n",
    "\n",
    "- $N$, the length of the FFT window used in creating the Spectrogram (i.e., `fft_len`). $N$ is some power of 2.\n",
    "- $F_s$, the sample rate used in the audio recording. $F_s$ is a multiple of 1000.\n",
    "- $H$, the hop size used to create Spectrogram (i.e., `hop_size`). $H$ is a power of 2.\n",
    "\n",
    "Show all your work in detail, with the various plots and calculations that you used to figure out the three mystery values. Some of your answers will be approximations so you should round them to the most reasonable value."
   ]
  },
  {
   "cell_type": "code",
   "execution_count": null,
   "metadata": {},
   "outputs": [],
   "source": [
    "spec = np.load('data/ex10.npy')\n",
    "plt.imshow(spec, origin='lower', aspect='auto');"
   ]
  },
  {
   "cell_type": "markdown",
   "metadata": {},
   "source": [
    "\"Hmmm...\", you say to yourself. \"This is hard to read. I'll have to enhance this plot somehow... and probably also find a way to zoom in on the details...\""
   ]
  },
  {
   "cell_type": "code",
   "execution_count": null,
   "metadata": {},
   "outputs": [],
   "source": [
    "# calculations to find N, the fft length used to create the STFT\n",
    "N = None"
   ]
  },
  {
   "cell_type": "code",
   "execution_count": null,
   "metadata": {},
   "outputs": [],
   "source": [
    "# calculations to find the original sampling rate of the audio, fs\n",
    "fs = None"
   ]
  },
  {
   "cell_type": "code",
   "execution_count": null,
   "metadata": {},
   "outputs": [],
   "source": [
    "# calculations to find hop_size\n",
    "hop_size = None"
   ]
  },
  {
   "cell_type": "code",
   "execution_count": null,
   "metadata": {},
   "outputs": [],
   "source": []
  }
 ],
 "metadata": {
  "kernelspec": {
   "display_name": "Python 3",
   "language": "python",
   "name": "python3"
  },
  "language_info": {
   "codemirror_mode": {
    "name": "ipython",
    "version": 3
   },
   "file_extension": ".py",
   "mimetype": "text/x-python",
   "name": "python",
   "nbconvert_exporter": "python",
   "pygments_lexer": "ipython3",
   "version": "3.9.1"
  }
 },
 "nbformat": 4,
 "nbformat_minor": 1
}
