{
 "cells": [
  {
   "cell_type": "markdown",
   "metadata": {},
   "source": [
    "# 21M.387 Fundamentals of Music Processing\n",
    "## Lab3"
   ]
  },
  {
   "cell_type": "code",
   "execution_count": null,
   "metadata": {},
   "outputs": [],
   "source": [
    "import numpy as np\n",
    "import matplotlib.pyplot as plt\n",
    "import IPython.display as ipd\n",
    "from ipywidgets import interact\n",
    "import sys\n",
    "sys.path.append(\"..\")\n",
    "import fmplib as fmp\n",
    "from fmplib.pyqueue import connect_to_queue\n",
    "\n",
    "plt.rcParams['figure.figsize'] = (12, 4)\n",
    "fmp.documentation_button()"
   ]
  },
  {
   "cell_type": "markdown",
   "metadata": {},
   "source": [
    "## Python Review\n",
    "\n",
    "You should be comfortable with numpy vectors at this point. The following review may be helpful for numpy matrices.\n",
    "\n",
    "You can create a matrix explicitly as shown below. You can also ask a matrix for its dimensions with `shape` (this is a property, not a function)."
   ]
  },
  {
   "cell_type": "code",
   "execution_count": null,
   "metadata": {},
   "outputs": [],
   "source": [
    "a = np.array( ((1,2,3,4), (5,6,7,8), (9,10,11,12)) )\n",
    "print(a)\n",
    "print('shape is', a.shape)"
   ]
  },
  {
   "cell_type": "markdown",
   "metadata": {},
   "source": [
    "The dimensions of a matrix are always: Rows x Columns.\n",
    "\n",
    "You can do matrix indexing and slicing very similarly to vector slicing.  \n",
    "A colon by itself (`:`) selects an entire row or column."
   ]
  },
  {
   "cell_type": "code",
   "execution_count": null,
   "metadata": {},
   "outputs": [],
   "source": [
    "print('a[1,2] = ')\n",
    "print(a[1,2], '\\n')\n",
    "\n",
    "print('a[0:2,1:3] =')\n",
    "print(a[0:2,1:3], '\\n')\n",
    "\n",
    "print('a[2, :] =')\n",
    "print(a[2, :], '\\n')\n",
    "\n",
    "print('a[:, 2] =')\n",
    "print(a[:, 2])\n",
    "print('Note this presents itself as a vector, even though it is a column')"
   ]
  },
  {
   "cell_type": "markdown",
   "metadata": {},
   "source": [
    "You can set matrix elements by slicing as well. For example:"
   ]
  },
  {
   "cell_type": "code",
   "execution_count": null,
   "metadata": {},
   "outputs": [],
   "source": [
    "a = np.random.random((4,6))\n",
    "print(a, '\\n')\n",
    "\n",
    "# set the corners to specific values\n",
    "a[0,0] = 1\n",
    "a[0,-1] = 2\n",
    "a[-1,-1] = 3\n",
    "a[-1,0] = 4\n",
    "print(a, '\\n')\n",
    "\n",
    "# set an entire row or column\n",
    "a[1,:] = 0\n",
    "a[:,2] = 0\n",
    "\n",
    "print(a, '\\n')"
   ]
  },
  {
   "cell_type": "markdown",
   "metadata": {},
   "source": [
    "## Exercise 1\n",
    "\n",
    "- Load the small bit of audio below and listen to it.\n",
    "- Plot it.\n",
    "- Identify the approximate start location of the first note ($n_1$). Actually, make $n_1$ a bit later than the exact start, so that you are past the note's transient.\n",
    "- Create $x$: a window of length $N=1024$ starting at $n_1$ of the audio.\n",
    "- Plot $x$.\n",
    "- Create $x_w$: $x$ multiplied by a Hann window of the same length (see `np.hanning()`).\n",
    "- Plot $x_w$."
   ]
  },
  {
   "cell_type": "code",
   "execution_count": null,
   "metadata": {},
   "outputs": [],
   "source": [
    "snd1 = fmp.load_wav(\"audio/piano_arpeg.wav\")\n",
    "fs = 22050\n",
    "ipd.Audio(snd1, rate=fs)"
   ]
  },
  {
   "cell_type": "code",
   "execution_count": null,
   "metadata": {},
   "outputs": [],
   "source": []
  },
  {
   "cell_type": "code",
   "execution_count": null,
   "metadata": {},
   "outputs": [],
   "source": [
    "connect_to_queue()"
   ]
  },
  {
   "cell_type": "markdown",
   "metadata": {},
   "source": [
    "## Exercise 2\n",
    "\n",
    "- Create  $\\lvert X \\lvert$, the magnitude of the first 1/2 of DFT of $x_w$ using  `np.fft.rfft` module.\n",
    "- Plot it.\n",
    "- Find the top 4 peaks of this signal (using `fmp.find_peaks`). You may need to play around with the optional `thresh` parameter to get only the highest 4 peaks of $\\lvert X \\lvert$.\n",
    "- Plot the peaks\n",
    "- Print out the bin numbers for these top 4 peaks."
   ]
  },
  {
   "cell_type": "code",
   "execution_count": null,
   "metadata": {},
   "outputs": [],
   "source": []
  },
  {
   "cell_type": "code",
   "execution_count": null,
   "metadata": {},
   "outputs": [],
   "source": [
    "connect_to_queue()"
   ]
  },
  {
   "cell_type": "markdown",
   "metadata": {},
   "source": [
    "## Exercise 3a\n",
    "\n",
    "- Write the function `bin_to_freq` which returns the frequency of a given FFT bin ($k$). This function should work with inputs that are scalars or vectors. (Hint: what other inputs does this function need?)\n",
    "- Print the frequencies of the peaks of your DFT."
   ]
  },
  {
   "cell_type": "code",
   "execution_count": null,
   "metadata": {},
   "outputs": [],
   "source": [
    "def bin_to_freq(k):\n",
    "    pass\n",
    "\n",
    "# print peak frequencies"
   ]
  },
  {
   "cell_type": "markdown",
   "metadata": {},
   "source": [
    "## Exercise 3b\n",
    "\n",
    "- Write the function `freq_to_pitch` which returns the midi pitch (as a floating point value) from a given frequency. \n",
    "- Print the midi pitches of the peaks of your DFT.\n",
    "\n",
    "Since that first note is an C4 played on piano, the first 4 pitches should correspond roughly to the first 4 harmonics: C4, C5, G5, C6.\n",
    "\n",
    "How accurate are the pitches from your DFT analysis?"
   ]
  },
  {
   "cell_type": "code",
   "execution_count": null,
   "metadata": {},
   "outputs": [],
   "source": [
    "def freq_to_pitch(f):\n",
    "    pass\n",
    "\n",
    "# print midi pitches"
   ]
  },
  {
   "cell_type": "code",
   "execution_count": null,
   "metadata": {},
   "outputs": [],
   "source": [
    "connect_to_queue()"
   ]
  },
  {
   "cell_type": "markdown",
   "metadata": {},
   "source": [
    "## Exercise 4\n",
    "\n",
    "The frequency resolution of the DFT with the current $N$ is not that good. You can see that the pitches are not very accurate.\n",
    "\n",
    "One way to help the accuracy is to increase $N$. In this exercise, lets increase $N$ by zero-padding the windowed signal $x_w$.\n",
    "\n",
    "- Create a function `zpad` that zero-pads a vector to new length $N_{zp}$. You can use `np.concatenate` or `np.pad`.\n",
    "- Repeat this process (Exercises 2 and 3) to arrive at a set of midi pitch values for $x_w$, while trying out increasing values of $N_{zp}$. It is generally good practice (but not mandatory) that $N_{zp}$ be a power of 2.\n",
    "- Hint: it is probably easiest to write a function with $x$ and $N_{zp}$ as inputs that returns or prints out the MIDI pitches.\n",
    "\n",
    "Do you observe the accuracy getting better?  \n",
    "Do you get to a point where increasing $N_{zp}$ stops improving the accuracy of the results?\n"
   ]
  },
  {
   "cell_type": "code",
   "execution_count": null,
   "metadata": {},
   "outputs": [],
   "source": [
    "def zpad(x, nzp):\n",
    "    pass\n",
    "\n",
    "# run Ex 3-4 with different values of nzp"
   ]
  },
  {
   "cell_type": "code",
   "execution_count": null,
   "metadata": {},
   "outputs": [],
   "source": [
    "connect_to_queue()"
   ]
  },
  {
   "cell_type": "markdown",
   "metadata": {},
   "source": [
    "## Exercise 5\n",
    "\n",
    "Now load this bit of audio and listen to it."
   ]
  },
  {
   "cell_type": "code",
   "execution_count": null,
   "metadata": {},
   "outputs": [],
   "source": [
    "snd2 = fmp.load_wav(\"audio/piano_diad.wav\")\n",
    "fs = 22050\n",
    "ipd.Audio(snd2, rate=fs)"
   ]
  },
  {
   "cell_type": "markdown",
   "metadata": {},
   "source": [
    "There are two notes played at the same time. Get $N=1024$ samples from the start of this 2-note-chord. Use the technique of Exercise 4 to find the pitches in this audio recording. As above, increase the zero-padding to achieve more accuracy."
   ]
  },
  {
   "cell_type": "code",
   "execution_count": null,
   "metadata": {},
   "outputs": [],
   "source": []
  },
  {
   "cell_type": "markdown",
   "metadata": {},
   "source": [
    "The pitches played by the piano are B2 and C#3 (MIDI 47 and 49). Yet these results don't seem very good. Why is that?"
   ]
  },
  {
   "cell_type": "code",
   "execution_count": null,
   "metadata": {},
   "outputs": [],
   "source": [
    "connect_to_queue()"
   ]
  },
  {
   "cell_type": "markdown",
   "metadata": {},
   "source": [
    "## Exercise 6\n",
    "\n",
    "Let's increase $N$ in a different way - by using a larger initial window (grabbing a larger portion of the audio) instead of zero-padding.\n",
    "\n",
    "Start with the same `snd2` of Exercise 5, but this time, slice off a larger and larger portion of the audio to create the initial DFT. Don't forget to apply the Hann window. Then, find the pitches corresponding to the DFT peaks.\n",
    "\n",
    "- For what value of $N$ can you start to see two pitches? \n",
    "- For what value of $N$ do the pitches become accurate?\n"
   ]
  },
  {
   "cell_type": "code",
   "execution_count": null,
   "metadata": {},
   "outputs": [],
   "source": []
  },
  {
   "cell_type": "code",
   "execution_count": null,
   "metadata": {},
   "outputs": [],
   "source": [
    "connect_to_queue('checkoff')"
   ]
  },
  {
   "cell_type": "code",
   "execution_count": null,
   "metadata": {},
   "outputs": [],
   "source": []
  }
 ],
 "metadata": {
  "kernelspec": {
   "display_name": "Python 3",
   "language": "python",
   "name": "python3"
  },
  "language_info": {
   "codemirror_mode": {
    "name": "ipython",
    "version": 3
   },
   "file_extension": ".py",
   "mimetype": "text/x-python",
   "name": "python",
   "nbconvert_exporter": "python",
   "pygments_lexer": "ipython3",
   "version": "3.9.1"
  }
 },
 "nbformat": 4,
 "nbformat_minor": 1
}
