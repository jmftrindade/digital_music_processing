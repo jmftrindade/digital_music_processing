{
 "cells": [
  {
   "cell_type": "markdown",
   "metadata": {
    "collapsed": true
   },
   "source": [
    "# 21M.387 Fundamentals of Music Processing\n",
    "\n",
    "## Fourier Transform, part 2\n",
    "\n",
    "Further exploration of the DFT: The matrix / linear-algebra view, the FFT, spectral resolution, and non-stationary signals using the Short-Time Fourier Transform"
   ]
  },
  {
   "cell_type": "code",
   "execution_count": null,
   "metadata": {},
   "outputs": [],
   "source": [
    "import numpy as np\n",
    "import scipy.signal\n",
    "import matplotlib.pyplot as plt\n",
    "import IPython.display as ipd\n",
    "from ipywidgets import interact\n",
    "import sys\n",
    "sys.path.append(\"..\")\n",
    "import fmplib as fmp\n",
    "\n",
    "plt.rcParams['figure.figsize'] = (10, 4)\n",
    "fmp.documentation_button()"
   ]
  },
  {
   "cell_type": "markdown",
   "metadata": {},
   "source": [
    "## Reading\n",
    "\n",
    "Chapter 2.1.4 (pp 53 – 57), 2.5 (93 – 105)\n",
    "\n",
    "<img src=\"images/book_cover.png\" width=200>"
   ]
  },
  {
   "cell_type": "markdown",
   "metadata": {},
   "source": [
    "## The DFT\n",
    "$$X[k] = \\sum_{n=0}^{N-1}x[n]e^{-j 2 \\pi kn / N } \\text{, for } k \\in [0:N-1]$$\n",
    "\n",
    "We defined a sinusoid as:  \n",
    "$$x[n] = A \\cos(2 \\pi {k \\over N} n + \\phi)$$\n",
    "where $f$, the frequency of the sinusoid in Hertz is: \n",
    "$$f = k {F_s \\over N}$$\n",
    "\n",
    "Back to the first synthetic example.  \n",
    "We create funky-shaped $x[n]$, by adding the following sinusoids:\n",
    "- $\\{A=1.0, k=1, \\phi=0 \\}$\n",
    "- $\\{A=0.6, k=3, \\phi=2.1 \\}$\n",
    "- $\\{A=0.4, k=8, \\phi=0.6 \\}$"
   ]
  },
  {
   "cell_type": "code",
   "execution_count": null,
   "metadata": {},
   "outputs": [],
   "source": [
    "# back to our first example:\n",
    "\n",
    "# helper functions:\n",
    "def make_cosine(a, k, ph, N) :\n",
    "    n = np.arange(N)\n",
    "    return a * np.cos( 2 * np.pi * k / N * n + ph)\n",
    "\n",
    "N = 100\n",
    "c1 = make_cosine(1.0, 1, 0, N)\n",
    "c2 = make_cosine(0.6, 3, 2.1, N)\n",
    "c3 = make_cosine(0.4, 8, 0.6, N)\n",
    "x = c1 + c2 + c3\n",
    "\n",
    "plt.figure()\n",
    "plt.subplot(1,2,1)\n",
    "plt.plot(x)\n",
    "plt.ylim(-2, 2)\n",
    "\n",
    "for i, c in enumerate((c1, c2, c3)):\n",
    "  plt.subplot(3, 2, 2*i+2)\n",
    "  plt.plot(c)\n",
    "  plt.ylim(-1.5, 1.5)"
   ]
  },
  {
   "cell_type": "markdown",
   "metadata": {},
   "source": [
    "## DFT in code\n",
    "\n",
    "To calculate the DFT, think of it as a series of $N$ dot products, each one calculating the value for a different $k$.\n",
    "\n",
    "The entire expression can be expressed as a single Matrix Multiply.\n",
    "\n",
    "<font color='red'>__Whiteboard__</font>: Matrix Multiplication and the DFT matrix"
   ]
  },
  {
   "cell_type": "code",
   "execution_count": null,
   "metadata": {},
   "outputs": [],
   "source": [
    "# [livecode]\n",
    "def make_dft_mtx(N):\n",
    "    # create \"probes\" matrix:\n",
    "    P = np.zeros((N,N), dtype=np.complex)\n",
    "    j2pn = -2j * np.pi / N * np.arange(N)\n",
    "    for k in range(N):\n",
    "        P[k,:] = np.exp(j2pn * k)\n",
    "\n",
    "    return P\n",
    "\n",
    "# another way of creating the same DFT matrix:\n",
    "def make_dft_mtx(N):\n",
    "    n = np.arange(N)\n",
    "    kn = np.outer(n, n)\n",
    "    return np.exp( -2j * np.pi / N * kn)\n",
    "\n",
    "def dft(x):\n",
    "    N = len(x)\n",
    "    fb = make_dft_mtx(N)\n",
    "    \n",
    "    return np.dot(fb, x)\n",
    "# [livecode]"
   ]
  },
  {
   "cell_type": "markdown",
   "metadata": {},
   "source": [
    "The DFT of $x[n]$ is plotted below, using our own `dft` function and `np.fft.fft`"
   ]
  },
  {
   "cell_type": "code",
   "execution_count": null,
   "metadata": {},
   "outputs": [],
   "source": [
    "ft1 = dft(x)\n",
    "ft2 = np.fft.fft(x)\n",
    "\n",
    "plt.subplot(2,1,1)\n",
    "plt.stem(np.abs(ft1))\n",
    "plt.title('DFT')\n",
    "\n",
    "plt.subplot(2,1,2)\n",
    "plt.stem(np.abs(ft2));\n",
    "plt.title('np.fft.fft');"
   ]
  },
  {
   "cell_type": "markdown",
   "metadata": {},
   "source": [
    "It works!\n",
    "\n",
    "Let's look at the DFT Matrix graphically."
   ]
  },
  {
   "cell_type": "code",
   "execution_count": null,
   "metadata": {},
   "outputs": [],
   "source": [
    "dft_mtx32 = make_dft_mtx(32)\n",
    "dft_mtx64 = make_dft_mtx(64)\n",
    "\n",
    "plt.figure(figsize=(15,5))\n",
    "plt.subplot(1,2,1)\n",
    "plt.imshow(np.real(dft_mtx32))\n",
    "plt.title('N=32')\n",
    "plt.colorbar()\n",
    "\n",
    "plt.subplot(1,2,2)\n",
    "plt.imshow(np.real(dft_mtx64))\n",
    "plt.title('N=64')\n",
    "plt.colorbar()\n",
    "plt.show()"
   ]
  },
  {
   "cell_type": "markdown",
   "metadata": {},
   "source": [
    "Pretty! And Symmetric.\n",
    "\n",
    "Which leads to the DFT itself being symmetric:"
   ]
  },
  {
   "cell_type": "code",
   "execution_count": null,
   "metadata": {},
   "outputs": [],
   "source": [
    "ft = np.fft.fft(x)\n",
    "\n",
    "ft_mag = np.abs(ft)\n",
    "ft_ph  = np.angle(ft)\n",
    "ft_ph[ft_mag < 0.0001] = 0\n",
    "\n",
    "plt.figure(figsize=(12,6))\n",
    "plt.subplot(2,2,1)\n",
    "plt.stem(ft.real)\n",
    "plt.ylabel('real')\n",
    "plt.subplot(2,2,2)\n",
    "plt.stem(ft.imag)\n",
    "plt.ylabel('imag')\n",
    "plt.subplot(2,2,3)\n",
    "plt.stem(ft_mag)\n",
    "plt.ylabel('mag')\n",
    "plt.subplot(2,2,4)\n",
    "plt.stem(ft_ph)\n",
    "plt.ylabel('phase')\n",
    "\n",
    "plt.xlabel('Frequency (Hz)');"
   ]
  },
  {
   "cell_type": "markdown",
   "metadata": {},
   "source": [
    "Note that the DFT is symmetric. If $x[n]$ is a _real_ signal (which is always the case for us), the 2nd half of the DFT is redundant, and is therefore often dropped.\n",
    "\n",
    "The useful information for the DFT therefore resides in the range $k \\in [0, N/2 + 1]$"
   ]
  },
  {
   "cell_type": "markdown",
   "metadata": {},
   "source": [
    "## The Fast Fourier Transform\n",
    "\n",
    "Computing the DFT for $x[n]$ of length $N$ using the above equations is an $O(N^2)$ operation.  \n",
    "Because of certain symmetry properties in the calulcations, an optimzed version of the DFT can be achieved in $O(N \\log N)$ if $N$ is a power of 2.\n",
    "\n",
    "This difference in computation time is significant. For example:\n",
    "- DFT with $N = 1024$ needs ~1M mult-and-add operations\n",
    "- FFT with $N = 1024$ needs ~10k mult-and-add operations. That's 100 times faster!\n",
    "\n",
    "To handle non-power-of-2 $N$, you can:\n",
    "- zero-pad $x[n]$ to the next power of two.\n",
    "- use `np.fft.fft` anyway. There are fast DFT algorithms for non-power-of-two as well.\n",
    "\n",
    "Also note that since $x[n]$ is _real_ you can use `np.fft.rfft` which computes only $N/2+1$ points (and is twice as fast)."
   ]
  },
  {
   "cell_type": "code",
   "execution_count": null,
   "metadata": {},
   "outputs": [],
   "source": [
    "# here are some timed examples:\n",
    "x = np.random.random(1024)\n",
    "\n",
    "print('\\nRegular DFT')\n",
    "%timeit dft(x)"
   ]
  },
  {
   "cell_type": "code",
   "execution_count": null,
   "metadata": {},
   "outputs": [],
   "source": [
    "print('\\nRegular FFT')\n",
    "%timeit np.fft.fft(x)"
   ]
  },
  {
   "cell_type": "code",
   "execution_count": null,
   "metadata": {},
   "outputs": [],
   "source": [
    "print('\\nReal FFT')\n",
    "%timeit np.fft.rfft(x)"
   ]
  },
  {
   "cell_type": "code",
   "execution_count": null,
   "metadata": {},
   "outputs": [],
   "source": [
    "print('\\nNon power-of-two FFT')\n",
    "x = np.random.random(1030)\n",
    "%timeit np.fft.rfft(x)"
   ]
  },
  {
   "cell_type": "markdown",
   "metadata": {},
   "source": [
    "## Spectral Leakage\n",
    "\n",
    "What about this:"
   ]
  },
  {
   "cell_type": "code",
   "execution_count": null,
   "metadata": {},
   "outputs": [],
   "source": [
    "def magft(x):\n",
    "    return np.abs(np.fft.rfft(x))\n",
    "\n",
    "@interact(k=fmp.slider(4.0, 6.0, 5.5))\n",
    "def cos_and_dft(k):\n",
    "    N = 128\n",
    "    x = make_cosine(1.0, k, 0, N)\n",
    "    plt.figure()\n",
    "    plt.subplot(1,2,1)\n",
    "    plt.plot(x)\n",
    "    plt.ylim(-1.5, 1.5)\n",
    "    plt.title('$x(n)$')\n",
    "    plt.subplot(1,2,2)\n",
    "    plt.stem(magft(x))\n",
    "    plt.ylim(0,65)\n",
    "    plt.title('$|X(k)|$')\n",
    "    plt.show()"
   ]
  },
  {
   "cell_type": "markdown",
   "metadata": {},
   "source": [
    "The \"problem\" is that the frequency $k = 5.5$ is not an integer and is thus not \"perfectly capturable\" by a DFT, since all values of $k$ are integers.\n",
    "\n",
    "You can explain this in a few ways\n",
    "\n",
    "The DFT behaves as if signal $x[n]$ is actually _periodically extended_ in both directions to form in an infinite signal. Doing this on a non-integer $k$ results in a \"glitch\":"
   ]
  },
  {
   "cell_type": "code",
   "execution_count": null,
   "metadata": {},
   "outputs": [],
   "source": [
    "# periodically extend x:\n",
    "N = 128\n",
    "x = make_cosine(1.0, 5.5, 0, N)\n",
    "y = np.tile(x, 2)\n",
    "\n",
    "plt.figure()\n",
    "plt.plot(y);"
   ]
  },
  {
   "cell_type": "markdown",
   "metadata": {},
   "source": [
    "You can think of this glitch as a high-frequency spike that introduces lots of other frequencies or \"sidebands\"\n",
    "\n",
    "Or: the DFT must \"hack together\" a bunch of integer frequency sinusoids with different weights and phases to create the non-integer frequency."
   ]
  },
  {
   "cell_type": "code",
   "execution_count": null,
   "metadata": {},
   "outputs": [],
   "source": [
    "# pull out Amp, K, and phase from FFT:\n",
    "x_ft = np.fft.rfft(x)\n",
    "x_amp = np.abs(x_ft) * 2 / N\n",
    "x_phase = np.angle(x_ft)\n",
    "cos_params = list(zip(x_amp, np.arange(len(x_amp)), x_phase))\n",
    "\n",
    "# but now, sort them in order of amplitude (the \"most important\" ones first)\n",
    "cos_params.sort(key = lambda x : x[0], reverse=True)\n",
    "\n",
    "@interact(num_sines=fmp.slider(0, len(cos_params) - 1, 0))\n",
    "def reconstruct(num_sines=0):\n",
    "    x = np.zeros(N)\n",
    "    y = np.zeros(N)\n",
    "    params_txt = ''\n",
    "    for p in cos_params[:num_sines]:\n",
    "        y = make_cosine(p[0], p[1], p[2], N)\n",
    "        params_txt = 'A=%.2f k=%d, phi=%.2f' % p\n",
    "        x += y\n",
    "    plt.figure(figsize=(12,8))\n",
    "    plt.subplot(2,1,1)\n",
    "    plt.plot(y, 'r')\n",
    "    plt.ylim(-1.5, 1.5);\n",
    "    plt.text(10, 1, params_txt, fontsize=20)\n",
    "    plt.subplot(2,1,2)\n",
    "    plt.plot(x)\n",
    "    plt.ylim(-1.5, 1.5)\n",
    "    plt.title(\"sum of top %d sinusoids\" % num_sines)\n",
    "    plt.show();"
   ]
  },
  {
   "cell_type": "markdown",
   "metadata": {},
   "source": [
    "## Zero-padding\n",
    "\n",
    "Zero padding the signal $x[n]$ will cause finer frequency interpolation."
   ]
  },
  {
   "cell_type": "code",
   "execution_count": null,
   "metadata": {},
   "outputs": [],
   "source": [
    "N = 128\n",
    "k = 5.5\n",
    "x = make_cosine(1.0, k, 0, N)\n",
    "\n",
    "N1 = 128 * 4\n",
    "zp_len = N1 - len(x)\n",
    "x1 = np.concatenate((x, np.zeros(zp_len)))\n",
    "\n",
    "plt.figure(figsize=(10,7))\n",
    "plt.subplot(2,2,1)\n",
    "plt.plot(x)\n",
    "plt.title(f'$x(n), k={k:.2f}, N=128$')\n",
    "plt.subplot(2,2,2)\n",
    "plt.stem(magft(x))\n",
    "plt.xlim(0, len(x)/6.)\n",
    "plt.title('$|X(k)|$')\n",
    "plt.subplot(2,2,3)\n",
    "\n",
    "plt.plot(x1)\n",
    "plt.title(f'$x(n), k={k:.2f}$, zero padded to $N={N1}$')\n",
    "plt.subplot(2,2,4)\n",
    "plt.stem(magft(x1))\n",
    "plt.xlim(0, len(x1)/6.)\n",
    "plt.title('$|X(k)|$')\n",
    "plt.show()"
   ]
  },
  {
   "cell_type": "markdown",
   "metadata": {},
   "source": [
    "Find the location of peak of $X[k]$"
   ]
  },
  {
   "cell_type": "code",
   "execution_count": null,
   "metadata": {},
   "outputs": [],
   "source": [
    "# [livecode]\n",
    "peak = np.argmax(magft(x))\n",
    "print(peak, len(x))\n",
    "peak1 = np.argmax(magft(x1))\n",
    "print(peak1, len(x1))\n",
    "\n",
    "# so, a more accurate freq estimation is:\n",
    "peak1 * len(x) / len(x1)"
   ]
  },
  {
   "cell_type": "markdown",
   "metadata": {},
   "source": [
    "Another example:\n",
    "$$ x[n] = \\cos(2 \\pi {k_1 \\over N} n) + \\cos(2 \\pi {k_2 \\over N} n) $$\n",
    "with:\n",
    "- $ k_1 = 49.1$\n",
    "- $ k_2 = 53.2$"
   ]
  },
  {
   "cell_type": "code",
   "execution_count": null,
   "metadata": {},
   "outputs": [],
   "source": [
    "c1 = make_cosine(1, 49.1, 0, 1024)\n",
    "c2 = make_cosine(1, 53.2, 0, 1024)\n",
    "x = c1 + c2\n",
    "plt.plot(x)\n",
    "plt.show()"
   ]
  },
  {
   "cell_type": "markdown",
   "metadata": {},
   "source": [
    "See how the DFT resolution changes as we modify the _amount_ of signal and the _amount_ of zero-padding."
   ]
  },
  {
   "cell_type": "code",
   "execution_count": null,
   "metadata": {},
   "outputs": [],
   "source": [
    "@interact(zpf=(1,8), ni=(0,3))\n",
    "def zp_test(zpf=1, ni=0):\n",
    "    sig_len = (128,256,512,1024)[ni]\n",
    "    N = sig_len * zpf\n",
    "    xw = np.concatenate((x[:sig_len], np.zeros(N-sig_len)))\n",
    "    mft = np.abs(np.fft.rfft(xw))\n",
    "    peaks = fmp.find_peaks(mft, .5)\n",
    "    \n",
    "    plt.figure(figsize=(10, 7))\n",
    "    plt.subplot(2,1,1)\n",
    "    plt.plot(xw)\n",
    "    txt = '$N=%d$    $L_{sig} = %d$    $L_{zp} = %d$' % (N, sig_len, N - sig_len)\n",
    "    plt.title(txt)\n",
    "    plt.subplot(2,1,2)\n",
    "    plt.title('$|X(k)|$')\n",
    "    plt.plot(mft[0:int(N/8)])\n",
    "    plt.show()"
   ]
  },
  {
   "cell_type": "markdown",
   "metadata": {},
   "source": [
    "<font color='red'>__Whiteboard__</font>: Frequency resolution and discrimination"
   ]
  },
  {
   "cell_type": "markdown",
   "metadata": {},
   "source": [
    "### Non-Stationary Signals\n",
    "\n",
    "The DFT says nothing about _when_ frequencies occur. For long stretches of audio that changes over time, we need a better tool."
   ]
  },
  {
   "cell_type": "code",
   "execution_count": null,
   "metadata": {},
   "outputs": [],
   "source": [
    "def make_chirp(k_start, k_end, N) :\n",
    "    n = np.arange(N)\n",
    "    dk = (k_end - k_start) / float(N)\n",
    "    return np.sin(2*np.pi * (k_start + dk/2 * n) * n / N)\n",
    "\n",
    "N = 8192\n",
    "x = make_chirp(10, 400, N)\n",
    "plt.figure(figsize=(10,7))\n",
    "plt.subplot(2,1,1)\n",
    "plt.plot(x[0:3000])\n",
    "plt.ylim(-1.5, 1.5)\n",
    "plt.title('$x(n), k=[10,400]$ ')\n",
    "plt.subplot(2,1,2)\n",
    "plt.plot(magft(x))\n",
    "plt.xlim(0,1000);\n",
    "plt.title('$|X(k)|$')\n",
    "\n",
    "ipd.Audio(x, rate = N)"
   ]
  },
  {
   "cell_type": "markdown",
   "metadata": {},
   "source": [
    "### Sliding Window\n",
    "\n",
    "To pick a window of a signal, we choose a smaller portion of the signal and truncate.\n",
    "\n",
    "It is often useful to pick a window shaping function, such as the _Hann_ window."
   ]
  },
  {
   "cell_type": "code",
   "execution_count": null,
   "metadata": {},
   "outputs": [],
   "source": [
    "def window(x, w_start, win) :\n",
    "    x_win = win * x[w_start:w_start+len(win)]\n",
    "    win_zp = np.zeros(len(x))\n",
    "    win_zp[w_start:w_start+len(win)] = win\n",
    "    x_win_zp = np.zeros(len(x))\n",
    "    x_win_zp[w_start:w_start+len(win)] = x_win\n",
    "\n",
    "    return x_win, win_zp, x_win_zp\n",
    "\n",
    "win_len = 1024\n",
    "win_pos = np.array((0,1,2,3,4)) * win_len\n",
    "\n",
    "@interact(p=(0,4), w=(0,2))\n",
    "def sliding_window(p=0, w=0):\n",
    "    # choose window:\n",
    "    win = (np.ones(win_len), scipy.signal.triang(win_len), np.hanning(win_len))[w]\n",
    "    \n",
    "    x_win, win_zp, x_win_zp = window(x, win_pos[p], win)\n",
    "    \n",
    "    plt.figure(figsize=(10,8))\n",
    "    plt.subplot(3,1,1)\n",
    "    plt.plot(x)\n",
    "    plt.plot(win_zp, 'r', linewidth=2)\n",
    "    plt.ylim(-1.5, 1.5)\n",
    "    plt.xlim(0, 5200)\n",
    "\n",
    "    plt.subplot(3,1,2)\n",
    "    plt.plot(x_win_zp)\n",
    "    plt.ylim(-1.5, 1.5)\n",
    "    plt.xlim(0, 5200)\n",
    "\n",
    "    plt.subplot(3,2,5)\n",
    "    plt.plot(x_win)\n",
    "\n",
    "    plt.subplot(3,2,6)\n",
    "    plt.plot(magft(x_win))\n",
    "    plt.xlim(0, 60)\n",
    "    plt.show()"
   ]
  },
  {
   "cell_type": "markdown",
   "metadata": {},
   "source": [
    "Let's try the same thing, but with a real piece of audio"
   ]
  },
  {
   "cell_type": "code",
   "execution_count": null,
   "metadata": {},
   "outputs": [],
   "source": [
    "fmp.plot_fft_and_listen('audio/piano_arpeg.wav')"
   ]
  },
  {
   "cell_type": "code",
   "execution_count": null,
   "metadata": {},
   "outputs": [],
   "source": [
    "x = fmp.load_wav('audio/piano_arpeg.wav') * 5\n",
    "fs = 22050.\n",
    "w_len = 2048\n",
    "win_pos = np.arange(15) * 2000\n",
    "\n",
    "@interact(p=fmp.slider(0,len(win_pos)-1))\n",
    "def sliding_window(p=0):\n",
    "    # choose window:\n",
    "    win = np.hanning(w_len)\n",
    "    \n",
    "    x_win, win_zp, x_win_zp = window(x, win_pos[p], win)\n",
    "\n",
    "    ft_mag = magft(x_win)\n",
    "    \n",
    "    plt.figure(figsize=(10,10))\n",
    "    plt.subplot(3,1,1)\n",
    "    plt.plot(x)\n",
    "    plt.plot(win_zp, 'r', linewidth=2)\n",
    "    plt.ylim(-1.5, 1.5)\n",
    "    plt.subplot(3,1,2)\n",
    "    plt.title('windowed signal')\n",
    "    plt.plot(x_win_zp)\n",
    "    plt.ylim(-1.5, 1.5)\n",
    "    plt.subplot(3,1,3)\n",
    "    plt.title(f'$|X(k)|$ for x[n]={win_pos[p]}:{win_pos[p]+w_len}')\n",
    "    plt.plot(ft_mag)\n",
    "    plt.xlim(0, 120)\n",
    "    plt.ylim(0, 300)\n",
    "    txt = f'$k_{{{\"max\"}}} = {np.argmax(ft_mag)}$'\n",
    "    plt.text(100, 250, txt, size=18)\n",
    "    plt.show()"
   ]
  },
  {
   "cell_type": "code",
   "execution_count": null,
   "metadata": {},
   "outputs": [],
   "source": [
    "# [livecode]\n",
    "k = 24\n",
    "\n",
    "f = k * fs / w_len\n",
    "print(f\"freq = {f:.2f} Hz\")\n",
    "\n",
    "p = 64\n",
    "print(f\"pitch = {fmp.freq_to_pitch(f):.2f}\")"
   ]
  },
  {
   "cell_type": "markdown",
   "metadata": {},
   "source": [
    "### The Short Term Fourier Transform\n",
    "\n",
    "The STFT is the manifestation of the above process. We slide a window across the audio signal and collect the DFT at each step.\n",
    "\n",
    "The parameters of interest in the STFT are:\n",
    "- the window length, $N$\n",
    "- the hop size, $H$\n",
    "- the window function, $w[n]$ of length $N$ (most often, _Hann_ is chosen)\n",
    "\n",
    "Or, more formally:\n",
    "\n",
    "$$\\mathcal{X}[k,m] = \\sum_{n=0}^{N-1} x[n+mH]w[n]e^{-j 2 \\pi k n / N }   $$\n",
    "\n",
    "with $k \\in [0:N/2+1]$ and $m \\in [0:M-1]$\n",
    "\n",
    "The magnitude-squared of the STFT $\\lvert \\mathcal{X}[k,m] \\lvert^2$ is called the _spectrogram_.\n",
    "\n",
    "<font color='red'>__Whiteboard__</font>: STFT\n"
   ]
  },
  {
   "cell_type": "code",
   "execution_count": null,
   "metadata": {},
   "outputs": [],
   "source": [
    "x = fmp.load_wav('audio/piano_arpeg.wav')\n",
    "fs = 22050\n",
    "win_len = 2048\n",
    "hop_size = win_len // 4\n",
    "\n",
    "spec = fmp.stft_mag(x, win_len, hop_size) ** 2\n",
    "\n",
    "print('Spectrogram matrix size:', spec.shape)"
   ]
  },
  {
   "cell_type": "markdown",
   "metadata": {},
   "source": [
    "'spec' is a 2D matrix.\n",
    "\n",
    "- rows are the FFT bins, indexed by $k \\in [0, N/2+1]$\n",
    "- columns are the \"hops\", representing points in time, indexed by $m \\in [0, M-1]$, where $M$ is the total number of hops"
   ]
  },
  {
   "cell_type": "code",
   "execution_count": null,
   "metadata": {},
   "outputs": [],
   "source": [
    "plt.figure()\n",
    "plt.imshow(spec, origin='lower', aspect='auto')\n",
    "plt.xlabel('n')\n",
    "plt.ylabel('k')\n",
    "plt.colorbar();"
   ]
  },
  {
   "cell_type": "markdown",
   "metadata": {},
   "source": [
    "Hmmm. this looks mostly dark. It is very common to view a spectrogram by applying a log scale to the amplitudes:"
   ]
  },
  {
   "cell_type": "code",
   "execution_count": null,
   "metadata": {},
   "outputs": [],
   "source": [
    "plt.figure()\n",
    "plt.imshow(np.log10(spec), origin='lower', aspect='auto')\n",
    "plt.xlabel('n')\n",
    "plt.ylabel('k')\n",
    "plt.colorbar();"
   ]
  },
  {
   "cell_type": "markdown",
   "metadata": {},
   "source": [
    "That's very bright!. Also, we could run into trouble because: $\\log_{10}(0) = -\\infty$.\n",
    "\n",
    "Typically, we use a comperssion factor to determine how much we want to boost low values:\n",
    "\n",
    "$\\Gamma_\\gamma(v) = \\log(1+ \\gamma \\cdot v)$\n",
    "\n",
    "- $v$ is the value to compress\n",
    "- $\\gamma$ is the compression factor\n"
   ]
  },
  {
   "cell_type": "code",
   "execution_count": null,
   "metadata": {},
   "outputs": [],
   "source": [
    "@interact(g_idx=(0,5))\n",
    "def spec_gamma(g_idx=0):\n",
    "    gamma = (.1,1,10,100,1000,10000)[g_idx]\n",
    "    plt.figure()\n",
    "    x = np.linspace(0.0001, 100, 500)\n",
    "    plt.plot(x, np.log10(1 + x * gamma))\n",
    "    plt.xlabel('$v$', fontsize=15)\n",
    "    plt.ylabel('$\\Gamma(v)$', fontsize=15)\n",
    "    plt.title(f'Gamma Compression with $\\gamma$ = {gamma}')\n",
    "    \n",
    "    plt.show()"
   ]
  },
  {
   "cell_type": "code",
   "execution_count": null,
   "metadata": {},
   "outputs": [],
   "source": [
    "@interact(g_idx=(0,4))\n",
    "def spec_gamma(g_idx=0):\n",
    "    gamma = (1,10,100,1000,10000)[g_idx]\n",
    "    plt.figure()\n",
    "    plt.imshow(np.log10(1 + spec * gamma), origin='lower', aspect='auto')\n",
    "    plt.colorbar()\n",
    "    plt.title(f'Spectrogram with $\\gamma = {gamma}$')\n",
    "    plt.show()"
   ]
  },
  {
   "cell_type": "markdown",
   "metadata": {},
   "source": [
    "As you can see, enhancing small values also enhances noise in the signal."
   ]
  },
  {
   "cell_type": "markdown",
   "metadata": {},
   "source": [
    "### Sidebar: Plotting vs Matrix Axes\n",
    "\n",
    "Note also that we typically plot with:\n",
    "- `origin = 'lower'`\n",
    "- `aspect = 'auto'`\n",
    "\n",
    "But remember that we think of a matrix's origin is top-left."
   ]
  },
  {
   "cell_type": "markdown",
   "metadata": {},
   "source": [
    "### STFT coordinates\n",
    "\n",
    "\n",
    "Frequency at each bin (each row): $ f(k) = k F_s / N $\n",
    "\n",
    "Time value of each column: with $ F_f = {F_s \\over H} $, $t(m) = {m \\over F_f} = {mH \\over F_s}$ seconds\n",
    "\n",
    "Example with $F_s = 22050$, $N=1024$, and $H=256$:\n",
    "- Frequency at bin 20: $20 \\cdot {22050 \\over 1024} = 430.66$Hz\n",
    "- Frequency resolution is: ${22050 \\over 1024} = 21.53$Hz per bin\n",
    "\n",
    "\n",
    "- Time at column 100:$ {100 \\cdot 256 \\over 22050} = 1.161$ seconds\n",
    "- Time resolution is: $F_f = {22050 \\over 256} = 86.13$Hz or a period of $1/F_f = 11.6$ms\n",
    "\n",
    "<font color='red'>__Whiteboard__</font>: Spectrogram coordinates"
   ]
  },
  {
   "cell_type": "markdown",
   "metadata": {
    "collapsed": true
   },
   "source": [
    "### Time-Frequency Tradeoff\n",
    "\n",
    "Consdier the following signal. It has two sinusoidal frequencies and two \"hits\"."
   ]
  },
  {
   "cell_type": "code",
   "execution_count": null,
   "metadata": {},
   "outputs": [],
   "source": [
    "N = 10000\n",
    "x = make_cosine(1, 1000, 0, 10000) + make_cosine(1, 1060, 0, 10000)\n",
    "x[4000] = 10\n",
    "x[4200] = 10\n",
    "\n",
    "plt.figure()\n",
    "plt.plot(x);"
   ]
  },
  {
   "cell_type": "code",
   "execution_count": null,
   "metadata": {},
   "outputs": [],
   "source": [
    "win_len = (128,256,512,1024)\n",
    "zp_factor = (8,4,2,1)\n",
    "@interact(w=(0,3))\n",
    "def spec_win(w=0):\n",
    "    wl = win_len[w]\n",
    "    zp = zp_factor[w]\n",
    "    spec = fmp.stft_mag(x, wl, 100, zp_factor=zp)[:200,:]\n",
    "    plt.figure()\n",
    "    plt.imshow(np.log10(1 + spec * 100), origin='lower', aspect='auto', cmap='gray')\n",
    "    plt.xlim(0, 100)\n",
    "    plt.colorbar()\n",
    "    plt.title('$N=%d$' % wl)\n",
    "    plt.show()"
   ]
  },
  {
   "cell_type": "markdown",
   "metadata": {},
   "source": [
    "## Look and Listen\n",
    "\n",
    "Let's look at a spectrogram of a song and follow along."
   ]
  },
  {
   "cell_type": "code",
   "execution_count": null,
   "metadata": {},
   "outputs": [],
   "source": [
    "import os\n",
    "# os.system('open audio/beatles_let_it_be.wav -a \"Sonic Visualiser\"')"
   ]
  }
 ],
 "metadata": {
  "kernelspec": {
   "display_name": "Python 3",
   "language": "python",
   "name": "python3"
  },
  "language_info": {
   "codemirror_mode": {
    "name": "ipython",
    "version": 3
   },
   "file_extension": ".py",
   "mimetype": "text/x-python",
   "name": "python",
   "nbconvert_exporter": "python",
   "pygments_lexer": "ipython3",
   "version": "3.9.1"
  },
  "widgets": {
   "state": {
    "74695e24a065411f8a4989bf0243f965": {
     "views": [
      {
       "cell_index": 20
      }
     ]
    },
    "ab38f8b8dcb24438966dbf6a67eef617": {
     "views": [
      {
       "cell_index": 49
      }
     ]
    },
    "ad09df87e9994e55a0626ee28e9ce6eb": {
     "views": [
      {
       "cell_index": 33
      }
     ]
    },
    "c74c7cad1077486daefcdb8b4271d5e0": {
     "views": [
      {
       "cell_index": 30
      }
     ]
    },
    "d275214add4e412c90bf4719fda08ddf": {
     "views": [
      {
       "cell_index": 24
      }
     ]
    },
    "dc470fe3ee6c4305b7dc5107e8b56e79": {
     "views": [
      {
       "cell_index": 42
      }
     ]
    },
    "fe51702a4e754598a01877bc1728026b": {
     "views": [
      {
       "cell_index": 43
      }
     ]
    }
   },
   "version": "1.2.0"
  }
 },
 "nbformat": 4,
 "nbformat_minor": 1
}
