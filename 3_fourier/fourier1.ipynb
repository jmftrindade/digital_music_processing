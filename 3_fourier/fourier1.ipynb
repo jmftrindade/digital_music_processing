{
 "cells": [
  {
   "cell_type": "markdown",
   "metadata": {},
   "source": [
    "# 21M.387 Fundamentals of Music Processing\n",
    "## Fourier Transform, part 1\n",
    "\n",
    "In this lecture, we describe the Fourier Transform, one of the most powerful and ubiquitous tools in audio signal processing. We'll focus on the Discrete Fourier Transform (DFT), where \"input\" to the DFT is a sampled time signal, and the \"output\" of the DFT is a set of discrete (ie, sampled) frequencies."
   ]
  },
  {
   "cell_type": "code",
   "execution_count": null,
   "metadata": {},
   "outputs": [],
   "source": [
    "import numpy as np\n",
    "import matplotlib.pyplot as plt\n",
    "import IPython.display as ipd\n",
    "from ipywidgets import interact\n",
    "import sys\n",
    "sys.path.append(\"..\")\n",
    "import fmplib as fmp\n",
    "\n",
    "plt.rcParams['figure.figsize'] = (12, 4)\n",
    "fmp.documentation_button()"
   ]
  },
  {
   "cell_type": "markdown",
   "metadata": {},
   "source": [
    "## Reading\n",
    "\n",
    "Chapter 2.0 - 2.1.3 (pp 39 – 53)\n",
    "\n",
    "<img src=\"images/book_cover.png\" width=200>\n",
    "\n",
    "Also really useful:\n",
    "\n",
    "<img src=\"images/MDFT.jpg\" width=200>\n",
    "\n",
    "The text of the book can be found here:\n",
    "https://ccrma.stanford.edu/~jos/mdft/"
   ]
  },
  {
   "cell_type": "markdown",
   "metadata": {},
   "source": [
    "## What the DFT Does\n",
    "\n",
    "Start with a sampled signal (ie, time series) of finite length.  \n",
    "The DFT will \"extract\" the frequency components that make up that signal.\n",
    "\n",
    "Here are a few examples:"
   ]
  },
  {
   "cell_type": "code",
   "execution_count": null,
   "metadata": {},
   "outputs": [],
   "source": [
    "fmp.plot_fft_and_listen('audio/pianoA4.wav')"
   ]
  },
  {
   "cell_type": "code",
   "execution_count": null,
   "metadata": {},
   "outputs": [],
   "source": [
    "fmp.plot_fft_and_listen('audio/clarinetA4.wav')"
   ]
  },
  {
   "cell_type": "code",
   "execution_count": null,
   "metadata": {},
   "outputs": [],
   "source": [
    "fmp.plot_fft_and_listen('audio/tubularA4.wav')"
   ]
  },
  {
   "cell_type": "markdown",
   "metadata": {},
   "source": [
    "We'll call our signal $x[n]$.  \n",
    "In the above examples, the sampling rate is $F_s = 22050$.  "
   ]
  },
  {
   "cell_type": "markdown",
   "metadata": {},
   "source": [
    "## The Discrete Fourier Transform\n",
    "\n",
    "The equation for the DFT is:\n",
    "\n",
    "$$X[k] = \\sum_{n=0}^{N-1}x[n]e^{-j 2 \\pi kn / N } \\text{, for } k \\in [0:N-1]$$\n",
    "\n",
    "- $X[k]$ is the DFT of $x[n]$, sometimes called the _spectrum_ of $x[n]$. \n",
    "- We use a _lower case_ $x[n]$ for the time-series and a _capital_ $X[k]$ for the spectrum.\n",
    "- $N$ is the length of the DFT, which is also the length of the input signal $x[n]$.\n",
    "- The argument $k$ takes the role of _frequency_, but is a _frequency index_ (sometimes knows as a _frequency bin_).\n",
    "- The DFT's output is a set of $N$ complex numbers (evaluated at $k \\in [0, N-1]$).\n",
    "- the frequency corresponding to $k$ is $f_k = k {F_s \\over N}$\n",
    "\n",
    "<font color='red'>__Whiteboard__</font>: DFT\n",
    "\n",
    "The rest of this lecture will describe how the DFT works.\n",
    "\n",
    "But first, a few more examples."
   ]
  },
  {
   "cell_type": "code",
   "execution_count": null,
   "metadata": {},
   "outputs": [],
   "source": [
    "# [livecode]\n",
    "x = fmp.load_wav('audio/pianoA4.wav')\n",
    "N = len(x)\n",
    "\n",
    "# use np.fft.fft to find the DFT (FFT = fast fourier transform)\n",
    "X = np.abs(np.fft.fft(x))\n",
    "plt.plot(X)\n",
    "plt.xlim(0, 3000)\n",
    "\n",
    "k = fmp.find_peaks(X, .25)[0]\n",
    "\n",
    "fs = 22050\n",
    "\n",
    "print(N, fs, k)\n",
    "freq = k * fs / N\n",
    "print(f'{freq} Hz')"
   ]
  },
  {
   "cell_type": "markdown",
   "metadata": {},
   "source": [
    "Audio with multiple notes of a piano (C major triad)"
   ]
  },
  {
   "cell_type": "code",
   "execution_count": null,
   "metadata": {},
   "outputs": [],
   "source": [
    "fmp.plot_fft_and_listen('audio/pianoCEG.wav')"
   ]
  },
  {
   "cell_type": "markdown",
   "metadata": {},
   "source": [
    "This time, the notes of the triad are separated in time. Note what happens in the DFT."
   ]
  },
  {
   "cell_type": "code",
   "execution_count": null,
   "metadata": {},
   "outputs": [],
   "source": [
    "fmp.plot_fft_and_listen('audio/piano_arpeg.wav')"
   ]
  },
  {
   "cell_type": "markdown",
   "metadata": {},
   "source": [
    "## The Sinusoid\n",
    "\n",
    "The basic sinusoid has either of the following equations:  \n",
    "$$x(t) = A \\sin(\\omega t + \\phi)$$\n",
    "or\n",
    "$$x(t) = A \\cos(\\omega t + \\phi)$$\n",
    "\n",
    "- $\\omega$ is the _angular velocity_.\n",
    "- $\\phi \\in [- \\pi, \\pi)$ is the _phase_.\n",
    "- $A$ is the amplitude of the sinusoid.\n",
    "\n",
    "All sinusoids are uniquely defined by this parameter set: $\\{A, \\omega, \\phi \\}$.  \n",
    "\n",
    "We write $\\omega = 2 \\pi f$ where $f$ is the _frequency_ in units of Hertz (Hz). \n",
    "\n",
    "Note that the textbook uses $\\omega$ to mean _frequency_ (in Hz), and $\\phi$ to mean _unit phase_, $\\phi \\in [0,1)$. Sometimes the sign of $\\phi$ is flipped, so instead you will see:\n",
    "$$ x(t) = A \\sin(2 \\pi (\\omega t - \\phi)) $$\n",
    "\n",
    "\n",
    "Be careful about possible confusion here. I will use the first definition."
   ]
  },
  {
   "cell_type": "markdown",
   "metadata": {},
   "source": [
    "## Discrete Time Sinusoid\n",
    "\n",
    "Going forward, all signals we analyze will be:\n",
    "- sampled, indexed by $n$\n",
    "- of length $N$\n",
    "\n",
    "The sampling rate $F_s$ will not figure into the equations. $F_s$ only matters for interpreting what $k$ means.  \n",
    "Remember that $f = k {F_s \\over N}$\n",
    "\n",
    "Lets sample the basic sinusoid at period $T = {1 \\over F_s}$. In other words, we take a sample at every $t = nT$.\n",
    "\n",
    "$\n",
    "\\begin{align}\n",
    "x(t) & = A \\cos(\\omega t + \\phi) \\\\\n",
    "x[n] & = A \\cos(\\omega nT + \\phi) \\\\\n",
    "     & = A \\cos(2 \\pi f nT + \\phi) \\\\\n",
    "     & = A \\cos(2 \\pi k {F_s \\over N} nT + \\phi) \\\\\n",
    "     & = A \\cos(2 \\pi {k \\over N} n + \\phi) \\\\\n",
    "\\end{align}\n",
    "$\n",
    "\n",
    "So we now characterize a DT sinusoid with parameters $\\{A, k, \\phi\\}$\n",
    "\n",
    "<font color='red'>__Whiteboard__</font>: Discrete Time (Sampled) Sinusoid\n"
   ]
  },
  {
   "cell_type": "code",
   "execution_count": null,
   "metadata": {},
   "outputs": [],
   "source": [
    "# helper functions:\n",
    "def make_cosine(a, k, ph, N) :\n",
    "    n = np.arange(N)\n",
    "    return a * np.cos( 2 * np.pi * k / N * n + ph)\n",
    "\n",
    "def make_sine(a, k, ph, N) :\n",
    "    n = np.arange(N)\n",
    "    return a * np.sin( 2 * np.pi * k / N * n + ph)"
   ]
  },
  {
   "cell_type": "markdown",
   "metadata": {},
   "source": [
    "Visualizing the DT sinusoid with $N=100$"
   ]
  },
  {
   "cell_type": "code",
   "execution_count": null,
   "metadata": {},
   "outputs": [],
   "source": [
    "N = 100\n",
    "@interact( a=fmp.slider(0.5, 3., 1), k=fmp.slider(1, 10., 1), ph=fmp.slider(-np.pi, np.pi, 0))\n",
    "def plot_cosine(a, k, ph) :\n",
    "    x = make_cosine(a, k, ph, N)\n",
    "    plt.figure()\n",
    "    plt.plot(x, 'ro')\n",
    "    plt.ylim(-3, 3)\n",
    "    plt.xlabel('n')\n",
    "    plt.show()"
   ]
  },
  {
   "cell_type": "markdown",
   "metadata": {},
   "source": [
    "Let's look at the full range of $k$, including negative numbers for $N=20$"
   ]
  },
  {
   "cell_type": "code",
   "execution_count": null,
   "metadata": {},
   "outputs": [],
   "source": [
    "N = 20\n",
    "@interact( k=fmp.slider(-10, 20, 1), ph=fmp.slider(-np.pi, np.pi))\n",
    "def plot_cosine(k, ph = 0) :\n",
    "    x = make_cosine(1, k, ph, N)\n",
    "    f = np.cos(np.linspace(0,2*np.pi*k, 200, endpoint=False) + ph)\n",
    "    plt.figure()\n",
    "    plt.plot(np.linspace(0, N, 200, endpoint=False), f)\n",
    "    plt.stem(x, markerfmt='ro')\n",
    "    plt.ylim(-1.5, 1.5)\n",
    "    plt.xlabel('n')\n",
    "    plt.show()"
   ]
  },
  {
   "cell_type": "markdown",
   "metadata": {},
   "source": [
    "## Sum of Sinusoid\n",
    "\n",
    "__Any arbitrary signal__ $x[n])$ can be represented by adding together a particular mix of sinusoids.\n",
    "\n",
    "As a small example, we create funky-shaped $x[n]$, by adding the following sinusoids:\n",
    "- $\\{A=1.0, k=1, \\phi=0 \\}$\n",
    "- $\\{A=0.6, k=3, \\phi=2.1 \\}$\n",
    "- $\\{A=0.4, k=8, \\phi=0.6 \\}$"
   ]
  },
  {
   "cell_type": "code",
   "execution_count": null,
   "metadata": {},
   "outputs": [],
   "source": [
    "N = 100\n",
    "c1 = make_cosine(1.0, 1, 0, N)\n",
    "c2 = make_cosine(0.6, 3, 2.1, N)\n",
    "c3 = make_cosine(0.4, 8, 0.6, N)\n",
    "funky_x = c1 + c2 + c3\n",
    "\n",
    "plt.figure()\n",
    "plt.subplot(1,2,1)\n",
    "plt.plot(funky_x)\n",
    "plt.ylim(-2, 2)\n",
    "\n",
    "for i, c in enumerate((c1, c2, c3)):\n",
    "  plt.subplot(3, 2, 2*i+2)\n",
    "  plt.plot(c)\n",
    "  plt.ylim(-1.5, 1.5)"
   ]
  },
  {
   "cell_type": "markdown",
   "metadata": {},
   "source": [
    "The DFT lets us \"interrogate\" $x[n]$ to recover its pure sinusoid components. The numpy function `numpy.fft.fft(x)` returns the DFT of `x`. "
   ]
  },
  {
   "cell_type": "code",
   "execution_count": null,
   "metadata": {},
   "outputs": [],
   "source": [
    "dft = np.fft.fft(funky_x)\n",
    "\n",
    "dft_mag = np.abs(dft)\n",
    "dft_ph  = np.angle(dft)\n",
    "# dft_ph[dft_mag < 0.0001] = 0 # squash values with 0 magnitude \n",
    "\n",
    "plt.figure(figsize=(12,12))\n",
    "plt.subplot(4,1,1)\n",
    "plt.stem(dft.real)\n",
    "plt.ylabel('real')\n",
    "plt.subplot(4,1,2)\n",
    "plt.stem(dft.imag)\n",
    "plt.ylabel('imag')\n",
    "plt.subplot(4,1,3)\n",
    "plt.stem(dft_mag)\n",
    "plt.ylabel('mag')\n",
    "plt.subplot(4,1,4)\n",
    "plt.stem(dft_ph)\n",
    "plt.ylabel('phase')\n",
    "plt.xlabel('Frequency index (k)');"
   ]
  },
  {
   "cell_type": "markdown",
   "metadata": {},
   "source": [
    "- Spectrum $X[k]$ is symmetric around $k = N/2$.\n",
    "- Re$\\{X[k]\\}$ and Im$\\{X[k]\\}$ are not that useful.\n",
    "- $\\lvert X[k]\\lvert$ looks promising.\n",
    "- $\\angle X[k]$ is only meaningful for $k$ when $\\lvert X[k]\\lvert \\gt \\epsilon$"
   ]
  },
  {
   "cell_type": "markdown",
   "metadata": {},
   "source": [
    "### Recovering $A$, $\\phi$, and $f$\n",
    "\n",
    "To recover $A$ and $\\phi$ for a given $k$:\n",
    "\n",
    "$$A = {1 \\over N} (\\lvert X[k]\\lvert + \\lvert X[-k] \\lvert) = {2 \\over N} \\lvert X[k]\\lvert $$\n",
    "$$ \\phi = \\angle X[k]$$\n",
    "\n",
    "- $X$ is cyclical: $X[-k] = X[N-k]$\n",
    "- When $x[n]$ is a _real_ function, $\\lvert X \\lvert$ has even symmetry so $\\lvert X[k] \\lvert = \\lvert X[-k] \\lvert$"
   ]
  },
  {
   "cell_type": "code",
   "execution_count": null,
   "metadata": {},
   "outputs": [],
   "source": [
    "for k in (1,3,8, 10):\n",
    "    mag = dft_mag[k]\n",
    "    a = 2 * dft_mag[k] / N\n",
    "    phi = dft_ph[k]\n",
    "    print(f'k = {k}: mag(X) = {mag:.2f}. A = {a:.2f}. phase(X) = {phi:.2f}')"
   ]
  },
  {
   "cell_type": "markdown",
   "metadata": {},
   "source": [
    "## Arriving at the DFT\n",
    "\n",
    "- Dot Product\n",
    "- Orthogonality of Sinusoids\n",
    "- Sinusoid Probes\n",
    "- Sinusoid Quadrature Phase\n",
    "- Two Sinusoid Probes\n",
    "- Complex Notation"
   ]
  },
  {
   "cell_type": "markdown",
   "metadata": {},
   "source": [
    "### Dot Product\n",
    "\n",
    "The _dot product_ or _inner product_ is a mathematical operation on 2 vectors of the same length:\n",
    "\n",
    "$\\langle x, s \\rangle = \\sum_{n=0}^{N-1}x[n] \\cdot s[n]$\n",
    "\n",
    "$x[n], n \\in [0, N-1]$ or $x \\in \\Bbb R^N$  \n",
    "$s[n], n \\in [0, N-1]$ or $s \\in \\Bbb R^N$  \n",
    "\n",
    "Take two signals. Multiply the elements. Add the result together to get one _scalar value_.\n",
    "\n",
    "Even though $x[n]$ is a time series, you can think of it as a single vector in an $N$ dimensional space. Or: $x \\in \\Bbb R^N$\n",
    "\n",
    "The intuition behind $\\langle x, s \\rangle$ is \"how much of $s$ is in $x$\" or \"how much do $s$ and $x$ have in common\"?\n",
    "\n",
    "The actual formula for projection (how much of $s$ is in $x$) is given by:  \n",
    "$$\\alpha = {\\langle x, s \\rangle \\over \\Vert s \\Vert}$$\n",
    "$\\alpha$ is the _coefficient of projection_ when determining the projection of $x$ onto $s$.\n",
    "\n",
    "If $x$ and $s$ are _orthogonal_ ($x \\perp s$) then the dot product is zero: $\\langle x, s \\rangle = 0$.\n",
    "\n",
    "<font color='red'>__Whiteboard__</font>: Dot Product"
   ]
  },
  {
   "cell_type": "code",
   "execution_count": null,
   "metadata": {},
   "outputs": [],
   "source": [
    "# Example:\n",
    "\n",
    "x = np.array((1,5,4))\n",
    "s = np.array((-.6,0,.8))\n",
    "\n",
    "print('x = ', x)\n",
    "print('s = ', s)\n",
    "\n",
    "print('method 1: <x,s> = ', np.sum(x * s))\n",
    "print('method 2: <x,s> = ', np.dot(x, s))"
   ]
  },
  {
   "cell_type": "markdown",
   "metadata": {},
   "source": [
    "###  Orthogonality of Sinusoids\n",
    "\n",
    "Let's find the dot product of two sinusoids of length $N$:  \n",
    "$x_1[n] = \\{ A_1, k_1, \\phi_1 \\}$  \n",
    "$x_2[n] = \\{ A_2, k_2, \\phi_2 \\}$  \n",
    "where $k_1, k_2$ are integers.\n",
    "\n",
    "If $k_1 \\neq k_2$, the two sinusoids are _orthogonal_, and $\\langle x_1, x_2 \\rangle = 0$."
   ]
  },
  {
   "cell_type": "code",
   "execution_count": null,
   "metadata": {},
   "outputs": [],
   "source": [
    "@interact( k1=(1, 10), k2 = (1,10), ph2 = fmp.slider(0, 3.14, 0) )\n",
    "def sinusoid_dot_product(k1=2, k2=3, ph2=0) :\n",
    "    N = 100\n",
    "    x1 = make_cosine(1, k1, 0, N)\n",
    "    x2 = make_cosine(1, k2, ph2, N)\n",
    "    x1x2 = x1 * x2\n",
    "    dp = np.sum(x1x2)\n",
    "    plt.figure()\n",
    "    plt.subplot(2,1,1)\n",
    "    plt.plot(x1)\n",
    "    plt.plot(x2)\n",
    "    plt.subplot(2,1,2)\n",
    "    plt.plot(x1x2, 'r')\n",
    "    plt.ylim(-1,1)\n",
    "    plt.ylabel('$x_1 \\cdot x_2$')\n",
    "    plt.xlabel('n')\n",
    "    plt.text(70, 0.7, f'< x1 , x2 > = {dp:.2f}', size=15)\n",
    "    plt.grid()\n",
    "    plt.show()"
   ]
  },
  {
   "cell_type": "markdown",
   "metadata": {},
   "source": [
    "### Sinusoid Probes\n",
    "\n",
    "We can use the orthogonality principle to extract $A$ and $\\phi$ at a given $k$ using the dot product!\n",
    "\n",
    "To find out if $x[n]$ has a sinusoid with frequency $k$:\n",
    "- create a \"prototype\" or \"probe\" function: $s_{k,\\phi}[n] = \\cos(2\\pi kn/N + \\phi)$\n",
    "- take the dot product $\\langle x, s_{k,\\phi} \\rangle$\n",
    "- try all values of $\\phi$ until we get the best (highest) amount.\n",
    "\n",
    "Example: $x[n] = 4 \\cos(2\\pi 9n/N + 0.7) \\rightarrow \\{A = 4, k = 9, \\phi=0.7\\}$\n",
    "\n",
    "- If the $k$'s don't match, $\\langle x, s_{k,\\phi} \\rangle = 0$.\n",
    "- If the $k$'s do match, $\\langle x, s_{k,\\phi} \\rangle$ depends on $\\phi$."
   ]
  },
  {
   "cell_type": "code",
   "execution_count": null,
   "metadata": {},
   "outputs": [],
   "source": [
    "# try with a single sinusoid\n",
    "x = make_cosine(4, 9, 0.7, 100)\n",
    "\n",
    "# also try funky_x\n",
    "# x = funky_x\n",
    "\n",
    "@interact( k_s=(0,15), phi_s=fmp.slider(-1.0, 3.0, 0) )\n",
    "def probe_test(k_s=0, phi_s=0) :\n",
    "    N = len(x)\n",
    "    s = make_cosine(1, k_s, phi_s, N)\n",
    "    amount = np.dot( x , s )\n",
    "    plt.figure(figsize=(10,6))\n",
    "    plt.subplot(2,1,1)\n",
    "    plt.plot(x)\n",
    "    plt.plot(s)\n",
    "    plt.legend(('signal', 'probe'), loc='upper right')\n",
    "\n",
    "    plt.subplot(2,1,2)\n",
    "    plt.plot(x * s, 'r')\n",
    "    plt.ylim(-4,4)\n",
    "    plt.xlabel('n')\n",
    "    plt.grid()\n",
    "    txt = f'$<x,s_k> = {amount:.2f}$' % amount\n",
    "    plt.text(70, 2.5, txt, size=20, bbox=dict(fc='white'))\n",
    "    plt.show()"
   ]
  },
  {
   "cell_type": "markdown",
   "metadata": {},
   "source": [
    "How do we \"recover\" $A$ and $\\phi$?\n",
    "\n",
    "$$ \\phi^* = \\underset{\\phi}{\\operatorname{arg max}} \\langle x, s_{k,\\phi} \\rangle  $$\n",
    "\n",
    "$$ A = {\\frac 2 N} \\langle x, s_{k,\\phi^*} \\rangle $$\n",
    "\n",
    "\n",
    "This works and will produce the DFT, but is a rather silly approach."
   ]
  },
  {
   "cell_type": "markdown",
   "metadata": {},
   "source": [
    "###  Sinusoid Quadrature Phase\n",
    "\n",
    "Remember this trig identity?\n",
    "\n",
    "$$\\cos(\\alpha+\\beta) = \\cos(\\alpha) \\cos(\\beta) - \\sin(\\alpha) \\sin(\\beta)$$\n",
    "\n",
    "Let's apply this rule to our sinusoid $ x[n] = \\{ A, k, \\phi \\} = A \\cos(2 \\pi {k \\over N} n + \\phi)$\n",
    "\n",
    "and to save ink, define $ \\omega_k = 2 \\pi {k \\over N} $\n",
    "\n",
    "$$\n",
    "\\begin{align}\n",
    "x[n] & = A \\cos(\\omega_k n + \\phi) \\\\\n",
    "     & = A \\cos(\\omega_k n) \\cos(\\phi) - A \\sin(\\omega_k n) \\sin(\\phi) \\\\\n",
    "     & = A_1 \\cos(\\omega_k n) - A_2 \\sin(\\omega_k n) \\\\\n",
    "\\end{align}\n",
    "$$\n",
    "\n",
    "where \n",
    "\n",
    "$$A_1 = A\\cos(\\phi)$$\n",
    "$$A_2 = A\\sin(\\phi)$$\n",
    "\n",
    "Any sinusoid (with arbitrary phase) can be expressed as the sum of two properly weighted _quadrature-phased_ sinusoids (i.e, separated by $90°$).\n",
    "\n",
    "In other words, the original amplitude and phase $\\{A, \\phi\\}$ can be represented by two amplitudes $\\{A_1, A_2\\}$.\n",
    "\n",
    "Or, going the other way:\n",
    "$$A = \\sqrt{A_1^2 + A_2^2}$$\n",
    "$$\\phi = \\arctan(A_2, A_1)$$ \n",
    "\n",
    "<font color='red'>__Whiteboard__</font>: Quadrature Phase\n",
    "\n",
    "Here is an example of this working (with $k=4$):"
   ]
  },
  {
   "cell_type": "code",
   "execution_count": null,
   "metadata": {},
   "outputs": [],
   "source": [
    "@interact( a=fmp.slider(1., 2.), phi = fmp.slider(0, 2 * np.pi) )\n",
    "def quadrature(a=1, phi = 0) :\n",
    "    k = 4\n",
    "    N = 100\n",
    "    # compute A_1 and A_2\n",
    "    a1 = a * np.cos(phi)\n",
    "    a2 = a * np.sin(phi)\n",
    "    \n",
    "    # create the cosine and sine based on A_1 and A_2\n",
    "    s1 = make_cosine(a1, k, 0, N)\n",
    "    s2 = - make_sine(a2, k, 0, N)\n",
    "    \n",
    "    # s1 + s2:\n",
    "    x = s1 + s2\n",
    "    \n",
    "    plt.figure()\n",
    "    plt.subplot(2,1,2)\n",
    "    plt.plot(s1)\n",
    "    plt.plot(s2)\n",
    "    plt.ylim(-2, 2)\n",
    "    plt.legend((f'${a1:.2f}\\cos(\\omega_k n)$', f'${-a2:.2f}\\sin(\\omega_k n)$'), loc='upper right')\n",
    "\n",
    "    plt.subplot(2,1,1)\n",
    "    plt.plot(x, 'r')\n",
    "    plt.ylim(-2, 2)\n",
    "    \n",
    "    plt.ylabel('$s_1 + s_2$')\n",
    "    plt.show()"
   ]
  },
  {
   "cell_type": "markdown",
   "metadata": {},
   "source": [
    "### Two Sinusoid Probes\n",
    "\n",
    "The innovation is to use the quadrature trick in reverse.\n",
    "\n",
    "Instead of testing $x[n]$ with the single probe $s_{k, \\phi}[n] = \\cos(2\\pi kn/N + \\phi)$, we create TWO __zero-phase__ quadrature probes:\n",
    "\n",
    "$$s_{1k}[n] = \\cos(2\\pi kn/N) = \\cos(\\omega_k n) $$\n",
    "and\n",
    "$$s_{2k}[n] = -\\sin(2\\pi kn/N) = -\\sin(\\omega_k n) $$\n",
    "\n",
    "So we run two tests:\n",
    "- $S_1 = \\langle x, s_{1k} \\rangle$\n",
    "- $S_2 = \\langle x, s_{2k} \\rangle$\n",
    "\n",
    "$S_1$ is \"how much cosine of frequency $k$ is in $x[n]$\".  \n",
    "$S_2$ is \"how much (negative) sine of frequency $k$ is in $x[n]$\".  \n",
    "\n",
    "To see why this works, say our signal has just one sinusoid: $x[n] = A \\cos(\\omega_k n + \\phi)$\n",
    "\n",
    "By quadrature phase, the signal can be written: $x[n] = A_1 \\cos(\\omega_k n) - A_2 \\sin(\\omega_k n)$\n",
    "\n",
    "Apply the first probe:\n",
    "\n",
    "$$ S_1 = \\langle x, s_{1k}\\rangle = \\sum (A_1 \\cos(\\omega_k n) - A_2 \\sin(\\omega_k n)) \\cos(\\omega_k n)$$\n",
    "\n",
    "But sine and cosine are orthogonal, so we simplify\n",
    "$$ S_1 = \\sum A_1 \\cos(\\omega_k n) \\cos(\\omega_k n) =  \\sum A_1 \\cos^2(\\omega_k n)$$\n",
    "\n",
    "And because  $ \\sum_{n=0}^{N-1} \\cos^2(\\omega_k n) = N / 2 $ (for any value of $k$... not proven here, but it is!)\n",
    "\n",
    "We get:\n",
    "$$ S_1 = {N \\over 2} A_1 $$\n",
    "\n",
    "The same idea holds for $S_2$, so we have:\n",
    "\n",
    "- $A_1 = {2 \\over N} S_1$\n",
    "- $A_2 = {2 \\over N} S_2$\n",
    "\n",
    "With these two numbers, we can reconstruct the parameters $ \\{ A, \\phi \\}$ for the $k$-sinusoid in $x[n]$:\n",
    "$$A = \\sqrt{A_1^2 + A_2^2} = {2 \\over N} \\sqrt{S_1^2 + S_2^2} $$\n",
    "$$\\phi = \\arctan(A_2, A_1)$$\n",
    "\n",
    "And this helps explain where that $2/N$ factor came from in our earlier observations.\n",
    "\n",
    "\n",
    "An example:"
   ]
  },
  {
   "cell_type": "code",
   "execution_count": null,
   "metadata": {},
   "outputs": [],
   "source": [
    "x = make_cosine(4, 9, 0.7, 100)\n",
    "\n",
    "# also try funky_x\n",
    "# x = funky_x\n",
    "\n",
    "@interact( k=(0,15) )\n",
    "def probe_test(k=0) :\n",
    "    N = len(x)\n",
    "    s1 = make_cosine(1, k, 0, N) # probe 1\n",
    "    s2 = make_sine(-1, k, 0, N)  # probe 2\n",
    "    a1 = np.dot( x , s1 )        # dot product 1\n",
    "    a2 = np.dot( x , s2 )        # dot product 2\n",
    "\n",
    "    A = 2 / N * ((a1**2 + a2**2)**0.5)\n",
    "    phi = np.arctan2(a2, a1)\n",
    "\n",
    "    plt.figure(figsize=(10,6))\n",
    "    plt.subplot(2,2,1)\n",
    "    plt.title('probe 1')\n",
    "    plt.plot(x)\n",
    "    plt.plot(s1)\n",
    "    plt.legend(('signal', 'probe $s_{1k}$'), loc='upper right')\n",
    "\n",
    "    plt.subplot(2,2,3)\n",
    "    plt.plot(x * s1, 'r')\n",
    "    plt.ylim(-4,4)\n",
    "    plt.grid()\n",
    "    txt = f'$S1 = <x,s_{{{\"1k\"}}}> = {a1:.2f}$'\n",
    "    plt.text(40, -3, txt, size=12, bbox=dict(fc='white'))\n",
    "    \n",
    "    plt.subplot(2,2,2)\n",
    "    plt.title('probe 2')\n",
    "    plt.plot(x)\n",
    "    plt.plot(s2)\n",
    "    plt.legend(('signal', 'probe $s_{2k}$'), loc='upper right')\n",
    "\n",
    "    plt.subplot(2,2,4)\n",
    "    plt.plot(x * s2, 'r')\n",
    "    plt.ylim(-4,4)\n",
    "    plt.grid()\n",
    "    txt = f'$S2 = <x,s_{{{\"2k\"}}}> = {a2:.2f}$'\n",
    "    plt.text(40, -3, txt, size=12, bbox=dict(fc='white'))    \n",
    "    \n",
    "    txt = '$\\sqrt{S_1^2 + S_2^2}=%.2f$\\n$A = %.2f$\\n$\\phi = %.2f$' % (((a1**2 + a2**2)**0.5), A, phi)\n",
    "    plt.text(-30,-10,txt, size=17, bbox=dict(fc='white'))\n",
    "    plt.show()"
   ]
  },
  {
   "cell_type": "markdown",
   "metadata": {
    "collapsed": true
   },
   "source": [
    "### Complex Notation\n",
    "\n",
    "Our test probes for a particular $k$ are:\n",
    "- $s_{1k}[n] = \\cos(2\\pi kn/N)$.\n",
    "- $s_{2k}[n] = -\\sin(2\\pi kn/N)$.\n",
    "\n",
    "The tests we run are:\n",
    "- $S_1 = \\langle x, s_{1k} \\rangle$\n",
    "- $S_2 = \\langle x, s_{2k} \\rangle$\n",
    "\n",
    "We now treat $s_{1k}$ and $s_{2k}$ as the _real_ and _imaginary_ parts of a single _complex_ probe:\n",
    "\n",
    "$$ s_k[n] = s_{1k}[n] + j s_{2k}[n] $$\n",
    "\n",
    "The two probe dot products become a single dot product:\n",
    "\n",
    "$$ \\langle x, s_{1k} \\rangle + j \\langle x, s_{2k} \\rangle = \\langle x, s_{1k} + j s_{2k} \\rangle = \\langle x, s_k \\rangle $$\n",
    "\n",
    "Remember Euler's formula?\n",
    "\n",
    "$$ e^{j\\theta} = \\cos(\\theta) + j \\sin(\\theta) $$\n",
    "\n",
    "$\n",
    "\\begin{align}\n",
    "s_k[n] & = s_{1k}[n] + j s_{2k}[n] \\\\\n",
    "     & = \\cos(2\\pi kn / N) - j\\sin(2\\pi kn/N) \\\\\n",
    "     & = \\cos( - 2\\pi kn / N) + j\\sin( - 2\\pi kn/N) \\\\\n",
    "     & = e^{-j 2\\pi kn / N} \\\\\n",
    "\\end{align}\n",
    "$ \n",
    "\n",
    "So, our single complex probe is:\n",
    "     $$ s_k[n] = e^{-j 2\\pi kn / N} $$\n",
    "\n",
    "<font color='red'>__Whiteboard__</font>: Euler Formula\n"
   ]
  },
  {
   "cell_type": "markdown",
   "metadata": {},
   "source": [
    "### Back to the Discrete Fourier Transform\n",
    "\n",
    "We are basically there. The DFT _is_ the dot product of $x$ and the complex probe $s_k$.\n",
    "\n",
    "DFT$(x) = X[k] = \\langle x, s_k \\rangle$, where $X[k]$ is the complex number $S_1 + jS_2$ at $k$.\n",
    "\n",
    "To get the familiar formula, just write out the dot product as a sum:\n",
    "\n",
    "$\n",
    "\\begin{align}\n",
    "X[k] &= \\langle x, s_k \\rangle \\\\\n",
    "     &= \\sum_{n=0}^{N-1} x[n] \\cdot s_k[n]  \\\\\n",
    "     &= \\sum_{n=0}^{N-1} x[n] \\cdot e^{-j2\\pi kn/N}  \\\\\n",
    "\\end{align}\n",
    "$\n",
    "\n",
    "Now we just need to evalute $X[k]$ for $k \\in [0, N-1]$."
   ]
  },
  {
   "cell_type": "code",
   "execution_count": null,
   "metadata": {},
   "outputs": [],
   "source": []
  }
 ],
 "metadata": {
  "kernelspec": {
   "display_name": "Python 3",
   "language": "python",
   "name": "python3"
  },
  "language_info": {
   "codemirror_mode": {
    "name": "ipython",
    "version": 3
   },
   "file_extension": ".py",
   "mimetype": "text/x-python",
   "name": "python",
   "nbconvert_exporter": "python",
   "pygments_lexer": "ipython3",
   "version": "3.9.1"
  },
  "widgets": {
   "state": {
    "2ec3f556c3d1486f8becd5699da61ed0": {
     "views": [
      {
       "cell_index": 33
      }
     ]
    },
    "3bfa50bb5fd340159b33690188f13385": {
     "views": [
      {
       "cell_index": 17
      }
     ]
    },
    "4e98d1e7a6a04fc2ba696e270aec507a": {
     "views": [
      {
       "cell_index": 35
      }
     ]
    },
    "5c972633b59d492aa03fdf71b6d3587a": {
     "views": [
      {
       "cell_index": 30
      }
     ]
    },
    "8ebde9856ac7445fb681900876d177d1": {
     "views": [
      {
       "cell_index": 37
      }
     ]
    },
    "d2aad46a661a41a4997ffc4feaf22fe0": {
     "views": [
      {
       "cell_index": 28
      }
     ]
    },
    "e9ec7b9588f94cc7b8dbfc674aacea0e": {
     "views": [
      {
       "cell_index": 15
      }
     ]
    }
   },
   "version": "1.2.0"
  }
 },
 "nbformat": 4,
 "nbformat_minor": 1
}
