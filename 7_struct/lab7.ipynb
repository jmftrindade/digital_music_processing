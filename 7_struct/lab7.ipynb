{
 "cells": [
  {
   "cell_type": "markdown",
   "metadata": {},
   "source": [
    "# 21M.387 Fundamentals of Music Processing\n",
    "## Lab7"
   ]
  },
  {
   "cell_type": "code",
   "execution_count": null,
   "metadata": {},
   "outputs": [],
   "source": [
    "import numpy as np\n",
    "import matplotlib.pyplot as plt\n",
    "import IPython.display as ipd\n",
    "from ipywidgets import interact\n",
    "import sys\n",
    "sys.path.append(\"..\")\n",
    "import fmplib as fmp\n",
    "from fmplib.pyqueue import connect_to_queue\n",
    "\n",
    "plt.rcParams['figure.figsize'] = (12, 5)\n",
    "plt.rcParams['image.interpolation'] = 'nearest'\n",
    "\n",
    "fmp.documentation_button()"
   ]
  },
  {
   "cell_type": "markdown",
   "metadata": {},
   "source": [
    "## Exercise 1\n",
    "\n",
    "Find a song - ideally 3-5 minutes in length and using Audacity, save it as a 22050Hz, mono wave file.\n",
    "\n",
    "Using [Sonic Visualizer](https://www.sonicvisualiser.org/), add markers to the song at the locations that you consider to be section boundaries:\n",
    "- Open the wave file.\n",
    "- Play it.\n",
    "- Each time you get to a section boundary, hit `;` to add a new \"Time Instance Marker\".\n",
    "- Drag the time line with the navigate tool <img style=\"display: inline-block;\n",
    "\" src='images/sv_navigate.png'> to move around the audio\n",
    "- You can refine markers by using the edit tool <img style=\"display: inline-block;\n",
    "\" src='images/sv_edit.png'>\n",
    "- You can also view and edit markers with `E` to view the layer data.\n",
    "- Export Annotation Layer (from the File Menu) as a text file with settings:\n",
    "  - Column Separator: Tab\n",
    "  - Timing Format: Seconds\n",
    "  - Range to Export: full duration\n",
    "\n",
    "<img src='images/sv_export.png'>\n"
   ]
  },
  {
   "cell_type": "code",
   "execution_count": null,
   "metadata": {},
   "outputs": [],
   "source": [
    "connect_to_queue()"
   ]
  },
  {
   "cell_type": "markdown",
   "metadata": {},
   "source": [
    "## Exercise 2\n",
    "\n",
    "- Load the song file into the variable `snd`\n",
    "- Load the annotations using `load_annotiations(filename)` into the variable `ref` for reference annotation.\n"
   ]
  },
  {
   "cell_type": "code",
   "execution_count": null,
   "metadata": {},
   "outputs": [],
   "source": [
    "def load_annotations(filepath) :\n",
    "    lines = open(filepath).readlines()\n",
    "    return np.array([float(l.split('\\t')[0]) for l in lines])"
   ]
  },
  {
   "cell_type": "code",
   "execution_count": null,
   "metadata": {},
   "outputs": [],
   "source": [
    "snd = ...\n",
    "ref = ..."
   ]
  },
  {
   "cell_type": "code",
   "execution_count": null,
   "metadata": {},
   "outputs": [],
   "source": [
    "connect_to_queue()"
   ]
  },
  {
   "cell_type": "markdown",
   "metadata": {},
   "source": [
    "## Exercise 3\n",
    "\n",
    "Write the function `audio_to_ssm()` that converts the audio into a self-similarity matrix\n",
    "\n",
    "Inputs: \n",
    "- `snd`: the audio\n",
    "- `cens_filt_len`: $l$, the CENS filter length\n",
    "- `cens_ds`: $d$, CENS downsample factor\n",
    "\n",
    "Outputs:\n",
    "- A tuple of the SSM $\\mathbf{S}$ and the feature rate $F_f$\n",
    "\n",
    "Strategy:\n",
    "- Create a regular chromagram using `fmp.make_chromagram` using $N = 4096$, $H = 2048$, $F_s = 22050$.\n",
    "- Use `fmp.cens(chroma, cens_filt_len, cens_ds)` to create a CENS chromagram with window filter length $l$ and downsample factor $d$.\n",
    "- Create $\\mathbf{S}$, the self-similarity matrix from this chromagram."
   ]
  },
  {
   "cell_type": "code",
   "execution_count": null,
   "metadata": {},
   "outputs": [],
   "source": [
    "def audio_to_ssm(snd, cens_filt_len, cens_ds):\n",
    "    pass"
   ]
  },
  {
   "cell_type": "markdown",
   "metadata": {},
   "source": [
    "- Call this function for the song you just loaded using CENS parameters $l=40, d=3$. \n",
    "- Print the feature rate.\n",
    "- Plot the SSM.\n",
    "- Try a few other CENS parameters to see how the resulting SSM changes."
   ]
  },
  {
   "cell_type": "code",
   "execution_count": null,
   "metadata": {},
   "outputs": [],
   "source": [
    "ssm, ff = ..., ...\n",
    "\n",
    "# plot"
   ]
  },
  {
   "cell_type": "code",
   "execution_count": null,
   "metadata": {},
   "outputs": [],
   "source": [
    "connect_to_queue()"
   ]
  },
  {
   "cell_type": "markdown",
   "metadata": {},
   "source": [
    "## Exercise 4a\n",
    "\n",
    "Write the function `make_binary_checkerboard()` to generate a binary checkerboard kernel $\\mathbf{K}_B$. This is a $M \\times M$ square matrix composed of four $L \\times L$ regions where $L = \\frac M 2$. The two regions on the main diagonal have value $1$ while the two other regions are $-1$. \n",
    "\n",
    "Inputs:\n",
    "- `cb_len`: $M$, the full dimension of the checkerboard kernel\n",
    "\n",
    "Output:\n",
    "- an $M \\times M$ binary checkerboard kernel matrix\n"
   ]
  },
  {
   "cell_type": "code",
   "execution_count": null,
   "metadata": {},
   "outputs": [],
   "source": [
    "def make_binary_checkerboard(cb_len):\n",
    "    pass\n"
   ]
  },
  {
   "cell_type": "markdown",
   "metadata": {},
   "source": [
    "Create and plot this checkerboard for $M=40$. What is the length of $\\mathbf{K}_B$ in seconds?"
   ]
  },
  {
   "cell_type": "code",
   "execution_count": null,
   "metadata": {},
   "outputs": [],
   "source": []
  },
  {
   "cell_type": "markdown",
   "metadata": {},
   "source": [
    "## Exercise 4b\n",
    "\n",
    "You can smooth the edges of $\\mathbf{K}_B$ by doing a point-by-point multiplication with a 2-dimensional Gaussian matrix. `fmp.make_2d_gaussian(wlen, eps)` creates a radially symmetric Gaussian function $\\mathbf{G}$ where parameter $\\epsilon$ controls the degree of tapering.\n",
    "\n",
    "Write the function `make_checkerboard()` that creates a tapered checkerboard kernel $\\mathbf{K}_{G} = \\mathbf{G} \\odot \\mathbf{K}_B$ ($\\odot$ means element-wise multiplication).\n",
    "\n",
    "Inputs:\n",
    "- `cb_len`: $M$, the full dimension of the checkerboard kernel\n",
    "- `eps`: $\\epsilon$, the Gaussian tapering parameter\n",
    "\n",
    "Output:\n",
    "- an $M \\times M$ Gaussian smoothed checkerboard kernel matrix\n",
    "\n",
    "Create and plot $\\mathbf{K}_{G}$ with $M = 40$ and $\\epsilon = 1$"
   ]
  },
  {
   "cell_type": "code",
   "execution_count": null,
   "metadata": {},
   "outputs": [],
   "source": [
    "def make_checkerboard(cb_len, eps):\n",
    "    pass\n"
   ]
  },
  {
   "cell_type": "code",
   "execution_count": null,
   "metadata": {},
   "outputs": [],
   "source": [
    "connect_to_queue()"
   ]
  },
  {
   "cell_type": "markdown",
   "metadata": {},
   "source": [
    "## Exercise 5a\n",
    "\n",
    "To find boundary locations, slide $\\mathbf{K}_{G}$ along the main diagonal of $\\mathbf{S}$, summing the element-wise product of $\\mathbf{K}_{G}$ and $\\mathbf{S}$ where they overlap. This produces the boundary novelty function $\\Delta_K[n]$:\n",
    "\n",
    "$$\\Delta_K[n] =  \\sum_{k,l \\in [-L:L-1]} \\mathbf{K}[k, l] \\mathbf{S}[n+k, n+l] $$\n",
    "\n",
    "Write the function `diagonal_slide()` which produces $\\Delta_K[n]$.\n",
    "\n",
    "Inputs:\n",
    "- `ssm`: $\\mathbf{S}$, the self-similarity matrix\n",
    "- `kernel`:  $\\mathbf{K}_{G}$, the checkerboard kernel \n",
    "\n",
    "Ouput:\n",
    "- $\\Delta_K[n]$\n",
    "\n",
    "The easiest way to handle areas where $\\mathbf{K}_{G}$ does not overlap $\\mathbf{S}$ is to zero-pad $\\mathbf{S}$ with $L = \\frac M 2$ zeros on all sides.\n",
    "\n",
    "\n",
    "\n",
    "Plot $\\Delta_K[n]$."
   ]
  },
  {
   "cell_type": "code",
   "execution_count": null,
   "metadata": {},
   "outputs": [],
   "source": [
    "def diagonal_slide(ssm, kernel):\n",
    "    pass\n"
   ]
  },
  {
   "cell_type": "markdown",
   "metadata": {},
   "source": [
    "To check your answer, the curve you get for $\\Delta_K[n]$ should be the same as this:"
   ]
  },
  {
   "cell_type": "code",
   "execution_count": null,
   "metadata": {},
   "outputs": [],
   "source": [
    "plt.plot(fmp.diagonal_slide(ssm, fmp.make_checkerboard(40, True, False)))\n",
    "plt.show()"
   ]
  },
  {
   "cell_type": "markdown",
   "metadata": {},
   "source": [
    "## Exercise 5b\n",
    "\n",
    "Find the peaks of $\\Delta_K[n]$ using `fmp.find_region_peaks(x, region_len)`. This peak finding variant will only return the highest peak within a neighborhood of `region_len` samples around that peak. Use a neighborhood of 15 seconds (but remember that you must convert seconds to samples).\n",
    "\n",
    "These peaks are the estimates of the boundary locations. Plot the novelty function and the locations of the peaks."
   ]
  },
  {
   "cell_type": "code",
   "execution_count": null,
   "metadata": {},
   "outputs": [],
   "source": []
  },
  {
   "cell_type": "code",
   "execution_count": null,
   "metadata": {},
   "outputs": [],
   "source": [
    "connect_to_queue()"
   ]
  },
  {
   "cell_type": "markdown",
   "metadata": {},
   "source": [
    "## Exercise 6a\n",
    "\n",
    "- Convert the reference annotations from Exercise 2 (which are in seconds) to the feature rate of the novelty curve.\n",
    "- Recreate the plot above (novelty and boundary estimates), and add an additional plot for the reference annotations using `plt.vlines()`."
   ]
  },
  {
   "cell_type": "code",
   "execution_count": null,
   "metadata": {},
   "outputs": [],
   "source": []
  },
  {
   "cell_type": "markdown",
   "metadata": {},
   "source": [
    "## Exercise 6b\n",
    "\n",
    "\n",
    "Use the function `fmp.calc_prf(est, ref, tau)` to calculate the Precision, Recall, and F-measure numbers.\n",
    "\n",
    "- `est` is the estimate boundary estimates from your algorithm\n",
    "- `ref` is the reference / ground-truth annotations\n",
    "- `tau` is the comparison window. \n",
    "\n",
    "When comparing an estimated point $b^{\\text{Est}}$ and reference point $b^{\\text{Ref}}$,\n",
    "$\\vert b^{\\text{Est}} - b^{\\text{Ref}} \\vert < \\tau$ indicates a match.\n",
    "\n",
    "Use $\\tau = 3$ seconds. But remember that `tau` must be in the same units as `est` and `ref`.\n",
    "\n",
    "\n",
    "What values do you get for P, R, and F?"
   ]
  },
  {
   "cell_type": "code",
   "execution_count": null,
   "metadata": {},
   "outputs": [],
   "source": []
  },
  {
   "cell_type": "code",
   "execution_count": null,
   "metadata": {},
   "outputs": [],
   "source": [
    "connect_to_queue('checkoff')"
   ]
  },
  {
   "cell_type": "markdown",
   "metadata": {},
   "source": [
    "## Exercise 7\n",
    "\n",
    "As you wait for the checkoff, try adjusting some of the parameters above and see if you can improve your F-measure results. \n",
    "\n",
    "As a reminder, the full set of parameters are:\n",
    "- `cens_filt_len`\n",
    "- `cens_ds`\n",
    "- `cb_len`, (`eps` is not worth modifying)\n",
    "- `region_len`\n",
    "\n",
    "Also look at how precision and recall change as you increase and decrease these parameters."
   ]
  },
  {
   "cell_type": "code",
   "execution_count": null,
   "metadata": {},
   "outputs": [],
   "source": []
  },
  {
   "cell_type": "markdown",
   "metadata": {},
   "source": [
    "# "
   ]
  }
 ],
 "metadata": {
  "kernelspec": {
   "display_name": "Python 3",
   "language": "python",
   "name": "python3"
  },
  "language_info": {
   "codemirror_mode": {
    "name": "ipython",
    "version": 3
   },
   "file_extension": ".py",
   "mimetype": "text/x-python",
   "name": "python",
   "nbconvert_exporter": "python",
   "pygments_lexer": "ipython3",
   "version": "3.9.1"
  }
 },
 "nbformat": 4,
 "nbformat_minor": 1
}
