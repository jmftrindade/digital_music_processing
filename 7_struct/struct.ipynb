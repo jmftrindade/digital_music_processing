{
 "cells": [
  {
   "cell_type": "markdown",
   "metadata": {},
   "source": [
    "# 21M.387 Fundamentals of Music Processing\n",
    "\n",
    "## Structure Analysis\n",
    "\n",
    "In this lecture: analyzing a piece of music to find its underlying structure - areas of similarities, areas of differences, and the boundaries that separate them. We will look at two different (but related) techniques."
   ]
  },
  {
   "cell_type": "code",
   "execution_count": null,
   "metadata": {},
   "outputs": [],
   "source": [
    "import numpy as np\n",
    "import matplotlib.pyplot as plt\n",
    "import IPython.display as ipd\n",
    "from ipywidgets import interact\n",
    "import sys\n",
    "sys.path.append(\"..\")\n",
    "import fmplib as fmp\n",
    "\n",
    "plt.rcParams['figure.figsize'] = (14, 6)\n",
    "plt.rcParams['image.interpolation'] = 'nearest'\n",
    "fmp.documentation_button()"
   ]
  },
  {
   "cell_type": "markdown",
   "metadata": {},
   "source": [
    "## Reading\n",
    "\n",
    "Chapter 4.0 – 4.2 (pp 167 - 194), 4.4 (pp 207 – 215)\n",
    "\n",
    "<img src=\"images/book_cover.png\" width=200>"
   ]
  },
  {
   "cell_type": "markdown",
   "metadata": {},
   "source": [
    "## Goal \n",
    "- To divide audio recording into temporal segments corresponding to musical parts.\n",
    "- To somehow associate or group these parts into categories"
   ]
  },
  {
   "cell_type": "markdown",
   "metadata": {},
   "source": [
    "## Musical Structures\n",
    "\n",
    "### Rock/Pop Example\n",
    "\n",
    "<img src=\"images/pop_song_form.png\" width=400>\n",
    "\n",
    "### Sonata Form\n",
    "\n",
    "<img src=\"images/sonata_form.png\" width=400>\n",
    "\n",
    "### Rondo\n",
    "\n",
    "<img src=\"images/rondo_form.png\" width=400>\n"
   ]
  },
  {
   "cell_type": "markdown",
   "metadata": {},
   "source": [
    "## Principles of Segmentation\n",
    "\n",
    "- Novelty\n",
    "- Homogeneity\n",
    "- Repetition\n",
    "\n",
    "<img src=\"images/image_proc_examples.png\" width=700>\n",
    "\n",
    "Note that novelty and homogeneity are \"two sides of the same coin\"\n",
    "\n",
    "Musical structure can sometimes be ill-defined. Analysis of musical form can be somewhat subjective."
   ]
  },
  {
   "cell_type": "markdown",
   "metadata": {},
   "source": [
    "## Example: Brahms Hungarian Dance #5"
   ]
  },
  {
   "cell_type": "code",
   "execution_count": null,
   "metadata": {},
   "outputs": [],
   "source": [
    "snd = fmp.load_wav(\"audio/brahms_hungarian_dance_5a.wav\")\n",
    "fs = 22050.\n",
    "ipd.Audio(snd, rate = fs)"
   ]
  },
  {
   "cell_type": "code",
   "execution_count": null,
   "metadata": {},
   "outputs": [],
   "source": [
    "@interact(segs=False)\n",
    "def show_png(segs):\n",
    "    global img_name\n",
    "    img_name = \"images/brahms_hungarian5_score%s.png\" % ('', '2')[segs]\n",
    "    return ipd.Image(img_name)"
   ]
  },
  {
   "cell_type": "markdown",
   "metadata": {},
   "source": [
    "The form is:\n",
    "<img src=\"images/brahms_h5_form.png\" width=600>\n",
    "\n",
    "\n",
    "Notes:\n",
    "- __A2__ is an octave higher than __A1__\n",
    "- __A__ and __B__ are in G minor\n",
    "- __C__ is in G major\n",
    "- Note how Repetition, Novelty and Homogeneity appear in this piece.\n",
    "- Note also how this segmentation is somewhat arbitrary."
   ]
  },
  {
   "cell_type": "markdown",
   "metadata": {},
   "source": [
    "## Feature Representation\n",
    "\n",
    "Possible feature choices:\n",
    "- Timbre / Instrumentation: Mel Frequency Cepstral Coefficients (MFCC)\n",
    "- Tempo / Rhythm: Tempograms\n",
    "- Pitch / Harmonic: Chromagrams\n",
    "\n",
    "We will, of course, choose chroma features.\n",
    "\n",
    "Below is the chromagram for the Brahms _Hungarian Dance #5_."
   ]
  },
  {
   "cell_type": "code",
   "execution_count": null,
   "metadata": {},
   "outputs": [],
   "source": [
    "fft_len = 4096\n",
    "hop_size = fft_len // 2\n",
    "cens_filt_len1 = 25\n",
    "cens_ds1 = 3\n",
    "chroma1 = fmp.make_chromagram(snd, fs, fft_len, hop_size, tuning=0.2)\n",
    "chroma1 = fmp.cens(chroma1, cens_filt_len1, cens_ds1)\n",
    "\n",
    "plt.imshow(chroma1, origin='lower', aspect='auto', cmap='Greys')\n",
    "fmp.chord_template_labels(axis=0)\n",
    "plt.colorbar();"
   ]
  },
  {
   "cell_type": "markdown",
   "metadata": {},
   "source": [
    "- Note the predominant energies in $\\mathbf{G}$ and $\\mathbf{D}$.\n",
    "- Note the energies in $\\mathbf{B \\flat}$ and $\\mathbf{B \\natural}$."
   ]
  },
  {
   "cell_type": "markdown",
   "metadata": {},
   "source": [
    "## Self Similarity Matrix (SSM)\n",
    "\n",
    "Overall idea: Compare each element in the feature sequence $x$ to every other element $x$.\n",
    "- Similar to cost matrix used in music alignment.\n",
    "- But, this comparison yields a __score__ value: _Higher_ means _more similar_.\n",
    "- Compare with dot product:\n",
    "$$s(a,b) = \\langle a, b \\rangle$$\n",
    "\n",
    "- $\\mathbf{S}$, the SSM, is $N \\times N$\n",
    "$$ \\mathbf{S}[n,m] = s(x_n,x_m) $$\n",
    "\n",
    "\n",
    "In our case, $s \\in [0,1]$ because:\n",
    "- chroma vectors are all non-negative.\n",
    "- assume chroma vectors are all normalized (length 1).\n",
    "\n",
    "Here is the SSM for the above example:"
   ]
  },
  {
   "cell_type": "code",
   "execution_count": null,
   "metadata": {},
   "outputs": [],
   "source": [
    "ssm1 = fmp.make_ssm(chroma1)\n",
    "plt.figure()\n",
    "plt.imshow(ssm1, origin='lower', vmin=0.2)\n",
    "plt.colorbar()\n",
    "plt.show()"
   ]
  },
  {
   "cell_type": "markdown",
   "metadata": {},
   "source": [
    "Some observations:\n",
    "- Symmetric along diagonal\n",
    "- The diagonal itself is always 1.\n",
    "\n",
    "Interesting landmarks on the SSM are:\n",
    "- Paths: repetition\n",
    "- Blocks: homogeneity\n",
    "- Corners: novelty"
   ]
  },
  {
   "cell_type": "markdown",
   "metadata": {},
   "source": [
    "### Paths"
   ]
  },
  {
   "cell_type": "code",
   "execution_count": null,
   "metadata": {},
   "outputs": [],
   "source": [
    "paths = []\n",
    "paths.append(((0,0), (500,500)))\n",
    "paths.append(((50, 0), (100, 50)))\n",
    "paths.append(((340,0), (390, 50)))\n",
    "paths.append(((160,100), (210, 150)))\n",
    "paths.append(((340,50), (500, 210)))\n",
    "paths.append(((450,105), (500, 155)))\n",
    "paths.append(((390,157), (440, 207)))\n",
    "paths.append(((295,245), (335, 285)))\n",
    "paths.append(((450,392), (500, 442)))\n",
    "\n",
    "\n",
    "@interact(show=False)\n",
    "def doit(show):\n",
    "    plt.imshow(ssm1, origin='lower', cmap='Greys', vmin=0.2);\n",
    "    plt.colorbar();\n",
    "    if show:\n",
    "        fmp.plot_ssm_paths(ssm1.shape[0], paths)\n",
    "    plt.show()"
   ]
  },
  {
   "cell_type": "markdown",
   "metadata": {},
   "source": [
    "<font color='red'>__Whiteboard__</font>: Paths"
   ]
  },
  {
   "cell_type": "markdown",
   "metadata": {},
   "source": [
    "### Blocks"
   ]
  },
  {
   "cell_type": "code",
   "execution_count": null,
   "metadata": {},
   "outputs": [],
   "source": [
    "blocks = [ (0, 0, 100, 100) , (100, 100, 205, 205), (205, 205, 345, 345), \n",
    "          (345,345,390,390), (390,390,500,500) ]\n",
    "@interact(show=False)\n",
    "def doit(show):\n",
    "    plt.imshow(ssm1, origin='lower', cmap='Greys', vmin=0.2);\n",
    "    plt.colorbar();\n",
    "    if show:\n",
    "        fmp.plot_ssm_blocks(ssm1.shape[0], blocks)\n",
    "    plt.show()        "
   ]
  },
  {
   "cell_type": "markdown",
   "metadata": {},
   "source": [
    "<font color='red'>__Whiteboard__</font>: Blocks"
   ]
  },
  {
   "cell_type": "markdown",
   "metadata": {},
   "source": [
    "### Corners"
   ]
  },
  {
   "cell_type": "code",
   "execution_count": null,
   "metadata": {},
   "outputs": [],
   "source": [
    "corners = [ (100, 100) , (205, 205), (390, 390) ]\n",
    "@interact(show=False)\n",
    "def doit(show):\n",
    "    plt.imshow(ssm1, origin='lower', cmap='Greys', vmin=0.2);\n",
    "    plt.colorbar();\n",
    "    if show:\n",
    "        fmp.plot_ssm_corners(ssm1.shape[0], corners)\n",
    "    plt.show()                "
   ]
  },
  {
   "cell_type": "markdown",
   "metadata": {},
   "source": [
    "## Block Enhancements\n",
    "\n",
    "How much filtering / downsampling to apply?"
   ]
  },
  {
   "cell_type": "code",
   "execution_count": null,
   "metadata": {},
   "outputs": [],
   "source": [
    "@interact(idx=(0,4), ssm=False)\n",
    "def test_cens_params(idx=0, ssm=False):\n",
    "    ds =  (1, 5,  10,  20, 40)[idx]\n",
    "    win = (1, 20, 40, 100, 200)[idx]\n",
    "    \n",
    "    chroma = fmp.make_chromagram(snd, fs, fft_len, hop_size, tuning = 0.2)\n",
    "    chroma = fmp.cens(chroma, win, ds)\n",
    "    \n",
    "    if not ssm:\n",
    "        plt.figure(figsize=(10,3))\n",
    "        plt.imshow(chroma, origin='lower', aspect='auto', cmap='Greys');\n",
    "    else:\n",
    "        ssm = fmp.make_ssm(chroma)\n",
    "        plt.figure(figsize=(10,6))\n",
    "        plt.imshow(ssm, origin='lower', cmap='Greys');\n",
    "    txt = 'w_len=%d\\nds=%d' % (win, ds)\n",
    "    plt.text(1.25, .9, txt, fontsize=15, transform=plt.gca().axes.transAxes)\n",
    "    plt.colorbar()\n",
    "    plt.show()        "
   ]
  },
  {
   "cell_type": "markdown",
   "metadata": {},
   "source": [
    "## Segmentation by \"Corner Detection\"\n",
    "\n",
    "- Goal: find locations where musical homogeneity changes\n",
    "- Idea: look for \"corners\" along the diagonal.\n",
    "- Think of a checkerboard"
   ]
  },
  {
   "cell_type": "code",
   "execution_count": null,
   "metadata": {},
   "outputs": [],
   "source": [
    "cb_len = 50\n",
    "cb = fmp.make_checkerboard(cb_len, False, False)\n",
    "plt.figure(figsize = (12,3))\n",
    "plt.imshow(cb, origin='lower', cmap='Greys');\n",
    "plt.colorbar();"
   ]
  },
  {
   "cell_type": "markdown",
   "metadata": {},
   "source": [
    "- This is $\\mathbf{K}_B$, a binary _checkerboard kernel_ of size $M \\times M$, where $M = 2L$.\n",
    "- Slide $\\mathbf{K}_B$ along the diagonal of $\\mathbf{S}$.\n",
    "- Sum the element-wise products of $\\mathbf{K}_B$ (centered at $[n,n]$) and $\\mathbf{S}$. \n",
    "- This produces a __checkboard novelty function__: $\\Delta_K[n]$:\n",
    "\n",
    "$$\\Delta_K[n] =  \\sum_{k,l \\in [-L:L-1]} \\mathbf{K}_B[k, l] \\mathbf{S}[n+k, n+l] $$"
   ]
  },
  {
   "cell_type": "code",
   "execution_count": null,
   "metadata": {},
   "outputs": [],
   "source": [
    "cens_filt_len2 = 40\n",
    "cens_ds2 = 5\n",
    "chroma2 = fmp.make_chromagram(snd, fs, fft_len, hop_size, tuning = 0.2)\n",
    "chroma2 = fmp.cens(chroma2, cens_filt_len2, cens_ds2)\n",
    "ssm2 = fmp.make_ssm(chroma2)\n",
    "\n",
    "@interact(loc=(0,250,20))\n",
    "def checker_test(loc=0):\n",
    "    plt.imshow(ssm2, origin='lower', cmap='PuBu');\n",
    "    plt.colorbar();\n",
    "    \n",
    "    overlay = np.ma.masked_where(True, ssm2)\n",
    "    n = loc\n",
    "    h,w = cb.shape\n",
    "    overlay[n:n+h , n:n+w] = cb\n",
    "\n",
    "    plt.imshow(overlay, origin='lower', cmap='Greys')\n",
    "    plt.show()"
   ]
  },
  {
   "cell_type": "markdown",
   "metadata": {},
   "source": [
    "<font color='red'>__Whiteboard__</font>: Checkerboard Kernel"
   ]
  },
  {
   "cell_type": "markdown",
   "metadata": {},
   "source": [
    "Apply 2D Gaussian $\\mathbf{G}$ to create a tapered checkerboard kernel $\\mathbf{K}_{G} = \\mathbf{G} \\odot \\mathbf{K}_B$ ($\\odot$ means element-wise multiplication)."
   ]
  },
  {
   "cell_type": "code",
   "execution_count": null,
   "metadata": {},
   "outputs": [],
   "source": [
    "cb = fmp.make_checkerboard(cb_len, True, False)\n",
    "plt.figure(figsize = (12,3))\n",
    "plt.imshow(cb, origin='lower', cmap='Greys');\n",
    "plt.colorbar();"
   ]
  },
  {
   "cell_type": "code",
   "execution_count": null,
   "metadata": {},
   "outputs": [],
   "source": [
    "nov_test = fmp.diagonal_novelty(ssm2, cb_len)\n",
    "\n",
    "@interact(loc=(0, 250, 20))\n",
    "def checker_test(loc=0):\n",
    "    plt.figure(figsize=(10,6))\n",
    "    plt.gcf().add_axes((-.35,.25,1,.75))\n",
    "    plt.imshow(ssm2, origin='lower', cmap='PuBu');\n",
    "    plt.colorbar();\n",
    "    \n",
    "    overlay = np.ma.masked_where(True, ssm2)\n",
    "    n = loc\n",
    "    h,w = cb.shape\n",
    "    overlay[n:n+h , n:n+w] = cb\n",
    "    plt.imshow(overlay, origin='lower', cmap='Greys');\n",
    "\n",
    "    plt.gcf().add_axes((0,0,.45,.2))\n",
    "    \n",
    "    win = np.ones(ssm2.shape[0])\n",
    "    win[loc+cb_len:] = 0\n",
    "    plt.plot(nov_test * win)\n",
    "    plt.xlim(0, len(nov_test))\n",
    "    plt.show()"
   ]
  },
  {
   "cell_type": "markdown",
   "metadata": {},
   "source": [
    "### Effect of Kernel Size"
   ]
  },
  {
   "cell_type": "code",
   "execution_count": null,
   "metadata": {},
   "outputs": [],
   "source": [
    "@interact(cb_len=(10, 100, 10)) \n",
    "def checker_test(cb_len=5):\n",
    "    nov = fmp.diagonal_novelty(ssm2, cb_len)    \n",
    "    cb = fmp.make_checkerboard(cb_len, True, True)\n",
    "\n",
    "    plt.figure(figsize=(10,6))\n",
    "    plt.gcf().add_axes((-.35,.25,1,.75))\n",
    "    plt.imshow(ssm2, origin='lower', cmap='PuBu')\n",
    "    plt.colorbar()\n",
    "    \n",
    "    overlay = np.ma.masked_where(True, ssm2)\n",
    "    n = 125 - cb_len//2\n",
    "    h,w = cb.shape\n",
    "    overlay[n:n+h , n:n+w] = cb\n",
    "    plt.imshow(overlay, origin='lower', cmap='Greys')\n",
    "    \n",
    "    ff = fs / hop_size / cens_ds2\n",
    "    txt = f\"Kernel len\\n = {cb_len} pixels\\n = {cb_len / ff:.2f} seconds\"\n",
    "    plt.text(ssm2.shape[1] * 1.25, 0, txt, fontsize=15)\n",
    "\n",
    "    plt.gcf().add_axes((0,0,.45,.2))\n",
    "    plt.plot(nov)\n",
    "    plt.xlim(0, len(nov))\n",
    "    plt.show()\n",
    "    "
   ]
  },
  {
   "cell_type": "markdown",
   "metadata": {},
   "source": [
    "### Final step: pick peaks\n",
    "\n",
    "- Peaks in the novelty curve $\\Delta_K[n]$  $\\rightarrow$ likely segment boundaries\n",
    "- As always, peak picking can be tricky.\n",
    "- Use a variant: find the maximum value within a neighborhood of length $L$."
   ]
  },
  {
   "cell_type": "code",
   "execution_count": null,
   "metadata": {},
   "outputs": [],
   "source": [
    "cb_len = 70\n",
    "nov2 = fmp.diagonal_novelty(ssm2, cb_len)\n",
    "peaks = fmp.find_region_peaks(nov2, int(8 * fs/hop_size/cens_ds2)) # use a neighborhood of 8 seconds\n",
    "plt.figure(figsize=(10,3))\n",
    "plt.plot(nov2)\n",
    "plt.plot(peaks, nov2[peaks], 'ro');"
   ]
  },
  {
   "cell_type": "markdown",
   "metadata": {},
   "source": [
    "### Comparing to Ground Truth\n",
    "\n",
    "- Load annotations (ground truth) of Brahms _Hungarian Dance #5_\n",
    "- Show annotations\n",
    "- Play with two variables:\n",
    "  - Chroma filtering and downsampling\n",
    "  - Checkerboard kernel size"
   ]
  },
  {
   "cell_type": "code",
   "execution_count": null,
   "metadata": {},
   "outputs": [],
   "source": [
    "ref = fmp.load_boundary_annotations(\"audio/brahms_hungarian_dance_5a.lab\")\n",
    "\n",
    "@interact(cb_sec=(4, 40, 4), wi = (0, 3))\n",
    "def checker_test(cb_sec=5, wi=0):\n",
    "    cens_filt_len = (15, 40, 100, 150)[wi]\n",
    "    cens_ds = int(cens_filt_len / 10)\n",
    "    ff = fs / hop_size / cens_ds\n",
    "    chroma = fmp.make_chromagram(snd, fs, fft_len, hop_size, normalize=False, tuning=0.2)\n",
    "    chroma = fmp.cens(chroma, cens_filt_len, cens_ds)\n",
    "    ssm = fmp.make_ssm(chroma)\n",
    "\n",
    "    ff = fs / hop_size / cens_ds\n",
    "    ref_fr = ref * ff\n",
    "\n",
    "    cb_len = int(round(ff * cb_sec)) // 2 * 2 # make kernel even-length\n",
    "    nov = fmp.diagonal_novelty(ssm, cb_len)\n",
    "    cb = fmp.make_checkerboard(cb_len)\n",
    "\n",
    "    plt.figure(figsize=(10,6))\n",
    "    plt.gcf().add_axes((-.35,.25,1,.75))\n",
    "    plt.imshow(ssm, origin='lower', cmap='PuBu');\n",
    "    plt.colorbar();\n",
    "\n",
    "    overlay = np.ma.masked_where(True, ssm)\n",
    "    n = int(ssm.shape[0]*.3 - cb_len/2)\n",
    "    h,w = cb.shape\n",
    "    overlay[n:n+h , n:n+w] = cb\n",
    "    plt.imshow(overlay, origin='lower', cmap='Greys');\n",
    "    \n",
    "    plt.vlines(ref_fr, 0, ssm.shape[0], 'y', linewidth=2)\n",
    "\n",
    "    txt = f\"Chroma:\\n filt = {cens_filt_len}\\n ds = {cens_ds}\\n ff = {cens_ds:.2f}\\n\\n\"\n",
    "    txt += f\"Kernel\\n = {cb_len} pixels\\n = {cb_len / ff:.2f} seconds\"\n",
    "    plt.text(ssm.shape[1] * 1.25, 0, txt, fontsize=15)\n",
    "\n",
    "    peaks = fmp.find_region_peaks(nov, int(6*ff))\n",
    "\n",
    "    plt.gcf().add_axes((0.02,0,.43,.2))\n",
    "    plt.plot(nov)\n",
    "    plt.plot(peaks, nov[peaks], 'ro')\n",
    "    plt.vlines(ref_fr, 0, np.max(nov), 'y', linewidth=2)\n",
    "    plt.xlim(0, len(nov))\n",
    "    plt.show()\n",
    "    "
   ]
  },
  {
   "cell_type": "markdown",
   "metadata": {},
   "source": [
    "### Observations\n",
    "- Kernel Novelty is good for homogeneity / novelty\n",
    "- Finds major _harmonic differences_, but these don't necessarily lie on boundaries\n",
    "- Not good for identifying repetition\n"
   ]
  },
  {
   "cell_type": "markdown",
   "metadata": {},
   "source": [
    "## Segmentation by Repetition\n",
    "\n",
    "- Goal: find locations where music repeats\n",
    "- Idea: look at paths parallel to main diagonal"
   ]
  },
  {
   "cell_type": "code",
   "execution_count": null,
   "metadata": {},
   "outputs": [],
   "source": [
    "paths = []\n",
    "paths.append(((0,0), (500,500)))\n",
    "paths.append(((50, 0), (100, 50)))\n",
    "paths.append(((340,0), (390, 50)))\n",
    "paths.append(((160,100), (210, 150)))\n",
    "paths.append(((340,50), (500, 210)))\n",
    "paths.append(((450,105), (500, 155)))\n",
    "paths.append(((390,157), (440, 207)))\n",
    "paths.append(((295,245), (335, 285)))\n",
    "paths.append(((450,392), (500, 442)))\n",
    "\n",
    "\n",
    "@interact(show=False)\n",
    "def doit(show):\n",
    "    plt.imshow(ssm1, origin='lower', cmap='Greys', vmin=0.2);\n",
    "    plt.colorbar();\n",
    "    if show:\n",
    "        fmp.plot_ssm_paths(ssm1.shape[0], paths)\n",
    "    plt.show()"
   ]
  },
  {
   "cell_type": "markdown",
   "metadata": {},
   "source": [
    "### Path Enhancements\n",
    "\n",
    "Enhance paths by filtering along the diagonal:\n",
    "\n",
    " $$\\mathbf{S}_D[n,m] = {1 \\over L} \\sum_{l=-(L-1)/2}^{(L-1)/2} \\mathbf{S}[n+l, m+l]$$\n",
    "\n",
    "for odd values of $L$.\n",
    "\n",
    "This helps:\n",
    "- fix path imperfections\n",
    "- increase path contrast\n",
    "\n"
   ]
  },
  {
   "cell_type": "code",
   "execution_count": null,
   "metadata": {},
   "outputs": [],
   "source": [
    "@interact(wlen=(1, 45, 4))\n",
    "def test_diag(wlen=0):\n",
    "    ssm_s = fmp.diagonal_smoothing(ssm1, wlen)\n",
    "    plt.imshow(ssm_s, origin='lower', vmin=0.2)\n",
    "    plt.colorbar()\n",
    "    plt.show()\n"
   ]
  },
  {
   "cell_type": "markdown",
   "metadata": {},
   "source": [
    "### Thresholding\n",
    "\n",
    "Improve algorithms performance by removing noise / small variations.\n",
    "\n",
    "For each value in $\\mathbf{S}[n,m]$, keep values $\\mathbf{S}[n,m] \\ge \\tau$, with $\\tau \\in [0,1]$, and set all others to $0$. \n",
    "\n",
    "This results in only having values in the range $[\\tau, 1]$.\n",
    "\n"
   ]
  },
  {
   "cell_type": "code",
   "execution_count": null,
   "metadata": {},
   "outputs": [],
   "source": [
    "@interact(tau=(0.25, 1, 0.05))\n",
    "def test_diag(tau=0):\n",
    "    ssm_s = fmp.diagonal_smoothing(ssm1, 25)\n",
    "    ssm_t = ssm_s.copy()\n",
    "    ssm_t[ssm_t < tau] = 0\n",
    "    plt.imshow(ssm_t, origin='lower', cmap='Greys')\n",
    "    plt.colorbar()\n",
    "    plt.show()\n",
    "    "
   ]
  },
  {
   "cell_type": "markdown",
   "metadata": {},
   "source": [
    "### Thresholding and Scaling\n",
    "\n",
    "As a further enhancement, expand desired values to the full dynamic range.\n",
    "\n",
    "After thresholding with $\\tau$, linearly scale all values in the range $[\\tau, 1]$ to the range $[0, 1]$ to produce $\\mathbf{S}_\\tau$."
   ]
  },
  {
   "cell_type": "code",
   "execution_count": null,
   "metadata": {},
   "outputs": [],
   "source": [
    "@interact(tau=(0.05, .95, 0.05))\n",
    "def test_diag(tau=0):\n",
    "    ssm_s = fmp.diagonal_smoothing(ssm1, 25)\n",
    "    ssm_t = fmp.thresh_and_scale(ssm_s, tau)\n",
    "    plt.imshow(ssm_t, origin='lower', cmap='Greys')\n",
    "    plt.colorbar()\n",
    "    plt.show()"
   ]
  },
  {
   "cell_type": "markdown",
   "metadata": {},
   "source": [
    "### Structure Features\n",
    "\n",
    "- Idea: find locations where structural changes occur:\n",
    "  - local: blocks\n",
    "  - global: repetitions\n",
    "  \n",
    "Create a __time-lag matrix__ from $\\mathbf{S}$ (or enhanced $\\mathbf{S}$):\n",
    "\n",
    "- Begin with $\\mathbf{S}$. Matrix coordinates are (time, time).\n",
    "<img src=\"images/time_lag1.png\" width=200>\n"
   ]
  },
  {
   "cell_type": "markdown",
   "metadata": {},
   "source": [
    "- Apply Matrix Shearing:\n",
    "$$\\mathbf{L}[l,n] = \\mathbf{S}[n+l, n]$$\n",
    "- Matrix coordinates are (lag, time).\n",
    "<img src=\"images/time_lag2.png\" width=200>\n"
   ]
  },
  {
   "cell_type": "markdown",
   "metadata": {},
   "source": [
    "- Arrange the triangles back into a square using _modulo_ to create the __circular time lag__ matrix.\n",
    "$$\\mathbf{L^{\\circ}}[l,n] = \\mathbf{S}[(n+l) \\text{ mod } N, n]$$\n",
    "- Matrix coordinates are (modulo lag, time)\n",
    "<img src=\"images/time_lag3.png\" width=200>"
   ]
  },
  {
   "cell_type": "markdown",
   "metadata": {},
   "source": [
    "What does this lag matrix mean?\n",
    "- large values $\\rightarrow$ similar musical material\n",
    "- comparing columns: horizontal stripes $\\rightarrow$ similar music separated by a constant time offset (lag).\n",
    "\n",
    "\n",
    "<font color='red'>__Whiteboard__</font>: Lag Matrix\n",
    "\n",
    "Back to our path enhanced SSM:"
   ]
  },
  {
   "cell_type": "code",
   "execution_count": null,
   "metadata": {},
   "outputs": [],
   "source": [
    "tau = .85\n",
    "diag_len = 15\n",
    "ssm3 = fmp.diagonal_smoothing(ssm1, diag_len)\n",
    "ssm3 = fmp.thresh_and_scale(ssm3, tau)\n",
    "\n",
    "@interact(lag=False)\n",
    "def test_lag_ssm(lag):\n",
    "    s = fmp.make_lag_matrix(ssm3) if lag else ssm3\n",
    "    plt.imshow(s, origin='lower', cmap='Greys')\n",
    "    plt.colorbar()\n",
    "    plt.show()\n"
   ]
  },
  {
   "cell_type": "markdown",
   "metadata": {},
   "source": [
    "### Derivative Kernel\n",
    "\n",
    "- Act as a horizontal derivative (differentiator across time)\n",
    "- Finds large deltas at the mid-point\n",
    "- Built-in smoothing via Gaussian falloff (like checkerboard)"
   ]
  },
  {
   "cell_type": "code",
   "execution_count": null,
   "metadata": {},
   "outputs": [],
   "source": [
    "ck_len = 40\n",
    "ck = fmp.make_derivative_kernel(100, ck_len)\n",
    "plt.figure(figsize = (12,4))\n",
    "plt.imshow(ck, origin='lower', cmap='Greys');\n",
    "plt.colorbar();"
   ]
  },
  {
   "cell_type": "markdown",
   "metadata": {},
   "source": [
    "This is $\\mathbf{K}_{\\Delta}$, a _derivative kernel_. To use it:\n",
    "- Slide $\\mathbf{K}_{\\Delta}$ horizontally along $\\mathbf{L^{\\circ}}$. At each time step $n$:\n",
    "    - Compute $\\mathbf{D}^{[n]} = \\mathbf{K}_{\\Delta}^{[n]} \\odot \\mathbf{L^{\\circ}}$, where $\\mathbf{K}_{\\Delta}^{[n]}$ is the kernel centered at $n$.\n",
    "    - Sum the rows to produce a column vector $l_{\\Delta}^{[n]} = \\sum_j \\mathbf{D}^{[n]}[m,j]$ \n",
    "    - The magnitude ($L_2$ norm) of $l_{\\Delta}^{[n]}$ represents the likelihood of a structural boundary at $n$.\n",
    "\n",
    "- $\\Delta_S[n] = \\Vert l_{\\Delta}^{[n]} \\Vert$ is the __structure novelty function__."
   ]
  },
  {
   "cell_type": "code",
   "execution_count": null,
   "metadata": {},
   "outputs": [],
   "source": [
    "ck_len = 80\n",
    "lag_ssm = fmp.make_lag_matrix(ssm3)\n",
    "ck = fmp.make_derivative_kernel(lag_ssm.shape[0], ck_len)\n",
    "nov = fmp.column_derivative(lag_ssm, ck_len)\n",
    "\n",
    "@interact(loc=(0, 500 - ck_len, 10), show_ref=False)\n",
    "def column_test(loc=0, show_ref=False):\n",
    "    plt.figure(figsize=(10,6))\n",
    "    plt.gcf().add_axes((-.35,.25,1,.75))\n",
    "    plt.imshow(lag_ssm, origin='lower', cmap='PuBu');\n",
    "    plt.colorbar();\n",
    "    \n",
    "    overlay = np.ma.masked_where(True, lag_ssm)\n",
    "    n = loc\n",
    "    h,w = ck.shape\n",
    "    overlay[:, n:n+w] = ck\n",
    "    plt.imshow(overlay, origin='lower', cmap='Greys');\n",
    "\n",
    "    plt.gcf().add_axes((-.02,0,.49,.2))\n",
    "    \n",
    "    win = np.ones(lag_ssm.shape[0])\n",
    "    win[loc+ck_len:] = 0\n",
    "    plt.plot(nov * win)\n",
    "    plt.ylim(0, np.max(nov))\n",
    "\n",
    "    if show_ref:\n",
    "        ff = fs / hop_size / cens_ds1\n",
    "        ref_fr = ref * ff\n",
    "        plt.vlines(ref_fr, 0, np.max(nov), 'y')\n",
    "    plt.show()\n"
   ]
  },
  {
   "cell_type": "markdown",
   "metadata": {},
   "source": [
    "### Pick Peaks\n",
    "- As before."
   ]
  },
  {
   "cell_type": "code",
   "execution_count": null,
   "metadata": {},
   "outputs": [],
   "source": [
    "@interact(dk_len=(10, 200, 10))\n",
    "def column_test(dk_len=0):\n",
    "    plt.figure(figsize=(10,6))\n",
    "    plt.gcf().add_axes((-.35,.25,1,.75))\n",
    "    plt.imshow(lag_ssm, origin='lower', cmap='PuBu');\n",
    "    plt.colorbar();\n",
    "    \n",
    "    dk = fmp.make_derivative_kernel(lag_ssm.shape[0], dk_len)\n",
    "\n",
    "    overlay = np.ma.masked_where(True, lag_ssm)\n",
    "    n = int(lag_ssm.shape[1]//2) - dk_len//2\n",
    "    h,w = dk.shape\n",
    "    overlay[:, n:n+w] = dk\n",
    "    plt.imshow(overlay, origin='lower', cmap='Greys');\n",
    "\n",
    "    nov = fmp.column_derivative(lag_ssm, dk_len)\n",
    "    ff = fs / hop_size / cens_ds1\n",
    "    peaks = fmp.find_region_peaks(nov, int(6 * ff))\n",
    "    ref_fr = ref * ff\n",
    "    \n",
    "    plt.gcf().add_axes((-.02,0,.49,.2))\n",
    "    plt.plot(nov)\n",
    "    plt.plot(peaks, nov[peaks], 'ro')\n",
    "    plt.vlines(ref_fr, 0, np.max(nov), 'y')\n",
    "    plt.show()\n"
   ]
  },
  {
   "cell_type": "markdown",
   "metadata": {},
   "source": [
    "Observations:\n",
    "- Finds locations at repetition boundaries\n",
    "- Places where paths start and end\n",
    "- Also captures some effects of novelty (from blocks)"
   ]
  },
  {
   "cell_type": "markdown",
   "metadata": {},
   "source": [
    "## Evaluation\n",
    "\n",
    "- Ground truth (or _reference annotations_) for segmentation contains two types of information\n",
    "  - Boundaries\n",
    "  - Labels\n",
    "\n",
    "- We will have a closer look at boundaries."
   ]
  },
  {
   "cell_type": "markdown",
   "metadata": {},
   "source": [
    "### Annotation Ambiguity\n",
    "\n",
    "There is no \"one correct annotation\" for segmentation. For example, in the Hungarian Dance:\n",
    "\n",
    "<img src=\"images/brahms_multi_annotations.png\" width=400>"
   ]
  },
  {
   "cell_type": "markdown",
   "metadata": {},
   "source": [
    "### Precision, Recall, F-measure\n",
    "\n",
    "A commonly used evaluation criteria for classification / estimation algorithms.\n",
    "\n",
    "Estimation results are compared to Reference annotations. There are four possible results:\n",
    "- True Positive\n",
    "- True Negative\n",
    "- False Positive\n",
    "- False Negative\n",
    "\n",
    "In binary classification, all four results may apply:\n",
    "\n",
    "|Estimate |Reference |Result|\n",
    "|-|-|-|\n",
    "|Pos|Pos|True Positive|\n",
    "|Neg|Neg|True Negative|\n",
    "|Pos|Neg|False Positive|\n",
    "|Neg|Pos|False Negative|\n",
    "\n",
    "\n",
    "In boundary evaluation, we compare two boundary annotations - sequences of time values:\n",
    "$$B^{\\text{Est}} = (b_1, b_2, \\dots, b_j)$$\n",
    "$$B^{\\text{Ref}} = (b_1, b_2, \\dots, b_k)$$\n",
    "\n",
    "where each $b$ is a value in seconds.\n",
    "\n",
    "To compare a particular $b_j^{\\text{Est}}$ with a $b_k^{\\text{Ref}}$:\n",
    "- a \"match\" is when $\\vert b^{\\text{Est}} - b^{\\text{Ref}} \\vert < \\tau$\n",
    "- all matches count towards _True Positive_ (#TP)\n",
    "- all remaining $b^{\\text{Est}}$ count towards _False Positive_ (#FP)\n",
    "- all remaining $b^{\\text{Ref}}$ count towards _False Negative_ (#FN)\n",
    "- _True Negative_ is not a meaningful category\n",
    "\n",
    "Precision is:\n",
    "$$P = {\\text{#TP} \\over \\text{#TP} + \\text{#FP}} $$\n",
    "\n",
    "Recall is:\n",
    "$$R = {\\text{#TP} \\over \\text{#TP} + \\text{#FN}} $$\n",
    "\n",
    "F-measure combines the two:\n",
    "$$F =  {2 \\cdot P \\cdot R \\over  P + R }  $$\n",
    "\n",
    "<font color='red'>__Whiteboard__</font>: F-Measure\n"
   ]
  },
  {
   "cell_type": "markdown",
   "metadata": {},
   "source": [
    "Example:"
   ]
  },
  {
   "cell_type": "code",
   "execution_count": null,
   "metadata": {},
   "outputs": [],
   "source": [
    "# helper function for seeing results\n",
    "def plot_est_ref(nov, est_fr, ref_fr, ff): \n",
    "    est_tp, est_fp, ref_tp, ref_fn = fmp.pos_neg_split(est_fr, ref_fr, 3. * ff)\n",
    "    P, R, F = fmp.calc_prf(est_fr, ref_fr, 3. * ff)\n",
    "    \n",
    "    txt =  f\"P = {P:.2f}\\n\"\n",
    "    txt += f\"R = {R:.2f}\\n\"\n",
    "    txt += f\"F = {F:.2f}\\n\"\n",
    "    \n",
    "    plt.figure(figsize=(12,3))\n",
    "    plt.plot(nov)\n",
    "    plt.plot(est_tp, nov[est_tp], 'go')\n",
    "    plt.plot(est_fp, nov[est_fp], 'ro')\n",
    "    plt.vlines(ref_tp, 0, np.max(nov), 'g', linewidth=2)\n",
    "    plt.vlines(ref_fn, 0, np.max(nov), 'y', linewidth=2)\n",
    "    plt.xlim(0, len(nov))\n",
    "    plt.text(.8, 1, txt, fontsize=15, transform=plt.gca().axes.transAxes)\n"
   ]
  },
  {
   "cell_type": "markdown",
   "metadata": {},
   "source": [
    "Using checkerboard novelty method:"
   ]
  },
  {
   "cell_type": "code",
   "execution_count": null,
   "metadata": {},
   "outputs": [],
   "source": [
    "@interact(cb_len=(8, 80, 8))\n",
    "def checker_test(cb_len=4):\n",
    "    nov = fmp.diagonal_novelty(ssm2, cb_len)\n",
    "    ff = fs / hop_size / cens_ds2\n",
    "    est = fmp.find_region_peaks(nov, int(8 * ff))\n",
    "    plot_est_ref(nov, est, ref * ff, ff)\n",
    "    plt.show()\n",
    "    "
   ]
  },
  {
   "cell_type": "markdown",
   "metadata": {},
   "source": [
    "Use structure features method:"
   ]
  },
  {
   "cell_type": "code",
   "execution_count": null,
   "metadata": {},
   "outputs": [],
   "source": [
    "@interact(ck_len=(10, 240, 10))\n",
    "def bounds_test(ck_len=4):\n",
    "    nov = fmp.column_derivative(lag_ssm, ck_len)\n",
    "    ff = fs / hop_size / cens_ds1\n",
    "    est = fmp.find_region_peaks(nov, int(8 * ff))\n",
    "    plot_est_ref(nov, est, ref * ff, ff)\n",
    "    plt.show()"
   ]
  },
  {
   "cell_type": "markdown",
   "metadata": {},
   "source": [
    "## Preparation for Lab 7\n",
    "\n",
    "In Lab 7, you will analyze your own song for section boundaries and compare that analysis to your own ground-truth annotations. Please be prepared by finding, downloading, or otherwise acquiring a short song or piece, ideally 3-5 minutes in length. It should be music that you know well so that you can easily recognize its section boundaries. Convert that file to a mono 22k WAV file using Audacity.\n",
    "\n",
    "Also install [Sonic Visualizer](https://www.sonicvisualiser.org/).\n"
   ]
  },
  {
   "cell_type": "code",
   "execution_count": null,
   "metadata": {},
   "outputs": [],
   "source": []
  }
 ],
 "metadata": {
  "kernelspec": {
   "display_name": "Python 3",
   "language": "python",
   "name": "python3"
  },
  "language_info": {
   "codemirror_mode": {
    "name": "ipython",
    "version": 3
   },
   "file_extension": ".py",
   "mimetype": "text/x-python",
   "name": "python",
   "nbconvert_exporter": "python",
   "pygments_lexer": "ipython3",
   "version": "3.9.1"
  },
  "widgets": {
   "state": {
    "1bbbb003252c4f9bae58697ac0550755": {
     "views": [
      {
       "cell_index": 36
      }
     ]
    },
    "1d8da3af9ef44dea8bf9e6d1c4e861fc": {
     "views": [
      {
       "cell_index": 41
      }
     ]
    },
    "24237348635145fdb0281f3aae3fd175": {
     "views": [
      {
       "cell_index": 30
      }
     ]
    },
    "32488956d48b45959a59df0a24e31f3d": {
     "views": [
      {
       "cell_index": 45
      }
     ]
    },
    "40b5b5ecf10c4e5aa017980ab38bb5e7": {
     "views": [
      {
       "cell_index": 17
      }
     ]
    },
    "4a68f00d80d74ab5b3f790ad5d566958": {
     "views": [
      {
       "cell_index": 54
      }
     ]
    },
    "4da0cea4e11d4950817f457cdcee20f7": {
     "views": [
      {
       "cell_index": 39
      }
     ]
    },
    "77bdb28e9915481eab1bb56afe91262e": {
     "views": [
      {
       "cell_index": 21
      }
     ]
    },
    "8893432e6fae4fbc844f0ac61cd4b759": {
     "views": [
      {
       "cell_index": 23
      }
     ]
    },
    "a21fc4bc30c9469ea29630e0535aaa58": {
     "views": [
      {
       "cell_index": 68
      }
     ]
    },
    "a3c051c844ce42bc85d629580757f5c8": {
     "views": [
      {
       "cell_index": 56
      }
     ]
    },
    "b70456c5aeb847cfbe078b598925d134": {
     "views": [
      {
       "cell_index": 66
      }
     ]
    },
    "b9567a943542446abdead2cad32d85c9": {
     "views": [
      {
       "cell_index": 8
      }
     ]
    },
    "c2e7b8f61d614d32a5aee922e890e61c": {
     "views": [
      {
       "cell_index": 32
      }
     ]
    },
    "c78f914e6c034c69a06099e622e5fa83": {
     "views": [
      {
       "cell_index": 43
      }
     ]
    },
    "e1b8318523c44effa59e735b8d62dfb8": {
     "views": [
      {
       "cell_index": 27
      }
     ]
    },
    "e525b22aacfe44b7b0a6a33c0aa96205": {
     "views": [
      {
       "cell_index": 50
      }
     ]
    },
    "e8f24a56fceb472e89930c9c58944968": {
     "views": [
      {
       "cell_index": 19
      }
     ]
    }
   },
   "version": "1.2.0"
  }
 },
 "nbformat": 4,
 "nbformat_minor": 1
}
