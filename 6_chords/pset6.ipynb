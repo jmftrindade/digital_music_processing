{
 "cells": [
  {
   "cell_type": "markdown",
   "metadata": {},
   "source": [
    "# 21M.387 Fundamentals of Music Processing\n",
    "## Problem Set 6: Chord Recognition\n",
    "\n",
    "Make sure all your answers and plots display when the code block is run. You can leave word-based answers in code comments or markdown cells.\n",
    "\n",
    "You may use any fmplib functions from __previous__ units in your answers. You may __not__ use any fmplib functions from the current unit in your answers (unless explicitly noted). But you can use the current unit's fmplib for testing your code."
   ]
  },
  {
   "cell_type": "code",
   "execution_count": 3,
   "metadata": {},
   "outputs": [
    {
     "data": {
      "text/html": [
       "<button onclick=\"Jupyter.notebook.kernel.execute('fmp.open_documentation()')\">Open fmplib Documentation</button>"
      ],
      "text/plain": [
       "<IPython.core.display.HTML object>"
      ]
     },
     "metadata": {},
     "output_type": "display_data"
    }
   ],
   "source": [
    "import numpy as np\n",
    "import matplotlib.pyplot as plt\n",
    "import IPython.display as ipd\n",
    "from ipywidgets import interact\n",
    "import sys\n",
    "sys.path.append(\"..\")\n",
    "import fmplib as fmp\n",
    "\n",
    "plt.rcParams['figure.figsize'] = (12, 4)\n",
    "plt.rcParams['image.interpolation'] = 'nearest'\n",
    "\n",
    "fmp.documentation_button()"
   ]
  },
  {
   "cell_type": "markdown",
   "metadata": {},
   "source": [
    "## Exercise 1\n",
    "\n",
    "The data loaded below contains binary chord templates for four chords, arranged as a $4 \\times 12$ matrix.\n",
    "\n",
    "Identify each of the four chords. Visualizing this matrix with `plt.imshow()` can be useful."
   ]
  },
  {
   "cell_type": "code",
   "execution_count": 24,
   "metadata": {},
   "outputs": [
    {
     "data": {
      "image/png": "[encoded data removed]",
      "text/plain": [
       "<Figure size 864x288 with 2 Axes>"
      ]
     },
     "metadata": {
      "needs_background": "light"
     },
     "output_type": "display_data"
    }
   ],
   "source": [
    "some_chords = np.load('data/ex1.npy')\n",
    "\n",
    "c_names = ['E minor', 'D# major', 'A major', 'A# minor']\n",
    "# for i in range(len(c_names)):\n",
    "#     c = some_chords[i,:]\n",
    "#     chord = list(np.where(c > 0)[0])\n",
    "#     name = c_names[i]\n",
    "#     print(f'{chord} ({name})')\n",
    "\n",
    "plt.imshow(np.atleast_2d(some_chords).T, origin='lower', aspect='auto', cmap='Greys')\n",
    "plt.xticks(np.arange(some_chords.shape[0]), ['E minor', 'D# major', 'A major', 'A# minor'])\n",
    "plt.colorbar()\n",
    "plt.show()"
   ]
  },
  {
   "cell_type": "markdown",
   "metadata": {},
   "source": [
    "## Exercise 2\n",
    "\n",
    "In the following example, a simple template-based chord classifier is estimating chords in Bach's first prelude of the _Well-Tempered-Clavier_. The colored labels are as follows:\n",
    "- TP: True Positive - the algorithm picked the correct chord\n",
    "- FN: False Negative - shows the chord that should have been picked, but wasn't\n",
    "- FP: False Positive - shows the incorrect chord that the algorithm picked \n",
    "\n",
    "<img src=\"images/bach_evaluation.png\" width=700>\n",
    "\n",
    "The algorithm is doing a good job in bars 1 and 4, but making more mistakes in bars 2 and 3. Why is this the case?"
   ]
  },
  {
   "cell_type": "markdown",
   "metadata": {},
   "source": [
    "Answer:\n",
    "\n"
   ]
  },
  {
   "cell_type": "markdown",
   "metadata": {
    "collapsed": true
   },
   "source": [
    "## Exercise 3\n",
    "\n",
    "Write the function `make_triads_templates()` to produce $\\mathcal{T}_h$, a harmonics chords template matrix with 24 rows where each row is a chord template:\n",
    "- rows $[0-11]$ are the major triads (starting with __C__)\n",
    "- rows $[12-23]$ are the minor triads (starting with __Cm__)\n",
    "\n",
    "Inputs: \n",
    "- `alpha`: $\\alpha$, the harmonic decay value for creating harmonic templates.\n",
    "\n",
    "Output:\n",
    "- $\\mathcal{T}_h$, the $24 \\times 12$ harmonic chord templates matrix for all major and minor triads\n",
    "\n",
    "For this exercise, you can use `fmp.harmonics_chord_template()`.\n",
    "\n",
    "Test your function with $\\alpha = 0.6$ and plot the resulting matrix with `plt.imshow()`."
   ]
  },
  {
   "cell_type": "code",
   "execution_count": null,
   "metadata": {},
   "outputs": [],
   "source": [
    "def make_triads_templates(alpha) :\n",
    "    pass\n",
    "\n",
    "# plot your result:"
   ]
  },
  {
   "cell_type": "markdown",
   "metadata": {},
   "source": [
    "## Exercise 4\n",
    "\n",
    "Write the function `estimate_chords()` to produce an array of chord estimates given a song's chromagram using the template method described in lecture. \n",
    "\n",
    "Inputs:\n",
    "- `chroma`: $\\mathbf{C}$, the chromagram \n",
    "- `alpha`: $\\alpha$, the parameter for creating the harmonic chord templates $\\mathcal{T}_h$\n",
    "\n",
    "Output:\n",
    "- $\\lambda^{\\text{est}}[n]$, a vector of the same length as $\\mathbf{C}$, containing index values $[0:24)$ of the most likely chord."
   ]
  },
  {
   "cell_type": "code",
   "execution_count": null,
   "metadata": {},
   "outputs": [],
   "source": [
    "def estimate_chords(chroma, alpha):\n",
    "    pass"
   ]
  },
  {
   "cell_type": "markdown",
   "metadata": {},
   "source": [
    "Estimate the chords of the first 51 seconds of _Here Comes the Sun_ by The Beatles using this function.\n",
    "\n",
    "- Create a normalized chromagram using $N=4096, H=2048, \\gamma=1$ using `fmp.make_chromagram()`.\n",
    "- Estimate the chords, storing results in `ex4_est`\n",
    "- Plot the chromagram (in its own figure)\n",
    "- Plot `ex4_est` with a red dot at each point, using 'ro', in its own figure."
   ]
  },
  {
   "cell_type": "code",
   "execution_count": null,
   "metadata": {},
   "outputs": [],
   "source": [
    "snd = fmp.load_wav(\"audio/beatles_here_comes_the_sun.wav\",0, 51)\n",
    "fs = 22050\n",
    "ipd.Audio(snd, rate=fs)\n",
    "\n",
    "ex4_est = ...\n",
    "\n",
    "# plots..."
   ]
  },
  {
   "cell_type": "markdown",
   "metadata": {},
   "source": [
    "## Exercise 5\n",
    "\n",
    "Write `calc_chord_score()`, a function to calculate the score for the estimated chords compared to the ground-truth reference annotated chords, as described in Lecture.\n",
    "\n",
    "Inputs:\n",
    "- `est`: $\\lambda^{\\text{est}}[n]$, the algorithmically generated chord estimate vector\n",
    "- `ref`: $\\lambda^{\\text{ref}}[n]$, the ground truth reference vector\n",
    "\n",
    "Output:\n",
    "- a score value in the range $[0,1]$\n",
    "\n",
    "\n",
    "Assume that $\\lambda^{\\text{est}}[n]$ and $\\lambda^{\\text{ref}}[n]$ are sampled at the same rate $F_f$. However, it is possible that they are not the same length.\n",
    "\n",
    "The score is based on the common (overlapping) region between the two vectors, and also where  $\\lambda^{\\text{ref}}[n] \\ne -1$. That is, ignore regions where no reference chord is annotated in calculating the score.\n"
   ]
  },
  {
   "cell_type": "code",
   "execution_count": null,
   "metadata": {},
   "outputs": [],
   "source": [
    "def calc_chord_score(est, ref):\n",
    "    pass"
   ]
  },
  {
   "cell_type": "markdown",
   "metadata": {},
   "source": [
    "Now calculate the score of the estimated chord of Exercise 4 using the reference annotations `\"audio/beatles_here_comes_the_sun.lab\"`, which you can load with `fmp.load_chord_annotations()`.\n",
    "\n",
    "Call this score `ex5_score`."
   ]
  },
  {
   "cell_type": "code",
   "execution_count": null,
   "metadata": {},
   "outputs": [],
   "source": [
    "ex5_ref = ...\n",
    "ex5_score = ..."
   ]
  },
  {
   "cell_type": "markdown",
   "metadata": {},
   "source": [
    "## Exercise 6\n",
    "\n",
    "This score is quite poor. One reason is that The Beatles played this song with a tuning that is different from $A4=440$.\n",
    "\n",
    "There is an optional parameter in `fmp.make_chromagram()` for providing a tuning value. This is normally 0, but can be used to adjust the tuning of the chromagram by fractional semitones. For example, passing in the argument `tuning = -0.2` will create a chromagram that works well for instruments playing 20 cents flat from $A4=440$. (Remember that 100 cents = 1 semitone).\n",
    "\n",
    "Write the function `calc_chord_score_with_tuning()` that returns a score value, similarly to _Exercise 5_, but with a \"tuned chromagram\" (using the same parameters for $N, H, \\gamma$). If you pass in a tuning value of 0, you should get same score as above.\n",
    "\n",
    "Inputs:\n",
    "- `snd`: the wave data\n",
    "- `ref`: $\\lambda^{\\text{ref}}[n]$, the ground truth reference vector\n",
    "- `tuning`: the tuning parameter for creating the chromagram, with values in the range $[-0.5, +0.5]$ representing a tuning of -50 cents to +50 cents.\n",
    "\n",
    "Output:\n",
    "- the score of the chord estimation"
   ]
  },
  {
   "cell_type": "code",
   "execution_count": null,
   "metadata": {},
   "outputs": [],
   "source": [
    "def calc_chord_score_with_tuning(snd, ref, tuning):\n",
    "    pass"
   ]
  },
  {
   "cell_type": "markdown",
   "metadata": {},
   "source": [
    "Now try a bunch tuning values in the range $[-0.5, +0.5]$ and see what tuning value produces the best chord score. This value is the most likely tuning used in the original recording.\n",
    "\n",
    "Write the function `find_best_tuning()` that returns the best tuning estimate.\n",
    "\n",
    "Inputs:\n",
    "- `snd`: the wave data\n",
    "- `fs`: $F_s$, the sampling rate of `snd`\n",
    "- `fft_size`, `hop_size`, `gamma`: parameters for creating the chromagram\n",
    "- `alpha`: $\\alpha$, the harmonic decay value for creating harmonic templates.\n",
    "- `ref`: $\\lambda^{\\text{ref}}[n]$, the ground truth reference vector\n",
    "\n",
    "Output:\n",
    "- the tuning parameter which maximizes the score of `calc_chord_score_with_tuning()`."
   ]
  },
  {
   "cell_type": "code",
   "execution_count": null,
   "metadata": {},
   "outputs": [],
   "source": [
    "def find_best_tuning(snd, fs, fft_size, hop_size, gamma, alpha, ref):\n",
    "    tunings = np.linspace(-0.5, 0.5, 51)\n",
    "    # complete this function\n"
   ]
  },
  {
   "cell_type": "markdown",
   "metadata": {},
   "source": [
    "Using the same parameters for $N$, $H$, $\\gamma$, and $\\alpha$ as above, calculate and print the best tuning value (storing in `ex6_tuning`). Then, create:\n",
    "- `ex6_chroma`, the properly tuned chromagram\n",
    "- `ex6_est`, the estimated chords for this chromagram\n",
    "- `ex6_score`, the score for these estimated chords\n",
    "\n",
    "As above, plot `ex6_chroma` and `ex6_est`"
   ]
  },
  {
   "cell_type": "code",
   "execution_count": null,
   "metadata": {},
   "outputs": [],
   "source": [
    "ex6_tuning = ...\n",
    "ex6_chroma = ...\n",
    "ex6_est = ...\n",
    "ex6_score = ...\n",
    "\n",
    "# plots..."
   ]
  },
  {
   "cell_type": "markdown",
   "metadata": {},
   "source": [
    "## Exercise 7\n",
    "\n",
    "We have seen examples of temporal smoothing (CENS chromagrams). Here you will create a function that applies temporal smoothing to all the rows of a matrix (like a chromagram).\n",
    "\n",
    "Write the function `temporal_smoothing()` that applies a simple low-pass filter across each row of the input matrix.\n",
    "\n",
    "Inputs:\n",
    "- `mtx`: The input matrix\n",
    "- `win_len`: $L$, the length of a rectangular window used to smooth the matrix\n",
    "\n",
    "Output:\n",
    "- A smoothed matrix of the same dimensions as `mtx`\n",
    "\n",
    "For each row vector $x$ of the input matrix, create a smoothed version, $x^L$ by using `np.convolve()` to convolve $x$ with a rectangular window of length $L$ and amplitude $1/L$. It is the equivalent of performing the operation:\n",
    "\n",
    "$$ x^L[n] = {1 \\over L} \\sum_{l=-L/2}^{L - L/2 - 1}x[n+l] $$\n",
    "\n",
    "In other words, $x^L[n]$ just becomes the average value of its neighbors. To keep $x^L$ the same size as $x$, use the optional argument `mode='same'`."
   ]
  },
  {
   "cell_type": "code",
   "execution_count": null,
   "metadata": {},
   "outputs": [],
   "source": [
    "def temporal_smoothing(mtx, win_len):\n",
    "    pass\n"
   ]
  },
  {
   "cell_type": "markdown",
   "metadata": {},
   "source": [
    "Using `temporal_smoothing()`, write the function `find_best_smoothing_length()` that finds the best window length $L$ to maximize the chords estimation score by testing against different filtered chromagrams.\n",
    "\n",
    "Inputs:\n",
    "- `chroma`: $\\mathbf{C}$, the chromagram\n",
    "- `alpha`: $\\alpha$, the harmonic decay value for creating harmonic templates\n",
    "- `ref`: $\\lambda^{\\text{ref}}[n]$, the ground truth reference vector\n",
    "\n",
    "Output:\n",
    "- the optimal length $L$ which maximizes `calc_chord_score()` when filtering $\\mathbf{C}$ with different lengths."
   ]
  },
  {
   "cell_type": "code",
   "execution_count": null,
   "metadata": {},
   "outputs": [],
   "source": [
    "def find_best_smoothing_length(chroma, alpha, ref):\n",
    "    win_lengths = np.arange(1, 101, 2) # odd values preferred\n",
    "    # complete this function\n"
   ]
  },
  {
   "cell_type": "markdown",
   "metadata": {},
   "source": [
    "Using the a properly tuned chromagram of _Here Comes the Sun_ from _Exercise 6_, calculate and print the best window length value (storing in `ex7_win_len`). Then, create:\n",
    "\n",
    "- `ex7_chroma`, the smoothed chromagram using the optimal $L$\n",
    "- `ex7_est`, the estimated chords for this chromagram\n",
    "- `ex7_score`, the score for these estimated chords\n",
    "\n",
    "As above, plot `ex7_chroma` and `ex7_est`"
   ]
  },
  {
   "cell_type": "code",
   "execution_count": null,
   "metadata": {},
   "outputs": [],
   "source": [
    "ex7_win_len = ...\n",
    "ex7_chroma = ...\n",
    "ex7_est = ...\n",
    "ex7_score = ...\n",
    "\n",
    "# plots..."
   ]
  },
  {
   "cell_type": "markdown",
   "metadata": {},
   "source": [
    "## Exercise 8\n",
    "\n",
    "Write the function `generate_markov_sequence` to generate a random sequence of states.\n",
    "\n",
    "Inputs:\n",
    "- `init_p`: initial probabilities (vector $C$)\n",
    "- `trans_p`: transition probs (matrix $A$)\n",
    "- `length`: length of sequence to generate    \n",
    "\n",
    "Output:\n",
    "- an `np.array` (of type `int`) representing the state \n",
    "\n",
    "Strategy:\n",
    "\n",
    "- First generate the initial state (based on $C$).  \n",
    "- Then generate the rest of the states in a loop (based on $A$)\n",
    "\n",
    "I recommend looking at the function `np.random.choice` and looking closely at the optional input parameter `p`."
   ]
  },
  {
   "cell_type": "code",
   "execution_count": null,
   "metadata": {},
   "outputs": [],
   "source": [
    "def generate_markov_sequence(init_p, trans_p, length):\n",
    "    pass"
   ]
  },
  {
   "cell_type": "markdown",
   "metadata": {},
   "source": [
    "Generate a sequence of length 30 with the Markov parameters below.\n",
    "\n",
    "Run this generating code multiple times. What do you notice about the sequences generated? Why does this happen?"
   ]
  },
  {
   "cell_type": "code",
   "execution_count": null,
   "metadata": {},
   "outputs": [],
   "source": [
    "C = np.array((.8, .2, 0))\n",
    "A = np.array(((.8, .2, 0), (.1, .8, .1), (0, 0, 1.)))\n"
   ]
  },
  {
   "cell_type": "markdown",
   "metadata": {},
   "source": [
    "## Exercise 9\n",
    "\n",
    "There are three probability sets that need to be defined for an HMM model:\n",
    "- $A$, the transition probabilities matrix for the hidden states\n",
    "- $C$, the initial probabilities vector for the hidden states\n",
    "- $B$, the emissions probabilities matrix that relate hidden states to observations\n",
    "\n",
    "In this exercise, you will create these probability sets for the 24-chord model we have been using (12 major, 12 minor). Remember that probabilities must sum to one."
   ]
  },
  {
   "cell_type": "markdown",
   "metadata": {},
   "source": [
    "Write the function `make_trans_prob_matrix()` to create $A$. $A$ should have a large value on the diagonal (ie, self-transition probabilities) and small value everywhere else.\n",
    "\n",
    "Inputs:\n",
    "- `diag_ratio`: the diagonal-to-non-diagonal value (for example `diag_ratio=4` would have the diagonal values be 4x the other values).\n",
    "\n",
    "Returns:\n",
    "- $A$, the probability matrix.\n",
    "\n",
    "Create and plot this matrix for a diagonal ratio of 3 (set as `trans_prob`). Use `plt.colorbar()` so you can graphically inspect the values."
   ]
  },
  {
   "cell_type": "code",
   "execution_count": null,
   "metadata": {},
   "outputs": [],
   "source": [
    "def make_trans_prob_matrix(diag_ratio):\n",
    "    return np.zeros((1,1))\n",
    "\n",
    "trans_prob = ...\n",
    "\n",
    "# plot"
   ]
  },
  {
   "cell_type": "markdown",
   "metadata": {},
   "source": [
    "Write the function `make_init_prob_vector()` to create $C$ where the probability of starting on a major chord can differ from starting on a minor chord.\n",
    "\n",
    "Inputs:\n",
    "- `major_ratio`: the major-chord-to-minor-chord probability ratio (for example `major_ratio=4` would have major chords be 4x more likely than minor chords).\n",
    "\n",
    "Returns:\n",
    "- $C$, the initial probability vector.\n",
    "\n",
    "Create and plot this vector for a major ratio of 3 (set as `init_prob`)."
   ]
  },
  {
   "cell_type": "code",
   "execution_count": null,
   "metadata": {},
   "outputs": [],
   "source": [
    "def make_init_prob_vector(major_ratio):\n",
    "    return np.zeros(1)\n",
    "\n",
    "init_prob = ...\n",
    "\n",
    "# plot"
   ]
  },
  {
   "cell_type": "markdown",
   "metadata": {},
   "source": [
    "Write the function `make_emission_prob_matrix()` to create $B$ by taking advantage of our harmonics-based chord template. The relative chance of an observation (say $\\mathbf{Am}$) being emitted from a particular state (say $\\mathbf{C}$) can be represented as the dot product between  $\\mathbf{Am}$'s template and $\\mathbf{C}$'s template. The ratio of all these dot products is a good approximation for how likely it is for a state to produce an observation.\n",
    "\n",
    "Inputs:\n",
    "- `alpha`: $\\alpha$, used to create the harmonic chord templates\n",
    "\n",
    "Returns:\n",
    "- $B$, the emissions probability matrix.\n",
    "\n",
    "Create and plot this matrix for a $\\alpha = 0.6$ (set as `emis_prob`)."
   ]
  },
  {
   "cell_type": "code",
   "execution_count": null,
   "metadata": {},
   "outputs": [],
   "source": [
    "def make_emission_prob_matrix(alpha):\n",
    "    return np.zeros((1,1))\n",
    "\n",
    "emis_prob = ...\n",
    "\n",
    "# plot"
   ]
  },
  {
   "cell_type": "markdown",
   "metadata": {},
   "source": [
    "The final piece is to create the observation sequence. Even though the chromagram is a continuous space, we approximate an observation by estimating discrete chords using the standard template-based method. \n",
    "\n",
    "Create the observation sequence using $\\alpha = 0.6$ for the properly tuned chromagram of Exercise 6 (setting as `observations`), and print it."
   ]
  },
  {
   "cell_type": "code",
   "execution_count": null,
   "metadata": {},
   "outputs": [],
   "source": [
    "observations = ..."
   ]
  },
  {
   "cell_type": "markdown",
   "metadata": {},
   "source": [
    "## Exercise 10\n",
    "\n",
    "The code below performs an HMM chords estimation."
   ]
  },
  {
   "cell_type": "code",
   "execution_count": null,
   "metadata": {},
   "outputs": [],
   "source": [
    "from hmmlearn import hmm\n",
    "\n",
    "def estimate_chords_hmm(trans_probs, init_probs, emis_probs, observations):\n",
    "    obs_column = observations.reshape(-1, 1)\n",
    "\n",
    "    # create HMM model\n",
    "    model = hmm.MultinomialHMM(n_components=24)\n",
    "    model.transmat_ = trans_probs\n",
    "    model.startprob_ = init_probs\n",
    "    model.emissionprob_ = emis_probs\n",
    "    \n",
    "    # run HMM model:\n",
    "    return model.decode(obs_column)[1]"
   ]
  },
  {
   "cell_type": "markdown",
   "metadata": {},
   "source": [
    "Use `estimate_chords_hmm()` to estimate the chords of _Here Comes the Sun_ using the quantities calculated in Exercise 9. Then calculate the score for this estimate."
   ]
  },
  {
   "cell_type": "code",
   "execution_count": null,
   "metadata": {},
   "outputs": [],
   "source": [
    "ex10_est = ...\n",
    "ex10_score = ..."
   ]
  },
  {
   "cell_type": "markdown",
   "metadata": {},
   "source": [
    "To improve this score, try different values of `diag_ratio` (testing values from 1 to 300) when creating matrix $A$ to find the highest-score producing value. Plot a graph of `diag_ratios` vs the score of the estimated chords.\n"
   ]
  },
  {
   "cell_type": "code",
   "execution_count": null,
   "metadata": {},
   "outputs": [],
   "source": [
    "diag_ratios = np.arange(1, 300)\n",
    "\n",
    "# plot diag_ratio vs score:\n",
    "\n",
    "# find best diag_value\n",
    "ex10_diag_ratio = ...\n"
   ]
  },
  {
   "cell_type": "markdown",
   "metadata": {},
   "source": [
    "- How do different values of `diag_ratio` change the behavior of the HMM estimation?\n",
    "- Why do some values of work better than others?"
   ]
  },
  {
   "cell_type": "markdown",
   "metadata": {},
   "source": [
    "Answer:\n",
    "\n"
   ]
  },
  {
   "cell_type": "markdown",
   "metadata": {},
   "source": [
    "Finally, set the values of `ex10_best_est` and `ex10_best_score` using the optimal diagonal ratio.\n",
    "\n",
    "You can then see the score improvements throughout this pset."
   ]
  },
  {
   "cell_type": "code",
   "execution_count": null,
   "metadata": {},
   "outputs": [],
   "source": [
    "ex10_best_est = ...\n",
    "ex10_best_score = ..."
   ]
  },
  {
   "cell_type": "code",
   "execution_count": null,
   "metadata": {},
   "outputs": [],
   "source": [
    "print(f'Initial score:            {ex5_score}')\n",
    "print(f'With tuned chromagram:    {ex6_score}')\n",
    "print(f'With smoothed chromagram: {ex7_score}')\n",
    "print(f'With best HMM estimation: {ex10_best_score}')"
   ]
  }
 ],
 "metadata": {
  "kernelspec": {
   "display_name": "Python 3",
   "language": "python",
   "name": "python3"
  },
  "language_info": {
   "codemirror_mode": {
    "name": "ipython",
    "version": 3
   },
   "file_extension": ".py",
   "mimetype": "text/x-python",
   "name": "python",
   "nbconvert_exporter": "python",
   "pygments_lexer": "ipython3",
   "version": "3.9.2"
  }
 },
 "nbformat": 4,
 "nbformat_minor": 1
}
