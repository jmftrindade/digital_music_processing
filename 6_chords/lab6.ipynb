{
 "cells": [
  {
   "cell_type": "markdown",
   "metadata": {},
   "source": [
    "# 21M.387 Fundamentals of Music Processing\n",
    "## Lab 6"
   ]
  },
  {
   "cell_type": "code",
   "execution_count": 2,
   "metadata": {},
   "outputs": [
    {
     "data": {
      "text/html": [
       "<button onclick=\"Jupyter.notebook.kernel.execute('fmp.open_documentation()')\">Open fmplib Documentation</button>"
      ],
      "text/plain": [
       "<IPython.core.display.HTML object>"
      ]
     },
     "metadata": {},
     "output_type": "display_data"
    }
   ],
   "source": [
    "import numpy as np\n",
    "import matplotlib.pyplot as plt\n",
    "import IPython.display as ipd\n",
    "from ipywidgets import interact\n",
    "import sys\n",
    "sys.path.append(\"..\")\n",
    "import fmplib as fmp\n",
    "from fmplib.pyqueue import connect_to_queue\n",
    "\n",
    "plt.rcParams['figure.figsize'] = (12, 4)\n",
    "fmp.documentation_button()"
   ]
  },
  {
   "cell_type": "markdown",
   "metadata": {},
   "source": [
    "## Exercise 1\n",
    "\n",
    "There are two normalizations we often use: \n",
    "- $L^2$ or Euclidean norm\n",
    "- $L^1$ or Manhattan norm \n",
    "\n",
    "Applying a Euclidean norm produces a vector of length 1.  \n",
    "Applying a Manhattan norm produces a vector whose components sum to 1. This can be useful for vectors acting as a probability distribution where we want:\n",
    "$$\\sum_{n=1}^{N}{p_n} = 1$$\n",
    "\n",
    "Write the function `L1_normalize_rows` that applies the Manhattan norm to all rows of a matrix and returns the normalized matrix. \n",
    "\n",
    "- Load the test data below.\n",
    "- Test your function by plotting the un-normalized and normalized matrix with `plt.colorbar()` so you can see the results.\n",
    "- Print the values to check your function as well"
   ]
  },
  {
   "cell_type": "code",
   "execution_count": 30,
   "metadata": {},
   "outputs": [
    {
     "name": "stdout",
     "output_type": "stream",
     "text": [
      "matrix:\n",
      "[[4. 8. 1. 7. 3. 8.]\n",
      " [1. 4. 1. 2. 7. 6.]\n",
      " [8. 1. 6. 9. 9. 9.]\n",
      " [5. 5. 5. 3. 1. 3.]]\n"
     ]
    },
    {
     "data": {
      "image/png": "[encoded data removed]",
      "text/plain": [
       "<Figure size 864x288 with 2 Axes>"
      ]
     },
     "metadata": {
      "needs_background": "light"
     },
     "output_type": "display_data"
    },
    {
     "name": "stdout",
     "output_type": "stream",
     "text": [
      "\n",
      "normalized matrix:\n",
      "[[0.12903226 0.25806452 0.03225806 0.22580645 0.09677419 0.25806452]\n",
      " [0.04761905 0.19047619 0.04761905 0.0952381  0.33333333 0.28571429]\n",
      " [0.19047619 0.02380952 0.14285714 0.21428571 0.21428571 0.21428571]\n",
      " [0.22727273 0.22727273 0.22727273 0.13636364 0.04545455 0.13636364]]\n",
      "\n",
      "row-wise sum:\n",
      "[1. 1. 1. 1.]\n"
     ]
    },
    {
     "data": {
      "image/png": "[encoded data removed]",
      "text/plain": [
       "<Figure size 864x288 with 2 Axes>"
      ]
     },
     "metadata": {
      "needs_background": "light"
     },
     "output_type": "display_data"
    }
   ],
   "source": [
    "m = np.load('data/lab_ex1.npy')\n",
    "\n",
    "def L1_normalize_rows(mtx):\n",
    "    norm = np.linalg.norm(mtx, ord=1, axis=1).reshape((mtx.shape[0], 1))\n",
    "\n",
    "    return mtx / norm\n",
    "\n",
    "print('matrix:')\n",
    "print(m)\n",
    "plt.imshow(m, origin='lower', aspect='auto', cmap='Greys')\n",
    "plt.colorbar()\n",
    "plt.show()\n",
    "\n",
    "norm_m = L1_normalize_rows(m)\n",
    "print('\\nnormalized matrix:')\n",
    "print(norm_m)\n",
    "print('\\nrow-wise sum:')\n",
    "print(np.sum(norm_m, axis=1))\n",
    "plt.imshow(norm_m, origin='lower', aspect='auto', cmap='Greys')\n",
    "plt.colorbar()\n",
    "plt.show()"
   ]
  },
  {
   "cell_type": "code",
   "execution_count": null,
   "metadata": {},
   "outputs": [],
   "source": [
    "connect_to_queue()"
   ]
  },
  {
   "cell_type": "markdown",
   "metadata": {},
   "source": [
    "## Exercise 2\n",
    "\n",
    "Write the function `binary_chord_template()` to create a normalized binary chord template. It takes as input a list of pitches and returns a chroma template. By normalized here, we mean using the $L^2$ norm - the length of the chroma template vector should be 1.\n",
    "\n",
    "Inputs: \n",
    "- pitches: a list of pitches to be included in the chord template\n",
    "\n",
    "Output:\n",
    "- a length 12 chroma template vector\n"
   ]
  },
  {
   "cell_type": "code",
   "execution_count": null,
   "metadata": {},
   "outputs": [],
   "source": [
    "def binary_chord_template(pitches):\n",
    "    pass"
   ]
  },
  {
   "cell_type": "markdown",
   "metadata": {},
   "source": [
    "Use your function to create the following chord templates:\n",
    "- A minor\n",
    "- F major\n",
    "- E power chord (this is a chord of only two notes: the root and the fifth)\n",
    "\n",
    "For each one, print and plot the result using `plt.imshow()`. You will need to reshape the vector into a 2-dimensional matrix for `plt.imshow()` to work"
   ]
  },
  {
   "cell_type": "code",
   "execution_count": null,
   "metadata": {},
   "outputs": [],
   "source": [
    "# A minor\n",
    "A_minor_bt = None\n",
    "\n",
    "# F major\n",
    "F_major_bt = None\n",
    "\n",
    "# E power\n",
    "E_power_bt = None\n"
   ]
  },
  {
   "cell_type": "code",
   "execution_count": null,
   "metadata": {},
   "outputs": [],
   "source": [
    "connect_to_queue()"
   ]
  },
  {
   "cell_type": "markdown",
   "metadata": {
    "collapsed": true
   },
   "source": [
    "## Exercise 3\n",
    "\n",
    "What are the 10 MIDI pitches (approximately) that correspond to the first 10 harmonics of the note C4? Round to the nearest integer. Feel free to use the functions `fmp.pitch_to_freq` and `fmp.freq_to_pitch` if needed.\n",
    "\n",
    "Now convert the array of pitches to an array of pitch classes."
   ]
  },
  {
   "cell_type": "code",
   "execution_count": null,
   "metadata": {},
   "outputs": [],
   "source": []
  },
  {
   "cell_type": "markdown",
   "metadata": {},
   "source": [
    "## Exercise 4\n",
    "\n",
    "Write the function `harmonics_chord_template()` to create a normalized chord template that contains energies of the first 8 harmonics for __each note__ in the chord.\n",
    "\n",
    "The harmonic energies of a given note should be proportional to $\\alpha^n$ where $n$ is the harmonic number ($n=0$ is the fundamental, $n=1$ is the 2nd harmonic, etc...).\n",
    "\n",
    "Inputs:\n",
    "\n",
    "- pitches: a list of pitches to be included in the chord template\n",
    "- alpha:  $\\alpha$, the harmonic decay value\n",
    "\n",
    "Outputs:\n",
    "- a length 12 chroma template vector\n"
   ]
  },
  {
   "cell_type": "code",
   "execution_count": null,
   "metadata": {},
   "outputs": [],
   "source": [
    "def harmonics_chord_template(pitches, alpha):\n",
    "    pass"
   ]
  },
  {
   "cell_type": "markdown",
   "metadata": {},
   "source": [
    "As above, use your function to create the following chord templates, using a harmonic decay value of $\\alpha = 0.7$. \n",
    "- A minor\n",
    "- F major\n",
    "- E power chord (this is a chord of only two notes: the root and the fifth)\n",
    "\n",
    "For each one, print and plot the result using `plt.imshow()`. You will need to reshape the vector into a 2-dimensional matrix for `plt.imshow()` to work.\n",
    "\n",
    "You can check your answers against `fmp.harmonics_chord_template()`"
   ]
  },
  {
   "cell_type": "code",
   "execution_count": null,
   "metadata": {},
   "outputs": [],
   "source": [
    "# A minor\n",
    "A_minor_ht = None\n",
    "\n",
    "# F major\n",
    "F_major_ht = None\n",
    "\n",
    "# E power\n",
    "E_power_ht = None\n"
   ]
  },
  {
   "cell_type": "markdown",
   "metadata": {},
   "source": [
    "## Exercise 5\n",
    "\n",
    "In this exercise, we'll see how the templates you created above score against some piano chords.\n",
    "\n",
    "- Load the following wave file of a piano playing an F major chord and an A minor chord.\n",
    "- Listen to it.\n",
    "- Create a chromagram of this audio using `fmp.make_chromagram()` with $N=4096$, $H=N/2$, $\\gamma = 0.5$\n",
    "- Plot the chromagram\n"
   ]
  },
  {
   "cell_type": "code",
   "execution_count": null,
   "metadata": {},
   "outputs": [],
   "source": [
    "snd = fmp.load_wav('audio/lab_ex5.wav')\n",
    "fs = 22050\n"
   ]
  },
  {
   "cell_type": "markdown",
   "metadata": {},
   "source": [
    "For each of the six chord templates you created above, see what scores they produce over the length of the chromagram, and how these scores compare to each other by plotting them all on a single figure.\n",
    "\n",
    "What do you observe? How do the binary and harmonic templates compare?"
   ]
  },
  {
   "cell_type": "code",
   "execution_count": null,
   "metadata": {},
   "outputs": [],
   "source": []
  },
  {
   "cell_type": "code",
   "execution_count": null,
   "metadata": {},
   "outputs": [],
   "source": [
    "connect_to_queue()"
   ]
  },
  {
   "cell_type": "markdown",
   "metadata": {
    "collapsed": true
   },
   "source": [
    "## Exercise 6\n",
    "\n",
    "Say we have a Markov model with these parameters:\n",
    "\n",
    "- $I = 3$ (number of states)\n",
    "- $\\mathcal{A} = \\lbrace \\mathbf{C,G,F} \\rbrace $ (the states)\n",
    "- The probability of starting the song on $\\mathbf{C}$ is 3 times more likley than starting on $\\mathbf{F}$ or $\\mathbf{G}$.\n",
    "- The probability of staying on the same chord is 8 times more likely than moving to a different chord, but there is no difference in probability as to which chord is moved to.\n",
    "\n",
    "Write the vector $C$ of initial probablilities and matrix $A$ of transition probabilities as `numpy` arrays."
   ]
  },
  {
   "cell_type": "code",
   "execution_count": null,
   "metadata": {},
   "outputs": [],
   "source": [
    "C = ...\n",
    "A = ..."
   ]
  },
  {
   "cell_type": "code",
   "execution_count": null,
   "metadata": {},
   "outputs": [],
   "source": [
    "print('C=\\n', C)\n",
    "print('A=\\n', A)"
   ]
  },
  {
   "cell_type": "code",
   "execution_count": null,
   "metadata": {},
   "outputs": [],
   "source": [
    "connect_to_queue()"
   ]
  },
  {
   "cell_type": "markdown",
   "metadata": {},
   "source": [
    "## Exercise 7\n",
    "\n",
    "Write the function `markov_sequence_prob(seq, init_p, trans_p)` which takes as input:\n",
    "- a sequence of states\n",
    "- the initial probability vector\n",
    "- the transition probability matrix\n",
    "\n",
    "Given the Markov model of _Exercise 6_, find the probability of these two sequences:\n",
    "\n",
    "$$S_1 = (\\mathbf{C,C,G,F,F,G,C,C})$$\n",
    "$$S_2 = (\\mathbf{F,F,C,C,C,G,G,G})$$\n",
    "\n",
    "Which is more likely and by how much?"
   ]
  },
  {
   "cell_type": "code",
   "execution_count": null,
   "metadata": {},
   "outputs": [],
   "source": [
    "def markov_sequence_prob(seq, init_p, trans_p):\n",
    "    pass"
   ]
  },
  {
   "cell_type": "code",
   "execution_count": null,
   "metadata": {},
   "outputs": [],
   "source": [
    "connect_to_queue('checkoff')"
   ]
  }
 ],
 "metadata": {
  "kernelspec": {
   "display_name": "Python 3",
   "language": "python",
   "name": "python3"
  },
  "language_info": {
   "codemirror_mode": {
    "name": "ipython",
    "version": 3
   },
   "file_extension": ".py",
   "mimetype": "text/x-python",
   "name": "python",
   "nbconvert_exporter": "python",
   "pygments_lexer": "ipython3",
   "version": "3.9.2"
  }
 },
 "nbformat": 4,
 "nbformat_minor": 1
}
