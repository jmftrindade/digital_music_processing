{
 "cells": [
  {
   "cell_type": "markdown",
   "metadata": {},
   "source": [
    "# 21M.387 Fundamentals of Music Processing\n",
    "## Problem Set 9: Audio Decomposition\n",
    "\n",
    "Make sure all your answers and plots display when the code block is run. You can leave word-based answers in code comments or markdown cells.\n",
    "\n",
    "You may use any fmplib functions from __previous__ units in your answers. You may __not__ use any fmplib functions from the current unit in your answers (unless explicitly noted). But you can use the current unit's fmplib for testing your code."
   ]
  },
  {
   "cell_type": "code",
   "execution_count": 2,
   "metadata": {},
   "outputs": [
    {
     "data": {
      "text/html": [
       "<button onclick=\"Jupyter.notebook.kernel.execute('fmp.open_documentation()')\">Open fmplib Documentation</button>"
      ],
      "text/plain": [
       "<IPython.core.display.HTML object>"
      ]
     },
     "metadata": {},
     "output_type": "display_data"
    }
   ],
   "source": [
    "import numpy as np\n",
    "import matplotlib.pyplot as plt\n",
    "import IPython.display as ipd\n",
    "from ipywidgets import interact\n",
    "import sys\n",
    "sys.path.append(\"..\")\n",
    "import fmplib as fmp\n",
    "\n",
    "plt.rcParams['figure.figsize'] = (12, 5)\n",
    "plt.rcParams['image.interpolation'] = 'nearest'\n",
    "\n",
    "fmp.documentation_button()"
   ]
  },
  {
   "cell_type": "markdown",
   "metadata": {
    "collapsed": true
   },
   "source": [
    "## Exercise 1\n",
    "\n",
    "The STFT $\\mathcal{X}[h,k]$ is a $51 \\times 14$ matrix created from a signal $x[n]$ with the parameters:\n",
    "- $N = 100$, the window length\n",
    "- $H = 75$, the hop size\n",
    "- Rectangular Window\n",
    "- No centering\n",
    "\n",
    "What is the windowing effect that must be \"undone\" to properly reconstruct the signal $x[n]$ from $\\mathcal{X}[h,k]$? In other words, what function $W[n]$ must be used to create\n",
    "$$x_r[n] = {\\tilde x[n] \\over W[n]}$$\n",
    "\n",
    "Create $W[n]$ and plot it."
   ]
  },
  {
   "cell_type": "code",
   "execution_count": 15,
   "metadata": {},
   "outputs": [
    {
     "data": {
      "image/png": "[encoded data removed]",
      "text/plain": [
       "<Figure size 864x360 with 1 Axes>"
      ]
     },
     "metadata": {
      "needs_background": "light"
     },
     "output_type": "display_data"
    }
   ],
   "source": [
    "k = 14\n",
    "hops = 51\n",
    "N = 100\n",
    "H = 75\n",
    "Wn = np.zeros(N + (hops-1) * H)\n",
    "win = np.ones(N)\n",
    "for n in range(hops):\n",
    "    win_shift = np.zeros(len(win_sum))\n",
    "    win_shift[n*H:n*H+N] += win\n",
    "    Wn += win_shift\n",
    "\n",
    "plt.title('W[n]')\n",
    "plt.plot(Wn)\n",
    "plt.show()"
   ]
  },
  {
   "cell_type": "markdown",
   "metadata": {},
   "source": [
    "## Exercise 2a\n",
    "\n",
    "From the given signal, create the harmonic and percussive median filtered power spectrograms:\n",
    "$\\tilde{\\mathcal{Y}}^h[n,k]$ and $\\tilde{\\mathcal{Y}}^p[n,k]$ with parameters:\n",
    "- $N = 4096$\n",
    "- $H = 1024$\n",
    "- $L_h = 19$ (harmonic median filter length)\n",
    "- $L_p = 31$ (percussive median filter length)\n",
    "\n",
    "You can use `fmp.stft` and `scipy.signal.medfilt`.\n",
    "\n",
    "Set them to variables `filt_h` and `filt_h`, and plot them."
   ]
  },
  {
   "cell_type": "code",
   "execution_count": null,
   "metadata": {},
   "outputs": [],
   "source": [
    "from scipy.signal import medfilt\n",
    "snd = fmp.load_wav(\"audio/latin_loop.wav\")\n",
    "fs = 22050\n",
    "\n",
    "filt_h = ...\n",
    "filt_p = ..."
   ]
  },
  {
   "cell_type": "markdown",
   "metadata": {},
   "source": [
    "## Exercise 2b\n",
    "\n",
    "Instead of creating the usual two masks, create three binary masks from the filtered spectrograms:\n",
    "\n",
    "$$\n",
    "\\mathcal{M}^h[n,k] = \n",
    "\\left\\{\n",
    "\\begin{aligned} \n",
    "1,& \\text{  if } \\tilde{\\mathcal{Y}}^h[n,k] \\ge \\beta \\cdot \\tilde{\\mathcal{Y}}^p[n,k] \\\\ \n",
    "0,& \\text{  otherwise} \\\\ \n",
    "\\end{aligned} \n",
    "\\right. \n",
    "$$\n",
    "\n",
    "$$\n",
    "\\mathcal{M}^p[n,k] = \n",
    "\\left\\{\n",
    "\\begin{aligned} \n",
    "1,& \\text{  if } \\tilde{\\mathcal{Y}}^p[n,k] \\gt \\beta \\cdot \\tilde{\\mathcal{Y}}^h[n,k] \\\\  \n",
    "0,& \\text{  otherwise} \\\\ \n",
    "\\end{aligned} \n",
    "\\right. \n",
    "$$\n",
    "\n",
    "$$\n",
    "\\mathcal{M}^r[n,k] = 1 - \\left( \\tilde{\\mathcal{M}}^h[n,k] + \\tilde{\\mathcal{M}}^p[n,k] \\right)\n",
    "$$\n",
    "\n",
    "where $\\beta$ is the _separation factor_ and $\\beta \\ge 1$.  \n",
    "\n",
    "$\\mathcal{M}^r[n,k]$ is the \"residual\" mask that captures sounds which are neither purely percussive or purely harmonic.\n",
    "\n",
    "Write the function `make_three_masks` which creates and returns these three masks.  \n",
    "Inputs:\n",
    "- `filt_h`: $\\tilde{\\mathcal{Y}}^h[n,k]$ \n",
    "- `filt_p`: $\\tilde{\\mathcal{Y}}^p[n,k]$\n",
    "- beta: $\\beta$\n",
    "\n",
    "Output:\n",
    "- a tuple of $\\mathcal{M}^h[n,k]$, $\\mathcal{M}^p[n,k]$, and $\\mathcal{M}^r[n,k]$"
   ]
  },
  {
   "cell_type": "code",
   "execution_count": null,
   "metadata": {},
   "outputs": [],
   "source": [
    "def make_three_masks(filt_h, filt_p, beta):\n",
    "    pass\n"
   ]
  },
  {
   "cell_type": "markdown",
   "metadata": {},
   "source": [
    "Create these masks with $\\beta = 1.5$ (as `mask_h`, `mask_p`, `mask_r`) and plot them."
   ]
  },
  {
   "cell_type": "code",
   "execution_count": null,
   "metadata": {},
   "outputs": [],
   "source": [
    "mask_h = ...\n",
    "mask_p = ...\n",
    "mask_r = ..."
   ]
  },
  {
   "cell_type": "markdown",
   "metadata": {},
   "source": [
    "## Exercise 3\n",
    "\n",
    "- Reconstruct three signals $x^h[n]$, $x^p[n]$, and $x^r[n]$ from the above masks.\n",
    "- You can use `fmp.istft()`\n",
    "- Listen to the audio. \n",
    "- Describe what you hear.\n",
    "- Try different values of $\\beta$ and describe how that changes the results."
   ]
  },
  {
   "cell_type": "code",
   "execution_count": null,
   "metadata": {},
   "outputs": [],
   "source": []
  },
  {
   "cell_type": "markdown",
   "metadata": {},
   "source": [
    "## Exercise 4"
   ]
  },
  {
   "cell_type": "markdown",
   "metadata": {},
   "source": [
    "Consider the following matrix $V$, a $K \\times N$ matrix with non-negative values and $K=9$, $N=7$:\n",
    "<img src=\"images/pset_nmf.png\" width=300>\n",
    "\n",
    "Here we only consider the case of perfect non-negative decomposition, such that $V = WH$ exactly and all entries in $W$ and $H$ are non-negative.\n",
    "\n",
    "By hand (i.e., do not run the NMF solver), determine two different decompositions, that is, two different paris of $W$ and $H$ that satisfy $V = WH$ where the rank of the decomposition is $R=3$. Do not make the second pair trivailly different from the first (by reordering rows and columns, for example).\n",
    "\n",
    "Provide your answers as python arrays (`W1`, `H1` and `W2`, `H2`). Note that $V$ (above) is displayed with origin at the bottom left. "
   ]
  },
  {
   "cell_type": "code",
   "execution_count": null,
   "metadata": {},
   "outputs": [],
   "source": [
    "W1 = ...\n",
    "H1 = ...\n",
    "\n",
    "W2 = ...\n",
    "H2 = ...\n"
   ]
  },
  {
   "cell_type": "markdown",
   "metadata": {},
   "source": [
    "## Exercise 5\n",
    "\n",
    "In order to create a useful matrix factorization, we can pre-seed $W$ with the known pitches of the music. You will do this in two parts.  \n",
    "First, create the function `make_nmf_note_model(fs, fft_len, pitch)`\n",
    "\n",
    "Inputs:\n",
    "- `fs`: The sample rate\n",
    "- `fft_len`: $N$, the FFT length used in making the STFT\n",
    "- `pitch`: a MIDI pitch number\n",
    "\n",
    "Output:\n",
    "- A 1D vector that is a spectral model for the given pitch (with length $N/2+1$).\n",
    "\n",
    "Strategy:  \n",
    "- The resulting vector has zones of non-zero values for each harmonic of the given pitch, and zeros everywhere else.\n",
    "- The first harmonic zone (fundamental frequency) has a range of $\\pm 0.5$ semitones around the given pitch.\n",
    "- The rest of the harmonic zones are integer multiples of these frequency bounds.\n",
    "- The magnitude of each zone is $1/h$ where $h$ is the harmonic number ($h=1$ is the fundamental, $h=2$ is the 2nd harmonic, etc...).\n",
    "- Fill in as many harmonic zones as will fit within the output vector."
   ]
  },
  {
   "cell_type": "code",
   "execution_count": null,
   "metadata": {},
   "outputs": [],
   "source": [
    "def make_nmf_note_model(fs, fft_len, pitch):\n",
    "    pass\n"
   ]
  },
  {
   "cell_type": "markdown",
   "metadata": {},
   "source": [
    "Create pitch models for pitches 60 and 72 (setting `pm_60` and `pm_72`) with $F_s = 22050$ and $N = 4096$. Plot these two functions."
   ]
  },
  {
   "cell_type": "code",
   "execution_count": null,
   "metadata": {},
   "outputs": [],
   "source": [
    "pm_60 = ...\n",
    "pm_72 = ..."
   ]
  },
  {
   "cell_type": "markdown",
   "metadata": {},
   "source": [
    "## Exercise 6\n",
    "\n",
    "Continuing, create the function `make_nmf_template(fs, fft_len, pitches)` with the help of the above function.\n",
    "\n",
    "Inputs:\n",
    "- `fs`: The sample rate\n",
    "- `fft_len`: $N$, the FFT length used in making the STFT\n",
    "- `pitches`: a list of pitch\n",
    "\n",
    "Output:\n",
    "- $W$ - the initial templates matrix that contains one pitch model at each column for each of the given pitches\n"
   ]
  },
  {
   "cell_type": "code",
   "execution_count": null,
   "metadata": {},
   "outputs": [],
   "source": [
    "def make_nmf_template(fs, fft_len, pitches):\n",
    "    pass"
   ]
  },
  {
   "cell_type": "markdown",
   "metadata": {},
   "source": [
    "Test your function by creating $W$ with `fs` and `fft_len` as above for pitches of the C major scale from C4 to C5, inclusive (setting `W_C_maj`). Then plot $W$."
   ]
  },
  {
   "cell_type": "code",
   "execution_count": null,
   "metadata": {},
   "outputs": [],
   "source": [
    "W_C_maj = ...\n"
   ]
  },
  {
   "cell_type": "markdown",
   "metadata": {},
   "source": [
    "## Exercise 7\n",
    "\n",
    "In this Exercise, you will run the NMF algorithm on a short snippet of the Mozart _Piano Sonata in F_.  \n",
    "The score is here and the audio below.\n",
    "\n",
    "<img src=\"images/mozart_sonata_f.png\" width=500>"
   ]
  },
  {
   "cell_type": "code",
   "execution_count": null,
   "metadata": {},
   "outputs": [],
   "source": [
    "snd = fmp.load_wav(\"audio/mozart_sonata_f.wav\")\n",
    "fs = 22050.\n",
    "ipd.Audio(snd, rate=fs)"
   ]
  },
  {
   "cell_type": "markdown",
   "metadata": {},
   "source": [
    "Setup:\n",
    "- Create the STFT of the audio ($N=4096$, $H=1024$).\n",
    "- Create the list of pitches found in this score (hint: there are 14).\n",
    "- Use these pitches to create the initial $W$ matrix.\n",
    "- Create the initial $H$ matrix to contains all ones.\n",
    "\n",
    "The NMF algorithm strives to reduce the error $\\phi = {\\Vert V - WH \\Vert}$ where $V$ is the magnitude of the STFT.\n",
    "- Print the initial value of $\\phi$ before running NMF (set `phi_init`).\n",
    "- Run NMF to produce optimized $W$ and $H$ using `fmp.nmf(V, Wi, Hi)`. It returns a tuple of $W$ and $H$. Set `W_mozart` and `H_mozart`.\n",
    "- What is the value of $\\phi$ with the optimized $W$ and $H$ (set `phi_opt`)?\n",
    "- Finally, plot $W$ and $H$"
   ]
  },
  {
   "cell_type": "code",
   "execution_count": null,
   "metadata": {},
   "outputs": [],
   "source": [
    "phi_init = ...\n",
    "W_mozart = ...\n",
    "H_mozart = ...\n",
    "phi_opt = ...\n"
   ]
  },
  {
   "cell_type": "markdown",
   "metadata": {},
   "source": [
    "## Exercise 8\n",
    "\n",
    "In this exercise, separate the left and right hands and create two reconstructed audio clips: $x^L[n]$ and $x^R[n]$:\n",
    "\n",
    "- Beginning with $H$, the activations matrix, create two different (non overlapping) activation matrices: $H^L$ and $H^R$ (setting `H_left` and `H_right`).\n",
    "- Create soft masks $M^L$ and $M^R$ using the equations described in the lecture notes (setting `mask_left` and `mask_right`).\n",
    "- Use these masks to create two STFTs: $\\mathcal{X}^L[n,k]$ and $\\mathcal{X}^R[n,k]$ (setting `stft_left` and `stft_right`).\n",
    "- Finally, apply the inverse STFT to create the reconstructed audio clips $x^L[n]$ and $x^R[n]$.\n",
    "\n",
    "Play both audio clips. Describe what you hear. How good was this source separation?"
   ]
  },
  {
   "cell_type": "code",
   "execution_count": null,
   "metadata": {},
   "outputs": [],
   "source": [
    "H_left = ...\n",
    "H_right = ...\n",
    "mask_left = ...\n",
    "mask_right = ...\n",
    "stft_left = ...\n",
    "stft_right = ...\n",
    "\n",
    "# play and describe what you hear."
   ]
  },
  {
   "cell_type": "code",
   "execution_count": null,
   "metadata": {},
   "outputs": [],
   "source": []
  }
 ],
 "metadata": {
  "kernelspec": {
   "display_name": "Python 3",
   "language": "python",
   "name": "python3"
  },
  "language_info": {
   "codemirror_mode": {
    "name": "ipython",
    "version": 3
   },
   "file_extension": ".py",
   "mimetype": "text/x-python",
   "name": "python",
   "nbconvert_exporter": "python",
   "pygments_lexer": "ipython3",
   "version": "3.9.2"
  }
 },
 "nbformat": 4,
 "nbformat_minor": 1
}
