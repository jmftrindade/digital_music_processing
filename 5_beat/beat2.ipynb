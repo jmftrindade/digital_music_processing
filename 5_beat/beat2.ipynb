{
 "cells": [
  {
   "cell_type": "markdown",
   "metadata": {},
   "source": [
    "# 21M.387 Fundamentals of Music Processing\n",
    "## Beat Detection 2\n",
    "\n",
    "In this lecture: another popular beat detection algorithm using dynamic programming, and beat-synchronous features"
   ]
  },
  {
   "cell_type": "code",
   "execution_count": null,
   "metadata": {},
   "outputs": [],
   "source": [
    "import numpy as np\n",
    "import matplotlib.pyplot as plt\n",
    "import IPython.display as ipd\n",
    "from ipywidgets import interact\n",
    "import sys\n",
    "sys.path.append(\"..\")\n",
    "import fmplib as fmp\n",
    "\n",
    "plt.rcParams['figure.figsize'] = (12, 4)\n",
    "plt.rcParams['image.interpolation'] = 'nearest'\n",
    "\n",
    "fmp.documentation_button()"
   ]
  },
  {
   "cell_type": "markdown",
   "metadata": {},
   "source": [
    "## Reading\n",
    "\n",
    "Chapter 6.3 (pp 328 – 341)\n",
    "\n",
    "<img src=\"images/book_cover.png\" width=200>"
   ]
  },
  {
   "cell_type": "markdown",
   "metadata": {},
   "source": [
    "## Beat Tracking by Dynamic Programming\n",
    "\n",
    "- Assumes a mostly steady beat.\n",
    "- Assumes beats generally coincide with large values of the novelty function $\\Delta[n]$ (Note: you could use any way of arriving at $\\Delta[n]$, like the energy-method $\\Delta^e[n]$, or the spectral method $\\Delta^s[n]$. Generally though, $\\Delta^s[n]$ is superior as shown in the previous lecture).\n",
    "- Requires an estimate of what the general tempo is.\n",
    "\n",
    "<font color='red'>__Whiteboard__</font>: Beat Score\n",
    "\n",
    "The goal is to create a _beat sequence_. Let's call that $B$:  \n",
    "$B = (b_1, b_2, b_3, ... b_L)$\n",
    "\n",
    "Each $b_l$ is a _beat location_ - an index in the novelty function $\\Delta[n]$.  \n",
    "There are $L$ beats in the beat sequence."
   ]
  },
  {
   "cell_type": "markdown",
   "metadata": {
    "collapsed": true
   },
   "source": [
    "We want to balance two factors:\n",
    "\n",
    "1. Beat locations should line up with large values of $\\Delta[n]$.\n",
    "1. The delta between any two consecutive beats should be close to $\\hat \\delta$, the _beat interval_.\n",
    "\n",
    "$\\hat \\delta$ is the tempo estimate in units of samples (so it is an integer), aka the estimated period. To compute it:  \n",
    "Assuming $\\hat \\tau$ is the tempo estimate in BPM and $F_f$ is the sampling rate of $\\Delta[n]$:  \n",
    "$$\\hat \\delta = \\lceil F_f \\cdot {60 \\over \\hat \\tau} \\rfloor $$"
   ]
  },
  {
   "cell_type": "markdown",
   "metadata": {},
   "source": [
    "Next, we construct $\\mathbf{S}$, a _Score Function_ that lets us evaluate a beat sequence $B$.\n",
    "\n",
    "$\\mathbf{S}(B) = [\\text{beats align with onsets}] + \\lambda [\\text{beat spacing} \\simeq \\hat \\delta]$\n",
    "\n",
    "For the first part:\n",
    "$\\sum_{l=1}^L \\Delta[b_l]$\n",
    "\n",
    "For the second part:\n",
    "$\\sum_{l=2}^L P_{\\hat \\delta}(b_l - b_{l-1})$\n",
    "\n",
    "What should $P_{\\hat \\delta}(\\delta)$ be?\n",
    "\n",
    "It should be a function that is large when $\\delta = \\hat \\delta$, and should gradually fall off when $\\delta$ gets bigger or smaller than $\\hat \\delta$:\n"
   ]
  },
  {
   "cell_type": "code",
   "execution_count": null,
   "metadata": {},
   "outputs": [],
   "source": [
    "# TODO: try some different ideas to create penalty function:\n",
    "\n",
    "period = 100\n",
    "p = np.arange(0, 400)\n",
    "penalty = p - period\n",
    "plt.plot(p, penalty)\n",
    "plt.vlines(period, np.min(penalty), np.max(penalty), 'r')\n",
    "plt.grid()\n",
    "plt.show()"
   ]
  },
  {
   "cell_type": "code",
   "execution_count": null,
   "metadata": {},
   "outputs": [],
   "source": []
  },
  {
   "cell_type": "code",
   "execution_count": null,
   "metadata": {},
   "outputs": [],
   "source": []
  },
  {
   "cell_type": "code",
   "execution_count": null,
   "metadata": {},
   "outputs": [],
   "source": []
  },
  {
   "cell_type": "code",
   "execution_count": null,
   "metadata": {},
   "outputs": [],
   "source": []
  },
  {
   "cell_type": "markdown",
   "metadata": {},
   "source": [
    "\n",
    "<img src=\"images/delta_penalty.png\" width=600>\n",
    "\n",
    "$$P_{\\hat \\delta}(\\delta) = -(\\log_2(\\delta / \\hat \\delta))^2$$\n",
    "\n",
    "It is a _logarithmic function_. Half-tempo produces the same penalty has double-tempo."
   ]
  },
  {
   "cell_type": "markdown",
   "metadata": {
    "collapsed": true
   },
   "source": [
    "So, the beat-score function for a particular series of beats $B$ is:  \n",
    "$$\\mathbf{S}(B) = \\sum_{l=1}^L \\Delta[b_l] + \\lambda \\sum_{l=2}^L P_{\\hat \\delta}(b_l - b_{l-1})$$\n"
   ]
  },
  {
   "cell_type": "markdown",
   "metadata": {},
   "source": [
    "Example:"
   ]
  },
  {
   "cell_type": "code",
   "execution_count": null,
   "metadata": {},
   "outputs": [],
   "source": [
    "snd1 = fmp.load_wav(\"audio/beatles_being_for_the_benefit_of_mr_kite.wav\", 0, 30)\n",
    "fs = 22050\n",
    "fmp.plot_and_listen(\"audio/beatles_being_for_the_benefit_of_mr_kite.wav\", 30)"
   ]
  },
  {
   "cell_type": "markdown",
   "metadata": {},
   "source": [
    "Create the spectral novelty function with parameters:\n",
    "- $N=1024$\n",
    "- $H=512$\n",
    "- $\\gamma=10$"
   ]
  },
  {
   "cell_type": "code",
   "execution_count": null,
   "metadata": {},
   "outputs": [],
   "source": [
    "win_len = 1024\n",
    "hop_size = 512\n",
    "gamma = 10\n",
    "nov1 = fmp.spectral_novelty(snd1, win_len, hop_size, gamma)\n",
    "ff = fs / float(hop_size)\n",
    "print(f\"feature rate = {ff:.2f}Hz\")\n",
    "plt.plot(nov1);"
   ]
  },
  {
   "cell_type": "markdown",
   "metadata": {},
   "source": [
    "The tempo of this song is approximately 111 BPM. We assume this for now, and we will show how to compute it later on.\n",
    "\n",
    "So: $\\hat \\tau = 111$"
   ]
  },
  {
   "cell_type": "code",
   "execution_count": null,
   "metadata": {},
   "outputs": [],
   "source": [
    "bpm1 = 111.\n",
    "est_period1 = ff * 60 / bpm1\n",
    "print(f\"period = {est_period1:.2f} samples\")\n",
    "est_period1 = int(round(est_period1))\n",
    "print(f\"rounded to = {est_period1:d} samples\")"
   ]
  },
  {
   "cell_type": "markdown",
   "metadata": {},
   "source": [
    "The function `fmp.beats_score(nov, beats, est_period, lmbda)` calculates the score for how good the beats are given a novelty function.\n",
    "\n",
    "Each example beat sequence below has its own beat score."
   ]
  },
  {
   "cell_type": "code",
   "execution_count": null,
   "metadata": {},
   "outputs": [],
   "source": [
    "@interact(period=fmp.slider(est_period1-6, est_period1+6), offset=fmp.slider(0, est_period1))\n",
    "def test_beats_score(period, offset) :\n",
    "    num = int(len(nov1) / period) - 1\n",
    "    beats = np.arange(num) * period + offset\n",
    "    beats = beats.astype(int)\n",
    "\n",
    "    plt.plot(nov1)\n",
    "    plt.vlines(beats, 0, 1, 'r')\n",
    "    score = fmp.beats_score(nov1, beats, est_period1)\n",
    "    txt = f'score = {score:.3f}' \n",
    "    plt.text(0, 1.1, txt, fontsize=15)\n",
    "    plt.show()"
   ]
  },
  {
   "cell_type": "markdown",
   "metadata": {},
   "source": [
    "Now, we have an optimization problem:\n",
    "\n",
    "Given the score function $\\mathbf{S}(B)$, and all possible beat sequences, find the beat sequence $B^*$ that maximizes  $\\mathbf{S}(B)$.\n",
    "\n",
    "$$B^* = \\text{argmax}\\lbrace \\mathbf{S}(B) \\mid B \\in \\mathcal{B}^N\\rbrace$$"
   ]
  },
  {
   "cell_type": "markdown",
   "metadata": {},
   "source": [
    "## Dynamic Programming\n",
    "\n",
    "The number of different beat sequences is ridiculously large. It is exponential in $N$, the number of \"beat slots\"."
   ]
  },
  {
   "cell_type": "code",
   "execution_count": null,
   "metadata": {},
   "outputs": [],
   "source": [
    "dur = 2\n",
    "num_slots = int(dur * ff)\n",
    "print(f\"N={num_slots} slots for novelty function of {dur} seconds\")\n",
    "print(f\"number of beat sequences: {2 ** num_slots}\")"
   ]
  },
  {
   "cell_type": "markdown",
   "metadata": {
    "collapsed": true
   },
   "source": [
    "\n",
    "Like we did in Dynamic Time Warping, we can use dynamic programming to find the optimal sequence without trying them all.\n",
    "\n",
    "Similar technique to DTW: \n",
    "- work on local sub-problems\n",
    "- accumulate local score into a global vector"
   ]
  },
  {
   "cell_type": "markdown",
   "metadata": {
    "collapsed": true
   },
   "source": [
    "### Accumulated Score Vector $\\mathbf{D}$\n",
    "\n",
    "Define a vector $\\mathbf{D}$ of length $N$ where each element:\n",
    "$$\\mathbf{D}[n] = \\max \\lbrace \\mathbf{S}(B) \\mid B \\in \\mathcal{B}^N_n \\rbrace$$\n",
    "\n",
    "where $\\mathcal{B}^N_n$ is the set of all beat sequences ending at position $n$.\n",
    "\n",
    "$\\mathbf{D}[n]$ is the accumulated score vector. It stores the _score_ of the best (highest scoring) beat sequence ending at position $n$.\n",
    "\n",
    "Caution: $\\Delta[n] \\mid n \\in [1:N]$ whereas $\\mathbf{D}[n] \\mid n \\in [0:N]$. The $n=0$ position is not part of the signal. It is used as a special marker to indicate the end of the algorithm.\n",
    "\n",
    "$\\mathbf{D}[n]$ is calculated as follows:\n",
    "\n",
    "Initialize with $\\mathbf{D}[0] = 0$ and $\\mathbf{D}[1] = \\Delta[1]$\n",
    "\n",
    "Next, compute each value of $\\mathbf{D}[n]$, for $n \\in [2:N]$:\n",
    "\n",
    "$$\n",
    "\\mathbf{D}[n] = \\Delta[n] + \\max\n",
    "\\begin{cases}\n",
    "0,  \\\\\n",
    "\\max_{m \\in [1:n-1]} \\lbrace \\mathbf{D}[m] + \\lambda P_{\\hat \\delta}(n - m)\\rbrace \\\\\n",
    "\\end{cases}\n",
    "$$\n",
    "\n",
    "The important step above is the inner $\\max$ statement. It allows the current time-step $n$ to be \"arrived at\" from the best possible previous location (which has the highest accumulated score combined with the smallest penalty). Think of it like this: what's the best way to get _here_ $[n]$ coming from _over there_ $[1:n-1$]?\n",
    "\n",
    "The outer $\\max$ statement handles the trivial case of only one beat ($L = 1$).\n",
    "\n",
    "Finally, in order to actually discover the optimal beat sequence $B^*$, we must remember which location ($m$) produced the maximizing score above and store that in a backtracking vector $\\mathbf{P}$. And if $\\mathbf{D}[n] = \\Delta[n]$ (i.e., the case of one beat), we set $\\mathbf{P}[n] = 0$, which terminates the backtracking.\n",
    "\n",
    "\n",
    "\n",
    "Backtracking begins at the highest accumulated score which is $b_L = \\underset{n} {\\operatorname{argmax}} \\mathbf{D}[n]$, the final beat of the optimal beat sequence, and follows $\\mathbf{P}[n]$ back to $n=0$."
   ]
  },
  {
   "cell_type": "markdown",
   "metadata": {
    "collapsed": true
   },
   "source": [
    "### Example\n",
    "\n",
    "Here is a toy example. \n",
    "\n",
    "For simplicity, we use $\\lambda = 1$ and $P_{\\hat \\delta}(\\delta) = - (\\delta - \\hat \\delta)^2$ and $\\hat \\delta = 3$\n",
    "<img src=\"images/dyn_prog_toy.png\" width=700>"
   ]
  },
  {
   "cell_type": "markdown",
   "metadata": {
    "collapsed": true
   },
   "source": [
    "## Estimating Global Tempo\n",
    "\n",
    "One strategy for estimating the global tempo $\\hat \\tau$ is to create a tempogram and average all the columns into one column:\n",
    "\n",
    "$$ f[k] = { 1 \\over N} \\sum_{n=1}^{N} \\mathcal{F}[n,k] $$\n",
    "\n",
    "\n",
    "Here is the tempogram:"
   ]
  },
  {
   "cell_type": "code",
   "execution_count": null,
   "metadata": {},
   "outputs": [],
   "source": [
    "win_len_tg = 256\n",
    "zp_tg = 16\n",
    "hop_tg = 32\n",
    "fft_len = win_len_tg * zp_tg\n",
    "tg = np.abs(fmp.stft(nov1, win_len_tg, hop_tg, zp_tg))\n",
    "\n",
    "plt.figure(figsize=(14, 6))\n",
    "plt.imshow(tg, origin='lower', aspect='auto')\n",
    "plt.colorbar()\n",
    "plt.show()"
   ]
  },
  {
   "cell_type": "markdown",
   "metadata": {},
   "source": [
    "Average across all rows:"
   ]
  },
  {
   "cell_type": "code",
   "execution_count": null,
   "metadata": {},
   "outputs": [],
   "source": [
    "ave_tg = np.mean(tg, axis = 1)\n",
    "plt.plot(ave_tg)\n",
    "plt.ylim(0,3)\n",
    "plt.xlabel('k')\n",
    "plt.show()"
   ]
  },
  {
   "cell_type": "markdown",
   "metadata": {},
   "source": [
    "Pick the maximum, but only from a pre-specified tempo range. \n",
    "\n",
    "\n",
    "$$ k = \\underset{k \\in [k_{min} : k_{max}]} {\\operatorname{argmax}} \\{ f[k] \\} $$\n",
    "\n",
    "Convert peak at bin $k$ to tempo (BPM) with:\n",
    "$$ \\tau_k = k \\cdot 60 \\cdot {F_f \\over N_{tg} \\cdot Z_{tg} }$$\n",
    "\n",
    "And finally, convert tempo into period with:\n",
    "$$\\hat \\delta = \\lceil F_f \\cdot {60 \\over \\hat \\tau} \\rfloor $$\n",
    "\n",
    "For example, with a tempo constraint of 40 BPM to 200 BPM:"
   ]
  },
  {
   "cell_type": "code",
   "execution_count": null,
   "metadata": {},
   "outputs": [],
   "source": [
    "bpm_min = 40\n",
    "bpm_max = 200\n",
    "bpm1 = fmp.estimate_bpm(nov1, ff, bpm_min, bpm_max)\n",
    "est_period1 = int(round(60 * ff / bpm1))\n",
    "\n",
    "k_min = fmp.bpm_to_k(bpm_min, fft_len, ff)\n",
    "k_max = fmp.bpm_to_k(bpm_max, fft_len, ff)\n",
    "k_peak = fmp.bpm_to_k(bpm1, fft_len, ff)\n",
    "\n",
    "plt.plot(ave_tg)\n",
    "plt.vlines((k_min, k_max), 0, 3, 'r')\n",
    "plt.plot(k_peak, ave_tg[k_peak], 'ro')\n",
    "plt.ylim(0,3)\n",
    "plt.xlabel('k')\n",
    "plt.show()\n",
    "\n",
    "print(f'estimated BPM: {bpm1}')\n",
    "print(f'estimated period: {est_period1}')"
   ]
  },
  {
   "cell_type": "markdown",
   "metadata": {},
   "source": [
    "## Beat Tracking Examples\n",
    "\n",
    "Now that we have the estimated period, run the Dynamic Programming Beat Tracker\n",
    "(with $\\lambda = 10$)"
   ]
  },
  {
   "cell_type": "code",
   "execution_count": null,
   "metadata": {},
   "outputs": [],
   "source": [
    "beats = fmp.create_dp_beats(nov1, est_period1, 10)[0]\n",
    "plt.plot(nov1)\n",
    "plt.vlines(beats, 0, 1, 'r')\n",
    "plt.xlim(0, 500)"
   ]
  },
  {
   "cell_type": "code",
   "execution_count": null,
   "metadata": {},
   "outputs": [],
   "source": [
    "def play_beats(beats, hop_size, snd, fs):\n",
    "    beat_locs = (beats * hop_size).astype(int)\n",
    "    click_snd = fmp.load_wav(\"audio/click.wav\")\n",
    "    clicks = fmp.make_clicks(beat_locs, len(snd), click_snd)\n",
    "    return ipd.Audio([snd * 0.2, clicks], rate = fs)\n",
    "\n",
    "play_beats(beats, hop_size, snd1, fs)"
   ]
  },
  {
   "cell_type": "markdown",
   "metadata": {},
   "source": [
    "### The Effect of Changing $\\lambda$\n",
    "\n",
    "including small errors in $\\hat \\delta$."
   ]
  },
  {
   "cell_type": "code",
   "execution_count": null,
   "metadata": {},
   "outputs": [],
   "source": [
    "def show_and_play_beats(nov, period, lmda, snd, hop_size, fs):\n",
    "    beats = fmp.create_dp_beats(nov, period, lmda)[0]\n",
    "    plt.figure()\n",
    "    plt.plot(nov)\n",
    "    plt.vlines(beats, 0, 1, 'r');\n",
    "    plt.xlim(0, 500)\n",
    "    text = f\"$\\lambda = {lmda:.1f}$   $\\delta = {period}$\"\n",
    "    plt.text(0, 1.1, text, fontsize=20)\n",
    "    plt.show()\n",
    "    return play_beats(beats, hop_size, snd, fs)\n",
    "\n",
    "@interact(lmda_idx=(0, 2), period_err=(-2, 2))\n",
    "def test_beat_track(lmda_idx, period_err = 0):\n",
    "    est_p = est_period1 + period_err\n",
    "    lmda = (0.2, 5, 30)[lmda_idx]\n",
    "    return show_and_play_beats(nov1, est_p, lmda, snd1, hop_size, fs)"
   ]
  },
  {
   "cell_type": "markdown",
   "metadata": {
    "collapsed": true
   },
   "source": [
    "### Another Example\n",
    "\n",
    "_Chameleon_ by Herbie Hancock"
   ]
  },
  {
   "cell_type": "code",
   "execution_count": null,
   "metadata": {},
   "outputs": [],
   "source": [
    "snd2 = fmp.load_wav(\"audio/hancock_chameleon.wav\", 0, 60)\n",
    "nov2 = fmp.spectral_novelty(snd2, win_len, hop_size, 10)\n",
    "bpm2 = fmp.estimate_bpm(nov2, ff, 40, 150)\n",
    "est_period2 = int(round(60 * ff / bpm2))\n",
    "print(est_period2)"
   ]
  },
  {
   "cell_type": "code",
   "execution_count": null,
   "metadata": {},
   "outputs": [],
   "source": [
    "@interact(lmda_idx=fmp.slider(0, 3))\n",
    "def test_beat_track(lmda_idx):\n",
    "    lmda = (1, 5, 10, 15)[lmda_idx]\n",
    "    return show_and_play_beats(nov2, est_period2, lmda, snd2, hop_size, fs)    "
   ]
  },
  {
   "cell_type": "markdown",
   "metadata": {},
   "source": [
    "## Beat Synchronized Features"
   ]
  },
  {
   "cell_type": "markdown",
   "metadata": {},
   "source": [
    "Another applicaiton of beat tracking is to help improve other feature calculations"
   ]
  },
  {
   "cell_type": "code",
   "execution_count": null,
   "metadata": {},
   "outputs": [],
   "source": [
    "snd3 = fmp.load_wav(\"audio/bach_prelude13.wav\", 0, 20) * 4\n",
    "ipd.Audio(snd3, rate = fs)"
   ]
  },
  {
   "cell_type": "markdown",
   "metadata": {},
   "source": [
    "Chromagram of the first 10 seconds:"
   ]
  },
  {
   "cell_type": "code",
   "execution_count": null,
   "metadata": {},
   "outputs": [],
   "source": [
    "chroma = fmp.make_chromagram(snd3[:int(fs*10)], fs, 4096, 1024, gamma=0)\n",
    "plt.imshow(chroma, origin='lower', aspect='auto', cmap='Greys');"
   ]
  },
  {
   "cell_type": "markdown",
   "metadata": {},
   "source": [
    "Find beats by dynamic programming"
   ]
  },
  {
   "cell_type": "code",
   "execution_count": null,
   "metadata": {},
   "outputs": [],
   "source": [
    "win_len3 = 512\n",
    "hop_size3 = 256\n",
    "nov3 = fmp.spectral_novelty(snd3, win_len3, hop_size3, 1)\n",
    "ff3 = fs / hop_size3\n",
    "est_bpm3 = fmp.estimate_bpm(nov3, ff3, 200, 400)\n",
    "est_period3 = int(round(ff3 * 60 / est_bpm3))\n",
    "beats3 = fmp.create_dp_beats(nov3, est_period3, 2.)[0]\n",
    "beat_locs3 = (beats3 * hop_size3).astype(int)\n",
    "show_and_play_beats(nov3, est_period3, 2, snd3, hop_size3, fs)"
   ]
  },
  {
   "cell_type": "markdown",
   "metadata": {},
   "source": [
    "Create a customized chromagram based on a _non-uniform_ spacing of the STFT."
   ]
  },
  {
   "cell_type": "code",
   "execution_count": null,
   "metadata": {},
   "outputs": [],
   "source": [
    "plt.plot(snd3[0:int(fs*3)])\n",
    "plt.vlines(beat_locs3[:13], -0.25, .25, 'r')\n",
    "plt.show()"
   ]
  },
  {
   "cell_type": "markdown",
   "metadata": {},
   "source": [
    "Find the maximum beat length to figure out $N$ for the STFT.\n",
    "\n",
    "- $N = $ next power of 2 above max beat length\n",
    "- $H$ is not a constant - hops vary according to the detected beats\n",
    "- Use zero-padding up to $N$ as needed\n",
    "- This method has no overlapping windows"
   ]
  },
  {
   "cell_type": "code",
   "execution_count": null,
   "metadata": {},
   "outputs": [],
   "source": [
    "def sync_stft(x, sync, fft_len):\n",
    "    num_hops = len(sync) - 1\n",
    "    num_bins = fft_len // 2 + 1\n",
    "\n",
    "    output = np.empty((num_bins, num_hops), dtype = complex)\n",
    "\n",
    "    for h in range(num_hops):\n",
    "        start = sync[h]\n",
    "        end = sync[h+1]\n",
    "        wlen = end - start\n",
    "        sig = x[start:end] * np.hanning(wlen)\n",
    "        sig.resize(fft_len) # this will zero-pad to the correct length\n",
    "        \n",
    "        # take real FFT\n",
    "        output[: , h] = np.fft.rfft(sig)\n",
    "    return output"
   ]
  },
  {
   "cell_type": "code",
   "execution_count": null,
   "metadata": {},
   "outputs": [],
   "source": [
    "longest_beat = np.max(beat_locs3[1:] - beat_locs3[:-1])\n",
    "fft_len3 = int(2 ** np.ceil(np.log2(longest_beat)))\n",
    "\n",
    "print('longest beat:',  longest_beat)\n",
    "print('fft_len:', fft_len3)\n",
    "\n",
    "spec = np.abs(sync_stft(snd3, beat_locs3, fft_len3)) ** 2\n",
    "plt.figure(figsize=(14, 8))\n",
    "# fmp.plot_spectrogram(spec[0:600,])\n",
    "fmp.plot_spectrogram(spec[40:200,:20])"
   ]
  },
  {
   "cell_type": "markdown",
   "metadata": {},
   "source": [
    "Use this spectrogram to make a chormagram"
   ]
  },
  {
   "cell_type": "code",
   "execution_count": null,
   "metadata": {},
   "outputs": [],
   "source": [
    "def make_sync_chormagram(snd, fs, sync, normalize = True, gamma = 0):\n",
    "    # find max window size:\n",
    "    fft_len = np.max(sync[1:] - sync[:-1])\n",
    "\n",
    "    # round up to next power of 2:\n",
    "    fft_len = int(2 ** np.ceil(np.log2(fft_len)))\n",
    "    \n",
    "    c_fp = fmp.spec_to_pitch_mtx(fs, fft_len, type='hann')\n",
    "    c_pc = np.tile(np.identity(12), 11)[:, 0:128]\n",
    "    spec = np.abs(sync_stft(snd, sync, fft_len))\n",
    "    \n",
    "    chroma = np.dot(np.dot(c_pc, c_fp), spec ** 2)\n",
    "    if gamma > 0:\n",
    "        chroma = np.log(1 + gamma * chroma)\n",
    "        \n",
    "    if normalize:\n",
    "        length = np.linalg.norm(chroma, axis=0, ord = 2)\n",
    "        chroma = chroma / length\n",
    "    return chroma"
   ]
  },
  {
   "cell_type": "code",
   "execution_count": null,
   "metadata": {},
   "outputs": [],
   "source": [
    "chroma_sync = make_sync_chormagram(snd3, fs, beat_locs3[:45])\n",
    "fmp.plot_two_chromas(chroma, chroma_sync)"
   ]
  }
 ],
 "metadata": {
  "kernelspec": {
   "display_name": "Python 3",
   "language": "python",
   "name": "python3"
  },
  "language_info": {
   "codemirror_mode": {
    "name": "ipython",
    "version": 3
   },
   "file_extension": ".py",
   "mimetype": "text/x-python",
   "name": "python",
   "nbconvert_exporter": "python",
   "pygments_lexer": "ipython3",
   "version": "3.9.1"
  },
  "widgets": {
   "state": {
    "883f27684bfd4296b1a67cc673922816": {
     "views": [
      {
       "cell_index": 37
      }
     ]
    },
    "ce2e55fdeae04bfb8e1a085041ca2202": {
     "views": [
      {
       "cell_index": 40
      }
     ]
    },
    "d740c865a1de4bbaba18f6a88c36ce88": {
     "views": [
      {
       "cell_index": 16
      }
     ]
    }
   },
   "version": "1.2.0"
  }
 },
 "nbformat": 4,
 "nbformat_minor": 1
}
