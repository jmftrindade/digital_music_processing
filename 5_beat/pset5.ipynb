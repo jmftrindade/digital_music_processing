{
 "cells": [
  {
   "cell_type": "markdown",
   "metadata": {},
   "source": [
    "# 21M.387 Fundamentals of Music Processing\n",
    "## Problem Set 5: Beat Detection\n",
    "\n",
    "Make sure all your answers and plots display when the code block is run. You can leave word-based answers in code comments or markdown cells.\n",
    "\n",
    "You may use any fmplib functions from __previous__ units in your answers. You may __not__ use any fmplib functions from the current unit in your answers (unless explicitly noted). But you can use the current unit's fmplib for testing your code."
   ]
  },
  {
   "cell_type": "code",
   "execution_count": null,
   "metadata": {},
   "outputs": [],
   "source": [
    "import numpy as np\n",
    "import matplotlib.pyplot as plt\n",
    "import IPython.display as ipd\n",
    "from ipywidgets import interact\n",
    "import sys\n",
    "sys.path.append(\"..\")\n",
    "import fmplib as fmp\n",
    "\n",
    "plt.rcParams['figure.figsize'] = (12, 4)\n",
    "plt.rcParams['image.interpolation'] = 'nearest'\n",
    "\n",
    "fmp.documentation_button()"
   ]
  },
  {
   "cell_type": "markdown",
   "metadata": {},
   "source": [
    "## Exercise 1\n",
    "\n",
    "Load the audio below, listen to it, and create $\\Delta[n]$, the Spectral Novelty Function, using `fmp.spectral_novelty` and these parameters:\n",
    "\n",
    "$N = 1024$  \n",
    "$H = 512$  \n",
    "$\\gamma = 10$\n",
    "\n",
    "- Name it `nov1`\n",
    "- Plot it\n",
    "\n"
   ]
  },
  {
   "cell_type": "code",
   "execution_count": null,
   "metadata": {},
   "outputs": [],
   "source": [
    "x1 = fmp.load_wav(\"audio/beatles_lucy_excerpt.wav\")\n",
    "fs = 22050\n",
    "ipd.display(ipd.Audio(x1, rate=fs))\n",
    "\n",
    "nov1 = ..."
   ]
  },
  {
   "cell_type": "markdown",
   "metadata": {},
   "source": [
    "Create $\\mathcal{F}[n, k]$, the Fourier Tempogram from this novelty curve using the parameters:\n",
    "\n",
    "$N_{tg} = 256$  \n",
    "$H_{tg} = 32$  \n",
    "$Z_{tg} = 16$  \n",
    "\n",
    "Use `fmp.stft` with the `centered=False` option for the STFT. This will be important later on.\n",
    "\n",
    "- Name it `tg1`\n",
    "- Plot the magnitude with `plt.imshow`."
   ]
  },
  {
   "cell_type": "code",
   "execution_count": null,
   "metadata": {},
   "outputs": [],
   "source": [
    "tg1 = ..."
   ]
  },
  {
   "cell_type": "markdown",
   "metadata": {},
   "source": [
    "You now have three time series:\n",
    "\n",
    "- The original audio recording $x[n]$\n",
    "- The novelty function $\\Delta[n]$\n",
    "- The tempogram $\\mathcal{F}[n, k]$\n",
    "\n",
    "Each has a different sampling rate. It is important to keep these in mind to avoid confusion later on.\n",
    "\n",
    "1. What are the sampling rates for each of the above signals?\n",
    "1. For the tempogram $\\mathcal{F}[n, k]$, what value of $k$ corresponds to 120 BPM?\n",
    "1. What tempo (in BPM) does $k=100$ represent in the tempogram?\n",
    "\n",
    "Please answer these questions by showing your calculations in python and printing the results."
   ]
  },
  {
   "cell_type": "code",
   "execution_count": null,
   "metadata": {},
   "outputs": [],
   "source": [
    "# calculate sampling rates\n",
    "f_x = ...\n",
    "f_delta = ...\n",
    "f_tg = ...\n",
    "\n",
    "# k of 120 BPM?\n",
    "ex1_k = ...\n",
    "\n",
    "# k=100 corresponds to what BPM?\n",
    "ex1_bpm = ..."
   ]
  },
  {
   "cell_type": "markdown",
   "metadata": {},
   "source": [
    "## Exercise 2\n",
    "\n",
    "Write the function `best_tempogram_bins()` that returns the index ($k$) of the most likely tempo for each column of a Fourier tempogram. However, instead of just returning the column-wise maximum, narrow the answer to fit within a given tempo range.\n",
    "\n",
    "Inputs:  \n",
    "- `tg`: the tempogram\n",
    "- `ff`: $F_f$, the sampling rate of $\\Delta[n]$\n",
    "- `bpm_min`, `bpm_max`: tempo constraints in beats-per-minute\n",
    "\n",
    "Output:  \n",
    "- a vector, same length as `tg`, where each value is the index ($k$) of the most likely tempo, subject to the tempo constraints\n",
    "\n",
    "Strategy:\n",
    "- Convert the min/max tempos into frequency bins ($k$'s)\n",
    "- Find the maximum $k$ from only a subregion of the tempogram, as delimited by the min/max $k$'s"
   ]
  },
  {
   "cell_type": "code",
   "execution_count": null,
   "metadata": {},
   "outputs": [],
   "source": [
    "def best_tempogram_bins(tg, ff, bpm_min, bpm_max):\n",
    "    pass"
   ]
  },
  {
   "cell_type": "markdown",
   "metadata": {},
   "source": [
    "Now test your function with the spectral novelty you created above using a BPM range of $[30:250]$.\n",
    "\n",
    "In a single figure:\n",
    "- plot the tempogram, but only in the subrange $k = [0 - 400]$\n",
    "- plot the best tempo estimates as red dots [Hint: use `'ro'`]\n"
   ]
  },
  {
   "cell_type": "code",
   "execution_count": null,
   "metadata": {},
   "outputs": [],
   "source": [
    "# tempogram with best tempo estimate plot\n"
   ]
  },
  {
   "cell_type": "markdown",
   "metadata": {},
   "source": [
    "## Exercise 3\n",
    "\n",
    "Using the best-tempo-estimate bins from above, which represent the most likely tempo values per time slot, find the sinusoid parameters used to recreate the PLP (Predominant Local Pulse). Creating the actual PLP happens in the next exercise.\n",
    "\n",
    "The function `get_sinusoid_params()` below should return the set of frequencies and phases associated with the given bins of the tempogram.\n",
    "\n",
    "Inputs:\n",
    "- `tg`: the tempogram\n",
    "- `ff`: $F_f$, the sampling rate of $\\Delta[n]$\n",
    "- `bins`: the best-tempo estimates calculated above.\n",
    "\n",
    "Outputs:\n",
    "- `(freqs, phases)`, a tuple of vectors representing the frequencies at each bin and the phases at each bin.\n"
   ]
  },
  {
   "cell_type": "code",
   "execution_count": null,
   "metadata": {},
   "outputs": [],
   "source": [
    "def get_sinusoid_params(tg, ff, bins):\n",
    "    pass"
   ]
  },
  {
   "cell_type": "markdown",
   "metadata": {},
   "source": [
    "Calculate the frequencies and phases for the above tempogram using your function and plot them."
   ]
  },
  {
   "cell_type": "code",
   "execution_count": null,
   "metadata": {},
   "outputs": [],
   "source": [
    "# plot frequencies and phases (on two separate plots) of best tempo estimates.\n"
   ]
  },
  {
   "cell_type": "markdown",
   "metadata": {},
   "source": [
    "## Exercise 4\n",
    "\n",
    "The final step in creating the PLP - aka $\\Gamma[n]$ - is to go through each frequency / phase pair, generate a windowed sinusoid, and then add up all these sinusoids together. The trick is to place the generated sinusoid at the proper location in time.\n",
    "\n",
    "Write the function `make_plp()`\n",
    "\n",
    "Inputs:\n",
    "- `freqs`: frequencies from `get_sinusoid_params()` \n",
    "- `phases`: phases from `get_sinusoid_params()`\n",
    "- `ff`: $F_f$, the sampling rate of $\\Delta[n]$\n",
    "- `win_len_tg`: $N_{tg}$, the window length used to create the tempogram from $\\Delta[n]$\n",
    "- `hop_tg`: $H_{tg}$, the hop size used to create the tempogram from $\\Delta[n]$\n",
    "\n",
    "\n",
    "Output:\n",
    "- the predominant local pulse as an array, sampled at $F_f$.\n",
    "\n",
    "Strategy:\n",
    "- Create a cosine of length $N_{tg}$, sampled at $F_f$, for each input frequency/phase.\n",
    "- Taper this cosine with a Hann window of the same length.\n",
    "- All these windowed cosines must be shifted by the proper amount and added to $\\Gamma[n]$. Hint: you will need to use $H_{tg}$ to help find the proper shift amount.\n",
    "- As a final step, half-wave-rectify the entire PLP signal before returning it."
   ]
  },
  {
   "cell_type": "code",
   "execution_count": null,
   "metadata": {},
   "outputs": [],
   "source": [
    "def make_plp(freqs, phases, ff, win_len_tg, hop_tg):\n",
    "    pass"
   ]
  },
  {
   "cell_type": "markdown",
   "metadata": {},
   "source": [
    "Now, to see it working:\n",
    "\n",
    "- Create the PLP\n",
    "- Plot $\\Delta[n]$, the Novelty Function, and $\\Gamma[n]$, the PLP, on the same plot.\n",
    "- Pick all the peaks of $\\Gamma[n]$ and use those values to generate clicks so you can hear the results. You can use the helper function `listen_to_clicks` below."
   ]
  },
  {
   "cell_type": "code",
   "execution_count": null,
   "metadata": {},
   "outputs": [],
   "source": [
    "def listen_to_clicks(click_locations, audio) :\n",
    "    '''click_locations: the samples at which to generate a click sound.\n",
    "    audio: the original audio track\n",
    "    returns Audio with clicks in left and audio in right channels\n",
    "    '''\n",
    "    click_snd = fmp.load_wav('audio/click.wav')\n",
    "    clicks = fmp.make_clicks(click_locations, len(audio), click_snd)\n",
    "    ipd.display(ipd.Audio((clicks, audio), rate = 22050))\n",
    "\n",
    "plp = ...\n",
    "\n",
    "# plot nov1 and PLP\n",
    "\n",
    "peaks = ...\n",
    "\n",
    "# listen to peaks"
   ]
  },
  {
   "cell_type": "markdown",
   "metadata": {},
   "source": [
    "## Exercise 5\n",
    "\n",
    "In the next three exercises, we will examine beat detection by dynamic programming.\n",
    "\n",
    "Write the function `beats_score()` which return $\\mathbf{S}(B)$, the score for an arbitrary beat sequence $B = (b_1, b_2, b_3, ... b_L)$ and a novelty function $\\Delta[n]$.\n",
    "\n",
    "For the penalty term, use the function from lecture:\n",
    "$$P_{\\hat \\delta}(\\delta) = -(\\log_2(\\delta / \\hat \\delta))^2$$\n",
    "\n",
    "Inputs:\n",
    "\n",
    "- `nov`: The novelty function $\\Delta[n]$\n",
    "- `beats`: A beats sequence $B$\n",
    "- `est_period`: the estimated beat period $\\hat \\delta$\n",
    "- `lam`: the balancing factor $\\lambda$\n",
    "    \n",
    "Output:\n",
    "- a score value"
   ]
  },
  {
   "cell_type": "code",
   "execution_count": null,
   "metadata": {},
   "outputs": [],
   "source": [
    "def beats_score(nov, beats, est_period, lam):\n",
    "    pass"
   ]
  },
  {
   "cell_type": "markdown",
   "metadata": {},
   "source": [
    "Using the parameters $\\hat \\delta = 4$ and $\\lambda = 2$ with the novelty function:\n",
    "\n",
    "$$\\Delta[n] = [1,2,8,2,3,1,5,0,2,5,4,1]$$\n",
    "\n",
    "Find the scores for these beat sequences using the function you just wrote:\n",
    "- $B_1 = [3, 7, 9]$\n",
    "- $B_2 = [0, 5, 9]$\n",
    "- $B_3 = [1, 3, 6, 10]$\n"
   ]
  },
  {
   "cell_type": "code",
   "execution_count": null,
   "metadata": {},
   "outputs": [],
   "source": [
    "nov5 = np.array((1,2,8,2,3,1,5,0,2,5,4,1))\n",
    "\n",
    "# find and print scores for B1, B2, B3:\n",
    "b1_score = ...\n",
    "b2_score = ...\n",
    "b3_score = ..."
   ]
  },
  {
   "cell_type": "markdown",
   "metadata": {},
   "source": [
    "## Exercise 6\n",
    "\n",
    "Write the function `optimal_beats_slow()` to find $B^*$, the optimal (best scoring) beat sequence for $\\Delta[n]$ by using the brute-force way of testing every  possible beat sequence with $\\mathbf{S}(B)$. In our example, $\\Delta[n]$ is of length 12, so there are $2^{12}$ such sequences (i.e., each \"slot\" can be either have a beat or have no beat).\n",
    "\n",
    "Inputs:\n",
    "- `nov`: The novelty function $\\Delta[n]$\n",
    "- `est_period`: the estimated beat period $\\hat \\delta$\n",
    "- `lam`: the balancing factor $\\lambda$\n",
    "\n",
    "Returns:\n",
    "- `(beats, score)`: a tuple of $B^*$ the optimal beat sequence, and $\\mathbf{S}(B^*)$, its score\n",
    "\n",
    "Use the `beats_score()` function you wrote above. To help you generate all the possible beat sequences, I've written a helper function that returns the locations of the 1s in the binary representation of a number (going from right to left). For example:\n",
    "\n",
    "$19 = 10011_2 \\to [0, 1, 4]$"
   ]
  },
  {
   "cell_type": "code",
   "execution_count": null,
   "metadata": {},
   "outputs": [],
   "source": [
    "def optimal_beats_slow(nov, est_period, lam):\n",
    "    pass\n",
    "\n",
    "def binary_to_beats(n):\n",
    "    return np.nonzero( np.array(list(reversed(list(np.binary_repr(n))))) == '1' )[0]\n",
    "\n",
    "binary_to_beats(19)"
   ]
  },
  {
   "cell_type": "markdown",
   "metadata": {},
   "source": [
    "## Exercise 7\n",
    "\n",
    "Now write a function that finds the optimal beat sequence using dynamic programming for the same configuration as Exercises 5 and 6.\n",
    "\n",
    "Note that in the algorithm $\\Delta[n]$ starts at $n=1$ while $\\mathbf{D}[n]$ starts at $n=0$. The easiest way to handle this is to left-pad $\\Delta[n]$ so as to right-shift it by one sample, and then compensate for this shift after computing the beat locations.\n",
    "\n",
    "The basic algorithm is:  \n",
    "\n",
    "- Initialize $\\mathbf{D}[0]$ and $\\mathbf{D}[1]$.\n",
    "- Compute the accumulated score vector $\\mathbf{D}[n]$ for $n \\in [2:N]$\n",
    "- As you do that, create the backtracking vector $\\mathbf{P}[n]$.\n",
    "- Follow the pointers of $\\mathbf{P}[n]$ from $n = \\text{argmax}(\\mathbf{D}[n])$ to (but not including) $n=0$ to create the list of beat locations.\n",
    "\n",
    "Write the function `optimal_beats_dp()` to generate these results.\n",
    "\n",
    "Inputs:\n",
    "\n",
    "- `nov`: The novelty function $\\Delta[n]$\n",
    "- `est_period`: the estimated beat period $\\hat \\delta$\n",
    "- `lam`: the balancing factor $\\lambda$\n",
    "\n",
    "Outputs: \n",
    "- (D, beats, score), a tuple of\n",
    "    - The accumulated score vector $\\mathbf{D}$\n",
    "    - The list of beats $B^*$\n",
    "    - The score for for optimal beats $\\mathbf{S}(B^*)$"
   ]
  },
  {
   "cell_type": "code",
   "execution_count": null,
   "metadata": {},
   "outputs": [],
   "source": [
    "def optimal_beats_dp(nov, est_period, lam):\n",
    "    pass"
   ]
  },
  {
   "cell_type": "markdown",
   "metadata": {},
   "source": [
    "Run this new function on the same data from Exercise 6. You should get the same optimal beat sequence and score as in the slow version."
   ]
  },
  {
   "cell_type": "code",
   "execution_count": null,
   "metadata": {},
   "outputs": [],
   "source": [
    "# get beats from optimal_beats_dp()\n"
   ]
  },
  {
   "cell_type": "markdown",
   "metadata": {
    "collapsed": true
   },
   "source": [
    "## Exercise 8\n",
    "\n",
    "One of the inputs to the dynamic programming algorithm is an estimated tempo (or rather, an estimated _beat period_) for the whole song. Estimating the song tempo from a tempogram is demonstrated in the Lecture notebook, where a tempo constraint (BPM-min and BPM-max) is used to avoid out-of-range tempos. \n",
    "\n",
    "Another way to constrain tempo is to apply a probability function $W(\\tau)$ to the tempo candidates before choosing the highest-scoring (most likely) tempo.\n",
    "\n",
    "\n",
    "[Research has shown](https://online.ucpress.edu/mp/article-abstract/24/2/155/62298/Ambiguity-in-Tempo-Perception-What-Draws-Listeners) that most people are likely to tap their feet at tempos closer to 120BPM as opposed to the half-tempo (60BPM) or double-tempo (240BPM). A Gaussian tempo probability, centered at 120BPM, can be used to model this bias when choosing a tempo from a tempogram.\n",
    "\n",
    "The standard Gaussian distribution is given by:\n",
    "\n",
    "$$ g(x) = \\exp \\Bigl( - {1 \\over 2 \\sigma^2} (x - \\mu)^2  \\Bigr) $$\n",
    "\n",
    "centered at $x = \\mu$ with a standard deviation of $\\sigma$.\n",
    "\n",
    "However, much like the penalty function $P_{\\hat \\delta}(\\delta)$, it makes more sense to create a Gaussian probability curve $W(\\tau)$ with logarithmic behavior:\n",
    "\n",
    "$$ W(\\tau) = \\exp \\Bigl( - {1 \\over 2 \\sigma^2 } {( \\log_2 \\tau /  \\tau_{\\mu})^2 } \\Bigr) $$\n",
    "\n",
    "\n",
    "so that, for example, if $ \\tau_{\\mu} = 120 $ then $ W(60) = W(240) $.\n",
    "\n",
    "\n",
    "### Part 1\n",
    "\n",
    "Write the function for this weighting curve $ W(\\tau) $ and plot it for the tempo range $\\tau \\in [1:500]$ with $ \\tau_{\\mu} = 120 $ and $ \\sigma = 0.8 $. Remember to set the x-axis correctly for the range of tempos.\n",
    "\n",
    "Show that the half-tempo and double-tempo are equal, $ W(60) = W(240) $."
   ]
  },
  {
   "cell_type": "code",
   "execution_count": null,
   "metadata": {},
   "outputs": [],
   "source": [
    "bpm_range = np.arange(1, 501)\n",
    "sigma = .8\n",
    "bpm_ave = 120\n",
    "\n",
    "# create and plot W(tau) for tau_range with sigma and tau_ave.\n",
    "W_tau = ...\n",
    "\n",
    "# show that W(60) == W(240)"
   ]
  },
  {
   "cell_type": "markdown",
   "metadata": {
    "collapsed": true
   },
   "source": [
    "### Part 2\n",
    "\n",
    "Now write the function `find_tempo()` that estimates the tempo (in beats per minute) given the novelty function $\\Delta[n]$ using an _autocorrelation tempogram_ approach, where you apply the logarithmic Gaussian function above before choosing the best-scoring tempo.\n",
    "\n",
    "Inputs:  \n",
    "- `nov`: the novelty function $\\Delta[n]$\n",
    "- `ff`: $F_f$, the sampling rate of nov\n",
    "- `bpm_ave`: $\\tau_{\\mu}$, the average tempo to be used in $W(\\tau$)\n",
    "- `sigma`: $\\sigma$, the standard deviation to be used in $W(\\tau$)\n",
    "\n",
    "Output:  \n",
    "- most likely tempo (in BPM)\n",
    "\n",
    "Strategy:\n",
    "- Create an autocorrelation tempogram $A[n,l]$. You may use `fmp.make_ac_tempogram()` with reasonable values for $N$ and $H$\n",
    "- Find the average autocorrelation vector $a[l]$ for the whole song.\n",
    "- Apply $W(\\tau)$ to $a[l]$, but be careful! $\\tau$ and $l$ are not in the same units!\n",
    "- Find the argmax of this weighted average autocorrelation vector (ie, the lag value $l$).\n",
    "- Convert $l$ to BPM and return it."
   ]
  },
  {
   "cell_type": "code",
   "execution_count": null,
   "metadata": {},
   "outputs": [],
   "source": [
    "def find_tempo(nov, ff, bpm_ave, sigma):\n",
    "    pass"
   ]
  },
  {
   "cell_type": "markdown",
   "metadata": {},
   "source": [
    "Test your function below with $\\tau_{\\mu} = 120$ and $\\sigma = 0.8$ to find the average tempo of Steve Wonder's _Superstition_."
   ]
  },
  {
   "cell_type": "code",
   "execution_count": null,
   "metadata": {},
   "outputs": [],
   "source": [
    "x8 = fmp.load_wav('audio/wonder_superstition.wav', 0, 60)\n",
    "fs = 22050\n",
    "ipd.display(ipd.Audio(x8, rate = fs))\n",
    "\n",
    "fft_len = 1024\n",
    "hop_size = 512\n",
    "gamma = 10\n",
    "nov8 = fmp.spectral_novelty(x8, fft_len, hop_size, gamma)\n",
    "\n",
    "# find tempo of x8:\n",
    "x8_bpm = ..."
   ]
  },
  {
   "cell_type": "markdown",
   "metadata": {},
   "source": [
    "## Exercise 9"
   ]
  },
  {
   "cell_type": "markdown",
   "metadata": {},
   "source": [
    "### Part 1\n",
    "\n",
    "Now that you found the average tempo in Exercise 8, use beat detection by dynamic programming of Exercise 7 to generate a set of beats and listen to them. For the DP balancing parameter, use $\\lambda = 10$."
   ]
  },
  {
   "cell_type": "code",
   "execution_count": null,
   "metadata": {},
   "outputs": [],
   "source": [
    "# use optimal_beat_dp() to generate beats.\n",
    "# listen to the beats using listen_to_clicks()\n",
    "\n",
    "ex9_beats = ..."
   ]
  },
  {
   "cell_type": "markdown",
   "metadata": {},
   "source": [
    "One fun thing to try is to double the beat period $\\hat \\delta$. You will then get a set of beats at half the tempo. Try that, and listen to the clicks."
   ]
  },
  {
   "cell_type": "code",
   "execution_count": null,
   "metadata": {},
   "outputs": [],
   "source": [
    "# as above, but use an estimated period of 2x.\n",
    "\n",
    "ex9_beats2 = ..."
   ]
  },
  {
   "cell_type": "markdown",
   "metadata": {},
   "source": [
    "You should hear the beats at half-tempo, but they land on the offbeats (ie, beats 2 and 4) as opposed to beats 1 and 3. This is because the snare drum has much more energy than the kick drum, and so the novelty function $\\Delta[n]$ favors the offbeats.\n",
    "\n",
    "It is possible to create a $\\Delta[n]$ that favors lower frequencies (ie, the kick drum) by modifying the function `spectral_novelty()` to filter out high frequencies. \n",
    "\n",
    "### Part 2\n",
    "\n",
    "Below is the code to `spectral_novelty()`, renamed `lowpass_spectral_novelty()`. Modify the code so that when computing the novelty function, it only applies the algorithm to the low end of the spectral range, for all frequencies below $f_c$ Hz, and ignores all frequencies above $f_c$ Hz. \n",
    "\n",
    "Inputs:\n",
    "- `x`: the audio signal $x[n]$\n",
    "- `fft_len`, `hop_size`, `gamma`: parameters for creating the log spectrogram: $N$, $H$, $\\gamma$\n",
    "- `fs`: $F_s$ - the sampling frequency of $x[n]$\n",
    "- `freq_cutoff`: $f_c$, the lowpass frequency cutoff\n",
    "\n",
    "Returns:\n",
    "- $\\Delta[n]$, the novelty function"
   ]
  },
  {
   "cell_type": "code",
   "execution_count": null,
   "metadata": {},
   "outputs": [],
   "source": [
    "def lowpass_spectral_novelty(x, fft_len, hop_size, gamma, freq_cutoff):\n",
    "    # TODO modify this function to ignore all frequencies above freq_cutoff\n",
    "    \n",
    "    # log spectrogram\n",
    "    spec = fmp.stft_mag(x, fft_len, hop_size)\n",
    "    log_spec = np.log10(1 + gamma * spec)\n",
    "\n",
    "    # differentiate, hwr, accumulate\n",
    "    dls = log_spec[:, 1:] - log_spec[:, :-1]\n",
    "    dls[dls < 0] = 0\n",
    "    spec_nov = np.sum(dls, axis = 0)\n",
    "\n",
    "    # subtract local average\n",
    "    ave_len = 9\n",
    "    win = np.hanning(ave_len) / np.sum(np.hanning(ave_len))\n",
    "    loc_ave = np.convolve(spec_nov, win, mode='same') * 1.02\n",
    "    spec_nov = spec_nov - loc_ave\n",
    "\n",
    "    # hwr, normalize\n",
    "    spec_nov[spec_nov < 0] = 0\n",
    "    spec_nov /= np.max(spec_nov)\n",
    "    \n",
    "    return spec_nov\n"
   ]
  },
  {
   "cell_type": "markdown",
   "metadata": {},
   "source": [
    "With this new way of generating $\\Delta[n]$, create beats as above, trying different values of $f_c$.\n",
    "\n",
    "What value of $f_c$ creates a novelty function whose generated DP beats land on 1 and 3 for the half-tempo?"
   ]
  },
  {
   "cell_type": "code",
   "execution_count": null,
   "metadata": {},
   "outputs": [],
   "source": [
    "ex9_freq_cutoff = ...\n",
    "# create nov with lowpass_spectral_novelty()\n",
    "\n",
    "# calculate beats with optimal_beat_dp()\n",
    "\n",
    "# listen with listen_to_clicks()"
   ]
  },
  {
   "cell_type": "code",
   "execution_count": null,
   "metadata": {},
   "outputs": [],
   "source": []
  }
 ],
 "metadata": {
  "kernelspec": {
   "display_name": "Python 3",
   "language": "python",
   "name": "python3"
  },
  "language_info": {
   "codemirror_mode": {
    "name": "ipython",
    "version": 3
   },
   "file_extension": ".py",
   "mimetype": "text/x-python",
   "name": "python",
   "nbconvert_exporter": "python",
   "pygments_lexer": "ipython3",
   "version": "3.9.1"
  }
 },
 "nbformat": 4,
 "nbformat_minor": 1
}
