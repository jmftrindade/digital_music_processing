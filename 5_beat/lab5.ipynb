{
 "cells": [
  {
   "cell_type": "markdown",
   "metadata": {},
   "source": [
    "# 21M.387 Fundamentals of Music Processing\n",
    "## Lab5"
   ]
  },
  {
   "cell_type": "code",
   "execution_count": null,
   "metadata": {},
   "outputs": [],
   "source": [
    "import numpy as np\n",
    "import matplotlib.pyplot as plt\n",
    "import IPython.display as ipd\n",
    "from ipywidgets import interact\n",
    "import sys\n",
    "sys.path.append(\"..\")\n",
    "import fmplib as fmp\n",
    "from fmplib.pyqueue import connect_to_queue\n",
    "\n",
    "plt.rcParams['figure.figsize'] = (12, 4)\n",
    "plt.rcParams['image.interpolation'] = 'nearest'\n",
    "\n",
    "fmp.documentation_button()"
   ]
  },
  {
   "cell_type": "markdown",
   "metadata": {},
   "source": [
    "## Exercise 1\n",
    "\n",
    "For the matrix `m` below, create two vectors:\n",
    "- the average values along the columns (to produce the average row vector)\n",
    "- the average values along the rows (to produce the average column vector)"
   ]
  },
  {
   "cell_type": "code",
   "execution_count": null,
   "metadata": {},
   "outputs": [],
   "source": [
    "m = np.array(((8, 2, 7, 7), (6., 3, 5, 8), (1, 4, 9, 6)))\n",
    "print(m)"
   ]
  },
  {
   "cell_type": "code",
   "execution_count": null,
   "metadata": {},
   "outputs": [],
   "source": [
    "connect_to_queue()"
   ]
  },
  {
   "cell_type": "markdown",
   "metadata": {},
   "source": [
    "## Exercise 2\n",
    "In the following exercise, we will explore the auto-correlation tempogram using this piece of audio:"
   ]
  },
  {
   "cell_type": "code",
   "execution_count": null,
   "metadata": {},
   "outputs": [],
   "source": [
    "snd1 = fmp.load_wav(\"audio/queen_another_one.wav\", 0, 30)\n",
    "fs = 22050\n",
    "ipd.Audio(snd1, rate = fs)"
   ]
  },
  {
   "cell_type": "markdown",
   "metadata": {},
   "source": [
    "Generate $\\Delta^s[n]$, the spectral novelty function of `snd` using:  \n",
    "`fmp.spectral_novelty(x, win_len, hop_size, gamma)`\n",
    "\n",
    "Use the parameters:\n",
    "- $N=1024$ \n",
    "- $H=512$ \n",
    "- $\\gamma=100$\n",
    "\n",
    "Plot $\\Delta^s[n]$"
   ]
  },
  {
   "cell_type": "code",
   "execution_count": null,
   "metadata": {},
   "outputs": [],
   "source": []
  },
  {
   "cell_type": "markdown",
   "metadata": {},
   "source": [
    "Now grab a small window of $\\Delta^s[n]$ starting at $n=200$, with window length $L=256$. We'll call this signal $x[n]$.\n",
    "\n",
    "Plot $x[n]$."
   ]
  },
  {
   "cell_type": "code",
   "execution_count": null,
   "metadata": {},
   "outputs": [],
   "source": []
  },
  {
   "cell_type": "markdown",
   "metadata": {},
   "source": [
    "Create a function to compute the auto-correlation of a signal $x[n]$ with length $L$:\n",
    "$$ R_{xx}[l] = \\sum_{n=0}^{n=L-1} x[n] \\cdot x[n-l] $$\n",
    "\n",
    "You should assume that $x[n]$ is zero outside the window bounds $n \\in [0,L-1]$.\n",
    "\n",
    "Use a python `for` loop, where you loop over each lag value (from $0$ to $L-1$), computing $ R_{xx}[l]$ using the dot product.\n",
    "\n",
    "- Find $R_{xx}$ for the windowed signal $x[n]$\n",
    "- Plot the result"
   ]
  },
  {
   "cell_type": "code",
   "execution_count": null,
   "metadata": {},
   "outputs": [],
   "source": [
    "def auto_correlate(x):\n",
    "    pass\n"
   ]
  },
  {
   "cell_type": "code",
   "execution_count": null,
   "metadata": {},
   "outputs": [],
   "source": [
    "connect_to_queue()"
   ]
  },
  {
   "cell_type": "markdown",
   "metadata": {},
   "source": [
    "## Exercise 3\n",
    "Create the same auto-correlation vector, but use the numpy function [`np.correlate`](https://docs.scipy.org/doc/numpy/reference/generated/numpy.correlate.html) to achieve the same result without using a `for` loop. Hint, use the optional argument `mode='full'`.\n",
    "\n",
    "Plot this to show that both methods produce the same result."
   ]
  },
  {
   "cell_type": "code",
   "execution_count": null,
   "metadata": {},
   "outputs": [],
   "source": []
  },
  {
   "cell_type": "code",
   "execution_count": null,
   "metadata": {},
   "outputs": [],
   "source": [
    "connect_to_queue()"
   ]
  },
  {
   "cell_type": "markdown",
   "metadata": {},
   "source": [
    "## Exercise 4\n",
    "\n",
    "Write the function `lag_to_bpm(l, ff)` which takes a lag value `l` and feature frequency `ff`, and returns the BPM (beats per minute) associated with that lag value.\n",
    "\n",
    "Given the parameters above\n",
    "- What lag values ($l$) correspond to the first 4 peaks of the AC function (not including $l=0$)? Hint: you can use `fmp.find_peaks` with a threshold of $0.2$\n",
    "- What tempos (BPM) values do these peaks correspond to?"
   ]
  },
  {
   "cell_type": "code",
   "execution_count": null,
   "metadata": {},
   "outputs": [],
   "source": [
    "def lag_to_bpm(l, ff):\n",
    "    pass\n"
   ]
  },
  {
   "cell_type": "markdown",
   "metadata": {},
   "source": [
    "Here is some code for a metronome - it will play 10 clicks at the given BPM. Use this function to listen to the 4 candidate tempos of this song. Which of these tempo estimates are reasonable for this song?"
   ]
  },
  {
   "cell_type": "code",
   "execution_count": null,
   "metadata": {},
   "outputs": [],
   "source": [
    "def metronome(bpm) :\n",
    "    print('tempo =', bpm)\n",
    "    fs = 22050.\n",
    "    beats = np.arange(10) * int(60. * fs  / bpm)\n",
    "    click_snd = fmp.load_wav(\"audio/click.wav\")\n",
    "    clicks = fmp.make_clicks(beats, click_snd = click_snd)\n",
    "    display(ipd.Audio(clicks, rate=fs))"
   ]
  },
  {
   "cell_type": "code",
   "execution_count": null,
   "metadata": {},
   "outputs": [],
   "source": []
  },
  {
   "cell_type": "code",
   "execution_count": null,
   "metadata": {},
   "outputs": [],
   "source": [
    "connect_to_queue()"
   ]
  },
  {
   "cell_type": "markdown",
   "metadata": {},
   "source": [
    "## Exercise 5\n",
    "\n",
    "We will now estimate the tempo values for the same window of audio using the Fourier method.\n",
    "\n",
    "For the same windowed signal $x[n]$ (of length $L=N=256$), compute $X[k]$ the Fourier Transform (you can use the function `np.fft.rfft`). Remember also to use a Hann window.\n",
    "\n",
    "Plot $\\lvert X[k] \\lvert$"
   ]
  },
  {
   "cell_type": "code",
   "execution_count": null,
   "metadata": {},
   "outputs": [],
   "source": []
  },
  {
   "cell_type": "markdown",
   "metadata": {},
   "source": [
    "Write the function `k_to_bpm(k, ...)` which returns the BPM corresponding to a given `k`. You will need to supply additional arguments to this function.\n",
    "\n",
    "Given the Fourier Transform above:\n",
    "- Find the frequency bins ($k$) corresponding to the first 4 prominent peaks (not including 0)? You can use a threshold value of $0.25$.\n",
    "- What tempo (BPM) values correspond to these values of $k$?"
   ]
  },
  {
   "cell_type": "code",
   "execution_count": null,
   "metadata": {},
   "outputs": [],
   "source": [
    "def k_to_bpm(k): # TODO, add additional args to this function as needed\n",
    "    pass\n"
   ]
  },
  {
   "cell_type": "markdown",
   "metadata": {},
   "source": [
    "Now listen to these 4 tempos using the `metronome` function"
   ]
  },
  {
   "cell_type": "code",
   "execution_count": null,
   "metadata": {},
   "outputs": [],
   "source": []
  },
  {
   "cell_type": "code",
   "execution_count": null,
   "metadata": {},
   "outputs": [],
   "source": [
    "connect_to_queue()"
   ]
  },
  {
   "cell_type": "markdown",
   "metadata": {},
   "source": [
    "## Exercise 6\n",
    "\n",
    "What observations can you make about the tempo values predicted by each method and how they compare to each other?"
   ]
  },
  {
   "cell_type": "code",
   "execution_count": null,
   "metadata": {},
   "outputs": [],
   "source": []
  },
  {
   "cell_type": "code",
   "execution_count": null,
   "metadata": {},
   "outputs": [],
   "source": [
    "connect_to_queue()"
   ]
  },
  {
   "cell_type": "markdown",
   "metadata": {
    "collapsed": true
   },
   "source": [
    "## Exercise 7\n",
    "\n",
    "Let's make the Fourier tempo prediction more accurate by zero-padding.\n",
    "\n",
    "- Apply a Hann window to $x[n]$\n",
    "- Zero-pad the result to be 8 times as long\n",
    "- Take the FFT\n",
    "- Plot the magnitude"
   ]
  },
  {
   "cell_type": "code",
   "execution_count": null,
   "metadata": {},
   "outputs": [],
   "source": []
  },
  {
   "cell_type": "markdown",
   "metadata": {},
   "source": [
    "As in Exercise 5, find the tempos predicted by the first four peaks. Then compare these to the original Fourier tempo estimates."
   ]
  },
  {
   "cell_type": "code",
   "execution_count": null,
   "metadata": {},
   "outputs": [],
   "source": []
  },
  {
   "cell_type": "code",
   "execution_count": null,
   "metadata": {},
   "outputs": [],
   "source": [
    "connect_to_queue('checkoff')"
   ]
  },
  {
   "cell_type": "markdown",
   "metadata": {},
   "source": [
    "## Exercise 8\n",
    "\n",
    "If you have time left, load the beginning to Herbie Hancock's _Chameleon_ below and listen to the first 30 seconds or so.\n",
    "\n",
    "$\\Delta^s[n]$ is computed as above with $N=1024$, $H=512$, $\\gamma = 100$ \n",
    "\n",
    "Find the candidate tempos of this song using the autocorrelation method and `fmp.find_peaks` threshold of $0.3$ on two different portions of the song:\n",
    "\n",
    "- a window of length 11 seconds, starting at $t = 0$ seconds.\n",
    "- a window of length 15 seconds, starting at $t = 15$ seconds.\n",
    "\n",
    "\n",
    "Look at the first 3 candidate tempos of each portion. Can you explain what each peak \"means\"? In particular, the first section has an unusual 2nd tempo peak. Why is that?\n",
    "\n",
    "It will help if you listen to these candidate tempos using the `metronome()` function."
   ]
  },
  {
   "cell_type": "code",
   "execution_count": null,
   "metadata": {},
   "outputs": [],
   "source": [
    "snd2 = fmp.load_wav('audio/hancock_chameleon.wav', 0, 30)\n",
    "ipd.Audio(snd2, rate = fs)\n",
    "win_len = 1024\n",
    "hop_size = 512\n",
    "gamma = 100\n",
    "ff = fs / hop_size\n",
    "nov2 = fmp.spectral_novelty(snd2, win_len, hop_size, gamma)"
   ]
  }
 ],
 "metadata": {
  "kernelspec": {
   "display_name": "Python 3",
   "language": "python",
   "name": "python3"
  },
  "language_info": {
   "codemirror_mode": {
    "name": "ipython",
    "version": 3
   },
   "file_extension": ".py",
   "mimetype": "text/x-python",
   "name": "python",
   "nbconvert_exporter": "python",
   "pygments_lexer": "ipython3",
   "version": "3.9.1"
  }
 },
 "nbformat": 4,
 "nbformat_minor": 1
}
